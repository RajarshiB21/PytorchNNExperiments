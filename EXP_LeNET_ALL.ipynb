{
  "cells": [
    {
      "cell_type": "code",
      "execution_count": 86,
      "metadata": {
        "id": "XdtsrjKcQti2"
      },
      "outputs": [],
      "source": [
        "import torch\n",
        "import torch.nn as nn\n",
        "import torch.optim as optim\n",
        "import torch.nn.functional as F\n",
        "from torch.utils.data import DataLoader\n",
        "import torchvision.datasets as datasets   \n",
        "import torchvision.transforms as transforms\n",
        "import matplotlib.pyplot as plt\n",
        "from tqdm import tqdm\n",
        "from timeit import default_timer as timer"
      ]
    },
    {
      "cell_type": "code",
      "execution_count": 87,
      "metadata": {
        "id": "JxJhQ1wFQ2Hp"
      },
      "outputs": [],
      "source": [
        "class LeNET(nn.Module):\n",
        "  def __init__(self, in_channels=1,num_classes=10):\n",
        "    super(LeNET, self).__init__()\n",
        "    self.in_channels = in_channels\n",
        "    self.num_classes = num_classes\n",
        "    self.relu = nn.ReLU()\n",
        "    self.pool = nn.AvgPool2d(kernel_size = (2,2), stride=(2,2))\n",
        "    self.conv1 = nn.Conv2d(in_channels = in_channels, out_channels = 6, kernel_size = (5,5), stride = (1,1), padding = (2,2))\n",
        "    self.conv2 = nn.Conv2d(in_channels = 6, out_channels = 16, kernel_size = (5,5), stride = (1,1), padding = (0,0))\n",
        "    self.conv3 = nn.Conv2d(in_channels = 16, out_channels =120, kernel_size = (5,5), stride = (1,1), padding = (0,0))\n",
        "    self.linear1 = nn.Linear(120, 84)\n",
        "    self.linear2 = nn.Linear(84,num_classes)\n",
        "\n",
        "  def forward(self, x):\n",
        "    x = self.relu(self.conv1(x))\n",
        "    x = self.pool(x)\n",
        "    x = self.relu(self.conv2(x))\n",
        "    x = self.pool(x)\n",
        "    x = self.relu(self.conv3(x))# num_examples x 120 x 1 x 1 -- > num_examples x 120\n",
        "    x = x.reshape(x.shape[0], -1)\n",
        "    x = self.relu(self.linear1(x))\n",
        "    x = self.linear2(x)\n",
        "    return x "
      ]
    },
    {
      "cell_type": "code",
      "execution_count": 88,
      "metadata": {
        "colab": {
          "base_uri": "https://localhost:8080/"
        },
        "id": "qLSON7DCQ4B7",
        "outputId": "923ce893-d331-4a89-98a8-b98f13244f1a"
      },
      "outputs": [
        {
          "output_type": "stream",
          "name": "stdout",
          "text": [
            "torch.Size([64, 10])\n"
          ]
        }
      ],
      "source": [
        "x = torch.randn(64, 1, 28, 28)\n",
        "model = LeNET()\n",
        "print(model(x).shape)"
      ]
    },
    {
      "cell_type": "code",
      "execution_count": 89,
      "metadata": {
        "id": "I4PZeX0wQ5at"
      },
      "outputs": [],
      "source": [
        "#Setup train data\n",
        "train_data = datasets.MNIST(root=\"data\",\n",
        "                                   train=True,\n",
        "                                   download=True,\n",
        "                                   transform=transforms.ToTensor())\n",
        "\n",
        "test_data = datasets.MNIST(root=\"data\",\n",
        "                                   train=False,\n",
        "                                   download=True,\n",
        "                                   transform=transforms.ToTensor())"
      ]
    },
    {
      "cell_type": "code",
      "execution_count": 90,
      "metadata": {
        "colab": {
          "base_uri": "https://localhost:8080/"
        },
        "id": "8QFFcFSBRDLm",
        "outputId": "614c6b9b-d2da-4ec6-d445-8675d83fd268"
      },
      "outputs": [
        {
          "output_type": "execute_result",
          "data": {
            "text/plain": [
              "['0 - zero',\n",
              " '1 - one',\n",
              " '2 - two',\n",
              " '3 - three',\n",
              " '4 - four',\n",
              " '5 - five',\n",
              " '6 - six',\n",
              " '7 - seven',\n",
              " '8 - eight',\n",
              " '9 - nine']"
            ]
          },
          "metadata": {},
          "execution_count": 90
        }
      ],
      "source": [
        "class_names = train_data.classes\n",
        "class_names"
      ]
    },
    {
      "cell_type": "code",
      "execution_count": 91,
      "metadata": {
        "colab": {
          "base_uri": "https://localhost:8080/"
        },
        "id": "1M83mGoHRMLT",
        "outputId": "addd702d-4c8f-46d3-8801-e2fc5df6072d"
      },
      "outputs": [
        {
          "output_type": "execute_result",
          "data": {
            "text/plain": [
              "{'0 - zero': 0,\n",
              " '1 - one': 1,\n",
              " '2 - two': 2,\n",
              " '3 - three': 3,\n",
              " '4 - four': 4,\n",
              " '5 - five': 5,\n",
              " '6 - six': 6,\n",
              " '7 - seven': 7,\n",
              " '8 - eight': 8,\n",
              " '9 - nine': 9}"
            ]
          },
          "metadata": {},
          "execution_count": 91
        }
      ],
      "source": [
        "class_to_idx = train_data.class_to_idx\n",
        "class_to_idx"
      ]
    },
    {
      "cell_type": "code",
      "source": [
        "import torch.utils.data as data_utils\n",
        "\n",
        "indices_train = torch.arange(10000)\n",
        "indices_test = torch.arange(2000)\n",
        "train_data = data_utils.Subset(train_data, indices_train)\n",
        "test_data = data_utils.Subset(test_data, indices_test)\n",
        "len(train_data), len(test_data)"
      ],
      "metadata": {
        "colab": {
          "base_uri": "https://localhost:8080/"
        },
        "id": "OZgI22Om_UAF",
        "outputId": "ecc5a484-b8d7-45cb-a30b-38cce86bbda1"
      },
      "execution_count": 92,
      "outputs": [
        {
          "output_type": "execute_result",
          "data": {
            "text/plain": [
              "(10000, 2000)"
            ]
          },
          "metadata": {},
          "execution_count": 92
        }
      ]
    },
    {
      "cell_type": "code",
      "execution_count": 93,
      "metadata": {
        "colab": {
          "base_uri": "https://localhost:8080/",
          "height": 281
        },
        "id": "w0M5evGJRNTl",
        "outputId": "88bb23d2-3f3b-4536-db90-f32f06a68816"
      },
      "outputs": [
        {
          "output_type": "stream",
          "name": "stdout",
          "text": [
            "Image Shape: torch.Size([1, 28, 28])\n"
          ]
        },
        {
          "output_type": "display_data",
          "data": {
            "text/plain": [
              "<Figure size 432x288 with 1 Axes>"
            ],
            "image/png": "[encoded data removed]"
          },
          "metadata": {
            "needs_background": "light"
          }
        }
      ],
      "source": [
        "#Visualising the data\n",
        "#understanding input and output shape\n",
        "image, label = train_data[0]\n",
        "print(f\"Image Shape: {image.shape}\")\n",
        "plt.imshow(image.squeeze(), cmap=\"gray\")\n",
        "plt.title(label);\n",
        "plt.axis(False);"
      ]
    },
    {
      "cell_type": "code",
      "execution_count": 94,
      "metadata": {
        "colab": {
          "base_uri": "https://localhost:8080/",
          "height": 536
        },
        "id": "j6X_cYZqRayE",
        "outputId": "e3273c75-ef3b-4c8f-da7d-766614114080"
      },
      "outputs": [
        {
          "output_type": "display_data",
          "data": {
            "text/plain": [
              "<Figure size 648x648 with 16 Axes>"
            ],
            "image/png": "[encoded data removed]"
          },
          "metadata": {
            "needs_background": "light"
          }
        }
      ],
      "source": [
        "#Plot more images\n",
        "torch.manual_seed(42)\n",
        "fig = plt.figure(figsize=(9,9))\n",
        "rows, cols = 4, 4\n",
        "for i in range(1, rows*cols+1):\n",
        "  random_idx = torch.randint(0, len(train_data), size=[1]).item()\n",
        "  img, label = train_data[random_idx]\n",
        "  fig.add_subplot(rows, cols, i)\n",
        "  plt.imshow(img.squeeze(), cmap=\"gray\")\n",
        "  plt.title(class_names[label])\n",
        "  plt.axis(False)"
      ]
    },
    {
      "cell_type": "code",
      "execution_count": 95,
      "metadata": {
        "id": "kZixqqjeRd1s"
      },
      "outputs": [],
      "source": [
        "#Prepare Dataloader that prepares our data into python iterable\n",
        "#We turn our data into mini batches since it is more computationally efficient\n",
        "from torch.utils.data import DataLoader\n",
        "\n",
        "#Setup the batch size hyperparameter\n",
        "BATCH_SIZE = 128\n",
        "device = \"cuda\" if torch.cuda.is_available() else \"cpu\"\n",
        "\n",
        "#Turn datasets into iterables(batches)\n",
        "train_dataloader = DataLoader(train_data, batch_size=BATCH_SIZE, shuffle=True)\n",
        "test_dataloader = DataLoader(test_data, batch_size=BATCH_SIZE, shuffle=False)"
      ]
    },
    {
      "cell_type": "code",
      "execution_count": 96,
      "metadata": {
        "id": "4BHY7uO4Rl7N"
      },
      "outputs": [],
      "source": [
        "model_LENET_0 = LeNET().to(device)"
      ]
    },
    {
      "cell_type": "code",
      "execution_count": 97,
      "metadata": {
        "id": "_vDKx2-tVCFK"
      },
      "outputs": [],
      "source": [
        "def print_train_time(start:float,\n",
        "                     end:float,\n",
        "                     device:torch.device=None):\n",
        "  total_time = end-start\n",
        "  print(f\"Train time on {device} : {total_time:.3f} seconds\")\n",
        "  return total_time"
      ]
    },
    {
      "cell_type": "code",
      "execution_count": 98,
      "metadata": {
        "id": "qLwEGdTDRhhA"
      },
      "outputs": [],
      "source": [
        "loss_fn = nn.CrossEntropyLoss()\n",
        "optimizer = torch.optim.SGD(model_LENET_0.parameters(), lr=0.03)\n",
        "\n",
        "def accuracy_fn(y_true, y_pred):\n",
        "    correct = torch.eq(y_true, y_pred).sum().item()\n",
        "    acc = (correct / len(y_pred)) * 100\n",
        "    return acc"
      ]
    },
    {
      "cell_type": "code",
      "execution_count": 99,
      "metadata": {
        "id": "kV5qF2Q0RkMd"
      },
      "outputs": [],
      "source": [
        "#Functionizing training and evaluation/testing loops\n",
        "#We create a function for training loop - train_step()\n",
        "#testing loop - test_step()\n",
        "\n",
        "def train_step(model:torch.nn.Module, data_loader:torch.utils.data.DataLoader,loss_fn:torch.nn.Module,optimizer:torch.optim.Optimizer,accuracy_fn,device:torch.device=device):\n",
        "  #Performs training step on model trying to learn from data loader\n",
        "  train_loss, train_acc = 0, 0\n",
        "  #Put model in training mode\n",
        "  model.train()\n",
        "  #Add a loop through the training batches \n",
        "  for batch, (X,y) in enumerate(data_loader):#Enumerate helps keeping track of batches\n",
        "    #Put data on target device\n",
        "    X,y = X.to(device), y.to(device)\n",
        "    #forward pass\n",
        "    y_pred = model(X)\n",
        "    #loss and accuracy\n",
        "    loss = loss_fn(y_pred, y)\n",
        "    train_loss += loss\n",
        "    train_acc += accuracy_fn(y_true=y, y_pred=y_pred.argmax(dim=1))\n",
        "    #Optimizer zero grad\n",
        "    optimizer.zero_grad()\n",
        "    #Loss backward\n",
        "    loss.backward()\n",
        "    #Step\n",
        "    optimizer.step()\n",
        "\n",
        "  #Adjust the training loss so that it gives us the loss per epoch an not per batch\n",
        "  #Divide total train loss by length of train dataloader\n",
        "  train_loss /= len(data_loader)\n",
        "  train_acc /= len(data_loader)\n",
        "  print(f\"Train Loss: {train_loss:.5f}, Train acc: {train_acc:.2f}%\")"
      ]
    },
    {
      "cell_type": "code",
      "execution_count": 100,
      "metadata": {
        "id": "GcZZ91-dRzDV"
      },
      "outputs": [],
      "source": [
        "def test_step(model:torch.nn.Module, data_loader:torch.utils.data.DataLoader,loss_fn:torch.nn.Module,optimizer:torch.optim.Optimizer,accuracy_fn,device:torch.device=device):\n",
        "  #Performs training step on model trying to learn from data loader\n",
        "  test_loss, test_acc = 0, 0\n",
        "  #Put model in training mode\n",
        "  model.eval()\n",
        "  #Add a loop through the training batches \n",
        "  with torch.inference_mode():\n",
        "    for X,y in data_loader:#Enumerate helps keeping track of batches\n",
        "      #Put data on target device\n",
        "      X,y = X.to(device), y.to(device)\n",
        "      #forward pass\n",
        "      test_pred = model(X)\n",
        "      #loss and accuracy\n",
        "      loss = loss_fn(test_pred, y)\n",
        "      test_loss += loss\n",
        "      test_acc += accuracy_fn(y_true=y, y_pred=test_pred.argmax(dim=1))\n",
        "\n",
        "    #Adjust the training loss so that it gives us the loss per epoch an not per batch\n",
        "    #Divide total train loss by length of train dataloader\n",
        "    test_loss /= len(data_loader)\n",
        "    test_acc /= len(data_loader)\n",
        "    print(f\"Test Loss: {test_loss:.5f}, Test acc: {test_acc:.2f}%\")"
      ]
    },
    {
      "cell_type": "code",
      "execution_count": 101,
      "metadata": {
        "colab": {
          "base_uri": "https://localhost:8080/"
        },
        "id": "G5xaOebmR6qP",
        "outputId": "d7ab29db-faf1-45b0-c80f-3b9d3d02f279"
      },
      "outputs": [
        {
          "output_type": "stream",
          "name": "stderr",
          "text": [
            "\r  0%|          | 0/50 [00:00<?, ?it/s]"
          ]
        },
        {
          "output_type": "stream",
          "name": "stdout",
          "text": [
            "Epoch: 0 ----\n"
          ]
        },
        {
          "output_type": "stream",
          "name": "stderr",
          "text": [
            "\r  2%|▏         | 1/50 [00:01<00:54,  1.11s/it]"
          ]
        },
        {
          "output_type": "stream",
          "name": "stdout",
          "text": [
            "Train Loss: 2.30447, Train acc: 10.62%\n",
            "Test Loss: 2.30225, Test acc: 11.66%\n",
            "Epoch: 1 ----\n"
          ]
        },
        {
          "output_type": "stream",
          "name": "stderr",
          "text": [
            "\r  4%|▍         | 2/50 [00:02<00:53,  1.11s/it]"
          ]
        },
        {
          "output_type": "stream",
          "name": "stdout",
          "text": [
            "Train Loss: 2.30169, Train acc: 11.35%\n",
            "Test Loss: 2.30079, Test acc: 11.66%\n",
            "Epoch: 2 ----\n"
          ]
        },
        {
          "output_type": "stream",
          "name": "stderr",
          "text": [
            "\r  6%|▌         | 3/50 [00:03<00:53,  1.13s/it]"
          ]
        },
        {
          "output_type": "stream",
          "name": "stdout",
          "text": [
            "Train Loss: 2.29982, Train acc: 11.49%\n",
            "Test Loss: 2.29946, Test acc: 11.66%\n",
            "Epoch: 3 ----\n"
          ]
        },
        {
          "output_type": "stream",
          "name": "stderr",
          "text": [
            "\r  8%|▊         | 4/50 [00:04<00:51,  1.12s/it]"
          ]
        },
        {
          "output_type": "stream",
          "name": "stdout",
          "text": [
            "Train Loss: 2.29821, Train acc: 11.42%\n",
            "Test Loss: 2.29801, Test acc: 11.66%\n",
            "Epoch: 4 ----\n"
          ]
        },
        {
          "output_type": "stream",
          "name": "stderr",
          "text": [
            "\r 10%|█         | 5/50 [00:05<00:50,  1.11s/it]"
          ]
        },
        {
          "output_type": "stream",
          "name": "stdout",
          "text": [
            "Train Loss: 2.29622, Train acc: 11.15%\n",
            "Test Loss: 2.29521, Test acc: 11.66%\n",
            "Epoch: 5 ----\n"
          ]
        },
        {
          "output_type": "stream",
          "name": "stderr",
          "text": [
            "\r 12%|█▏        | 6/50 [00:06<00:48,  1.11s/it]"
          ]
        },
        {
          "output_type": "stream",
          "name": "stdout",
          "text": [
            "Train Loss: 2.29125, Train acc: 11.96%\n",
            "Test Loss: 2.28870, Test acc: 12.96%\n",
            "Epoch: 6 ----\n"
          ]
        },
        {
          "output_type": "stream",
          "name": "stderr",
          "text": [
            "\r 14%|█▍        | 7/50 [00:07<00:47,  1.10s/it]"
          ]
        },
        {
          "output_type": "stream",
          "name": "stdout",
          "text": [
            "Train Loss: 2.27864, Train acc: 21.74%\n",
            "Test Loss: 2.27026, Test acc: 23.55%\n",
            "Epoch: 7 ----\n"
          ]
        },
        {
          "output_type": "stream",
          "name": "stderr",
          "text": [
            "\r 16%|█▌        | 8/50 [00:08<00:46,  1.10s/it]"
          ]
        },
        {
          "output_type": "stream",
          "name": "stdout",
          "text": [
            "Train Loss: 2.22713, Train acc: 41.19%\n",
            "Test Loss: 2.16135, Test acc: 41.95%\n",
            "Epoch: 8 ----\n"
          ]
        },
        {
          "output_type": "stream",
          "name": "stderr",
          "text": [
            "\r 18%|█▊        | 9/50 [00:09<00:45,  1.10s/it]"
          ]
        },
        {
          "output_type": "stream",
          "name": "stdout",
          "text": [
            "Train Loss: 1.63844, Train acc: 57.59%\n",
            "Test Loss: 1.44989, Test acc: 53.23%\n",
            "Epoch: 9 ----\n"
          ]
        },
        {
          "output_type": "stream",
          "name": "stderr",
          "text": [
            "\r 20%|██        | 10/50 [00:11<00:43,  1.09s/it]"
          ]
        },
        {
          "output_type": "stream",
          "name": "stdout",
          "text": [
            "Train Loss: 0.76597, Train acc: 75.72%\n",
            "Test Loss: 0.99427, Test acc: 66.34%\n",
            "Epoch: 10 ----\n"
          ]
        },
        {
          "output_type": "stream",
          "name": "stderr",
          "text": [
            "\r 22%|██▏       | 11/50 [00:12<00:42,  1.09s/it]"
          ]
        },
        {
          "output_type": "stream",
          "name": "stdout",
          "text": [
            "Train Loss: 0.56964, Train acc: 82.21%\n",
            "Test Loss: 0.90616, Test acc: 69.46%\n",
            "Epoch: 11 ----\n"
          ]
        },
        {
          "output_type": "stream",
          "name": "stderr",
          "text": [
            "\r 24%|██▍       | 12/50 [00:13<00:41,  1.09s/it]"
          ]
        },
        {
          "output_type": "stream",
          "name": "stdout",
          "text": [
            "Train Loss: 0.47379, Train acc: 85.54%\n",
            "Test Loss: 0.71709, Test acc: 76.72%\n",
            "Epoch: 12 ----\n"
          ]
        },
        {
          "output_type": "stream",
          "name": "stderr",
          "text": [
            "\r 26%|██▌       | 13/50 [00:14<00:40,  1.08s/it]"
          ]
        },
        {
          "output_type": "stream",
          "name": "stdout",
          "text": [
            "Train Loss: 0.42121, Train acc: 87.09%\n",
            "Test Loss: 0.70590, Test acc: 79.13%\n",
            "Epoch: 13 ----\n"
          ]
        },
        {
          "output_type": "stream",
          "name": "stderr",
          "text": [
            "\r 28%|██▊       | 14/50 [00:15<00:38,  1.08s/it]"
          ]
        },
        {
          "output_type": "stream",
          "name": "stdout",
          "text": [
            "Train Loss: 0.37722, Train acc: 88.70%\n",
            "Test Loss: 0.44363, Test acc: 86.98%\n",
            "Epoch: 14 ----\n"
          ]
        },
        {
          "output_type": "stream",
          "name": "stderr",
          "text": [
            "\r 30%|███       | 15/50 [00:16<00:38,  1.10s/it]"
          ]
        },
        {
          "output_type": "stream",
          "name": "stdout",
          "text": [
            "Train Loss: 0.34100, Train acc: 89.75%\n",
            "Test Loss: 0.50187, Test acc: 83.06%\n",
            "Epoch: 15 ----\n"
          ]
        },
        {
          "output_type": "stream",
          "name": "stderr",
          "text": [
            "\r 32%|███▏      | 16/50 [00:17<00:37,  1.11s/it]"
          ]
        },
        {
          "output_type": "stream",
          "name": "stdout",
          "text": [
            "Train Loss: 0.31330, Train acc: 90.36%\n",
            "Test Loss: 0.66623, Test acc: 79.15%\n",
            "Epoch: 16 ----\n"
          ]
        },
        {
          "output_type": "stream",
          "name": "stderr",
          "text": [
            "\r 34%|███▍      | 17/50 [00:18<00:36,  1.10s/it]"
          ]
        },
        {
          "output_type": "stream",
          "name": "stdout",
          "text": [
            "Train Loss: 0.29062, Train acc: 91.15%\n",
            "Test Loss: 0.80480, Test acc: 74.00%\n",
            "Epoch: 17 ----\n"
          ]
        },
        {
          "output_type": "stream",
          "name": "stderr",
          "text": [
            "\r 36%|███▌      | 18/50 [00:19<00:35,  1.10s/it]"
          ]
        },
        {
          "output_type": "stream",
          "name": "stdout",
          "text": [
            "Train Loss: 0.27140, Train acc: 91.74%\n",
            "Test Loss: 0.36746, Test acc: 89.10%\n",
            "Epoch: 18 ----\n"
          ]
        },
        {
          "output_type": "stream",
          "name": "stderr",
          "text": [
            "\r 38%|███▊      | 19/50 [00:20<00:33,  1.10s/it]"
          ]
        },
        {
          "output_type": "stream",
          "name": "stdout",
          "text": [
            "Train Loss: 0.24894, Train acc: 92.43%\n",
            "Test Loss: 1.62109, Test acc: 62.09%\n",
            "Epoch: 19 ----\n"
          ]
        },
        {
          "output_type": "stream",
          "name": "stderr",
          "text": [
            "\r 40%|████      | 20/50 [00:21<00:32,  1.10s/it]"
          ]
        },
        {
          "output_type": "stream",
          "name": "stdout",
          "text": [
            "Train Loss: 0.25248, Train acc: 92.48%\n",
            "Test Loss: 0.47632, Test acc: 86.04%\n",
            "Epoch: 20 ----\n"
          ]
        },
        {
          "output_type": "stream",
          "name": "stderr",
          "text": [
            "\r 42%|████▏     | 21/50 [00:23<00:31,  1.10s/it]"
          ]
        },
        {
          "output_type": "stream",
          "name": "stdout",
          "text": [
            "Train Loss: 0.22931, Train acc: 93.17%\n",
            "Test Loss: 1.43236, Test acc: 67.06%\n",
            "Epoch: 21 ----\n"
          ]
        },
        {
          "output_type": "stream",
          "name": "stderr",
          "text": [
            "\r 44%|████▍     | 22/50 [00:24<00:30,  1.10s/it]"
          ]
        },
        {
          "output_type": "stream",
          "name": "stdout",
          "text": [
            "Train Loss: 0.23487, Train acc: 93.22%\n",
            "Test Loss: 0.54083, Test acc: 83.47%\n",
            "Epoch: 22 ----\n"
          ]
        },
        {
          "output_type": "stream",
          "name": "stderr",
          "text": [
            "\r 46%|████▌     | 23/50 [00:25<00:29,  1.10s/it]"
          ]
        },
        {
          "output_type": "stream",
          "name": "stdout",
          "text": [
            "Train Loss: 0.20654, Train acc: 93.63%\n",
            "Test Loss: 0.31385, Test acc: 90.37%\n",
            "Epoch: 23 ----\n"
          ]
        },
        {
          "output_type": "stream",
          "name": "stderr",
          "text": [
            "\r 48%|████▊     | 24/50 [00:26<00:28,  1.10s/it]"
          ]
        },
        {
          "output_type": "stream",
          "name": "stdout",
          "text": [
            "Train Loss: 0.19054, Train acc: 94.12%\n",
            "Test Loss: 0.44614, Test acc: 85.51%\n",
            "Epoch: 24 ----\n"
          ]
        },
        {
          "output_type": "stream",
          "name": "stderr",
          "text": [
            "\r 50%|█████     | 25/50 [00:27<00:27,  1.11s/it]"
          ]
        },
        {
          "output_type": "stream",
          "name": "stdout",
          "text": [
            "Train Loss: 0.18273, Train acc: 94.48%\n",
            "Test Loss: 0.43288, Test acc: 86.01%\n",
            "Epoch: 25 ----\n"
          ]
        },
        {
          "output_type": "stream",
          "name": "stderr",
          "text": [
            "\r 52%|█████▏    | 26/50 [00:28<00:26,  1.10s/it]"
          ]
        },
        {
          "output_type": "stream",
          "name": "stdout",
          "text": [
            "Train Loss: 0.17530, Train acc: 94.63%\n",
            "Test Loss: 0.48085, Test acc: 85.01%\n",
            "Epoch: 26 ----\n"
          ]
        },
        {
          "output_type": "stream",
          "name": "stderr",
          "text": [
            "\r 54%|█████▍    | 27/50 [00:29<00:25,  1.11s/it]"
          ]
        },
        {
          "output_type": "stream",
          "name": "stdout",
          "text": [
            "Train Loss: 0.18485, Train acc: 94.32%\n",
            "Test Loss: 0.22818, Test acc: 92.52%\n",
            "Epoch: 27 ----\n"
          ]
        },
        {
          "output_type": "stream",
          "name": "stderr",
          "text": [
            "\r 56%|█████▌    | 28/50 [00:30<00:24,  1.10s/it]"
          ]
        },
        {
          "output_type": "stream",
          "name": "stdout",
          "text": [
            "Train Loss: 0.15946, Train acc: 95.17%\n",
            "Test Loss: 0.26852, Test acc: 90.92%\n",
            "Epoch: 28 ----\n"
          ]
        },
        {
          "output_type": "stream",
          "name": "stderr",
          "text": [
            "\r 58%|█████▊    | 29/50 [00:31<00:22,  1.09s/it]"
          ]
        },
        {
          "output_type": "stream",
          "name": "stdout",
          "text": [
            "Train Loss: 0.15883, Train acc: 94.96%\n",
            "Test Loss: 0.21287, Test acc: 93.62%\n",
            "Epoch: 29 ----\n"
          ]
        },
        {
          "output_type": "stream",
          "name": "stderr",
          "text": [
            "\r 60%|██████    | 30/50 [00:32<00:21,  1.09s/it]"
          ]
        },
        {
          "output_type": "stream",
          "name": "stdout",
          "text": [
            "Train Loss: 0.14971, Train acc: 95.51%\n",
            "Test Loss: 0.29211, Test acc: 89.89%\n",
            "Epoch: 30 ----\n"
          ]
        },
        {
          "output_type": "stream",
          "name": "stderr",
          "text": [
            "\r 62%|██████▏   | 31/50 [00:34<00:20,  1.09s/it]"
          ]
        },
        {
          "output_type": "stream",
          "name": "stdout",
          "text": [
            "Train Loss: 0.14474, Train acc: 95.28%\n",
            "Test Loss: 0.20912, Test acc: 93.51%\n",
            "Epoch: 31 ----\n"
          ]
        },
        {
          "output_type": "stream",
          "name": "stderr",
          "text": [
            "\r 64%|██████▍   | 32/50 [00:35<00:19,  1.08s/it]"
          ]
        },
        {
          "output_type": "stream",
          "name": "stdout",
          "text": [
            "Train Loss: 0.13875, Train acc: 95.73%\n",
            "Test Loss: 0.48692, Test acc: 83.46%\n",
            "Epoch: 32 ----\n"
          ]
        },
        {
          "output_type": "stream",
          "name": "stderr",
          "text": [
            "\r 66%|██████▌   | 33/50 [00:36<00:18,  1.08s/it]"
          ]
        },
        {
          "output_type": "stream",
          "name": "stdout",
          "text": [
            "Train Loss: 0.13636, Train acc: 95.78%\n",
            "Test Loss: 0.21068, Test acc: 93.65%\n",
            "Epoch: 33 ----\n"
          ]
        },
        {
          "output_type": "stream",
          "name": "stderr",
          "text": [
            "\r 68%|██████▊   | 34/50 [00:37<00:17,  1.09s/it]"
          ]
        },
        {
          "output_type": "stream",
          "name": "stdout",
          "text": [
            "Train Loss: 0.13695, Train acc: 95.68%\n",
            "Test Loss: 0.92883, Test acc: 75.80%\n",
            "Epoch: 34 ----\n"
          ]
        },
        {
          "output_type": "stream",
          "name": "stderr",
          "text": [
            "\r 70%|███████   | 35/50 [00:38<00:16,  1.09s/it]"
          ]
        },
        {
          "output_type": "stream",
          "name": "stdout",
          "text": [
            "Train Loss: 0.13954, Train acc: 95.65%\n",
            "Test Loss: 0.33832, Test acc: 89.50%\n",
            "Epoch: 35 ----\n"
          ]
        },
        {
          "output_type": "stream",
          "name": "stderr",
          "text": [
            "\r 72%|███████▏  | 36/50 [00:39<00:15,  1.09s/it]"
          ]
        },
        {
          "output_type": "stream",
          "name": "stdout",
          "text": [
            "Train Loss: 0.12113, Train acc: 96.20%\n",
            "Test Loss: 0.19004, Test acc: 94.39%\n",
            "Epoch: 36 ----\n"
          ]
        },
        {
          "output_type": "stream",
          "name": "stderr",
          "text": [
            "\r 74%|███████▍  | 37/50 [00:40<00:14,  1.09s/it]"
          ]
        },
        {
          "output_type": "stream",
          "name": "stdout",
          "text": [
            "Train Loss: 0.11712, Train acc: 96.15%\n",
            "Test Loss: 0.22478, Test acc: 93.04%\n",
            "Epoch: 37 ----\n"
          ]
        },
        {
          "output_type": "stream",
          "name": "stderr",
          "text": [
            "\r 76%|███████▌  | 38/50 [00:41<00:13,  1.09s/it]"
          ]
        },
        {
          "output_type": "stream",
          "name": "stdout",
          "text": [
            "Train Loss: 0.11570, Train acc: 96.33%\n",
            "Test Loss: 0.87778, Test acc: 72.87%\n",
            "Epoch: 38 ----\n"
          ]
        },
        {
          "output_type": "stream",
          "name": "stderr",
          "text": [
            "\r 78%|███████▊  | 39/50 [00:42<00:11,  1.09s/it]"
          ]
        },
        {
          "output_type": "stream",
          "name": "stdout",
          "text": [
            "Train Loss: 0.12184, Train acc: 96.37%\n",
            "Test Loss: 0.17702, Test acc: 94.43%\n",
            "Epoch: 39 ----\n"
          ]
        },
        {
          "output_type": "stream",
          "name": "stderr",
          "text": [
            "\r 80%|████████  | 40/50 [00:43<00:10,  1.09s/it]"
          ]
        },
        {
          "output_type": "stream",
          "name": "stdout",
          "text": [
            "Train Loss: 0.10431, Train acc: 96.57%\n",
            "Test Loss: 0.53730, Test acc: 84.78%\n",
            "Epoch: 40 ----\n"
          ]
        },
        {
          "output_type": "stream",
          "name": "stderr",
          "text": [
            "\r 82%|████████▏ | 41/50 [00:44<00:09,  1.09s/it]"
          ]
        },
        {
          "output_type": "stream",
          "name": "stdout",
          "text": [
            "Train Loss: 0.10755, Train acc: 96.63%\n",
            "Test Loss: 0.20619, Test acc: 93.12%\n",
            "Epoch: 41 ----\n"
          ]
        },
        {
          "output_type": "stream",
          "name": "stderr",
          "text": [
            "\r 84%|████████▍ | 42/50 [00:45<00:08,  1.09s/it]"
          ]
        },
        {
          "output_type": "stream",
          "name": "stdout",
          "text": [
            "Train Loss: 0.09574, Train acc: 96.97%\n",
            "Test Loss: 0.18391, Test acc: 94.61%\n",
            "Epoch: 42 ----\n"
          ]
        },
        {
          "output_type": "stream",
          "name": "stderr",
          "text": [
            "\r 86%|████████▌ | 43/50 [00:47<00:07,  1.08s/it]"
          ]
        },
        {
          "output_type": "stream",
          "name": "stdout",
          "text": [
            "Train Loss: 0.09219, Train acc: 97.16%\n",
            "Test Loss: 0.16471, Test acc: 95.05%\n",
            "Epoch: 43 ----\n"
          ]
        },
        {
          "output_type": "stream",
          "name": "stderr",
          "text": [
            "\r 88%|████████▊ | 44/50 [00:48<00:06,  1.10s/it]"
          ]
        },
        {
          "output_type": "stream",
          "name": "stdout",
          "text": [
            "Train Loss: 0.08645, Train acc: 97.14%\n",
            "Test Loss: 0.16405, Test acc: 94.76%\n",
            "Epoch: 44 ----\n"
          ]
        },
        {
          "output_type": "stream",
          "name": "stderr",
          "text": [
            "\r 90%|█████████ | 45/50 [00:49<00:05,  1.10s/it]"
          ]
        },
        {
          "output_type": "stream",
          "name": "stdout",
          "text": [
            "Train Loss: 0.08386, Train acc: 97.44%\n",
            "Test Loss: 0.17515, Test acc: 94.29%\n",
            "Epoch: 45 ----\n"
          ]
        },
        {
          "output_type": "stream",
          "name": "stderr",
          "text": [
            "\r 92%|█████████▏| 46/50 [00:50<00:04,  1.10s/it]"
          ]
        },
        {
          "output_type": "stream",
          "name": "stdout",
          "text": [
            "Train Loss: 0.07949, Train acc: 97.53%\n",
            "Test Loss: 0.17316, Test acc: 94.58%\n",
            "Epoch: 46 ----\n"
          ]
        },
        {
          "output_type": "stream",
          "name": "stderr",
          "text": [
            "\r 94%|█████████▍| 47/50 [00:51<00:03,  1.10s/it]"
          ]
        },
        {
          "output_type": "stream",
          "name": "stdout",
          "text": [
            "Train Loss: 0.08330, Train acc: 97.34%\n",
            "Test Loss: 0.25828, Test acc: 91.80%\n",
            "Epoch: 47 ----\n"
          ]
        },
        {
          "output_type": "stream",
          "name": "stderr",
          "text": [
            "\r 96%|█████████▌| 48/50 [00:52<00:02,  1.10s/it]"
          ]
        },
        {
          "output_type": "stream",
          "name": "stdout",
          "text": [
            "Train Loss: 0.07859, Train acc: 97.41%\n",
            "Test Loss: 0.19820, Test acc: 93.36%\n",
            "Epoch: 48 ----\n"
          ]
        },
        {
          "output_type": "stream",
          "name": "stderr",
          "text": [
            "\r 98%|█████████▊| 49/50 [00:53<00:01,  1.09s/it]"
          ]
        },
        {
          "output_type": "stream",
          "name": "stdout",
          "text": [
            "Train Loss: 0.07642, Train acc: 97.54%\n",
            "Test Loss: 0.77191, Test acc: 81.99%\n",
            "Epoch: 49 ----\n"
          ]
        },
        {
          "output_type": "stream",
          "name": "stderr",
          "text": [
            "100%|██████████| 50/50 [00:54<00:00,  1.10s/it]"
          ]
        },
        {
          "output_type": "stream",
          "name": "stdout",
          "text": [
            "Train Loss: 0.09235, Train acc: 97.48%\n",
            "Test Loss: 0.15529, Test acc: 95.02%\n",
            "Train time on cuda : 54.764 seconds\n"
          ]
        },
        {
          "output_type": "stream",
          "name": "stderr",
          "text": [
            "\n"
          ]
        }
      ],
      "source": [
        "torch.manual_seed(42)\n",
        "\n",
        "#Measure time\n",
        "train_time_start_on_gpu = timer()\n",
        "\n",
        "#Set epochs\n",
        "epochs=50\n",
        "\n",
        "#Create a optimization and evaluation loop using train_step() and test_step()\n",
        "for epoch in tqdm(range(epochs)):\n",
        "  print(f\"Epoch: {epoch} ----\")\n",
        "  train_step(model=model_LENET_0, data_loader=train_dataloader,loss_fn=loss_fn,optimizer=optimizer,accuracy_fn=accuracy_fn,device=device)\n",
        "  \n",
        "  test_step(model=model_LENET_0,data_loader=test_dataloader,loss_fn=loss_fn,optimizer=optimizer,accuracy_fn=accuracy_fn,device=device)\n",
        "  \n",
        "train_time_end_on_gpu = timer()\n",
        "total_train_time_model_1 = print_train_time(start=train_time_start_on_gpu,\n",
        "                                            end=train_time_end_on_gpu,\n",
        "                                            device=device)"
      ]
    },
    {
      "cell_type": "code",
      "execution_count": 102,
      "metadata": {
        "id": "DdGcoNm0SBNu"
      },
      "outputs": [],
      "source": [
        "#Now we save the model\n",
        "from pathlib import Path\n",
        "#Create the model directory\n",
        "MODEL_PATH = Path(\"models\")\n",
        "MODEL_PATH.mkdir(parents=True, exist_ok=True)\n",
        "#Create the model save path\n",
        "MODEL_NAME = \"01_LENET_MNIST.pth\"\n",
        "MODEL_SAVE_PATH = MODEL_PATH/MODEL_NAME"
      ]
    },
    {
      "cell_type": "code",
      "execution_count": 103,
      "metadata": {
        "colab": {
          "base_uri": "https://localhost:8080/"
        },
        "id": "3Me2z0hJXa0I",
        "outputId": "1acdfdda-bf43-41f1-d02a-d7732db54062"
      },
      "outputs": [
        {
          "output_type": "stream",
          "name": "stdout",
          "text": [
            "Saved at models/01_LENET_MNIST.pth\n"
          ]
        }
      ],
      "source": [
        "#Saving the model\n",
        "torch.save(obj=model_LENET_0.state_dict(),\n",
        "           f=MODEL_SAVE_PATH)\n",
        "print(f'Saved at {MODEL_SAVE_PATH}')"
      ]
    },
    {
      "cell_type": "code",
      "execution_count": 104,
      "metadata": {
        "colab": {
          "base_uri": "https://localhost:8080/"
        },
        "id": "u1Yd8hR6XcSO",
        "outputId": "91b2e5a7-a06f-4383-9d75-2db5a246571e"
      },
      "outputs": [
        {
          "output_type": "execute_result",
          "data": {
            "text/plain": [
              "<All keys matched successfully>"
            ]
          },
          "metadata": {},
          "execution_count": 104
        }
      ],
      "source": [
        "#Loading the model\n",
        "#Create a new instance of the model and update the parameters\n",
        "model_LENET_MNIST = LeNET().to(device)\n",
        "model_LENET_MNIST.load_state_dict(torch.load(f=MODEL_SAVE_PATH))"
      ]
    },
    {
      "cell_type": "code",
      "execution_count": 105,
      "metadata": {
        "id": "14gA_8oFXmQD"
      },
      "outputs": [],
      "source": [
        "def eval_model(model: torch.nn.Module,\n",
        "              data_loader: torch.utils.data.DataLoader,\n",
        "              loss_fn: torch.nn.Module,\n",
        "              accuracy_fn,\n",
        "              device=device):\n",
        "  loss,acc = 0, 0\n",
        "  #Returns a dictionary containing the results of the model predicting on data_loader\n",
        "  model.eval()\n",
        "  with torch.inference_mode():\n",
        "    for X,y in tqdm(data_loader):\n",
        "      X,y = X.to(device), y.to(device)\n",
        "      #Make predictions\n",
        "      y_pred = model(X)\n",
        "\n",
        "      #Accumulate the loss and acc values per batch\n",
        "      loss += loss_fn(y_pred, y)\n",
        "      acc += accuracy_fn(y_true=y,\n",
        "                         y_pred=y_pred.argmax(dim=1))\n",
        "    #Scale the loss and acc to find the average loss and acc per batch\n",
        "    loss /= len(data_loader)\n",
        "    acc /= len(data_loader)\n",
        "\n",
        "  return {\"model_name\":model.__class__.__name__,\n",
        "          \"model_loss\":loss.item(),\n",
        "          \"model_acc\":acc}"
      ]
    },
    {
      "cell_type": "code",
      "execution_count": 106,
      "metadata": {
        "colab": {
          "base_uri": "https://localhost:8080/"
        },
        "id": "LncnYUGDXw_v",
        "outputId": "c685e021-4001-4b3b-dc94-21a9ba004ce3"
      },
      "outputs": [
        {
          "output_type": "stream",
          "name": "stderr",
          "text": [
            "100%|██████████| 16/16 [00:00<00:00, 103.71it/s]\n"
          ]
        },
        {
          "output_type": "execute_result",
          "data": {
            "text/plain": [
              "{'model_name': 'LeNET',\n",
              " 'model_loss': 0.15529167652130127,\n",
              " 'model_acc': 95.01953125}"
            ]
          },
          "metadata": {},
          "execution_count": 106
        }
      ],
      "source": [
        "#Get model results\n",
        "model_LENET_MNIST_results = eval_model(\n",
        "    model=model_LENET_MNIST,\n",
        "    data_loader=test_dataloader,\n",
        "    loss_fn=loss_fn,\n",
        "    accuracy_fn=accuracy_fn,\n",
        "    device=device\n",
        ")\n",
        "model_LENET_MNIST_results"
      ]
    },
    {
      "cell_type": "markdown",
      "metadata": {
        "id": "z8f9Qhq6oDJr"
      },
      "source": [
        "Fashion MNIST\n"
      ]
    },
    {
      "cell_type": "code",
      "execution_count": 107,
      "metadata": {
        "id": "L7ySKXnpX1xo"
      },
      "outputs": [],
      "source": [
        "train_data = datasets.FashionMNIST(root=\"data\",\n",
        "                                   train=True,\n",
        "                                   download=True,\n",
        "                                   transform=transforms.ToTensor())\n",
        "\n",
        "test_data = datasets.FashionMNIST(root=\"data\",\n",
        "                                   train=False,\n",
        "                                   download=True,\n",
        "                                   transform=transforms.ToTensor())"
      ]
    },
    {
      "cell_type": "code",
      "execution_count": 108,
      "metadata": {
        "colab": {
          "base_uri": "https://localhost:8080/"
        },
        "id": "dRN5NRgCYBAU",
        "outputId": "79a90b3a-6415-474f-cb9d-287481ece8ae"
      },
      "outputs": [
        {
          "output_type": "execute_result",
          "data": {
            "text/plain": [
              "({'T-shirt/top': 0,\n",
              "  'Trouser': 1,\n",
              "  'Pullover': 2,\n",
              "  'Dress': 3,\n",
              "  'Coat': 4,\n",
              "  'Sandal': 5,\n",
              "  'Shirt': 6,\n",
              "  'Sneaker': 7,\n",
              "  'Bag': 8,\n",
              "  'Ankle boot': 9},\n",
              " ['T-shirt/top',\n",
              "  'Trouser',\n",
              "  'Pullover',\n",
              "  'Dress',\n",
              "  'Coat',\n",
              "  'Sandal',\n",
              "  'Shirt',\n",
              "  'Sneaker',\n",
              "  'Bag',\n",
              "  'Ankle boot'])"
            ]
          },
          "metadata": {},
          "execution_count": 108
        }
      ],
      "source": [
        "class_names = train_data.classes\n",
        "class_to_idx = train_data.class_to_idx\n",
        "class_to_idx, class_names"
      ]
    },
    {
      "cell_type": "code",
      "source": [
        "import torch.utils.data as data_utils\n",
        "\n",
        "indices_train = torch.arange(10000)\n",
        "indices_test = torch.arange(2000)\n",
        "train_data = data_utils.Subset(train_data, indices_train)\n",
        "test_data = data_utils.Subset(test_data, indices_test)\n",
        "len(train_data), len(test_data)"
      ],
      "metadata": {
        "colab": {
          "base_uri": "https://localhost:8080/"
        },
        "id": "HTiRUvso_Yz5",
        "outputId": "b3596c08-ed49-4e4d-b42b-d3d977189335"
      },
      "execution_count": 109,
      "outputs": [
        {
          "output_type": "execute_result",
          "data": {
            "text/plain": [
              "(10000, 2000)"
            ]
          },
          "metadata": {},
          "execution_count": 109
        }
      ]
    },
    {
      "cell_type": "code",
      "execution_count": 110,
      "metadata": {
        "colab": {
          "base_uri": "https://localhost:8080/",
          "height": 536
        },
        "id": "qWfGsXRBYbA_",
        "outputId": "77de8fff-926d-460c-ee28-76918ae09790"
      },
      "outputs": [
        {
          "output_type": "display_data",
          "data": {
            "text/plain": [
              "<Figure size 648x648 with 16 Axes>"
            ],
            "image/png": "[encoded data removed]"
          },
          "metadata": {
            "needs_background": "light"
          }
        }
      ],
      "source": [
        "#Plot more images\n",
        "torch.manual_seed(42)\n",
        "fig = plt.figure(figsize=(9,9))\n",
        "rows, cols = 4, 4\n",
        "for i in range(1, rows*cols+1):\n",
        "  random_idx = torch.randint(0, len(train_data), size=[1]).item()\n",
        "  img, label = train_data[random_idx]\n",
        "  fig.add_subplot(rows, cols, i)\n",
        "  plt.imshow(img.squeeze(), cmap=\"gray\")\n",
        "  plt.title(class_names[label])\n",
        "  plt.axis(False)"
      ]
    },
    {
      "cell_type": "code",
      "execution_count": 111,
      "metadata": {
        "id": "mEV1xPo4YdVf"
      },
      "outputs": [],
      "source": [
        "#Prepare Dataloader that prepares our data into python iterable\n",
        "#We turn our data into mini batches since it is more computationally efficient\n",
        "from torch.utils.data import DataLoader\n",
        "\n",
        "#Setup the batch size hyperparameter\n",
        "BATCH_SIZE = 32\n",
        "\n",
        "#Turn datasets into iterables(batches)\n",
        "train_dataloader = DataLoader(train_data, batch_size=BATCH_SIZE, shuffle=True)\n",
        "test_dataloader = DataLoader(test_data, batch_size=BATCH_SIZE, shuffle=False)"
      ]
    },
    {
      "cell_type": "code",
      "execution_count": 112,
      "metadata": {
        "id": "E4VPpFy0YfmQ"
      },
      "outputs": [],
      "source": [
        "model_LENET_1 = LeNET().to(device)\n",
        "device = \"cuda\" if torch.cuda.is_available() else \"cpu\""
      ]
    },
    {
      "cell_type": "code",
      "execution_count": 113,
      "metadata": {
        "id": "O4vgWUXXaapc"
      },
      "outputs": [],
      "source": [
        "loss_fn = nn.CrossEntropyLoss()\n",
        "optimizer = torch.optim.SGD(model_LENET_1.parameters(), lr=0.03)\n",
        "\n",
        "def accuracy_fn(y_true, y_pred):\n",
        "    correct = torch.eq(y_true, y_pred).sum().item()\n",
        "    acc = (correct / len(y_pred)) * 100\n",
        "    return acc"
      ]
    },
    {
      "cell_type": "code",
      "execution_count": 114,
      "metadata": {
        "colab": {
          "base_uri": "https://localhost:8080/"
        },
        "id": "K-reQg8iYldt",
        "outputId": "8842011a-c6a8-462a-86d2-54add738f41a"
      },
      "outputs": [
        {
          "output_type": "stream",
          "name": "stderr",
          "text": [
            "\r  0%|          | 0/50 [00:00<?, ?it/s]"
          ]
        },
        {
          "output_type": "stream",
          "name": "stdout",
          "text": [
            "Epoch: 0 ----\n"
          ]
        },
        {
          "output_type": "stream",
          "name": "stderr",
          "text": [
            "\r  2%|▏         | 1/50 [00:01<01:19,  1.63s/it]"
          ]
        },
        {
          "output_type": "stream",
          "name": "stdout",
          "text": [
            "Train Loss: 2.29743, Train acc: 12.64%\n",
            "Test Loss: 2.26617, Test acc: 19.49%\n",
            "Epoch: 1 ----\n"
          ]
        },
        {
          "output_type": "stream",
          "name": "stderr",
          "text": [
            "\r  4%|▍         | 2/50 [00:03<01:17,  1.62s/it]"
          ]
        },
        {
          "output_type": "stream",
          "name": "stdout",
          "text": [
            "Train Loss: 1.38855, Train acc: 48.02%\n",
            "Test Loss: 1.04608, Test acc: 57.14%\n",
            "Epoch: 2 ----\n",
            "Train Loss: 0.86782, Train acc: 66.57%\n"
          ]
        },
        {
          "output_type": "stream",
          "name": "stderr",
          "text": [
            "\r  6%|▌         | 3/50 [00:04<01:16,  1.62s/it]"
          ]
        },
        {
          "output_type": "stream",
          "name": "stdout",
          "text": [
            "Test Loss: 0.84406, Test acc: 69.20%\n",
            "Epoch: 3 ----\n"
          ]
        },
        {
          "output_type": "stream",
          "name": "stderr",
          "text": [
            "\r  8%|▊         | 4/50 [00:06<01:14,  1.63s/it]"
          ]
        },
        {
          "output_type": "stream",
          "name": "stdout",
          "text": [
            "Train Loss: 0.73885, Train acc: 71.48%\n",
            "Test Loss: 0.74874, Test acc: 71.13%\n",
            "Epoch: 4 ----\n"
          ]
        },
        {
          "output_type": "stream",
          "name": "stderr",
          "text": [
            "\r 10%|█         | 5/50 [00:08<01:13,  1.64s/it]"
          ]
        },
        {
          "output_type": "stream",
          "name": "stdout",
          "text": [
            "Train Loss: 0.67625, Train acc: 73.35%\n",
            "Test Loss: 0.68507, Test acc: 73.41%\n",
            "Epoch: 5 ----\n"
          ]
        },
        {
          "output_type": "stream",
          "name": "stderr",
          "text": [
            "\r 12%|█▏        | 6/50 [00:09<01:11,  1.63s/it]"
          ]
        },
        {
          "output_type": "stream",
          "name": "stdout",
          "text": [
            "Train Loss: 0.62769, Train acc: 75.55%\n",
            "Test Loss: 0.62912, Test acc: 75.69%\n",
            "Epoch: 6 ----\n"
          ]
        },
        {
          "output_type": "stream",
          "name": "stderr",
          "text": [
            "\r 14%|█▍        | 7/50 [00:11<01:09,  1.62s/it]"
          ]
        },
        {
          "output_type": "stream",
          "name": "stdout",
          "text": [
            "Train Loss: 0.58597, Train acc: 77.42%\n",
            "Test Loss: 0.69486, Test acc: 71.92%\n",
            "Epoch: 7 ----\n"
          ]
        },
        {
          "output_type": "stream",
          "name": "stderr",
          "text": [
            "\r 16%|█▌        | 8/50 [00:13<01:08,  1.62s/it]"
          ]
        },
        {
          "output_type": "stream",
          "name": "stdout",
          "text": [
            "Train Loss: 0.56304, Train acc: 78.72%\n",
            "Test Loss: 0.67398, Test acc: 76.09%\n"
          ]
        },
        {
          "output_type": "stream",
          "name": "stderr",
          "text": [
            "\r 18%|█▊        | 9/50 [00:14<01:06,  1.62s/it]"
          ]
        },
        {
          "output_type": "stream",
          "name": "stdout",
          "text": [
            "Epoch: 8 ----\n",
            "Train Loss: 0.53578, Train acc: 79.84%\n",
            "Test Loss: 0.54754, Test acc: 79.91%\n",
            "Epoch: 9 ----\n"
          ]
        },
        {
          "output_type": "stream",
          "name": "stderr",
          "text": [
            "\r 20%|██        | 10/50 [00:16<01:04,  1.62s/it]"
          ]
        },
        {
          "output_type": "stream",
          "name": "stdout",
          "text": [
            "Train Loss: 0.51644, Train acc: 80.06%\n",
            "Test Loss: 0.57861, Test acc: 78.42%\n",
            "Epoch: 10 ----\n"
          ]
        },
        {
          "output_type": "stream",
          "name": "stderr",
          "text": [
            "\r 22%|██▏       | 11/50 [00:17<01:03,  1.62s/it]"
          ]
        },
        {
          "output_type": "stream",
          "name": "stdout",
          "text": [
            "Train Loss: 0.49582, Train acc: 81.29%\n",
            "Test Loss: 0.60003, Test acc: 78.77%\n",
            "Epoch: 11 ----\n"
          ]
        },
        {
          "output_type": "stream",
          "name": "stderr",
          "text": [
            "\r 24%|██▍       | 12/50 [00:19<01:01,  1.62s/it]"
          ]
        },
        {
          "output_type": "stream",
          "name": "stdout",
          "text": [
            "Train Loss: 0.47856, Train acc: 81.79%\n",
            "Test Loss: 0.51620, Test acc: 81.65%\n",
            "Epoch: 12 ----\n"
          ]
        },
        {
          "output_type": "stream",
          "name": "stderr",
          "text": [
            "\r 26%|██▌       | 13/50 [00:21<00:59,  1.62s/it]"
          ]
        },
        {
          "output_type": "stream",
          "name": "stdout",
          "text": [
            "Train Loss: 0.46031, Train acc: 82.60%\n",
            "Test Loss: 0.50562, Test acc: 81.65%\n",
            "Epoch: 13 ----\n"
          ]
        },
        {
          "output_type": "stream",
          "name": "stderr",
          "text": [
            "\r 28%|██▊       | 14/50 [00:22<00:58,  1.62s/it]"
          ]
        },
        {
          "output_type": "stream",
          "name": "stdout",
          "text": [
            "Train Loss: 0.45122, Train acc: 83.15%\n",
            "Test Loss: 0.58118, Test acc: 77.98%\n",
            "Epoch: 14 ----\n"
          ]
        },
        {
          "output_type": "stream",
          "name": "stderr",
          "text": [
            "\r 30%|███       | 15/50 [00:24<00:56,  1.62s/it]"
          ]
        },
        {
          "output_type": "stream",
          "name": "stdout",
          "text": [
            "Train Loss: 0.43702, Train acc: 83.76%\n",
            "Test Loss: 0.48377, Test acc: 82.29%\n",
            "Epoch: 15 ----\n"
          ]
        },
        {
          "output_type": "stream",
          "name": "stderr",
          "text": [
            "\r 32%|███▏      | 16/50 [00:26<00:55,  1.64s/it]"
          ]
        },
        {
          "output_type": "stream",
          "name": "stdout",
          "text": [
            "Train Loss: 0.42325, Train acc: 84.09%\n",
            "Test Loss: 0.51908, Test acc: 80.11%\n",
            "Epoch: 16 ----\n"
          ]
        },
        {
          "output_type": "stream",
          "name": "stderr",
          "text": [
            "\r 34%|███▍      | 17/50 [00:27<00:54,  1.64s/it]"
          ]
        },
        {
          "output_type": "stream",
          "name": "stdout",
          "text": [
            "Train Loss: 0.41326, Train acc: 84.40%\n",
            "Test Loss: 0.52592, Test acc: 80.41%\n",
            "Epoch: 17 ----\n"
          ]
        },
        {
          "output_type": "stream",
          "name": "stderr",
          "text": [
            "\r 36%|███▌      | 18/50 [00:29<00:52,  1.63s/it]"
          ]
        },
        {
          "output_type": "stream",
          "name": "stdout",
          "text": [
            "Train Loss: 0.40710, Train acc: 84.67%\n",
            "Test Loss: 0.45242, Test acc: 83.23%\n",
            "Epoch: 18 ----\n",
            "Train Loss: 0.39630, Train acc: 85.25%\n"
          ]
        },
        {
          "output_type": "stream",
          "name": "stderr",
          "text": [
            "\r 38%|███▊      | 19/50 [00:30<00:50,  1.64s/it]"
          ]
        },
        {
          "output_type": "stream",
          "name": "stdout",
          "text": [
            "Test Loss: 0.46057, Test acc: 83.68%\n",
            "Epoch: 19 ----\n"
          ]
        },
        {
          "output_type": "stream",
          "name": "stderr",
          "text": [
            "\r 40%|████      | 20/50 [00:32<00:49,  1.63s/it]"
          ]
        },
        {
          "output_type": "stream",
          "name": "stdout",
          "text": [
            "Train Loss: 0.38435, Train acc: 85.71%\n",
            "Test Loss: 0.44772, Test acc: 84.18%\n",
            "Epoch: 20 ----\n"
          ]
        },
        {
          "output_type": "stream",
          "name": "stderr",
          "text": [
            "\r 42%|████▏     | 21/50 [00:34<00:47,  1.63s/it]"
          ]
        },
        {
          "output_type": "stream",
          "name": "stdout",
          "text": [
            "Train Loss: 0.38423, Train acc: 85.64%\n",
            "Test Loss: 0.48733, Test acc: 82.04%\n",
            "Epoch: 21 ----\n"
          ]
        },
        {
          "output_type": "stream",
          "name": "stderr",
          "text": [
            "\r 44%|████▍     | 22/50 [00:35<00:45,  1.63s/it]"
          ]
        },
        {
          "output_type": "stream",
          "name": "stdout",
          "text": [
            "Train Loss: 0.36802, Train acc: 85.97%\n",
            "Test Loss: 0.48567, Test acc: 82.09%\n",
            "Epoch: 22 ----\n"
          ]
        },
        {
          "output_type": "stream",
          "name": "stderr",
          "text": [
            "\r 46%|████▌     | 23/50 [00:37<00:43,  1.63s/it]"
          ]
        },
        {
          "output_type": "stream",
          "name": "stdout",
          "text": [
            "Train Loss: 0.36364, Train acc: 86.07%\n",
            "Test Loss: 0.51676, Test acc: 80.36%\n",
            "Epoch: 23 ----\n"
          ]
        },
        {
          "output_type": "stream",
          "name": "stderr",
          "text": [
            "\r 48%|████▊     | 24/50 [00:39<00:42,  1.62s/it]"
          ]
        },
        {
          "output_type": "stream",
          "name": "stdout",
          "text": [
            "Train Loss: 0.35237, Train acc: 86.34%\n",
            "Test Loss: 0.43714, Test acc: 84.82%\n",
            "Epoch: 24 ----\n"
          ]
        },
        {
          "output_type": "stream",
          "name": "stderr",
          "text": [
            "\r 50%|█████     | 25/50 [00:40<00:40,  1.62s/it]"
          ]
        },
        {
          "output_type": "stream",
          "name": "stdout",
          "text": [
            "Train Loss: 0.34543, Train acc: 86.77%\n",
            "Test Loss: 0.59320, Test acc: 80.11%\n",
            "Epoch: 25 ----\n"
          ]
        },
        {
          "output_type": "stream",
          "name": "stderr",
          "text": [
            "\r 52%|█████▏    | 26/50 [00:42<00:38,  1.62s/it]"
          ]
        },
        {
          "output_type": "stream",
          "name": "stdout",
          "text": [
            "Train Loss: 0.34223, Train acc: 86.96%\n",
            "Test Loss: 0.43225, Test acc: 84.67%\n",
            "Epoch: 26 ----\n"
          ]
        },
        {
          "output_type": "stream",
          "name": "stderr",
          "text": [
            "\r 54%|█████▍    | 27/50 [00:43<00:37,  1.63s/it]"
          ]
        },
        {
          "output_type": "stream",
          "name": "stdout",
          "text": [
            "Train Loss: 0.33426, Train acc: 87.26%\n",
            "Test Loss: 0.41075, Test acc: 85.91%\n",
            "Epoch: 27 ----\n"
          ]
        },
        {
          "output_type": "stream",
          "name": "stderr",
          "text": [
            "\r 56%|█████▌    | 28/50 [00:45<00:35,  1.62s/it]"
          ]
        },
        {
          "output_type": "stream",
          "name": "stdout",
          "text": [
            "Train Loss: 0.32941, Train acc: 87.58%\n",
            "Test Loss: 0.41495, Test acc: 84.52%\n",
            "Epoch: 28 ----\n"
          ]
        },
        {
          "output_type": "stream",
          "name": "stderr",
          "text": [
            "\r 58%|█████▊    | 29/50 [00:47<00:34,  1.63s/it]"
          ]
        },
        {
          "output_type": "stream",
          "name": "stdout",
          "text": [
            "Train Loss: 0.32088, Train acc: 87.71%\n",
            "Test Loss: 0.43277, Test acc: 84.57%\n",
            "Epoch: 29 ----\n"
          ]
        },
        {
          "output_type": "stream",
          "name": "stderr",
          "text": [
            "\r 60%|██████    | 30/50 [00:48<00:32,  1.62s/it]"
          ]
        },
        {
          "output_type": "stream",
          "name": "stdout",
          "text": [
            "Train Loss: 0.31137, Train acc: 88.28%\n",
            "Test Loss: 0.43303, Test acc: 85.22%\n",
            "Epoch: 30 ----\n"
          ]
        },
        {
          "output_type": "stream",
          "name": "stderr",
          "text": [
            "\r 62%|██████▏   | 31/50 [00:50<00:30,  1.62s/it]"
          ]
        },
        {
          "output_type": "stream",
          "name": "stdout",
          "text": [
            "Train Loss: 0.31154, Train acc: 88.15%\n",
            "Test Loss: 0.43206, Test acc: 84.97%\n",
            "Epoch: 31 ----\n"
          ]
        },
        {
          "output_type": "stream",
          "name": "stderr",
          "text": [
            "\r 64%|██████▍   | 32/50 [00:52<00:29,  1.62s/it]"
          ]
        },
        {
          "output_type": "stream",
          "name": "stdout",
          "text": [
            "Train Loss: 0.30105, Train acc: 88.40%\n",
            "Test Loss: 0.44440, Test acc: 83.83%\n",
            "Epoch: 32 ----\n"
          ]
        },
        {
          "output_type": "stream",
          "name": "stderr",
          "text": [
            "\r 66%|██████▌   | 33/50 [00:53<00:27,  1.62s/it]"
          ]
        },
        {
          "output_type": "stream",
          "name": "stdout",
          "text": [
            "Train Loss: 0.29687, Train acc: 88.59%\n",
            "Test Loss: 0.43584, Test acc: 84.92%\n",
            "Epoch: 33 ----\n"
          ]
        },
        {
          "output_type": "stream",
          "name": "stderr",
          "text": [
            "\r 68%|██████▊   | 34/50 [00:55<00:26,  1.63s/it]"
          ]
        },
        {
          "output_type": "stream",
          "name": "stdout",
          "text": [
            "Train Loss: 0.29069, Train acc: 89.35%\n",
            "Test Loss: 0.50505, Test acc: 83.28%\n"
          ]
        },
        {
          "output_type": "stream",
          "name": "stderr",
          "text": [
            "\r 70%|███████   | 35/50 [00:56<00:24,  1.63s/it]"
          ]
        },
        {
          "output_type": "stream",
          "name": "stdout",
          "text": [
            "Epoch: 34 ----\n",
            "Train Loss: 0.28938, Train acc: 88.80%\n",
            "Test Loss: 0.41452, Test acc: 85.76%\n"
          ]
        },
        {
          "output_type": "stream",
          "name": "stderr",
          "text": [
            "\r 72%|███████▏  | 36/50 [00:58<00:22,  1.62s/it]"
          ]
        },
        {
          "output_type": "stream",
          "name": "stdout",
          "text": [
            "Epoch: 35 ----\n",
            "Train Loss: 0.28844, Train acc: 89.12%\n",
            "Test Loss: 0.55842, Test acc: 79.81%\n",
            "Epoch: 36 ----\n"
          ]
        },
        {
          "output_type": "stream",
          "name": "stderr",
          "text": [
            "\r 74%|███████▍  | 37/50 [01:00<00:21,  1.62s/it]"
          ]
        },
        {
          "output_type": "stream",
          "name": "stdout",
          "text": [
            "Train Loss: 0.27727, Train acc: 89.63%\n",
            "Test Loss: 0.43858, Test acc: 84.97%\n",
            "Epoch: 37 ----\n"
          ]
        },
        {
          "output_type": "stream",
          "name": "stderr",
          "text": [
            "\r 76%|███████▌  | 38/50 [01:01<00:19,  1.62s/it]"
          ]
        },
        {
          "output_type": "stream",
          "name": "stdout",
          "text": [
            "Train Loss: 0.26824, Train acc: 89.40%\n",
            "Test Loss: 0.43250, Test acc: 85.71%\n",
            "Epoch: 38 ----\n"
          ]
        },
        {
          "output_type": "stream",
          "name": "stderr",
          "text": [
            "\r 78%|███████▊  | 39/50 [01:03<00:17,  1.61s/it]"
          ]
        },
        {
          "output_type": "stream",
          "name": "stdout",
          "text": [
            "Train Loss: 0.26326, Train acc: 89.80%\n",
            "Test Loss: 0.44392, Test acc: 85.37%\n",
            "Epoch: 39 ----\n"
          ]
        },
        {
          "output_type": "stream",
          "name": "stderr",
          "text": [
            "\r 80%|████████  | 40/50 [01:04<00:16,  1.61s/it]"
          ]
        },
        {
          "output_type": "stream",
          "name": "stdout",
          "text": [
            "Train Loss: 0.25898, Train acc: 90.00%\n",
            "Test Loss: 0.51660, Test acc: 83.33%\n",
            "Epoch: 40 ----\n"
          ]
        },
        {
          "output_type": "stream",
          "name": "stderr",
          "text": [
            "\r 82%|████████▏ | 41/50 [01:06<00:14,  1.63s/it]"
          ]
        },
        {
          "output_type": "stream",
          "name": "stdout",
          "text": [
            "Train Loss: 0.25723, Train acc: 89.94%\n",
            "Test Loss: 0.47493, Test acc: 84.38%\n",
            "Epoch: 41 ----\n"
          ]
        },
        {
          "output_type": "stream",
          "name": "stderr",
          "text": [
            "\r 84%|████████▍ | 42/50 [01:08<00:13,  1.63s/it]"
          ]
        },
        {
          "output_type": "stream",
          "name": "stdout",
          "text": [
            "Train Loss: 0.25365, Train acc: 90.40%\n",
            "Test Loss: 0.46760, Test acc: 84.92%\n",
            "Epoch: 42 ----\n"
          ]
        },
        {
          "output_type": "stream",
          "name": "stderr",
          "text": [
            "\r 86%|████████▌ | 43/50 [01:09<00:11,  1.63s/it]"
          ]
        },
        {
          "output_type": "stream",
          "name": "stdout",
          "text": [
            "Train Loss: 0.24605, Train acc: 90.59%\n",
            "Test Loss: 0.46868, Test acc: 85.07%\n",
            "Epoch: 43 ----\n"
          ]
        },
        {
          "output_type": "stream",
          "name": "stderr",
          "text": [
            "\r 88%|████████▊ | 44/50 [01:11<00:09,  1.63s/it]"
          ]
        },
        {
          "output_type": "stream",
          "name": "stdout",
          "text": [
            "Train Loss: 0.23964, Train acc: 90.95%\n",
            "Test Loss: 0.47737, Test acc: 84.77%\n",
            "Epoch: 44 ----\n",
            "Train Loss: 0.24459, Train acc: 90.69%\n"
          ]
        },
        {
          "output_type": "stream",
          "name": "stderr",
          "text": [
            "\r 90%|█████████ | 45/50 [01:13<00:08,  1.63s/it]"
          ]
        },
        {
          "output_type": "stream",
          "name": "stdout",
          "text": [
            "Test Loss: 0.45955, Test acc: 85.81%\n",
            "Epoch: 45 ----\n"
          ]
        },
        {
          "output_type": "stream",
          "name": "stderr",
          "text": [
            "\r 92%|█████████▏| 46/50 [01:14<00:06,  1.62s/it]"
          ]
        },
        {
          "output_type": "stream",
          "name": "stdout",
          "text": [
            "Train Loss: 0.23289, Train acc: 91.12%\n",
            "Test Loss: 0.45307, Test acc: 85.86%\n",
            "Epoch: 46 ----\n"
          ]
        },
        {
          "output_type": "stream",
          "name": "stderr",
          "text": [
            "\r 94%|█████████▍| 47/50 [01:16<00:04,  1.62s/it]"
          ]
        },
        {
          "output_type": "stream",
          "name": "stdout",
          "text": [
            "Train Loss: 0.22851, Train acc: 91.19%\n",
            "Test Loss: 0.44885, Test acc: 85.91%\n",
            "Epoch: 47 ----\n"
          ]
        },
        {
          "output_type": "stream",
          "name": "stderr",
          "text": [
            "\r 96%|█████████▌| 48/50 [01:17<00:03,  1.61s/it]"
          ]
        },
        {
          "output_type": "stream",
          "name": "stdout",
          "text": [
            "Train Loss: 0.22512, Train acc: 91.19%\n",
            "Test Loss: 0.47201, Test acc: 84.77%\n",
            "Epoch: 48 ----\n"
          ]
        },
        {
          "output_type": "stream",
          "name": "stderr",
          "text": [
            "\r 98%|█████████▊| 49/50 [01:19<00:01,  1.61s/it]"
          ]
        },
        {
          "output_type": "stream",
          "name": "stdout",
          "text": [
            "Train Loss: 0.22300, Train acc: 91.55%\n",
            "Test Loss: 0.47259, Test acc: 84.38%\n",
            "Epoch: 49 ----\n"
          ]
        },
        {
          "output_type": "stream",
          "name": "stderr",
          "text": [
            "100%|██████████| 50/50 [01:21<00:00,  1.62s/it]"
          ]
        },
        {
          "output_type": "stream",
          "name": "stdout",
          "text": [
            "Train Loss: 0.21799, Train acc: 91.68%\n",
            "Test Loss: 0.47222, Test acc: 84.97%\n",
            "Train time on cuda : 81.197 seconds\n"
          ]
        },
        {
          "output_type": "stream",
          "name": "stderr",
          "text": [
            "\n"
          ]
        }
      ],
      "source": [
        "torch.manual_seed(42)\n",
        "\n",
        "#Measure time\n",
        "train_time_start_on_gpu = timer()\n",
        "\n",
        "#Set epochs\n",
        "epochs=50\n",
        "\n",
        "#Create a optimization and evaluation loop using train_step() and test_step()\n",
        "for epoch in tqdm(range(epochs)):\n",
        "  print(f\"Epoch: {epoch} ----\")\n",
        "  train_step(model=model_LENET_1, data_loader=train_dataloader,loss_fn=loss_fn,optimizer=optimizer,accuracy_fn=accuracy_fn,device=device)\n",
        "  \n",
        "  test_step(model=model_LENET_1,data_loader=test_dataloader,loss_fn=loss_fn,optimizer=optimizer,accuracy_fn=accuracy_fn,device=device)\n",
        "  \n",
        "train_time_end_on_gpu = timer()\n",
        "total_train_time_model_1 = print_train_time(start=train_time_start_on_gpu,\n",
        "                                            end=train_time_end_on_gpu,\n",
        "                                            device=device)"
      ]
    },
    {
      "cell_type": "code",
      "execution_count": 115,
      "metadata": {
        "id": "R5ABh-29Yq1d"
      },
      "outputs": [],
      "source": [
        "#Now we save the model\n",
        "from pathlib import Path\n",
        "#Create the model directory\n",
        "MODEL_PATH = Path(\"models\")\n",
        "MODEL_PATH.mkdir(parents=True, exist_ok=True)\n",
        "#Create the model save path\n",
        "MODEL_NAME = \"02_LENET_FashionMNIST.pth\"\n",
        "MODEL_SAVE_PATH = MODEL_PATH/MODEL_NAME"
      ]
    },
    {
      "cell_type": "code",
      "execution_count": 116,
      "metadata": {
        "id": "2X-c9ajnctEy",
        "colab": {
          "base_uri": "https://localhost:8080/"
        },
        "outputId": "c76ef3cd-3268-4460-bd0d-5ead9b3f3005"
      },
      "outputs": [
        {
          "output_type": "stream",
          "name": "stdout",
          "text": [
            "Saved at models/02_LENET_FashionMNIST.pth\n"
          ]
        }
      ],
      "source": [
        "#Saving the model\n",
        "torch.save(obj=model_LENET_1.state_dict(),\n",
        "           f=MODEL_SAVE_PATH)\n",
        "print(f'Saved at {MODEL_SAVE_PATH}')"
      ]
    },
    {
      "cell_type": "code",
      "execution_count": 117,
      "metadata": {
        "id": "F2lXjIjxc1zN",
        "colab": {
          "base_uri": "https://localhost:8080/"
        },
        "outputId": "f0199305-969a-4443-e0f8-f78e85dac3e4"
      },
      "outputs": [
        {
          "output_type": "execute_result",
          "data": {
            "text/plain": [
              "<All keys matched successfully>"
            ]
          },
          "metadata": {},
          "execution_count": 117
        }
      ],
      "source": [
        "#Loading the model\n",
        "#Create a new instance of the model and update the parameters\n",
        "model_LENET_FashionMNIST = LeNET().to(device)\n",
        "model_LENET_FashionMNIST.load_state_dict(torch.load(f=MODEL_SAVE_PATH))"
      ]
    },
    {
      "cell_type": "code",
      "execution_count": 118,
      "metadata": {
        "id": "LZALrrLWc-zu",
        "colab": {
          "base_uri": "https://localhost:8080/"
        },
        "outputId": "4f5f136f-de52-4c95-91b7-e933e3134c99"
      },
      "outputs": [
        {
          "output_type": "stream",
          "name": "stderr",
          "text": [
            "100%|██████████| 63/63 [00:00<00:00, 321.77it/s]\n"
          ]
        },
        {
          "output_type": "execute_result",
          "data": {
            "text/plain": [
              "{'model_name': 'LeNET',\n",
              " 'model_loss': 0.47221800684928894,\n",
              " 'model_acc': 84.9702380952381}"
            ]
          },
          "metadata": {},
          "execution_count": 118
        }
      ],
      "source": [
        "#Get model results\n",
        "model_LENET_FashionMNIST_results = eval_model(\n",
        "    model=model_LENET_FashionMNIST,\n",
        "    data_loader=test_dataloader,\n",
        "    loss_fn=loss_fn,\n",
        "    accuracy_fn=accuracy_fn,\n",
        "    device=device\n",
        ")\n",
        "model_LENET_FashionMNIST_results"
      ]
    },
    {
      "cell_type": "markdown",
      "metadata": {
        "id": "7zasQGJHoF8f"
      },
      "source": [
        "CIFAR 10\n"
      ]
    },
    {
      "cell_type": "code",
      "execution_count": 119,
      "metadata": {
        "id": "FSfcNGrfdOPk",
        "colab": {
          "base_uri": "https://localhost:8080/"
        },
        "outputId": "8364414f-29c8-45e3-fbe9-e1a14225ad08"
      },
      "outputs": [
        {
          "output_type": "stream",
          "name": "stdout",
          "text": [
            "Files already downloaded and verified\n",
            "Files already downloaded and verified\n"
          ]
        }
      ],
      "source": [
        "train_data = datasets.CIFAR10(root=\"data\",\n",
        "                                   train=True,\n",
        "                                   download=True,\n",
        "                                   transform=transforms.Compose([transforms.Resize(size=(28,28)),transforms.ToTensor()]))\n",
        "\n",
        "test_data = datasets.CIFAR10(root=\"data\",\n",
        "                                   train=False,\n",
        "                                   download=True,\n",
        "                                   transform=transforms.Compose([transforms.Resize(size=(28,28)),transforms.ToTensor()]))"
      ]
    },
    {
      "cell_type": "code",
      "execution_count": 120,
      "metadata": {
        "id": "yeQcxQVhpecd",
        "colab": {
          "base_uri": "https://localhost:8080/"
        },
        "outputId": "429960e3-b0f7-4089-f299-a40dd4b657c3"
      },
      "outputs": [
        {
          "output_type": "execute_result",
          "data": {
            "text/plain": [
              "({'airplane': 0,\n",
              "  'automobile': 1,\n",
              "  'bird': 2,\n",
              "  'cat': 3,\n",
              "  'deer': 4,\n",
              "  'dog': 5,\n",
              "  'frog': 6,\n",
              "  'horse': 7,\n",
              "  'ship': 8,\n",
              "  'truck': 9},\n",
              " ['airplane',\n",
              "  'automobile',\n",
              "  'bird',\n",
              "  'cat',\n",
              "  'deer',\n",
              "  'dog',\n",
              "  'frog',\n",
              "  'horse',\n",
              "  'ship',\n",
              "  'truck'])"
            ]
          },
          "metadata": {},
          "execution_count": 120
        }
      ],
      "source": [
        "class_names = train_data.classes\n",
        "class_to_idx = train_data.class_to_idx\n",
        "class_to_idx, class_names"
      ]
    },
    {
      "cell_type": "code",
      "execution_count": 121,
      "metadata": {
        "id": "rDZbw63e0eff",
        "colab": {
          "base_uri": "https://localhost:8080/",
          "height": 536
        },
        "outputId": "32cea07b-6705-40e1-f0a7-4d567d27deeb"
      },
      "outputs": [
        {
          "output_type": "display_data",
          "data": {
            "text/plain": [
              "<Figure size 648x648 with 16 Axes>"
            ],
            "image/png": "[encoded data removed]"
          },
          "metadata": {
            "needs_background": "light"
          }
        }
      ],
      "source": [
        "#Plot more images\n",
        "torch.manual_seed(42)\n",
        "fig = plt.figure(figsize=(9,9))\n",
        "rows, cols = 4, 4\n",
        "for i in range(1, rows*cols+1):\n",
        "  random_idx = torch.randint(0, len(train_data), size=[1]).item()\n",
        "  img, label = train_data[random_idx]\n",
        "  fig.add_subplot(rows, cols, i)\n",
        "  plt.imshow(img.permute(1, 2, 0))#(c,h,w) moves channel to the back in accordance to the matplotlib format\n",
        "  plt.title(class_names[label])\n",
        "  plt.axis(False)"
      ]
    },
    {
      "cell_type": "code",
      "execution_count": 122,
      "metadata": {
        "id": "X-T7ErwirYmz"
      },
      "outputs": [],
      "source": [
        "#Prepare Dataloader that prepares our data into python iterable\n",
        "#We turn our data into mini batches since it is more computationally efficient\n",
        "from torch.utils.data import DataLoader\n",
        "\n",
        "#Setup the batch size hyperparameter\n",
        "BATCH_SIZE = 32\n",
        "device = \"cuda\" if torch.cuda.is_available() else \"cpu\"\n",
        "\n",
        "#Turn datasets into iterables(batches)\n",
        "train_dataloader = DataLoader(train_data, batch_size=BATCH_SIZE, shuffle=True)\n",
        "test_dataloader = DataLoader(test_data, batch_size=BATCH_SIZE, shuffle=False)"
      ]
    },
    {
      "cell_type": "code",
      "execution_count": 123,
      "metadata": {
        "id": "NR2VTx_Pr1Dp",
        "colab": {
          "base_uri": "https://localhost:8080/",
          "height": 36
        },
        "outputId": "31403171-775f-48cf-ec4f-e093fffaeeb0"
      },
      "outputs": [
        {
          "output_type": "execute_result",
          "data": {
            "text/plain": [
              "'cuda'"
            ],
            "application/vnd.google.colaboratory.intrinsic+json": {
              "type": "string"
            }
          },
          "metadata": {},
          "execution_count": 123
        }
      ],
      "source": [
        "model_LENET_2 = LeNET(in_channels=3).to(device)\n",
        "device = \"cuda\" if torch.cuda.is_available() else \"cpu\"\n",
        "device"
      ]
    },
    {
      "cell_type": "code",
      "execution_count": 124,
      "metadata": {
        "id": "pUezEcPnr9FU"
      },
      "outputs": [],
      "source": [
        "loss_fn = nn.CrossEntropyLoss()\n",
        "optimizer = torch.optim.SGD(model_LENET_2.parameters(), lr=0.03)\n",
        "\n",
        "def accuracy_fn(y_true, y_pred):\n",
        "    correct = torch.eq(y_true, y_pred).sum().item()\n",
        "    acc = (correct / len(y_pred)) * 100\n",
        "    return acc"
      ]
    },
    {
      "cell_type": "code",
      "execution_count": 125,
      "metadata": {
        "id": "XPdHXTSgsCho",
        "colab": {
          "base_uri": "https://localhost:8080/"
        },
        "outputId": "1cfd324e-544e-42a1-c17a-e7369220efa4"
      },
      "outputs": [
        {
          "output_type": "stream",
          "name": "stderr",
          "text": [
            "\r  0%|          | 0/100 [00:00<?, ?it/s]"
          ]
        },
        {
          "output_type": "stream",
          "name": "stdout",
          "text": [
            "Epoch: 0 ----\n",
            "Train Loss: 2.30279, Train acc: 9.93%\n"
          ]
        },
        {
          "output_type": "stream",
          "name": "stderr",
          "text": [
            "\r  1%|          | 1/100 [00:12<20:00, 12.13s/it]"
          ]
        },
        {
          "output_type": "stream",
          "name": "stdout",
          "text": [
            "Test Loss: 2.30010, Test acc: 13.96%\n",
            "Epoch: 1 ----\n",
            "Train Loss: 2.05689, Train acc: 23.80%\n"
          ]
        },
        {
          "output_type": "stream",
          "name": "stderr",
          "text": [
            "\r  2%|▏         | 2/100 [00:24<19:39, 12.04s/it]"
          ]
        },
        {
          "output_type": "stream",
          "name": "stdout",
          "text": [
            "Test Loss: 1.84966, Test acc: 33.55%\n",
            "Epoch: 2 ----\n",
            "Train Loss: 1.75797, Train acc: 37.01%\n"
          ]
        },
        {
          "output_type": "stream",
          "name": "stderr",
          "text": [
            "\r  3%|▎         | 3/100 [00:36<19:24, 12.00s/it]"
          ]
        },
        {
          "output_type": "stream",
          "name": "stdout",
          "text": [
            "Test Loss: 1.63985, Test acc: 40.38%\n",
            "Epoch: 3 ----\n",
            "Train Loss: 1.59679, Train acc: 42.77%\n"
          ]
        },
        {
          "output_type": "stream",
          "name": "stderr",
          "text": [
            "\r  4%|▍         | 4/100 [00:48<19:13, 12.01s/it]"
          ]
        },
        {
          "output_type": "stream",
          "name": "stdout",
          "text": [
            "Test Loss: 1.59023, Test acc: 42.80%\n",
            "Epoch: 4 ----\n",
            "Train Loss: 1.49755, Train acc: 46.36%\n"
          ]
        },
        {
          "output_type": "stream",
          "name": "stderr",
          "text": [
            "\r  5%|▌         | 5/100 [01:00<19:02, 12.02s/it]"
          ]
        },
        {
          "output_type": "stream",
          "name": "stdout",
          "text": [
            "Test Loss: 1.58012, Test acc: 44.76%\n",
            "Epoch: 5 ----\n",
            "Train Loss: 1.43134, Train acc: 48.90%\n"
          ]
        },
        {
          "output_type": "stream",
          "name": "stderr",
          "text": [
            "\r  6%|▌         | 6/100 [01:12<18:51, 12.04s/it]"
          ]
        },
        {
          "output_type": "stream",
          "name": "stdout",
          "text": [
            "Test Loss: 1.40498, Test acc: 49.52%\n",
            "Epoch: 6 ----\n",
            "Train Loss: 1.36891, Train acc: 51.47%\n"
          ]
        },
        {
          "output_type": "stream",
          "name": "stderr",
          "text": [
            "\r  7%|▋         | 7/100 [01:24<18:41, 12.06s/it]"
          ]
        },
        {
          "output_type": "stream",
          "name": "stdout",
          "text": [
            "Test Loss: 1.39107, Test acc: 50.39%\n",
            "Epoch: 7 ----\n",
            "Train Loss: 1.31526, Train acc: 52.96%\n"
          ]
        },
        {
          "output_type": "stream",
          "name": "stderr",
          "text": [
            "\r  8%|▊         | 8/100 [01:36<18:26, 12.03s/it]"
          ]
        },
        {
          "output_type": "stream",
          "name": "stdout",
          "text": [
            "Test Loss: 1.35375, Test acc: 51.63%\n",
            "Epoch: 8 ----\n",
            "Train Loss: 1.26901, Train acc: 54.83%\n"
          ]
        },
        {
          "output_type": "stream",
          "name": "stderr",
          "text": [
            "\r  9%|▉         | 9/100 [01:48<18:14, 12.03s/it]"
          ]
        },
        {
          "output_type": "stream",
          "name": "stdout",
          "text": [
            "Test Loss: 1.37695, Test acc: 50.98%\n",
            "Epoch: 9 ----\n",
            "Train Loss: 1.22594, Train acc: 56.27%\n"
          ]
        },
        {
          "output_type": "stream",
          "name": "stderr",
          "text": [
            "\r 10%|█         | 10/100 [02:00<18:00, 12.01s/it]"
          ]
        },
        {
          "output_type": "stream",
          "name": "stdout",
          "text": [
            "Test Loss: 1.25745, Test acc: 55.92%\n",
            "Epoch: 10 ----\n",
            "Train Loss: 1.18631, Train acc: 57.74%\n"
          ]
        },
        {
          "output_type": "stream",
          "name": "stderr",
          "text": [
            "\r 11%|█         | 11/100 [02:12<17:52, 12.06s/it]"
          ]
        },
        {
          "output_type": "stream",
          "name": "stdout",
          "text": [
            "Test Loss: 1.25066, Test acc: 56.22%\n",
            "Epoch: 11 ----\n",
            "Train Loss: 1.14819, Train acc: 59.19%\n"
          ]
        },
        {
          "output_type": "stream",
          "name": "stderr",
          "text": [
            "\r 12%|█▏        | 12/100 [02:24<17:41, 12.06s/it]"
          ]
        },
        {
          "output_type": "stream",
          "name": "stdout",
          "text": [
            "Test Loss: 1.24303, Test acc: 56.62%\n",
            "Epoch: 12 ----\n",
            "Train Loss: 1.11562, Train acc: 60.51%\n"
          ]
        },
        {
          "output_type": "stream",
          "name": "stderr",
          "text": [
            "\r 13%|█▎        | 13/100 [02:36<17:26, 12.03s/it]"
          ]
        },
        {
          "output_type": "stream",
          "name": "stdout",
          "text": [
            "Test Loss: 1.22630, Test acc: 56.95%\n",
            "Epoch: 13 ----\n",
            "Train Loss: 1.08263, Train acc: 61.44%\n"
          ]
        },
        {
          "output_type": "stream",
          "name": "stderr",
          "text": [
            "\r 14%|█▍        | 14/100 [02:48<17:13, 12.02s/it]"
          ]
        },
        {
          "output_type": "stream",
          "name": "stdout",
          "text": [
            "Test Loss: 1.35431, Test acc: 53.55%\n",
            "Epoch: 14 ----\n",
            "Train Loss: 1.05016, Train acc: 62.84%\n"
          ]
        },
        {
          "output_type": "stream",
          "name": "stderr",
          "text": [
            "\r 15%|█▌        | 15/100 [03:00<17:01, 12.02s/it]"
          ]
        },
        {
          "output_type": "stream",
          "name": "stdout",
          "text": [
            "Test Loss: 1.19875, Test acc: 58.82%\n",
            "Epoch: 15 ----\n",
            "Train Loss: 1.01950, Train acc: 63.63%\n"
          ]
        },
        {
          "output_type": "stream",
          "name": "stderr",
          "text": [
            "\r 16%|█▌        | 16/100 [03:12<16:51, 12.04s/it]"
          ]
        },
        {
          "output_type": "stream",
          "name": "stdout",
          "text": [
            "Test Loss: 1.22113, Test acc: 57.91%\n",
            "Epoch: 16 ----\n",
            "Train Loss: 0.99476, Train acc: 64.65%\n"
          ]
        },
        {
          "output_type": "stream",
          "name": "stderr",
          "text": [
            "\r 17%|█▋        | 17/100 [03:24<16:38, 12.03s/it]"
          ]
        },
        {
          "output_type": "stream",
          "name": "stdout",
          "text": [
            "Test Loss: 1.22669, Test acc: 56.91%\n",
            "Epoch: 17 ----\n",
            "Train Loss: 0.96933, Train acc: 65.72%\n"
          ]
        },
        {
          "output_type": "stream",
          "name": "stderr",
          "text": [
            "\r 18%|█▊        | 18/100 [03:36<16:27, 12.04s/it]"
          ]
        },
        {
          "output_type": "stream",
          "name": "stdout",
          "text": [
            "Test Loss: 1.22634, Test acc: 58.09%\n",
            "Epoch: 18 ----\n",
            "Train Loss: 0.94630, Train acc: 66.39%\n"
          ]
        },
        {
          "output_type": "stream",
          "name": "stderr",
          "text": [
            "\r 19%|█▉        | 19/100 [03:48<16:13, 12.02s/it]"
          ]
        },
        {
          "output_type": "stream",
          "name": "stdout",
          "text": [
            "Test Loss: 1.41001, Test acc: 54.30%\n",
            "Epoch: 19 ----\n",
            "Train Loss: 0.92004, Train acc: 67.33%\n"
          ]
        },
        {
          "output_type": "stream",
          "name": "stderr",
          "text": [
            "\r 20%|██        | 20/100 [04:00<15:59, 12.00s/it]"
          ]
        },
        {
          "output_type": "stream",
          "name": "stdout",
          "text": [
            "Test Loss: 1.34782, Test acc: 53.91%\n",
            "Epoch: 20 ----\n",
            "Train Loss: 0.89867, Train acc: 68.13%\n"
          ]
        },
        {
          "output_type": "stream",
          "name": "stderr",
          "text": [
            "\r 21%|██        | 21/100 [04:12<15:48, 12.01s/it]"
          ]
        },
        {
          "output_type": "stream",
          "name": "stdout",
          "text": [
            "Test Loss: 1.23464, Test acc: 57.91%\n",
            "Epoch: 21 ----\n",
            "Train Loss: 0.87619, Train acc: 68.93%\n"
          ]
        },
        {
          "output_type": "stream",
          "name": "stderr",
          "text": [
            "\r 22%|██▏       | 22/100 [04:24<15:38, 12.04s/it]"
          ]
        },
        {
          "output_type": "stream",
          "name": "stdout",
          "text": [
            "Test Loss: 1.21320, Test acc: 59.10%\n",
            "Epoch: 22 ----\n",
            "Train Loss: 0.85558, Train acc: 69.52%\n"
          ]
        },
        {
          "output_type": "stream",
          "name": "stderr",
          "text": [
            "\r 23%|██▎       | 23/100 [04:36<15:23, 12.00s/it]"
          ]
        },
        {
          "output_type": "stream",
          "name": "stdout",
          "text": [
            "Test Loss: 1.26251, Test acc: 58.62%\n",
            "Epoch: 23 ----\n",
            "Train Loss: 0.83148, Train acc: 70.61%\n"
          ]
        },
        {
          "output_type": "stream",
          "name": "stderr",
          "text": [
            "\r 24%|██▍       | 24/100 [04:48<15:12, 12.01s/it]"
          ]
        },
        {
          "output_type": "stream",
          "name": "stdout",
          "text": [
            "Test Loss: 1.27400, Test acc: 57.89%\n",
            "Epoch: 24 ----\n",
            "Train Loss: 0.81684, Train acc: 70.96%\n"
          ]
        },
        {
          "output_type": "stream",
          "name": "stderr",
          "text": [
            "\r 25%|██▌       | 25/100 [05:00<15:01, 12.03s/it]"
          ]
        },
        {
          "output_type": "stream",
          "name": "stdout",
          "text": [
            "Test Loss: 1.26943, Test acc: 59.33%\n",
            "Epoch: 25 ----\n",
            "Train Loss: 0.80100, Train acc: 71.47%\n"
          ]
        },
        {
          "output_type": "stream",
          "name": "stderr",
          "text": [
            "\r 26%|██▌       | 26/100 [05:12<14:48, 12.01s/it]"
          ]
        },
        {
          "output_type": "stream",
          "name": "stdout",
          "text": [
            "Test Loss: 1.29198, Test acc: 58.77%\n",
            "Epoch: 26 ----\n",
            "Train Loss: 0.78215, Train acc: 72.09%\n"
          ]
        },
        {
          "output_type": "stream",
          "name": "stderr",
          "text": [
            "\r 27%|██▋       | 27/100 [05:24<14:37, 12.03s/it]"
          ]
        },
        {
          "output_type": "stream",
          "name": "stdout",
          "text": [
            "Test Loss: 1.28847, Test acc: 58.88%\n",
            "Epoch: 27 ----\n",
            "Train Loss: 0.76455, Train acc: 72.80%\n"
          ]
        },
        {
          "output_type": "stream",
          "name": "stderr",
          "text": [
            "\r 28%|██▊       | 28/100 [05:36<14:23, 12.00s/it]"
          ]
        },
        {
          "output_type": "stream",
          "name": "stdout",
          "text": [
            "Test Loss: 1.32022, Test acc: 58.51%\n",
            "Epoch: 28 ----\n",
            "Train Loss: 0.74826, Train acc: 73.18%\n"
          ]
        },
        {
          "output_type": "stream",
          "name": "stderr",
          "text": [
            "\r 29%|██▉       | 29/100 [05:48<14:11, 11.99s/it]"
          ]
        },
        {
          "output_type": "stream",
          "name": "stdout",
          "text": [
            "Test Loss: 1.35408, Test acc: 57.97%\n",
            "Epoch: 29 ----\n",
            "Train Loss: 0.73342, Train acc: 73.76%\n"
          ]
        },
        {
          "output_type": "stream",
          "name": "stderr",
          "text": [
            "\r 30%|███       | 30/100 [06:00<13:59, 11.99s/it]"
          ]
        },
        {
          "output_type": "stream",
          "name": "stdout",
          "text": [
            "Test Loss: 1.38805, Test acc: 58.13%\n",
            "Epoch: 30 ----\n",
            "Train Loss: 0.71482, Train acc: 74.44%\n"
          ]
        },
        {
          "output_type": "stream",
          "name": "stderr",
          "text": [
            "\r 31%|███       | 31/100 [06:12<13:47, 11.99s/it]"
          ]
        },
        {
          "output_type": "stream",
          "name": "stdout",
          "text": [
            "Test Loss: 1.42816, Test acc: 57.09%\n",
            "Epoch: 31 ----\n",
            "Train Loss: 0.70582, Train acc: 74.67%\n"
          ]
        },
        {
          "output_type": "stream",
          "name": "stderr",
          "text": [
            "\r 32%|███▏      | 32/100 [06:24<13:37, 12.03s/it]"
          ]
        },
        {
          "output_type": "stream",
          "name": "stdout",
          "text": [
            "Test Loss: 1.35036, Test acc: 58.39%\n",
            "Epoch: 32 ----\n",
            "Train Loss: 0.69066, Train acc: 74.92%\n"
          ]
        },
        {
          "output_type": "stream",
          "name": "stderr",
          "text": [
            "\r 33%|███▎      | 33/100 [06:36<13:23, 12.00s/it]"
          ]
        },
        {
          "output_type": "stream",
          "name": "stdout",
          "text": [
            "Test Loss: 1.37132, Test acc: 58.75%\n",
            "Epoch: 33 ----\n",
            "Train Loss: 0.67303, Train acc: 75.72%\n"
          ]
        },
        {
          "output_type": "stream",
          "name": "stderr",
          "text": [
            "\r 34%|███▍      | 34/100 [06:48<13:09, 11.97s/it]"
          ]
        },
        {
          "output_type": "stream",
          "name": "stdout",
          "text": [
            "Test Loss: 1.45357, Test acc: 57.33%\n",
            "Epoch: 34 ----\n",
            "Train Loss: 0.66436, Train acc: 76.00%\n"
          ]
        },
        {
          "output_type": "stream",
          "name": "stderr",
          "text": [
            "\r 35%|███▌      | 35/100 [07:00<12:57, 11.96s/it]"
          ]
        },
        {
          "output_type": "stream",
          "name": "stdout",
          "text": [
            "Test Loss: 1.40993, Test acc: 58.35%\n",
            "Epoch: 35 ----\n",
            "Train Loss: 0.65105, Train acc: 76.54%\n"
          ]
        },
        {
          "output_type": "stream",
          "name": "stderr",
          "text": [
            "\r 36%|███▌      | 36/100 [07:12<12:45, 11.96s/it]"
          ]
        },
        {
          "output_type": "stream",
          "name": "stdout",
          "text": [
            "Test Loss: 1.42966, Test acc: 57.62%\n",
            "Epoch: 36 ----\n",
            "Train Loss: 0.63485, Train acc: 77.13%\n"
          ]
        },
        {
          "output_type": "stream",
          "name": "stderr",
          "text": [
            "\r 37%|███▋      | 37/100 [07:24<12:35, 11.99s/it]"
          ]
        },
        {
          "output_type": "stream",
          "name": "stdout",
          "text": [
            "Test Loss: 1.51219, Test acc: 57.32%\n",
            "Epoch: 37 ----\n",
            "Train Loss: 0.62739, Train acc: 77.20%\n"
          ]
        },
        {
          "output_type": "stream",
          "name": "stderr",
          "text": [
            "\r 38%|███▊      | 38/100 [07:36<12:24, 12.00s/it]"
          ]
        },
        {
          "output_type": "stream",
          "name": "stdout",
          "text": [
            "Test Loss: 1.56150, Test acc: 55.88%\n",
            "Epoch: 38 ----\n",
            "Train Loss: 0.62057, Train acc: 77.54%\n"
          ]
        },
        {
          "output_type": "stream",
          "name": "stderr",
          "text": [
            "\r 39%|███▉      | 39/100 [07:48<12:10, 11.98s/it]"
          ]
        },
        {
          "output_type": "stream",
          "name": "stdout",
          "text": [
            "Test Loss: 1.53243, Test acc: 57.40%\n",
            "Epoch: 39 ----\n",
            "Train Loss: 0.60281, Train acc: 78.30%\n"
          ]
        },
        {
          "output_type": "stream",
          "name": "stderr",
          "text": [
            "\r 40%|████      | 40/100 [08:00<11:59, 11.99s/it]"
          ]
        },
        {
          "output_type": "stream",
          "name": "stdout",
          "text": [
            "Test Loss: 1.62063, Test acc: 56.40%\n",
            "Epoch: 40 ----\n",
            "Train Loss: 0.59366, Train acc: 78.46%\n"
          ]
        },
        {
          "output_type": "stream",
          "name": "stderr",
          "text": [
            "\r 41%|████      | 41/100 [08:12<11:48, 12.01s/it]"
          ]
        },
        {
          "output_type": "stream",
          "name": "stdout",
          "text": [
            "Test Loss: 1.59947, Test acc: 57.66%\n",
            "Epoch: 41 ----\n",
            "Train Loss: 0.58506, Train acc: 78.83%\n"
          ]
        },
        {
          "output_type": "stream",
          "name": "stderr",
          "text": [
            "\r 42%|████▏     | 42/100 [08:24<11:38, 12.05s/it]"
          ]
        },
        {
          "output_type": "stream",
          "name": "stdout",
          "text": [
            "Test Loss: 1.56526, Test acc: 58.91%\n",
            "Epoch: 42 ----\n",
            "Train Loss: 0.57297, Train acc: 79.10%\n"
          ]
        },
        {
          "output_type": "stream",
          "name": "stderr",
          "text": [
            "\r 43%|████▎     | 43/100 [08:36<11:27, 12.06s/it]"
          ]
        },
        {
          "output_type": "stream",
          "name": "stdout",
          "text": [
            "Test Loss: 1.71260, Test acc: 55.45%\n",
            "Epoch: 43 ----\n",
            "Train Loss: 0.56484, Train acc: 79.53%\n"
          ]
        },
        {
          "output_type": "stream",
          "name": "stderr",
          "text": [
            "\r 44%|████▍     | 44/100 [08:48<11:13, 12.03s/it]"
          ]
        },
        {
          "output_type": "stream",
          "name": "stdout",
          "text": [
            "Test Loss: 1.60182, Test acc: 58.01%\n",
            "Epoch: 44 ----\n",
            "Train Loss: 0.54991, Train acc: 80.20%\n"
          ]
        },
        {
          "output_type": "stream",
          "name": "stderr",
          "text": [
            "\r 45%|████▌     | 45/100 [09:00<11:02, 12.05s/it]"
          ]
        },
        {
          "output_type": "stream",
          "name": "stdout",
          "text": [
            "Test Loss: 1.60930, Test acc: 58.09%\n",
            "Epoch: 45 ----\n",
            "Train Loss: 0.54351, Train acc: 80.20%\n"
          ]
        },
        {
          "output_type": "stream",
          "name": "stderr",
          "text": [
            "\r 46%|████▌     | 46/100 [09:12<10:48, 12.02s/it]"
          ]
        },
        {
          "output_type": "stream",
          "name": "stdout",
          "text": [
            "Test Loss: 1.75336, Test acc: 56.53%\n",
            "Epoch: 46 ----\n",
            "Train Loss: 0.54025, Train acc: 80.38%\n"
          ]
        },
        {
          "output_type": "stream",
          "name": "stderr",
          "text": [
            "\r 47%|████▋     | 47/100 [09:24<10:39, 12.06s/it]"
          ]
        },
        {
          "output_type": "stream",
          "name": "stdout",
          "text": [
            "Test Loss: 1.68318, Test acc: 57.91%\n",
            "Epoch: 47 ----\n",
            "Train Loss: 0.52752, Train acc: 80.82%\n"
          ]
        },
        {
          "output_type": "stream",
          "name": "stderr",
          "text": [
            "\r 48%|████▊     | 48/100 [09:36<10:25, 12.02s/it]"
          ]
        },
        {
          "output_type": "stream",
          "name": "stdout",
          "text": [
            "Test Loss: 1.73317, Test acc: 57.03%\n",
            "Epoch: 48 ----\n",
            "Train Loss: 0.52183, Train acc: 81.11%\n"
          ]
        },
        {
          "output_type": "stream",
          "name": "stderr",
          "text": [
            "\r 49%|████▉     | 49/100 [09:48<10:11, 12.00s/it]"
          ]
        },
        {
          "output_type": "stream",
          "name": "stdout",
          "text": [
            "Test Loss: 1.77313, Test acc: 57.28%\n",
            "Epoch: 49 ----\n",
            "Train Loss: 0.51039, Train acc: 81.40%\n"
          ]
        },
        {
          "output_type": "stream",
          "name": "stderr",
          "text": [
            "\r 50%|█████     | 50/100 [10:00<10:00, 12.01s/it]"
          ]
        },
        {
          "output_type": "stream",
          "name": "stdout",
          "text": [
            "Test Loss: 1.82593, Test acc: 57.24%\n",
            "Epoch: 50 ----\n",
            "Train Loss: 0.50593, Train acc: 81.67%\n"
          ]
        },
        {
          "output_type": "stream",
          "name": "stderr",
          "text": [
            "\r 51%|█████     | 51/100 [10:12<09:48, 12.01s/it]"
          ]
        },
        {
          "output_type": "stream",
          "name": "stdout",
          "text": [
            "Test Loss: 1.77290, Test acc: 56.56%\n",
            "Epoch: 51 ----\n",
            "Train Loss: 0.50138, Train acc: 81.64%\n"
          ]
        },
        {
          "output_type": "stream",
          "name": "stderr",
          "text": [
            "\r 52%|█████▏    | 52/100 [10:25<09:39, 12.07s/it]"
          ]
        },
        {
          "output_type": "stream",
          "name": "stdout",
          "text": [
            "Test Loss: 1.83902, Test acc: 56.83%\n",
            "Epoch: 52 ----\n",
            "Train Loss: 0.49168, Train acc: 81.91%\n"
          ]
        },
        {
          "output_type": "stream",
          "name": "stderr",
          "text": [
            "\r 53%|█████▎    | 53/100 [10:37<09:26, 12.06s/it]"
          ]
        },
        {
          "output_type": "stream",
          "name": "stdout",
          "text": [
            "Test Loss: 1.87906, Test acc: 56.54%\n",
            "Epoch: 53 ----\n",
            "Train Loss: 0.49007, Train acc: 82.36%\n"
          ]
        },
        {
          "output_type": "stream",
          "name": "stderr",
          "text": [
            "\r 54%|█████▍    | 54/100 [10:49<09:13, 12.03s/it]"
          ]
        },
        {
          "output_type": "stream",
          "name": "stdout",
          "text": [
            "Test Loss: 1.87830, Test acc: 57.19%\n",
            "Epoch: 54 ----\n",
            "Train Loss: 0.47694, Train acc: 82.73%\n"
          ]
        },
        {
          "output_type": "stream",
          "name": "stderr",
          "text": [
            "\r 55%|█████▌    | 55/100 [11:01<09:00, 12.01s/it]"
          ]
        },
        {
          "output_type": "stream",
          "name": "stdout",
          "text": [
            "Test Loss: 1.93239, Test acc: 56.54%\n",
            "Epoch: 55 ----\n",
            "Train Loss: 0.47770, Train acc: 82.70%\n"
          ]
        },
        {
          "output_type": "stream",
          "name": "stderr",
          "text": [
            "\r 56%|█████▌    | 56/100 [11:13<08:48, 12.01s/it]"
          ]
        },
        {
          "output_type": "stream",
          "name": "stdout",
          "text": [
            "Test Loss: 2.09090, Test acc: 55.77%\n",
            "Epoch: 56 ----\n",
            "Train Loss: 0.47767, Train acc: 82.85%\n"
          ]
        },
        {
          "output_type": "stream",
          "name": "stderr",
          "text": [
            "\r 57%|█████▋    | 57/100 [11:24<08:35, 11.99s/it]"
          ]
        },
        {
          "output_type": "stream",
          "name": "stdout",
          "text": [
            "Test Loss: 1.91532, Test acc: 56.19%\n",
            "Epoch: 57 ----\n",
            "Train Loss: 0.46000, Train acc: 83.21%\n"
          ]
        },
        {
          "output_type": "stream",
          "name": "stderr",
          "text": [
            "\r 58%|█████▊    | 58/100 [11:37<08:26, 12.05s/it]"
          ]
        },
        {
          "output_type": "stream",
          "name": "stdout",
          "text": [
            "Test Loss: 2.06157, Test acc: 55.01%\n",
            "Epoch: 58 ----\n",
            "Train Loss: 0.45498, Train acc: 83.43%\n"
          ]
        },
        {
          "output_type": "stream",
          "name": "stderr",
          "text": [
            "\r 59%|█████▉    | 59/100 [11:49<08:13, 12.03s/it]"
          ]
        },
        {
          "output_type": "stream",
          "name": "stdout",
          "text": [
            "Test Loss: 2.03782, Test acc: 56.65%\n",
            "Epoch: 59 ----\n",
            "Train Loss: 0.44510, Train acc: 83.88%\n"
          ]
        },
        {
          "output_type": "stream",
          "name": "stderr",
          "text": [
            "\r 60%|██████    | 60/100 [12:01<08:00, 12.01s/it]"
          ]
        },
        {
          "output_type": "stream",
          "name": "stdout",
          "text": [
            "Test Loss: 1.95453, Test acc: 57.10%\n",
            "Epoch: 60 ----\n",
            "Train Loss: 0.44656, Train acc: 83.91%\n"
          ]
        },
        {
          "output_type": "stream",
          "name": "stderr",
          "text": [
            "\r 61%|██████    | 61/100 [12:13<07:49, 12.04s/it]"
          ]
        },
        {
          "output_type": "stream",
          "name": "stdout",
          "text": [
            "Test Loss: 2.20648, Test acc: 53.90%\n",
            "Epoch: 61 ----\n",
            "Train Loss: 0.44403, Train acc: 83.82%\n"
          ]
        },
        {
          "output_type": "stream",
          "name": "stderr",
          "text": [
            "\r 62%|██████▏   | 62/100 [12:25<07:38, 12.07s/it]"
          ]
        },
        {
          "output_type": "stream",
          "name": "stdout",
          "text": [
            "Test Loss: 2.12449, Test acc: 55.59%\n",
            "Epoch: 62 ----\n",
            "Train Loss: 0.43740, Train acc: 83.90%\n"
          ]
        },
        {
          "output_type": "stream",
          "name": "stderr",
          "text": [
            "\r 63%|██████▎   | 63/100 [12:37<07:30, 12.17s/it]"
          ]
        },
        {
          "output_type": "stream",
          "name": "stdout",
          "text": [
            "Test Loss: 2.19839, Test acc: 55.80%\n",
            "Epoch: 63 ----\n",
            "Train Loss: 0.42779, Train acc: 84.32%\n"
          ]
        },
        {
          "output_type": "stream",
          "name": "stderr",
          "text": [
            "\r 64%|██████▍   | 64/100 [12:50<07:19, 12.20s/it]"
          ]
        },
        {
          "output_type": "stream",
          "name": "stdout",
          "text": [
            "Test Loss: 2.18584, Test acc: 56.63%\n",
            "Epoch: 64 ----\n",
            "Train Loss: 0.43469, Train acc: 84.34%\n"
          ]
        },
        {
          "output_type": "stream",
          "name": "stderr",
          "text": [
            "\r 65%|██████▌   | 65/100 [13:02<07:07, 12.23s/it]"
          ]
        },
        {
          "output_type": "stream",
          "name": "stdout",
          "text": [
            "Test Loss: 2.15417, Test acc: 56.27%\n",
            "Epoch: 65 ----\n",
            "Train Loss: 0.42800, Train acc: 84.35%\n"
          ]
        },
        {
          "output_type": "stream",
          "name": "stderr",
          "text": [
            "\r 66%|██████▌   | 66/100 [13:14<06:56, 12.26s/it]"
          ]
        },
        {
          "output_type": "stream",
          "name": "stdout",
          "text": [
            "Test Loss: 2.19086, Test acc: 56.11%\n",
            "Epoch: 66 ----\n",
            "Train Loss: 0.41503, Train acc: 84.91%\n"
          ]
        },
        {
          "output_type": "stream",
          "name": "stderr",
          "text": [
            "\r 67%|██████▋   | 67/100 [13:26<06:44, 12.26s/it]"
          ]
        },
        {
          "output_type": "stream",
          "name": "stdout",
          "text": [
            "Test Loss: 2.21983, Test acc: 56.11%\n",
            "Epoch: 67 ----\n",
            "Train Loss: 0.40536, Train acc: 85.38%\n"
          ]
        },
        {
          "output_type": "stream",
          "name": "stderr",
          "text": [
            "\r 68%|██████▊   | 68/100 [13:39<06:35, 12.35s/it]"
          ]
        },
        {
          "output_type": "stream",
          "name": "stdout",
          "text": [
            "Test Loss: 2.36316, Test acc: 55.39%\n",
            "Epoch: 68 ----\n",
            "Train Loss: 0.40910, Train acc: 85.21%\n"
          ]
        },
        {
          "output_type": "stream",
          "name": "stderr",
          "text": [
            "\r 69%|██████▉   | 69/100 [13:51<06:20, 12.28s/it]"
          ]
        },
        {
          "output_type": "stream",
          "name": "stdout",
          "text": [
            "Test Loss: 2.27622, Test acc: 55.57%\n",
            "Epoch: 69 ----\n",
            "Train Loss: 0.41163, Train acc: 85.25%\n"
          ]
        },
        {
          "output_type": "stream",
          "name": "stderr",
          "text": [
            "\r 70%|███████   | 70/100 [14:03<06:05, 12.19s/it]"
          ]
        },
        {
          "output_type": "stream",
          "name": "stdout",
          "text": [
            "Test Loss: 2.29499, Test acc: 56.64%\n",
            "Epoch: 70 ----\n",
            "Train Loss: 0.40923, Train acc: 85.15%\n"
          ]
        },
        {
          "output_type": "stream",
          "name": "stderr",
          "text": [
            "\r 71%|███████   | 71/100 [14:15<05:52, 12.16s/it]"
          ]
        },
        {
          "output_type": "stream",
          "name": "stdout",
          "text": [
            "Test Loss: 2.30147, Test acc: 56.44%\n",
            "Epoch: 71 ----\n",
            "Train Loss: 0.39592, Train acc: 85.58%\n"
          ]
        },
        {
          "output_type": "stream",
          "name": "stderr",
          "text": [
            "\r 72%|███████▏  | 72/100 [14:27<05:41, 12.18s/it]"
          ]
        },
        {
          "output_type": "stream",
          "name": "stdout",
          "text": [
            "Test Loss: 2.37345, Test acc: 55.40%\n",
            "Epoch: 72 ----\n",
            "Train Loss: 0.39316, Train acc: 85.77%\n"
          ]
        },
        {
          "output_type": "stream",
          "name": "stderr",
          "text": [
            "\r 73%|███████▎  | 73/100 [14:40<05:28, 12.16s/it]"
          ]
        },
        {
          "output_type": "stream",
          "name": "stdout",
          "text": [
            "Test Loss: 2.33996, Test acc: 56.11%\n",
            "Epoch: 73 ----\n",
            "Train Loss: 0.39270, Train acc: 85.83%\n"
          ]
        },
        {
          "output_type": "stream",
          "name": "stderr",
          "text": [
            "\r 74%|███████▍  | 74/100 [14:52<05:16, 12.16s/it]"
          ]
        },
        {
          "output_type": "stream",
          "name": "stdout",
          "text": [
            "Test Loss: 2.41957, Test acc: 55.88%\n",
            "Epoch: 74 ----\n",
            "Train Loss: 0.38795, Train acc: 86.00%\n"
          ]
        },
        {
          "output_type": "stream",
          "name": "stderr",
          "text": [
            "\r 75%|███████▌  | 75/100 [15:04<05:03, 12.13s/it]"
          ]
        },
        {
          "output_type": "stream",
          "name": "stdout",
          "text": [
            "Test Loss: 2.34869, Test acc: 56.36%\n",
            "Epoch: 75 ----\n",
            "Train Loss: 0.38024, Train acc: 86.10%\n"
          ]
        },
        {
          "output_type": "stream",
          "name": "stderr",
          "text": [
            "\r 76%|███████▌  | 76/100 [15:16<04:50, 12.08s/it]"
          ]
        },
        {
          "output_type": "stream",
          "name": "stdout",
          "text": [
            "Test Loss: 2.74752, Test acc: 50.94%\n",
            "Epoch: 76 ----\n",
            "Train Loss: 0.38804, Train acc: 86.08%\n"
          ]
        },
        {
          "output_type": "stream",
          "name": "stderr",
          "text": [
            "\r 77%|███████▋  | 77/100 [15:28<04:37, 12.06s/it]"
          ]
        },
        {
          "output_type": "stream",
          "name": "stdout",
          "text": [
            "Test Loss: 2.42909, Test acc: 56.02%\n",
            "Epoch: 77 ----\n",
            "Train Loss: 0.37943, Train acc: 86.23%\n"
          ]
        },
        {
          "output_type": "stream",
          "name": "stderr",
          "text": [
            "\r 78%|███████▊  | 78/100 [15:40<04:25, 12.09s/it]"
          ]
        },
        {
          "output_type": "stream",
          "name": "stdout",
          "text": [
            "Test Loss: 2.50636, Test acc: 54.48%\n",
            "Epoch: 78 ----\n",
            "Train Loss: 0.38286, Train acc: 86.19%\n"
          ]
        },
        {
          "output_type": "stream",
          "name": "stderr",
          "text": [
            "\r 79%|███████▉  | 79/100 [15:52<04:13, 12.07s/it]"
          ]
        },
        {
          "output_type": "stream",
          "name": "stdout",
          "text": [
            "Test Loss: 2.48074, Test acc: 55.35%\n",
            "Epoch: 79 ----\n",
            "Train Loss: 0.37761, Train acc: 86.46%\n"
          ]
        },
        {
          "output_type": "stream",
          "name": "stderr",
          "text": [
            "\r 80%|████████  | 80/100 [16:04<04:01, 12.07s/it]"
          ]
        },
        {
          "output_type": "stream",
          "name": "stdout",
          "text": [
            "Test Loss: 2.60478, Test acc: 53.74%\n",
            "Epoch: 80 ----\n",
            "Train Loss: 0.36506, Train acc: 86.76%\n"
          ]
        },
        {
          "output_type": "stream",
          "name": "stderr",
          "text": [
            "\r 81%|████████  | 81/100 [16:16<03:49, 12.06s/it]"
          ]
        },
        {
          "output_type": "stream",
          "name": "stdout",
          "text": [
            "Test Loss: 2.64504, Test acc: 54.85%\n",
            "Epoch: 81 ----\n",
            "Train Loss: 0.36297, Train acc: 86.80%\n"
          ]
        },
        {
          "output_type": "stream",
          "name": "stderr",
          "text": [
            "\r 82%|████████▏ | 82/100 [16:28<03:36, 12.02s/it]"
          ]
        },
        {
          "output_type": "stream",
          "name": "stdout",
          "text": [
            "Test Loss: 2.64582, Test acc: 55.12%\n",
            "Epoch: 82 ----\n",
            "Train Loss: 0.37633, Train acc: 86.48%\n"
          ]
        },
        {
          "output_type": "stream",
          "name": "stderr",
          "text": [
            "\r 83%|████████▎ | 83/100 [16:40<03:25, 12.10s/it]"
          ]
        },
        {
          "output_type": "stream",
          "name": "stdout",
          "text": [
            "Test Loss: 2.53085, Test acc: 55.90%\n",
            "Epoch: 83 ----\n",
            "Train Loss: 0.35643, Train acc: 87.35%\n"
          ]
        },
        {
          "output_type": "stream",
          "name": "stderr",
          "text": [
            "\r 84%|████████▍ | 84/100 [16:52<03:12, 12.06s/it]"
          ]
        },
        {
          "output_type": "stream",
          "name": "stdout",
          "text": [
            "Test Loss: 2.63625, Test acc: 55.93%\n",
            "Epoch: 84 ----\n",
            "Train Loss: 0.35761, Train acc: 87.06%\n"
          ]
        },
        {
          "output_type": "stream",
          "name": "stderr",
          "text": [
            "\r 85%|████████▌ | 85/100 [17:04<03:01, 12.07s/it]"
          ]
        },
        {
          "output_type": "stream",
          "name": "stdout",
          "text": [
            "Test Loss: 2.69188, Test acc: 55.16%\n",
            "Epoch: 85 ----\n",
            "Train Loss: 0.35572, Train acc: 87.28%\n"
          ]
        },
        {
          "output_type": "stream",
          "name": "stderr",
          "text": [
            "\r 86%|████████▌ | 86/100 [17:16<02:48, 12.02s/it]"
          ]
        },
        {
          "output_type": "stream",
          "name": "stdout",
          "text": [
            "Test Loss: 3.00401, Test acc: 53.28%\n",
            "Epoch: 86 ----\n",
            "Train Loss: 0.36696, Train acc: 86.78%\n"
          ]
        },
        {
          "output_type": "stream",
          "name": "stderr",
          "text": [
            "\r 87%|████████▋ | 87/100 [17:28<02:35, 11.98s/it]"
          ]
        },
        {
          "output_type": "stream",
          "name": "stdout",
          "text": [
            "Test Loss: 2.60833, Test acc: 55.26%\n",
            "Epoch: 87 ----\n",
            "Train Loss: 0.35634, Train acc: 87.19%\n"
          ]
        },
        {
          "output_type": "stream",
          "name": "stderr",
          "text": [
            "\r 88%|████████▊ | 88/100 [17:40<02:24, 12.02s/it]"
          ]
        },
        {
          "output_type": "stream",
          "name": "stdout",
          "text": [
            "Test Loss: 2.77829, Test acc: 54.46%\n",
            "Epoch: 88 ----\n",
            "Train Loss: 0.34414, Train acc: 87.58%\n"
          ]
        },
        {
          "output_type": "stream",
          "name": "stderr",
          "text": [
            "\r 89%|████████▉ | 89/100 [17:52<02:11, 11.98s/it]"
          ]
        },
        {
          "output_type": "stream",
          "name": "stdout",
          "text": [
            "Test Loss: 2.72731, Test acc: 55.18%\n",
            "Epoch: 89 ----\n",
            "Train Loss: 0.35088, Train acc: 87.33%\n"
          ]
        },
        {
          "output_type": "stream",
          "name": "stderr",
          "text": [
            "\r 90%|█████████ | 90/100 [18:04<01:59, 11.96s/it]"
          ]
        },
        {
          "output_type": "stream",
          "name": "stdout",
          "text": [
            "Test Loss: 2.72130, Test acc: 54.93%\n",
            "Epoch: 90 ----\n",
            "Train Loss: 0.35800, Train acc: 87.15%\n"
          ]
        },
        {
          "output_type": "stream",
          "name": "stderr",
          "text": [
            "\r 91%|█████████ | 91/100 [18:16<01:47, 11.97s/it]"
          ]
        },
        {
          "output_type": "stream",
          "name": "stdout",
          "text": [
            "Test Loss: 2.63730, Test acc: 55.46%\n",
            "Epoch: 91 ----\n",
            "Train Loss: 0.34725, Train acc: 87.61%\n"
          ]
        },
        {
          "output_type": "stream",
          "name": "stderr",
          "text": [
            "\r 92%|█████████▏| 92/100 [18:28<01:36, 12.03s/it]"
          ]
        },
        {
          "output_type": "stream",
          "name": "stdout",
          "text": [
            "Test Loss: 2.80300, Test acc: 55.15%\n",
            "Epoch: 92 ----\n",
            "Train Loss: 0.34235, Train acc: 87.66%\n"
          ]
        },
        {
          "output_type": "stream",
          "name": "stderr",
          "text": [
            "\r 93%|█████████▎| 93/100 [18:40<01:24, 12.06s/it]"
          ]
        },
        {
          "output_type": "stream",
          "name": "stdout",
          "text": [
            "Test Loss: 2.83839, Test acc: 54.87%\n",
            "Epoch: 93 ----\n",
            "Train Loss: 0.35660, Train acc: 87.19%\n"
          ]
        },
        {
          "output_type": "stream",
          "name": "stderr",
          "text": [
            "\r 94%|█████████▍| 94/100 [18:52<01:12, 12.05s/it]"
          ]
        },
        {
          "output_type": "stream",
          "name": "stdout",
          "text": [
            "Test Loss: 2.84283, Test acc: 55.18%\n",
            "Epoch: 94 ----\n",
            "Train Loss: 0.33994, Train acc: 87.88%\n"
          ]
        },
        {
          "output_type": "stream",
          "name": "stderr",
          "text": [
            "\r 95%|█████████▌| 95/100 [19:04<01:00, 12.00s/it]"
          ]
        },
        {
          "output_type": "stream",
          "name": "stdout",
          "text": [
            "Test Loss: 2.86392, Test acc: 55.23%\n",
            "Epoch: 95 ----\n",
            "Train Loss: 0.34533, Train acc: 87.66%\n"
          ]
        },
        {
          "output_type": "stream",
          "name": "stderr",
          "text": [
            "\r 96%|█████████▌| 96/100 [19:16<00:47, 12.00s/it]"
          ]
        },
        {
          "output_type": "stream",
          "name": "stdout",
          "text": [
            "Test Loss: 3.14111, Test acc: 53.71%\n",
            "Epoch: 96 ----\n",
            "Train Loss: 0.33832, Train acc: 88.05%\n"
          ]
        },
        {
          "output_type": "stream",
          "name": "stderr",
          "text": [
            "\r 97%|█████████▋| 97/100 [19:28<00:35, 12.00s/it]"
          ]
        },
        {
          "output_type": "stream",
          "name": "stdout",
          "text": [
            "Test Loss: 2.98332, Test acc: 54.87%\n",
            "Epoch: 97 ----\n",
            "Train Loss: 0.33737, Train acc: 87.91%\n"
          ]
        },
        {
          "output_type": "stream",
          "name": "stderr",
          "text": [
            "\r 98%|█████████▊| 98/100 [19:40<00:24, 12.03s/it]"
          ]
        },
        {
          "output_type": "stream",
          "name": "stdout",
          "text": [
            "Test Loss: 2.90898, Test acc: 55.07%\n",
            "Epoch: 98 ----\n",
            "Train Loss: 0.32626, Train acc: 88.47%\n"
          ]
        },
        {
          "output_type": "stream",
          "name": "stderr",
          "text": [
            "\r 99%|█████████▉| 99/100 [19:52<00:12, 12.05s/it]"
          ]
        },
        {
          "output_type": "stream",
          "name": "stdout",
          "text": [
            "Test Loss: 2.92968, Test acc: 54.23%\n",
            "Epoch: 99 ----\n",
            "Train Loss: 0.34472, Train acc: 87.87%\n"
          ]
        },
        {
          "output_type": "stream",
          "name": "stderr",
          "text": [
            "100%|██████████| 100/100 [20:04<00:00, 12.05s/it]"
          ]
        },
        {
          "output_type": "stream",
          "name": "stdout",
          "text": [
            "Test Loss: 2.93392, Test acc: 54.61%\n",
            "Train time on cuda : 1204.836 seconds\n"
          ]
        },
        {
          "output_type": "stream",
          "name": "stderr",
          "text": [
            "\n"
          ]
        }
      ],
      "source": [
        "torch.manual_seed(42)\n",
        "\n",
        "#Measure time\n",
        "train_time_start_on_gpu = timer()\n",
        "\n",
        "#Set epochs\n",
        "epochs=100\n",
        "\n",
        "#Create a optimization and evaluation loop using train_step() and test_step()\n",
        "for epoch in tqdm(range(epochs)):\n",
        "  print(f\"Epoch: {epoch} ----\")\n",
        "  train_step(model=model_LENET_2, data_loader=train_dataloader,loss_fn=loss_fn,optimizer=optimizer,accuracy_fn=accuracy_fn,device=device)\n",
        "  \n",
        "  test_step(model=model_LENET_2,data_loader=test_dataloader,loss_fn=loss_fn,optimizer=optimizer,accuracy_fn=accuracy_fn,device=device)\n",
        "  \n",
        "train_time_end_on_gpu = timer()\n",
        "total_train_time_model_1 = print_train_time(start=train_time_start_on_gpu,\n",
        "                                            end=train_time_end_on_gpu,\n",
        "                                            device=device)"
      ]
    },
    {
      "cell_type": "code",
      "execution_count": 126,
      "metadata": {
        "id": "cVolqvhMsK0b"
      },
      "outputs": [],
      "source": [
        "#Now we save the model\n",
        "from pathlib import Path\n",
        "#Create the model directory\n",
        "MODEL_PATH = Path(\"models\")\n",
        "MODEL_PATH.mkdir(parents=True, exist_ok=True)\n",
        "#Create the model save path\n",
        "MODEL_NAME = \"03_LENET_CIFAR10pth\"\n",
        "MODEL_SAVE_PATH = MODEL_PATH/MODEL_NAME"
      ]
    },
    {
      "cell_type": "code",
      "execution_count": 127,
      "metadata": {
        "id": "LvD8OuYU01ZU",
        "colab": {
          "base_uri": "https://localhost:8080/"
        },
        "outputId": "8479dcf3-9414-439f-9104-7126a6893e86"
      },
      "outputs": [
        {
          "output_type": "stream",
          "name": "stdout",
          "text": [
            "Saved at models/03_LENET_CIFAR10pth\n"
          ]
        }
      ],
      "source": [
        "#Saving the model\n",
        "torch.save(obj=model_LENET_2.state_dict(),\n",
        "           f=MODEL_SAVE_PATH)\n",
        "print(f'Saved at {MODEL_SAVE_PATH}')"
      ]
    },
    {
      "cell_type": "code",
      "execution_count": 128,
      "metadata": {
        "id": "Msv7Rs7r051A",
        "colab": {
          "base_uri": "https://localhost:8080/"
        },
        "outputId": "97f198f7-8410-49b2-9866-e3cb92102c74"
      },
      "outputs": [
        {
          "output_type": "execute_result",
          "data": {
            "text/plain": [
              "<All keys matched successfully>"
            ]
          },
          "metadata": {},
          "execution_count": 128
        }
      ],
      "source": [
        "#Loading the model\n",
        "#Create a new instance of the model and update the parameters\n",
        "model_LENET_CIFAR10 = LeNET(in_channels=3).to(device)\n",
        "model_LENET_CIFAR10.load_state_dict(torch.load(f=MODEL_SAVE_PATH))"
      ]
    },
    {
      "cell_type": "code",
      "execution_count": 129,
      "metadata": {
        "id": "fh-c99wt1BOc",
        "colab": {
          "base_uri": "https://localhost:8080/"
        },
        "outputId": "047eb58b-e32d-4d44-e61e-dd7497427cab"
      },
      "outputs": [
        {
          "output_type": "stream",
          "name": "stderr",
          "text": [
            "100%|██████████| 313/313 [00:01<00:00, 191.45it/s]\n"
          ]
        },
        {
          "output_type": "execute_result",
          "data": {
            "text/plain": [
              "{'model_name': 'LeNET',\n",
              " 'model_loss': 2.9339194297790527,\n",
              " 'model_acc': 54.61261980830671}"
            ]
          },
          "metadata": {},
          "execution_count": 129
        }
      ],
      "source": [
        "#Get model results\n",
        "model_LENET_CIFAR10_results = eval_model(\n",
        "    model=model_LENET_CIFAR10,\n",
        "    data_loader=test_dataloader,\n",
        "    loss_fn=loss_fn,\n",
        "    accuracy_fn=accuracy_fn,\n",
        "    device=device\n",
        ")\n",
        "model_LENET_CIFAR10_results"
      ]
    },
    {
      "cell_type": "markdown",
      "metadata": {
        "id": "Y9nuVlAc1Pt1"
      },
      "source": [
        "CIFAR100"
      ]
    },
    {
      "cell_type": "code",
      "execution_count": 130,
      "metadata": {
        "id": "BWcYzIs51MSj",
        "colab": {
          "base_uri": "https://localhost:8080/"
        },
        "outputId": "d28947a6-a976-4f89-d412-ee7fb15cfa5c"
      },
      "outputs": [
        {
          "output_type": "stream",
          "name": "stdout",
          "text": [
            "Files already downloaded and verified\n",
            "Files already downloaded and verified\n"
          ]
        }
      ],
      "source": [
        "train_data = datasets.CIFAR100(root=\"data\",\n",
        "                                   train=True,\n",
        "                                   download=True,\n",
        "                                   transform=transforms.Compose([transforms.Resize(size=(28,28)),transforms.ToTensor()]))\n",
        "\n",
        "test_data = datasets.CIFAR100(root=\"data\",\n",
        "                                   train=False,\n",
        "                                   download=True,\n",
        "                                   transform=transforms.Compose([transforms.Resize(size=(28,28)),transforms.ToTensor()]))"
      ]
    },
    {
      "cell_type": "code",
      "execution_count": 131,
      "metadata": {
        "id": "SpSkAh0R1VAV",
        "colab": {
          "base_uri": "https://localhost:8080/"
        },
        "outputId": "7c5132b7-12c8-4d4c-8bfb-9e52f9ac2f3f"
      },
      "outputs": [
        {
          "output_type": "execute_result",
          "data": {
            "text/plain": [
              "({'apple': 0,\n",
              "  'aquarium_fish': 1,\n",
              "  'baby': 2,\n",
              "  'bear': 3,\n",
              "  'beaver': 4,\n",
              "  'bed': 5,\n",
              "  'bee': 6,\n",
              "  'beetle': 7,\n",
              "  'bicycle': 8,\n",
              "  'bottle': 9,\n",
              "  'bowl': 10,\n",
              "  'boy': 11,\n",
              "  'bridge': 12,\n",
              "  'bus': 13,\n",
              "  'butterfly': 14,\n",
              "  'camel': 15,\n",
              "  'can': 16,\n",
              "  'castle': 17,\n",
              "  'caterpillar': 18,\n",
              "  'cattle': 19,\n",
              "  'chair': 20,\n",
              "  'chimpanzee': 21,\n",
              "  'clock': 22,\n",
              "  'cloud': 23,\n",
              "  'cockroach': 24,\n",
              "  'couch': 25,\n",
              "  'crab': 26,\n",
              "  'crocodile': 27,\n",
              "  'cup': 28,\n",
              "  'dinosaur': 29,\n",
              "  'dolphin': 30,\n",
              "  'elephant': 31,\n",
              "  'flatfish': 32,\n",
              "  'forest': 33,\n",
              "  'fox': 34,\n",
              "  'girl': 35,\n",
              "  'hamster': 36,\n",
              "  'house': 37,\n",
              "  'kangaroo': 38,\n",
              "  'keyboard': 39,\n",
              "  'lamp': 40,\n",
              "  'lawn_mower': 41,\n",
              "  'leopard': 42,\n",
              "  'lion': 43,\n",
              "  'lizard': 44,\n",
              "  'lobster': 45,\n",
              "  'man': 46,\n",
              "  'maple_tree': 47,\n",
              "  'motorcycle': 48,\n",
              "  'mountain': 49,\n",
              "  'mouse': 50,\n",
              "  'mushroom': 51,\n",
              "  'oak_tree': 52,\n",
              "  'orange': 53,\n",
              "  'orchid': 54,\n",
              "  'otter': 55,\n",
              "  'palm_tree': 56,\n",
              "  'pear': 57,\n",
              "  'pickup_truck': 58,\n",
              "  'pine_tree': 59,\n",
              "  'plain': 60,\n",
              "  'plate': 61,\n",
              "  'poppy': 62,\n",
              "  'porcupine': 63,\n",
              "  'possum': 64,\n",
              "  'rabbit': 65,\n",
              "  'raccoon': 66,\n",
              "  'ray': 67,\n",
              "  'road': 68,\n",
              "  'rocket': 69,\n",
              "  'rose': 70,\n",
              "  'sea': 71,\n",
              "  'seal': 72,\n",
              "  'shark': 73,\n",
              "  'shrew': 74,\n",
              "  'skunk': 75,\n",
              "  'skyscraper': 76,\n",
              "  'snail': 77,\n",
              "  'snake': 78,\n",
              "  'spider': 79,\n",
              "  'squirrel': 80,\n",
              "  'streetcar': 81,\n",
              "  'sunflower': 82,\n",
              "  'sweet_pepper': 83,\n",
              "  'table': 84,\n",
              "  'tank': 85,\n",
              "  'telephone': 86,\n",
              "  'television': 87,\n",
              "  'tiger': 88,\n",
              "  'tractor': 89,\n",
              "  'train': 90,\n",
              "  'trout': 91,\n",
              "  'tulip': 92,\n",
              "  'turtle': 93,\n",
              "  'wardrobe': 94,\n",
              "  'whale': 95,\n",
              "  'willow_tree': 96,\n",
              "  'wolf': 97,\n",
              "  'woman': 98,\n",
              "  'worm': 99},\n",
              " ['apple',\n",
              "  'aquarium_fish',\n",
              "  'baby',\n",
              "  'bear',\n",
              "  'beaver',\n",
              "  'bed',\n",
              "  'bee',\n",
              "  'beetle',\n",
              "  'bicycle',\n",
              "  'bottle',\n",
              "  'bowl',\n",
              "  'boy',\n",
              "  'bridge',\n",
              "  'bus',\n",
              "  'butterfly',\n",
              "  'camel',\n",
              "  'can',\n",
              "  'castle',\n",
              "  'caterpillar',\n",
              "  'cattle',\n",
              "  'chair',\n",
              "  'chimpanzee',\n",
              "  'clock',\n",
              "  'cloud',\n",
              "  'cockroach',\n",
              "  'couch',\n",
              "  'crab',\n",
              "  'crocodile',\n",
              "  'cup',\n",
              "  'dinosaur',\n",
              "  'dolphin',\n",
              "  'elephant',\n",
              "  'flatfish',\n",
              "  'forest',\n",
              "  'fox',\n",
              "  'girl',\n",
              "  'hamster',\n",
              "  'house',\n",
              "  'kangaroo',\n",
              "  'keyboard',\n",
              "  'lamp',\n",
              "  'lawn_mower',\n",
              "  'leopard',\n",
              "  'lion',\n",
              "  'lizard',\n",
              "  'lobster',\n",
              "  'man',\n",
              "  'maple_tree',\n",
              "  'motorcycle',\n",
              "  'mountain',\n",
              "  'mouse',\n",
              "  'mushroom',\n",
              "  'oak_tree',\n",
              "  'orange',\n",
              "  'orchid',\n",
              "  'otter',\n",
              "  'palm_tree',\n",
              "  'pear',\n",
              "  'pickup_truck',\n",
              "  'pine_tree',\n",
              "  'plain',\n",
              "  'plate',\n",
              "  'poppy',\n",
              "  'porcupine',\n",
              "  'possum',\n",
              "  'rabbit',\n",
              "  'raccoon',\n",
              "  'ray',\n",
              "  'road',\n",
              "  'rocket',\n",
              "  'rose',\n",
              "  'sea',\n",
              "  'seal',\n",
              "  'shark',\n",
              "  'shrew',\n",
              "  'skunk',\n",
              "  'skyscraper',\n",
              "  'snail',\n",
              "  'snake',\n",
              "  'spider',\n",
              "  'squirrel',\n",
              "  'streetcar',\n",
              "  'sunflower',\n",
              "  'sweet_pepper',\n",
              "  'table',\n",
              "  'tank',\n",
              "  'telephone',\n",
              "  'television',\n",
              "  'tiger',\n",
              "  'tractor',\n",
              "  'train',\n",
              "  'trout',\n",
              "  'tulip',\n",
              "  'turtle',\n",
              "  'wardrobe',\n",
              "  'whale',\n",
              "  'willow_tree',\n",
              "  'wolf',\n",
              "  'woman',\n",
              "  'worm'])"
            ]
          },
          "metadata": {},
          "execution_count": 131
        }
      ],
      "source": [
        "class_names = train_data.classes\n",
        "class_to_idx = train_data.class_to_idx\n",
        "class_to_idx, class_names"
      ]
    },
    {
      "cell_type": "code",
      "execution_count": 132,
      "metadata": {
        "id": "MvtDJ75H1Y-k",
        "colab": {
          "base_uri": "https://localhost:8080/",
          "height": 536
        },
        "outputId": "6e3bb06a-510e-4e65-ba08-2b6941ab77d0"
      },
      "outputs": [
        {
          "output_type": "display_data",
          "data": {
            "text/plain": [
              "<Figure size 648x648 with 16 Axes>"
            ],
            "image/png": "[encoded data removed]"
          },
          "metadata": {
            "needs_background": "light"
          }
        }
      ],
      "source": [
        "#Plot more images\n",
        "torch.manual_seed(42)\n",
        "fig = plt.figure(figsize=(9,9))\n",
        "rows, cols = 4, 4\n",
        "for i in range(1, rows*cols+1):\n",
        "  random_idx = torch.randint(0, len(train_data), size=[1]).item()\n",
        "  img, label = train_data[random_idx]\n",
        "  fig.add_subplot(rows, cols, i)\n",
        "  plt.imshow(img.permute(1, 2, 0))#(c,h,w) moves channel to the back in accordance to the matplotlib format\n",
        "  plt.title(class_names[label])\n",
        "  plt.axis(False)"
      ]
    },
    {
      "cell_type": "code",
      "execution_count": 140,
      "metadata": {
        "id": "iiDH6oGr1fmD"
      },
      "outputs": [],
      "source": [
        "#Prepare Dataloader that prepares our data into python iterable\n",
        "#We turn our data into mini batches since it is more computationally efficient\n",
        "from torch.utils.data import DataLoader\n",
        "\n",
        "#Setup the batch size hyperparameter\n",
        "BATCH_SIZE = 32\n",
        "device = \"cuda\" if torch.cuda.is_available() else \"cpu\"\n",
        "\n",
        "#Turn datasets into iterables(batches)\n",
        "train_dataloader = DataLoader(train_data, batch_size=BATCH_SIZE, shuffle=True)\n",
        "test_dataloader = DataLoader(test_data, batch_size=BATCH_SIZE, shuffle=False)"
      ]
    },
    {
      "cell_type": "code",
      "execution_count": 141,
      "metadata": {
        "id": "JDp41uNh1iV6",
        "colab": {
          "base_uri": "https://localhost:8080/",
          "height": 36
        },
        "outputId": "3ddbc190-a75f-4899-bf63-58385be27a9c"
      },
      "outputs": [
        {
          "output_type": "execute_result",
          "data": {
            "text/plain": [
              "'cuda'"
            ],
            "application/vnd.google.colaboratory.intrinsic+json": {
              "type": "string"
            }
          },
          "metadata": {},
          "execution_count": 141
        }
      ],
      "source": [
        "model_LENET_3 = LeNET(in_channels=3, num_classes=100).to(device)\n",
        "device"
      ]
    },
    {
      "cell_type": "code",
      "execution_count": 142,
      "metadata": {
        "id": "6WvLucTm1j5l"
      },
      "outputs": [],
      "source": [
        "loss_fn = nn.CrossEntropyLoss()\n",
        "optimizer = torch.optim.SGD(model_LENET_3.parameters(), lr=0.03)\n",
        "\n",
        "def accuracy_fn(y_true, y_pred):\n",
        "    correct = torch.eq(y_true, y_pred).sum().item()\n",
        "    acc = (correct / len(y_pred)) * 100\n",
        "    return acc"
      ]
    },
    {
      "cell_type": "code",
      "execution_count": 143,
      "metadata": {
        "id": "A0vS1W741mKp",
        "colab": {
          "base_uri": "https://localhost:8080/"
        },
        "outputId": "3acc1a6c-b97c-4b3a-c318-15216e9400bc"
      },
      "outputs": [
        {
          "output_type": "stream",
          "name": "stderr",
          "text": [
            "\r  0%|          | 0/100 [00:00<?, ?it/s]"
          ]
        },
        {
          "output_type": "stream",
          "name": "stdout",
          "text": [
            "Epoch: 0 ----\n",
            "Train Loss: 4.57523, Train acc: 1.62%\n"
          ]
        },
        {
          "output_type": "stream",
          "name": "stderr",
          "text": [
            "\r  1%|          | 1/100 [00:12<20:09, 12.21s/it]"
          ]
        },
        {
          "output_type": "stream",
          "name": "stdout",
          "text": [
            "Test Loss: 4.42234, Test acc: 3.15%\n",
            "Epoch: 1 ----\n",
            "Train Loss: 4.11509, Train acc: 7.11%\n"
          ]
        },
        {
          "output_type": "stream",
          "name": "stderr",
          "text": [
            "\r  2%|▏         | 2/100 [00:24<19:38, 12.03s/it]"
          ]
        },
        {
          "output_type": "stream",
          "name": "stdout",
          "text": [
            "Test Loss: 3.98033, Test acc: 9.38%\n",
            "Epoch: 2 ----\n",
            "Train Loss: 3.76158, Train acc: 12.50%\n"
          ]
        },
        {
          "output_type": "stream",
          "name": "stderr",
          "text": [
            "\r  3%|▎         | 3/100 [00:36<19:23, 11.99s/it]"
          ]
        },
        {
          "output_type": "stream",
          "name": "stdout",
          "text": [
            "Test Loss: 3.69438, Test acc: 13.66%\n",
            "Epoch: 3 ----\n",
            "Train Loss: 3.56812, Train acc: 15.63%\n"
          ]
        },
        {
          "output_type": "stream",
          "name": "stderr",
          "text": [
            "\r  4%|▍         | 4/100 [00:47<19:07, 11.95s/it]"
          ]
        },
        {
          "output_type": "stream",
          "name": "stdout",
          "text": [
            "Test Loss: 3.58873, Test acc: 15.82%\n",
            "Epoch: 4 ----\n",
            "Train Loss: 3.42885, Train acc: 18.17%\n"
          ]
        },
        {
          "output_type": "stream",
          "name": "stderr",
          "text": [
            "\r  5%|▌         | 5/100 [00:59<18:52, 11.92s/it]"
          ]
        },
        {
          "output_type": "stream",
          "name": "stdout",
          "text": [
            "Test Loss: 3.45282, Test acc: 18.12%\n",
            "Epoch: 5 ----\n",
            "Train Loss: 3.31885, Train acc: 20.27%\n"
          ]
        },
        {
          "output_type": "stream",
          "name": "stderr",
          "text": [
            "\r  6%|▌         | 6/100 [01:11<18:48, 12.00s/it]"
          ]
        },
        {
          "output_type": "stream",
          "name": "stdout",
          "text": [
            "Test Loss: 3.44671, Test acc: 18.59%\n",
            "Epoch: 6 ----\n",
            "Train Loss: 3.22744, Train acc: 21.80%\n"
          ]
        },
        {
          "output_type": "stream",
          "name": "stderr",
          "text": [
            "\r  7%|▋         | 7/100 [01:23<18:33, 11.98s/it]"
          ]
        },
        {
          "output_type": "stream",
          "name": "stdout",
          "text": [
            "Test Loss: 3.27376, Test acc: 21.37%\n",
            "Epoch: 7 ----\n",
            "Train Loss: 3.15165, Train acc: 23.23%\n"
          ]
        },
        {
          "output_type": "stream",
          "name": "stderr",
          "text": [
            "\r  8%|▊         | 8/100 [01:35<18:22, 11.99s/it]"
          ]
        },
        {
          "output_type": "stream",
          "name": "stdout",
          "text": [
            "Test Loss: 3.48033, Test acc: 19.29%\n",
            "Epoch: 8 ----\n",
            "Train Loss: 3.08647, Train acc: 24.73%\n"
          ]
        },
        {
          "output_type": "stream",
          "name": "stderr",
          "text": [
            "\r  9%|▉         | 9/100 [01:47<18:08, 11.96s/it]"
          ]
        },
        {
          "output_type": "stream",
          "name": "stdout",
          "text": [
            "Test Loss: 3.32948, Test acc: 20.99%\n",
            "Epoch: 9 ----\n",
            "Train Loss: 3.02841, Train acc: 25.72%\n"
          ]
        },
        {
          "output_type": "stream",
          "name": "stderr",
          "text": [
            "\r 10%|█         | 10/100 [01:59<17:55, 11.95s/it]"
          ]
        },
        {
          "output_type": "stream",
          "name": "stdout",
          "text": [
            "Test Loss: 3.23406, Test acc: 22.64%\n",
            "Epoch: 10 ----\n",
            "Train Loss: 2.97181, Train acc: 26.73%\n"
          ]
        },
        {
          "output_type": "stream",
          "name": "stderr",
          "text": [
            "\r 11%|█         | 11/100 [02:11<17:46, 11.98s/it]"
          ]
        },
        {
          "output_type": "stream",
          "name": "stdout",
          "text": [
            "Test Loss: 3.17661, Test acc: 23.60%\n",
            "Epoch: 11 ----\n",
            "Train Loss: 2.91477, Train acc: 27.69%\n"
          ]
        },
        {
          "output_type": "stream",
          "name": "stderr",
          "text": [
            "\r 12%|█▏        | 12/100 [02:23<17:31, 11.95s/it]"
          ]
        },
        {
          "output_type": "stream",
          "name": "stdout",
          "text": [
            "Test Loss: 3.14926, Test acc: 24.08%\n",
            "Epoch: 12 ----\n",
            "Train Loss: 2.86725, Train acc: 28.66%\n"
          ]
        },
        {
          "output_type": "stream",
          "name": "stderr",
          "text": [
            "\r 13%|█▎        | 13/100 [02:35<17:19, 11.95s/it]"
          ]
        },
        {
          "output_type": "stream",
          "name": "stdout",
          "text": [
            "Test Loss: 3.07475, Test acc: 25.38%\n",
            "Epoch: 13 ----\n",
            "Train Loss: 2.81971, Train acc: 29.33%\n"
          ]
        },
        {
          "output_type": "stream",
          "name": "stderr",
          "text": [
            "\r 14%|█▍        | 14/100 [02:47<17:07, 11.95s/it]"
          ]
        },
        {
          "output_type": "stream",
          "name": "stdout",
          "text": [
            "Test Loss: 3.22661, Test acc: 23.76%\n",
            "Epoch: 14 ----\n",
            "Train Loss: 2.77491, Train acc: 30.45%\n"
          ]
        },
        {
          "output_type": "stream",
          "name": "stderr",
          "text": [
            "\r 15%|█▌        | 15/100 [02:59<16:57, 11.97s/it]"
          ]
        },
        {
          "output_type": "stream",
          "name": "stdout",
          "text": [
            "Test Loss: 3.12383, Test acc: 25.47%\n",
            "Epoch: 15 ----\n",
            "Train Loss: 2.73552, Train acc: 31.31%\n"
          ]
        },
        {
          "output_type": "stream",
          "name": "stderr",
          "text": [
            "\r 16%|█▌        | 16/100 [03:11<16:47, 11.99s/it]"
          ]
        },
        {
          "output_type": "stream",
          "name": "stdout",
          "text": [
            "Test Loss: 3.08819, Test acc: 26.34%\n",
            "Epoch: 16 ----\n",
            "Train Loss: 2.69433, Train acc: 32.06%\n"
          ]
        },
        {
          "output_type": "stream",
          "name": "stderr",
          "text": [
            "\r 17%|█▋        | 17/100 [03:23<16:32, 11.96s/it]"
          ]
        },
        {
          "output_type": "stream",
          "name": "stdout",
          "text": [
            "Test Loss: 3.13501, Test acc: 26.08%\n",
            "Epoch: 17 ----\n",
            "Train Loss: 2.65821, Train acc: 32.87%\n"
          ]
        },
        {
          "output_type": "stream",
          "name": "stderr",
          "text": [
            "\r 18%|█▊        | 18/100 [03:35<16:18, 11.93s/it]"
          ]
        },
        {
          "output_type": "stream",
          "name": "stdout",
          "text": [
            "Test Loss: 3.01205, Test acc: 27.15%\n",
            "Epoch: 18 ----\n",
            "Train Loss: 2.62167, Train acc: 33.34%\n"
          ]
        },
        {
          "output_type": "stream",
          "name": "stderr",
          "text": [
            "\r 19%|█▉        | 19/100 [03:47<16:06, 11.93s/it]"
          ]
        },
        {
          "output_type": "stream",
          "name": "stdout",
          "text": [
            "Test Loss: 3.05033, Test acc: 27.13%\n",
            "Epoch: 19 ----\n",
            "Train Loss: 2.58915, Train acc: 34.10%\n"
          ]
        },
        {
          "output_type": "stream",
          "name": "stderr",
          "text": [
            "\r 20%|██        | 20/100 [03:59<15:53, 11.92s/it]"
          ]
        },
        {
          "output_type": "stream",
          "name": "stdout",
          "text": [
            "Test Loss: 3.14387, Test acc: 26.55%\n",
            "Epoch: 20 ----\n",
            "Train Loss: 2.55605, Train acc: 34.80%\n"
          ]
        },
        {
          "output_type": "stream",
          "name": "stderr",
          "text": [
            "\r 21%|██        | 21/100 [04:11<15:47, 11.99s/it]"
          ]
        },
        {
          "output_type": "stream",
          "name": "stdout",
          "text": [
            "Test Loss: 3.04661, Test acc: 27.94%\n",
            "Epoch: 21 ----\n",
            "Train Loss: 2.52515, Train acc: 35.49%\n"
          ]
        },
        {
          "output_type": "stream",
          "name": "stderr",
          "text": [
            "\r 22%|██▏       | 22/100 [04:23<15:33, 11.97s/it]"
          ]
        },
        {
          "output_type": "stream",
          "name": "stdout",
          "text": [
            "Test Loss: 3.16786, Test acc: 26.74%\n",
            "Epoch: 22 ----\n",
            "Train Loss: 2.50032, Train acc: 35.88%\n"
          ]
        },
        {
          "output_type": "stream",
          "name": "stderr",
          "text": [
            "\r 23%|██▎       | 23/100 [04:35<15:19, 11.95s/it]"
          ]
        },
        {
          "output_type": "stream",
          "name": "stdout",
          "text": [
            "Test Loss: 3.06532, Test acc: 27.45%\n",
            "Epoch: 23 ----\n",
            "Train Loss: 2.47438, Train acc: 36.43%\n"
          ]
        },
        {
          "output_type": "stream",
          "name": "stderr",
          "text": [
            "\r 24%|██▍       | 24/100 [04:47<15:07, 11.94s/it]"
          ]
        },
        {
          "output_type": "stream",
          "name": "stdout",
          "text": [
            "Test Loss: 3.08338, Test acc: 27.72%\n",
            "Epoch: 24 ----\n",
            "Train Loss: 2.44586, Train acc: 36.90%\n"
          ]
        },
        {
          "output_type": "stream",
          "name": "stderr",
          "text": [
            "\r 25%|██▌       | 25/100 [04:59<14:55, 11.93s/it]"
          ]
        },
        {
          "output_type": "stream",
          "name": "stdout",
          "text": [
            "Test Loss: 3.10715, Test acc: 26.70%\n",
            "Epoch: 25 ----\n",
            "Train Loss: 2.42080, Train acc: 37.45%\n"
          ]
        },
        {
          "output_type": "stream",
          "name": "stderr",
          "text": [
            "\r 26%|██▌       | 26/100 [05:11<14:51, 12.05s/it]"
          ]
        },
        {
          "output_type": "stream",
          "name": "stdout",
          "text": [
            "Test Loss: 3.08920, Test acc: 27.11%\n",
            "Epoch: 26 ----\n",
            "Train Loss: 2.39781, Train acc: 38.00%\n"
          ]
        },
        {
          "output_type": "stream",
          "name": "stderr",
          "text": [
            "\r 27%|██▋       | 27/100 [05:23<14:37, 12.02s/it]"
          ]
        },
        {
          "output_type": "stream",
          "name": "stdout",
          "text": [
            "Test Loss: 3.14286, Test acc: 27.17%\n",
            "Epoch: 27 ----\n",
            "Train Loss: 2.37359, Train acc: 38.40%\n"
          ]
        },
        {
          "output_type": "stream",
          "name": "stderr",
          "text": [
            "\r 28%|██▊       | 28/100 [05:35<14:25, 12.02s/it]"
          ]
        },
        {
          "output_type": "stream",
          "name": "stdout",
          "text": [
            "Test Loss: 3.29747, Test acc: 24.33%\n",
            "Epoch: 28 ----\n",
            "Train Loss: 2.34904, Train acc: 38.95%\n"
          ]
        },
        {
          "output_type": "stream",
          "name": "stderr",
          "text": [
            "\r 29%|██▉       | 29/100 [05:47<14:11, 12.00s/it]"
          ]
        },
        {
          "output_type": "stream",
          "name": "stdout",
          "text": [
            "Test Loss: 3.11808, Test acc: 28.02%\n",
            "Epoch: 29 ----\n",
            "Train Loss: 2.32835, Train acc: 39.45%\n"
          ]
        },
        {
          "output_type": "stream",
          "name": "stderr",
          "text": [
            "\r 30%|███       | 30/100 [05:59<13:57, 11.97s/it]"
          ]
        },
        {
          "output_type": "stream",
          "name": "stdout",
          "text": [
            "Test Loss: 3.24163, Test acc: 26.71%\n",
            "Epoch: 30 ----\n",
            "Train Loss: 2.30517, Train acc: 39.98%\n"
          ]
        },
        {
          "output_type": "stream",
          "name": "stderr",
          "text": [
            "\r 31%|███       | 31/100 [06:11<13:46, 11.98s/it]"
          ]
        },
        {
          "output_type": "stream",
          "name": "stdout",
          "text": [
            "Test Loss: 3.19766, Test acc: 27.40%\n",
            "Epoch: 31 ----\n",
            "Train Loss: 2.28637, Train acc: 40.10%\n"
          ]
        },
        {
          "output_type": "stream",
          "name": "stderr",
          "text": [
            "\r 32%|███▏      | 32/100 [06:23<13:34, 11.98s/it]"
          ]
        },
        {
          "output_type": "stream",
          "name": "stdout",
          "text": [
            "Test Loss: 3.29710, Test acc: 26.65%\n",
            "Epoch: 32 ----\n",
            "Train Loss: 2.27090, Train acc: 40.28%\n"
          ]
        },
        {
          "output_type": "stream",
          "name": "stderr",
          "text": [
            "\r 33%|███▎      | 33/100 [06:35<13:21, 11.96s/it]"
          ]
        },
        {
          "output_type": "stream",
          "name": "stdout",
          "text": [
            "Test Loss: 3.20271, Test acc: 27.23%\n",
            "Epoch: 33 ----\n",
            "Train Loss: 2.25356, Train acc: 40.79%\n"
          ]
        },
        {
          "output_type": "stream",
          "name": "stderr",
          "text": [
            "\r 34%|███▍      | 34/100 [06:47<13:09, 11.97s/it]"
          ]
        },
        {
          "output_type": "stream",
          "name": "stdout",
          "text": [
            "Test Loss: 3.26808, Test acc: 27.49%\n",
            "Epoch: 34 ----\n",
            "Train Loss: 2.23254, Train acc: 41.25%\n"
          ]
        },
        {
          "output_type": "stream",
          "name": "stderr",
          "text": [
            "\r 35%|███▌      | 35/100 [06:58<12:58, 11.97s/it]"
          ]
        },
        {
          "output_type": "stream",
          "name": "stdout",
          "text": [
            "Test Loss: 3.32668, Test acc: 26.89%\n",
            "Epoch: 35 ----\n",
            "Train Loss: 2.21236, Train acc: 41.58%\n"
          ]
        },
        {
          "output_type": "stream",
          "name": "stderr",
          "text": [
            "\r 36%|███▌      | 36/100 [07:10<12:45, 11.96s/it]"
          ]
        },
        {
          "output_type": "stream",
          "name": "stdout",
          "text": [
            "Test Loss: 3.16248, Test acc: 27.03%\n",
            "Epoch: 36 ----\n",
            "Train Loss: 2.20149, Train acc: 41.89%\n"
          ]
        },
        {
          "output_type": "stream",
          "name": "stderr",
          "text": [
            "\r 37%|███▋      | 37/100 [07:22<12:34, 11.98s/it]"
          ]
        },
        {
          "output_type": "stream",
          "name": "stdout",
          "text": [
            "Test Loss: 3.24417, Test acc: 27.25%\n",
            "Epoch: 37 ----\n",
            "Train Loss: 2.18657, Train acc: 42.08%\n"
          ]
        },
        {
          "output_type": "stream",
          "name": "stderr",
          "text": [
            "\r 38%|███▊      | 38/100 [07:34<12:21, 11.95s/it]"
          ]
        },
        {
          "output_type": "stream",
          "name": "stdout",
          "text": [
            "Test Loss: 3.39825, Test acc: 26.98%\n",
            "Epoch: 38 ----\n",
            "Train Loss: 2.16862, Train acc: 42.44%\n"
          ]
        },
        {
          "output_type": "stream",
          "name": "stderr",
          "text": [
            "\r 39%|███▉      | 39/100 [07:46<12:09, 11.95s/it]"
          ]
        },
        {
          "output_type": "stream",
          "name": "stdout",
          "text": [
            "Test Loss: 3.29250, Test acc: 26.56%\n",
            "Epoch: 39 ----\n",
            "Train Loss: 2.15236, Train acc: 42.96%\n"
          ]
        },
        {
          "output_type": "stream",
          "name": "stderr",
          "text": [
            "\r 40%|████      | 40/100 [07:58<11:55, 11.92s/it]"
          ]
        },
        {
          "output_type": "stream",
          "name": "stdout",
          "text": [
            "Test Loss: 3.37850, Test acc: 26.77%\n",
            "Epoch: 40 ----\n",
            "Train Loss: 2.14242, Train acc: 43.14%\n"
          ]
        },
        {
          "output_type": "stream",
          "name": "stderr",
          "text": [
            "\r 41%|████      | 41/100 [08:10<11:44, 11.95s/it]"
          ]
        },
        {
          "output_type": "stream",
          "name": "stdout",
          "text": [
            "Test Loss: 3.36808, Test acc: 27.08%\n",
            "Epoch: 41 ----\n",
            "Train Loss: 2.12789, Train acc: 43.47%\n"
          ]
        },
        {
          "output_type": "stream",
          "name": "stderr",
          "text": [
            "\r 42%|████▏     | 42/100 [08:22<11:34, 11.97s/it]"
          ]
        },
        {
          "output_type": "stream",
          "name": "stdout",
          "text": [
            "Test Loss: 3.26912, Test acc: 26.91%\n",
            "Epoch: 42 ----\n",
            "Train Loss: 2.11589, Train acc: 43.87%\n"
          ]
        },
        {
          "output_type": "stream",
          "name": "stderr",
          "text": [
            "\r 43%|████▎     | 43/100 [08:34<11:21, 11.95s/it]"
          ]
        },
        {
          "output_type": "stream",
          "name": "stdout",
          "text": [
            "Test Loss: 3.35554, Test acc: 26.22%\n",
            "Epoch: 43 ----\n",
            "Train Loss: 2.10144, Train acc: 44.07%\n"
          ]
        },
        {
          "output_type": "stream",
          "name": "stderr",
          "text": [
            "\r 44%|████▍     | 44/100 [08:46<11:08, 11.94s/it]"
          ]
        },
        {
          "output_type": "stream",
          "name": "stdout",
          "text": [
            "Test Loss: 3.44197, Test acc: 26.34%\n",
            "Epoch: 44 ----\n",
            "Train Loss: 2.09059, Train acc: 44.19%\n"
          ]
        },
        {
          "output_type": "stream",
          "name": "stderr",
          "text": [
            "\r 45%|████▌     | 45/100 [08:58<10:55, 11.93s/it]"
          ]
        },
        {
          "output_type": "stream",
          "name": "stdout",
          "text": [
            "Test Loss: 3.56585, Test acc: 25.27%\n",
            "Epoch: 45 ----\n",
            "Train Loss: 2.07876, Train acc: 44.64%\n"
          ]
        },
        {
          "output_type": "stream",
          "name": "stderr",
          "text": [
            "\r 46%|████▌     | 46/100 [09:10<10:45, 11.96s/it]"
          ]
        },
        {
          "output_type": "stream",
          "name": "stdout",
          "text": [
            "Test Loss: 3.37475, Test acc: 25.16%\n",
            "Epoch: 46 ----\n",
            "Train Loss: 2.06778, Train acc: 44.51%\n"
          ]
        },
        {
          "output_type": "stream",
          "name": "stderr",
          "text": [
            "\r 47%|████▋     | 47/100 [09:22<10:33, 11.96s/it]"
          ]
        },
        {
          "output_type": "stream",
          "name": "stdout",
          "text": [
            "Test Loss: 3.42602, Test acc: 26.62%\n",
            "Epoch: 47 ----\n",
            "Train Loss: 2.05599, Train acc: 44.95%\n"
          ]
        },
        {
          "output_type": "stream",
          "name": "stderr",
          "text": [
            "\r 48%|████▊     | 48/100 [09:34<10:22, 11.97s/it]"
          ]
        },
        {
          "output_type": "stream",
          "name": "stdout",
          "text": [
            "Test Loss: 3.46549, Test acc: 25.58%\n",
            "Epoch: 48 ----\n",
            "Train Loss: 2.04435, Train acc: 45.32%\n"
          ]
        },
        {
          "output_type": "stream",
          "name": "stderr",
          "text": [
            "\r 49%|████▉     | 49/100 [09:46<10:09, 11.95s/it]"
          ]
        },
        {
          "output_type": "stream",
          "name": "stdout",
          "text": [
            "Test Loss: 3.40134, Test acc: 26.26%\n",
            "Epoch: 49 ----\n",
            "Train Loss: 2.03576, Train acc: 45.31%\n"
          ]
        },
        {
          "output_type": "stream",
          "name": "stderr",
          "text": [
            "\r 50%|█████     | 50/100 [09:58<09:59, 12.00s/it]"
          ]
        },
        {
          "output_type": "stream",
          "name": "stdout",
          "text": [
            "Test Loss: 3.41775, Test acc: 26.74%\n",
            "Epoch: 50 ----\n",
            "Train Loss: 2.02479, Train acc: 45.42%\n"
          ]
        },
        {
          "output_type": "stream",
          "name": "stderr",
          "text": [
            "\r 51%|█████     | 51/100 [10:10<09:47, 11.98s/it]"
          ]
        },
        {
          "output_type": "stream",
          "name": "stdout",
          "text": [
            "Test Loss: 3.50747, Test acc: 26.19%\n",
            "Epoch: 51 ----\n",
            "Train Loss: 2.01640, Train acc: 45.77%\n"
          ]
        },
        {
          "output_type": "stream",
          "name": "stderr",
          "text": [
            "\r 52%|█████▏    | 52/100 [10:22<09:35, 12.00s/it]"
          ]
        },
        {
          "output_type": "stream",
          "name": "stdout",
          "text": [
            "Test Loss: 3.45233, Test acc: 26.69%\n",
            "Epoch: 52 ----\n",
            "Train Loss: 2.00421, Train acc: 46.18%\n"
          ]
        },
        {
          "output_type": "stream",
          "name": "stderr",
          "text": [
            "\r 53%|█████▎    | 53/100 [10:34<09:22, 11.98s/it]"
          ]
        },
        {
          "output_type": "stream",
          "name": "stdout",
          "text": [
            "Test Loss: 3.43412, Test acc: 25.48%\n",
            "Epoch: 53 ----\n",
            "Train Loss: 1.99715, Train acc: 46.18%\n"
          ]
        },
        {
          "output_type": "stream",
          "name": "stderr",
          "text": [
            "\r 54%|█████▍    | 54/100 [10:46<09:10, 11.96s/it]"
          ]
        },
        {
          "output_type": "stream",
          "name": "stdout",
          "text": [
            "Test Loss: 3.50765, Test acc: 24.96%\n",
            "Epoch: 54 ----\n",
            "Train Loss: 1.98526, Train acc: 46.12%\n"
          ]
        },
        {
          "output_type": "stream",
          "name": "stderr",
          "text": [
            "\r 55%|█████▌    | 55/100 [10:58<08:58, 11.97s/it]"
          ]
        },
        {
          "output_type": "stream",
          "name": "stdout",
          "text": [
            "Test Loss: 3.48926, Test acc: 26.18%\n",
            "Epoch: 55 ----\n",
            "Train Loss: 1.97643, Train acc: 46.67%\n"
          ]
        },
        {
          "output_type": "stream",
          "name": "stderr",
          "text": [
            "\r 56%|█████▌    | 56/100 [11:10<08:46, 11.98s/it]"
          ]
        },
        {
          "output_type": "stream",
          "name": "stdout",
          "text": [
            "Test Loss: 3.47563, Test acc: 26.44%\n",
            "Epoch: 56 ----\n",
            "Train Loss: 1.97121, Train acc: 46.64%\n"
          ]
        },
        {
          "output_type": "stream",
          "name": "stderr",
          "text": [
            "\r 57%|█████▋    | 57/100 [11:22<08:34, 11.96s/it]"
          ]
        },
        {
          "output_type": "stream",
          "name": "stdout",
          "text": [
            "Test Loss: 3.55388, Test acc: 25.94%\n",
            "Epoch: 57 ----\n",
            "Train Loss: 1.96503, Train acc: 46.88%\n"
          ]
        },
        {
          "output_type": "stream",
          "name": "stderr",
          "text": [
            "\r 58%|█████▊    | 58/100 [11:34<08:21, 11.94s/it]"
          ]
        },
        {
          "output_type": "stream",
          "name": "stdout",
          "text": [
            "Test Loss: 3.65123, Test acc: 25.73%\n",
            "Epoch: 58 ----\n",
            "Train Loss: 1.95600, Train acc: 46.66%\n"
          ]
        },
        {
          "output_type": "stream",
          "name": "stderr",
          "text": [
            "\r 59%|█████▉    | 59/100 [11:45<08:09, 11.93s/it]"
          ]
        },
        {
          "output_type": "stream",
          "name": "stdout",
          "text": [
            "Test Loss: 3.69210, Test acc: 26.01%\n",
            "Epoch: 59 ----\n",
            "Train Loss: 1.94524, Train acc: 47.16%\n"
          ]
        },
        {
          "output_type": "stream",
          "name": "stderr",
          "text": [
            "\r 60%|██████    | 60/100 [11:57<07:57, 11.94s/it]"
          ]
        },
        {
          "output_type": "stream",
          "name": "stdout",
          "text": [
            "Test Loss: 3.63227, Test acc: 26.29%\n",
            "Epoch: 60 ----\n",
            "Train Loss: 1.94220, Train acc: 47.41%\n"
          ]
        },
        {
          "output_type": "stream",
          "name": "stderr",
          "text": [
            "\r 61%|██████    | 61/100 [12:09<07:46, 11.97s/it]"
          ]
        },
        {
          "output_type": "stream",
          "name": "stdout",
          "text": [
            "Test Loss: 3.65123, Test acc: 24.90%\n",
            "Epoch: 61 ----\n",
            "Train Loss: 1.92798, Train acc: 47.64%\n"
          ]
        },
        {
          "output_type": "stream",
          "name": "stderr",
          "text": [
            "\r 62%|██████▏   | 62/100 [12:21<07:35, 11.98s/it]"
          ]
        },
        {
          "output_type": "stream",
          "name": "stdout",
          "text": [
            "Test Loss: 3.59941, Test acc: 25.76%\n",
            "Epoch: 62 ----\n",
            "Train Loss: 1.92914, Train acc: 47.49%\n"
          ]
        },
        {
          "output_type": "stream",
          "name": "stderr",
          "text": [
            "\r 63%|██████▎   | 63/100 [12:33<07:22, 11.97s/it]"
          ]
        },
        {
          "output_type": "stream",
          "name": "stdout",
          "text": [
            "Test Loss: 3.68408, Test acc: 24.47%\n",
            "Epoch: 63 ----\n",
            "Train Loss: 1.92021, Train acc: 47.81%\n"
          ]
        },
        {
          "output_type": "stream",
          "name": "stderr",
          "text": [
            "\r 64%|██████▍   | 64/100 [12:45<07:10, 11.95s/it]"
          ]
        },
        {
          "output_type": "stream",
          "name": "stdout",
          "text": [
            "Test Loss: 3.60950, Test acc: 25.78%\n",
            "Epoch: 64 ----\n",
            "Train Loss: 1.91348, Train acc: 47.73%\n"
          ]
        },
        {
          "output_type": "stream",
          "name": "stderr",
          "text": [
            "\r 65%|██████▌   | 65/100 [12:57<06:58, 11.95s/it]"
          ]
        },
        {
          "output_type": "stream",
          "name": "stdout",
          "text": [
            "Test Loss: 3.94241, Test acc: 23.08%\n",
            "Epoch: 65 ----\n",
            "Train Loss: 1.90734, Train acc: 48.06%\n"
          ]
        },
        {
          "output_type": "stream",
          "name": "stderr",
          "text": [
            "\r 66%|██████▌   | 66/100 [13:09<06:46, 11.97s/it]"
          ]
        },
        {
          "output_type": "stream",
          "name": "stdout",
          "text": [
            "Test Loss: 3.78634, Test acc: 23.58%\n",
            "Epoch: 66 ----\n",
            "Train Loss: 1.90719, Train acc: 47.78%\n"
          ]
        },
        {
          "output_type": "stream",
          "name": "stderr",
          "text": [
            "\r 67%|██████▋   | 67/100 [13:21<06:35, 11.99s/it]"
          ]
        },
        {
          "output_type": "stream",
          "name": "stdout",
          "text": [
            "Test Loss: 3.82159, Test acc: 23.73%\n",
            "Epoch: 67 ----\n",
            "Train Loss: 1.89366, Train acc: 48.02%\n"
          ]
        },
        {
          "output_type": "stream",
          "name": "stderr",
          "text": [
            "\r 68%|██████▊   | 68/100 [13:33<06:23, 11.98s/it]"
          ]
        },
        {
          "output_type": "stream",
          "name": "stdout",
          "text": [
            "Test Loss: 3.81386, Test acc: 24.96%\n",
            "Epoch: 68 ----\n",
            "Train Loss: 1.89059, Train acc: 48.21%\n"
          ]
        },
        {
          "output_type": "stream",
          "name": "stderr",
          "text": [
            "\r 69%|██████▉   | 69/100 [13:45<06:11, 11.97s/it]"
          ]
        },
        {
          "output_type": "stream",
          "name": "stdout",
          "text": [
            "Test Loss: 3.66234, Test acc: 25.63%\n",
            "Epoch: 69 ----\n",
            "Train Loss: 1.88269, Train acc: 48.50%\n"
          ]
        },
        {
          "output_type": "stream",
          "name": "stderr",
          "text": [
            "\r 70%|███████   | 70/100 [13:57<05:59, 11.97s/it]"
          ]
        },
        {
          "output_type": "stream",
          "name": "stdout",
          "text": [
            "Test Loss: 3.78158, Test acc: 25.03%\n",
            "Epoch: 70 ----\n",
            "Train Loss: 1.87207, Train acc: 48.84%\n"
          ]
        },
        {
          "output_type": "stream",
          "name": "stderr",
          "text": [
            "\r 71%|███████   | 71/100 [14:09<05:47, 11.98s/it]"
          ]
        },
        {
          "output_type": "stream",
          "name": "stdout",
          "text": [
            "Test Loss: 3.78210, Test acc: 25.38%\n",
            "Epoch: 71 ----\n",
            "Train Loss: 1.87037, Train acc: 48.70%\n"
          ]
        },
        {
          "output_type": "stream",
          "name": "stderr",
          "text": [
            "\r 72%|███████▏  | 72/100 [14:21<05:35, 11.96s/it]"
          ]
        },
        {
          "output_type": "stream",
          "name": "stdout",
          "text": [
            "Test Loss: 3.87795, Test acc: 25.66%\n",
            "Epoch: 72 ----\n",
            "Train Loss: 1.85856, Train acc: 48.92%\n"
          ]
        },
        {
          "output_type": "stream",
          "name": "stderr",
          "text": [
            "\r 73%|███████▎  | 73/100 [14:33<05:22, 11.95s/it]"
          ]
        },
        {
          "output_type": "stream",
          "name": "stdout",
          "text": [
            "Test Loss: 3.79907, Test acc: 25.79%\n",
            "Epoch: 73 ----\n",
            "Train Loss: 1.85896, Train acc: 49.04%\n"
          ]
        },
        {
          "output_type": "stream",
          "name": "stderr",
          "text": [
            "\r 74%|███████▍  | 74/100 [14:45<05:10, 11.93s/it]"
          ]
        },
        {
          "output_type": "stream",
          "name": "stdout",
          "text": [
            "Test Loss: 3.79894, Test acc: 24.60%\n",
            "Epoch: 74 ----\n",
            "Train Loss: 1.85416, Train acc: 49.05%\n"
          ]
        },
        {
          "output_type": "stream",
          "name": "stderr",
          "text": [
            "\r 75%|███████▌  | 75/100 [14:57<04:59, 11.97s/it]"
          ]
        },
        {
          "output_type": "stream",
          "name": "stdout",
          "text": [
            "Test Loss: 3.79406, Test acc: 25.18%\n",
            "Epoch: 75 ----\n",
            "Train Loss: 1.84738, Train acc: 49.23%\n"
          ]
        },
        {
          "output_type": "stream",
          "name": "stderr",
          "text": [
            "\r 76%|███████▌  | 76/100 [15:09<04:47, 12.00s/it]"
          ]
        },
        {
          "output_type": "stream",
          "name": "stdout",
          "text": [
            "Test Loss: 3.83835, Test acc: 25.18%\n",
            "Epoch: 76 ----\n",
            "Train Loss: 1.83546, Train acc: 49.54%\n"
          ]
        },
        {
          "output_type": "stream",
          "name": "stderr",
          "text": [
            "\r 77%|███████▋  | 77/100 [15:21<04:35, 11.99s/it]"
          ]
        },
        {
          "output_type": "stream",
          "name": "stdout",
          "text": [
            "Test Loss: 3.92496, Test acc: 24.91%\n",
            "Epoch: 77 ----\n",
            "Train Loss: 1.83383, Train acc: 49.59%\n"
          ]
        },
        {
          "output_type": "stream",
          "name": "stderr",
          "text": [
            "\r 78%|███████▊  | 78/100 [15:33<04:24, 12.01s/it]"
          ]
        },
        {
          "output_type": "stream",
          "name": "stdout",
          "text": [
            "Test Loss: 3.91001, Test acc: 23.31%\n",
            "Epoch: 78 ----\n",
            "Train Loss: 1.83104, Train acc: 49.79%\n"
          ]
        },
        {
          "output_type": "stream",
          "name": "stderr",
          "text": [
            "\r 79%|███████▉  | 79/100 [15:45<04:11, 11.98s/it]"
          ]
        },
        {
          "output_type": "stream",
          "name": "stdout",
          "text": [
            "Test Loss: 4.01453, Test acc: 24.17%\n",
            "Epoch: 79 ----\n",
            "Train Loss: 1.82432, Train acc: 49.75%\n"
          ]
        },
        {
          "output_type": "stream",
          "name": "stderr",
          "text": [
            "\r 80%|████████  | 80/100 [15:57<03:59, 11.97s/it]"
          ]
        },
        {
          "output_type": "stream",
          "name": "stdout",
          "text": [
            "Test Loss: 3.89413, Test acc: 24.77%\n",
            "Epoch: 80 ----\n",
            "Train Loss: 1.82163, Train acc: 49.73%\n"
          ]
        },
        {
          "output_type": "stream",
          "name": "stderr",
          "text": [
            "\r 81%|████████  | 81/100 [16:09<03:49, 12.10s/it]"
          ]
        },
        {
          "output_type": "stream",
          "name": "stdout",
          "text": [
            "Test Loss: 4.26546, Test acc: 23.77%\n",
            "Epoch: 81 ----\n",
            "Train Loss: 1.81633, Train acc: 50.07%\n"
          ]
        },
        {
          "output_type": "stream",
          "name": "stderr",
          "text": [
            "\r 82%|████████▏ | 82/100 [16:21<03:37, 12.09s/it]"
          ]
        },
        {
          "output_type": "stream",
          "name": "stdout",
          "text": [
            "Test Loss: 3.99097, Test acc: 24.48%\n",
            "Epoch: 82 ----\n",
            "Train Loss: 1.82082, Train acc: 49.69%\n"
          ]
        },
        {
          "output_type": "stream",
          "name": "stderr",
          "text": [
            "\r 83%|████████▎ | 83/100 [16:33<03:24, 12.05s/it]"
          ]
        },
        {
          "output_type": "stream",
          "name": "stdout",
          "text": [
            "Test Loss: 3.91658, Test acc: 25.01%\n",
            "Epoch: 83 ----\n",
            "Train Loss: 1.81463, Train acc: 49.81%\n"
          ]
        },
        {
          "output_type": "stream",
          "name": "stderr",
          "text": [
            "\r 84%|████████▍ | 84/100 [16:45<03:12, 12.00s/it]"
          ]
        },
        {
          "output_type": "stream",
          "name": "stdout",
          "text": [
            "Test Loss: 3.95488, Test acc: 24.28%\n",
            "Epoch: 84 ----\n",
            "Train Loss: 1.80271, Train acc: 50.05%\n"
          ]
        },
        {
          "output_type": "stream",
          "name": "stderr",
          "text": [
            "\r 85%|████████▌ | 85/100 [16:57<02:59, 11.97s/it]"
          ]
        },
        {
          "output_type": "stream",
          "name": "stdout",
          "text": [
            "Test Loss: 3.91288, Test acc: 24.37%\n",
            "Epoch: 85 ----\n",
            "Train Loss: 1.79715, Train acc: 50.27%\n"
          ]
        },
        {
          "output_type": "stream",
          "name": "stderr",
          "text": [
            "\r 86%|████████▌ | 86/100 [17:09<02:47, 11.97s/it]"
          ]
        },
        {
          "output_type": "stream",
          "name": "stdout",
          "text": [
            "Test Loss: 4.06855, Test acc: 23.67%\n",
            "Epoch: 86 ----\n",
            "Train Loss: 1.80021, Train acc: 50.13%\n"
          ]
        },
        {
          "output_type": "stream",
          "name": "stderr",
          "text": [
            "\r 87%|████████▋ | 87/100 [17:21<02:35, 11.97s/it]"
          ]
        },
        {
          "output_type": "stream",
          "name": "stdout",
          "text": [
            "Test Loss: 3.95695, Test acc: 24.65%\n",
            "Epoch: 87 ----\n",
            "Train Loss: 1.79027, Train acc: 50.42%\n"
          ]
        },
        {
          "output_type": "stream",
          "name": "stderr",
          "text": [
            "\r 88%|████████▊ | 88/100 [17:33<02:23, 11.97s/it]"
          ]
        },
        {
          "output_type": "stream",
          "name": "stdout",
          "text": [
            "Test Loss: 4.05051, Test acc: 24.10%\n",
            "Epoch: 88 ----\n",
            "Train Loss: 1.78949, Train acc: 50.51%\n"
          ]
        },
        {
          "output_type": "stream",
          "name": "stderr",
          "text": [
            "\r 89%|████████▉ | 89/100 [17:45<02:11, 11.98s/it]"
          ]
        },
        {
          "output_type": "stream",
          "name": "stdout",
          "text": [
            "Test Loss: 4.03385, Test acc: 22.71%\n",
            "Epoch: 89 ----\n",
            "Train Loss: 1.78559, Train acc: 50.60%\n"
          ]
        },
        {
          "output_type": "stream",
          "name": "stderr",
          "text": [
            "\r 90%|█████████ | 90/100 [17:57<01:59, 11.94s/it]"
          ]
        },
        {
          "output_type": "stream",
          "name": "stdout",
          "text": [
            "Test Loss: 4.09036, Test acc: 22.98%\n",
            "Epoch: 90 ----\n",
            "Train Loss: 1.77744, Train acc: 50.63%\n"
          ]
        },
        {
          "output_type": "stream",
          "name": "stderr",
          "text": [
            "\r 91%|█████████ | 91/100 [18:09<01:47, 11.97s/it]"
          ]
        },
        {
          "output_type": "stream",
          "name": "stdout",
          "text": [
            "Test Loss: 4.51931, Test acc: 21.20%\n",
            "Epoch: 91 ----\n",
            "Train Loss: 1.77412, Train acc: 50.59%\n"
          ]
        },
        {
          "output_type": "stream",
          "name": "stderr",
          "text": [
            "\r 92%|█████████▏| 92/100 [18:21<01:35, 11.94s/it]"
          ]
        },
        {
          "output_type": "stream",
          "name": "stdout",
          "text": [
            "Test Loss: 4.07656, Test acc: 24.04%\n",
            "Epoch: 92 ----\n",
            "Train Loss: 1.77318, Train acc: 50.73%\n"
          ]
        },
        {
          "output_type": "stream",
          "name": "stderr",
          "text": [
            "\r 93%|█████████▎| 93/100 [18:33<01:23, 11.95s/it]"
          ]
        },
        {
          "output_type": "stream",
          "name": "stdout",
          "text": [
            "Test Loss: 4.13612, Test acc: 24.83%\n",
            "Epoch: 93 ----\n",
            "Train Loss: 1.77587, Train acc: 50.54%\n"
          ]
        },
        {
          "output_type": "stream",
          "name": "stderr",
          "text": [
            "\r 94%|█████████▍| 94/100 [18:45<01:11, 11.93s/it]"
          ]
        },
        {
          "output_type": "stream",
          "name": "stdout",
          "text": [
            "Test Loss: 3.99069, Test acc: 24.32%\n",
            "Epoch: 94 ----\n",
            "Train Loss: 1.76582, Train acc: 50.85%\n"
          ]
        },
        {
          "output_type": "stream",
          "name": "stderr",
          "text": [
            "\r 95%|█████████▌| 95/100 [18:57<00:59, 11.94s/it]"
          ]
        },
        {
          "output_type": "stream",
          "name": "stdout",
          "text": [
            "Test Loss: 4.39249, Test acc: 22.56%\n",
            "Epoch: 95 ----\n",
            "Train Loss: 1.76391, Train acc: 51.03%\n"
          ]
        },
        {
          "output_type": "stream",
          "name": "stderr",
          "text": [
            "\r 96%|█████████▌| 96/100 [19:09<00:47, 11.97s/it]"
          ]
        },
        {
          "output_type": "stream",
          "name": "stdout",
          "text": [
            "Test Loss: 4.22021, Test acc: 23.50%\n",
            "Epoch: 96 ----\n",
            "Train Loss: 1.76554, Train acc: 50.96%\n"
          ]
        },
        {
          "output_type": "stream",
          "name": "stderr",
          "text": [
            "\r 97%|█████████▋| 97/100 [19:21<00:35, 11.95s/it]"
          ]
        },
        {
          "output_type": "stream",
          "name": "stdout",
          "text": [
            "Test Loss: 4.07957, Test acc: 22.74%\n",
            "Epoch: 97 ----\n",
            "Train Loss: 1.75131, Train acc: 51.07%\n"
          ]
        },
        {
          "output_type": "stream",
          "name": "stderr",
          "text": [
            "\r 98%|█████████▊| 98/100 [19:32<00:23, 11.94s/it]"
          ]
        },
        {
          "output_type": "stream",
          "name": "stdout",
          "text": [
            "Test Loss: 4.21213, Test acc: 23.38%\n",
            "Epoch: 98 ----\n",
            "Train Loss: 1.75163, Train acc: 51.11%\n"
          ]
        },
        {
          "output_type": "stream",
          "name": "stderr",
          "text": [
            "\r 99%|█████████▉| 99/100 [19:44<00:11, 11.92s/it]"
          ]
        },
        {
          "output_type": "stream",
          "name": "stdout",
          "text": [
            "Test Loss: 4.26407, Test acc: 24.18%\n",
            "Epoch: 99 ----\n",
            "Train Loss: 1.74991, Train acc: 51.10%\n"
          ]
        },
        {
          "output_type": "stream",
          "name": "stderr",
          "text": [
            "100%|██████████| 100/100 [19:56<00:00, 11.97s/it]"
          ]
        },
        {
          "output_type": "stream",
          "name": "stdout",
          "text": [
            "Test Loss: 4.58544, Test acc: 22.51%\n",
            "Train time on cuda : 1196.786 seconds\n"
          ]
        },
        {
          "output_type": "stream",
          "name": "stderr",
          "text": [
            "\n"
          ]
        }
      ],
      "source": [
        "#Measure time\n",
        "train_time_start_on_gpu = timer()\n",
        "\n",
        "#Set epochs\n",
        "epochs=100\n",
        "\n",
        "#Create a optimization and evaluation loop using train_step() and test_step()\n",
        "for epoch in tqdm(range(epochs)):\n",
        "  print(f\"Epoch: {epoch} ----\")\n",
        "  train_step(model=model_LENET_3, data_loader=train_dataloader,loss_fn=loss_fn,optimizer=optimizer,accuracy_fn=accuracy_fn,device=device)\n",
        "  \n",
        "  test_step(model=model_LENET_3,data_loader=test_dataloader,loss_fn=loss_fn,optimizer=optimizer,accuracy_fn=accuracy_fn,device=device)\n",
        "  \n",
        "train_time_end_on_gpu = timer()\n",
        "total_train_time_model_1 = print_train_time(start=train_time_start_on_gpu,\n",
        "                                            end=train_time_end_on_gpu,\n",
        "                                            device=device)"
      ]
    },
    {
      "cell_type": "code",
      "execution_count": 144,
      "metadata": {
        "id": "bo-4VgLc1pkr"
      },
      "outputs": [],
      "source": [
        "#Now we save the model\n",
        "from pathlib import Path\n",
        "#Create the model directory\n",
        "MODEL_PATH = Path(\"models\")\n",
        "MODEL_PATH.mkdir(parents=True, exist_ok=True)\n",
        "#Create the model save path\n",
        "MODEL_NAME = \"04_LENET_CIFAR100pth\"\n",
        "MODEL_SAVE_PATH = MODEL_PATH/MODEL_NAME"
      ]
    },
    {
      "cell_type": "code",
      "execution_count": 145,
      "metadata": {
        "id": "vVL3i5ph2--R",
        "colab": {
          "base_uri": "https://localhost:8080/"
        },
        "outputId": "07e43040-403e-4c05-fe81-c379df57aa56"
      },
      "outputs": [
        {
          "output_type": "stream",
          "name": "stdout",
          "text": [
            "Saved at models/04_LENET_CIFAR100pth\n"
          ]
        }
      ],
      "source": [
        "#Saving the model\n",
        "torch.save(obj=model_LENET_3.state_dict(),\n",
        "           f=MODEL_SAVE_PATH)\n",
        "print(f'Saved at {MODEL_SAVE_PATH}')"
      ]
    },
    {
      "cell_type": "code",
      "execution_count": 146,
      "metadata": {
        "id": "eyOp-dAT3CPw",
        "colab": {
          "base_uri": "https://localhost:8080/"
        },
        "outputId": "36199860-f0cf-4e46-da3a-e4b1f578119f"
      },
      "outputs": [
        {
          "output_type": "execute_result",
          "data": {
            "text/plain": [
              "<All keys matched successfully>"
            ]
          },
          "metadata": {},
          "execution_count": 146
        }
      ],
      "source": [
        "#Loading the model\n",
        "#Create a new instance of the model and update the parameters\n",
        "model_LENET_CIFAR100 = LeNET(in_channels=3, num_classes=100).to(device)\n",
        "model_LENET_CIFAR100.load_state_dict(torch.load(f=MODEL_SAVE_PATH))"
      ]
    },
    {
      "cell_type": "code",
      "execution_count": 147,
      "metadata": {
        "id": "2wH4fam03HVK",
        "colab": {
          "base_uri": "https://localhost:8080/"
        },
        "outputId": "098b1f51-eb6a-4861-d0b3-cf1b705d3a5a"
      },
      "outputs": [
        {
          "output_type": "stream",
          "name": "stderr",
          "text": [
            "100%|██████████| 313/313 [00:01<00:00, 190.41it/s]\n"
          ]
        },
        {
          "output_type": "execute_result",
          "data": {
            "text/plain": [
              "{'model_name': 'LeNET',\n",
              " 'model_loss': 4.585439205169678,\n",
              " 'model_acc': 22.513977635782748}"
            ]
          },
          "metadata": {},
          "execution_count": 147
        }
      ],
      "source": [
        "#Get model results\n",
        "model_LENET_CIFAR100_results = eval_model(\n",
        "    model=model_LENET_CIFAR100,\n",
        "    data_loader=test_dataloader,\n",
        "    loss_fn=loss_fn,\n",
        "    accuracy_fn=accuracy_fn,\n",
        "    device=device\n",
        ")\n",
        "model_LENET_CIFAR100_results"
      ]
    },
    {
      "cell_type": "code",
      "execution_count": 148,
      "metadata": {
        "colab": {
          "base_uri": "https://localhost:8080/",
          "height": 175
        },
        "id": "zIZ8RVRK_RBk",
        "outputId": "a0d9e1c7-7ce1-4f98-bda0-8191e4902b17"
      },
      "outputs": [
        {
          "output_type": "execute_result",
          "data": {
            "text/plain": [
              "  model_name  model_loss  model_acc\n",
              "0      LeNET    0.155292  95.019531\n",
              "1      LeNET    0.472218  84.970238\n",
              "2      LeNET    2.933919  54.612620\n",
              "3      LeNET    4.585439  22.513978"
            ],
            "text/html": [
              "\n",
              "  <div id=\"df-ee56b9f3-7a3d-4324-ae7e-e7472453bd28\">\n",
              "    <div class=\"colab-df-container\">\n",
              "      <div>\n",
              "<style scoped>\n",
              "    .dataframe tbody tr th:only-of-type {\n",
              "        vertical-align: middle;\n",
              "    }\n",
              "\n",
              "    .dataframe tbody tr th {\n",
              "        vertical-align: top;\n",
              "    }\n",
              "\n",
              "    .dataframe thead th {\n",
              "        text-align: right;\n",
              "    }\n",
              "</style>\n",
              "<table border=\"1\" class=\"dataframe\">\n",
              "  <thead>\n",
              "    <tr style=\"text-align: right;\">\n",
              "      <th></th>\n",
              "      <th>model_name</th>\n",
              "      <th>model_loss</th>\n",
              "      <th>model_acc</th>\n",
              "    </tr>\n",
              "  </thead>\n",
              "  <tbody>\n",
              "    <tr>\n",
              "      <th>0</th>\n",
              "      <td>LeNET</td>\n",
              "      <td>0.155292</td>\n",
              "      <td>95.019531</td>\n",
              "    </tr>\n",
              "    <tr>\n",
              "      <th>1</th>\n",
              "      <td>LeNET</td>\n",
              "      <td>0.472218</td>\n",
              "      <td>84.970238</td>\n",
              "    </tr>\n",
              "    <tr>\n",
              "      <th>2</th>\n",
              "      <td>LeNET</td>\n",
              "      <td>2.933919</td>\n",
              "      <td>54.612620</td>\n",
              "    </tr>\n",
              "    <tr>\n",
              "      <th>3</th>\n",
              "      <td>LeNET</td>\n",
              "      <td>4.585439</td>\n",
              "      <td>22.513978</td>\n",
              "    </tr>\n",
              "  </tbody>\n",
              "</table>\n",
              "</div>\n",
              "      <button class=\"colab-df-convert\" onclick=\"convertToInteractive('df-ee56b9f3-7a3d-4324-ae7e-e7472453bd28')\"\n",
              "              title=\"Convert this dataframe to an interactive table.\"\n",
              "              style=\"display:none;\">\n",
              "        \n",
              "  <svg xmlns=\"http://www.w3.org/2000/svg\" height=\"24px\"viewBox=\"0 0 24 24\"\n",
              "       width=\"24px\">\n",
              "    <path d=\"M0 0h24v24H0V0z\" fill=\"none\"/>\n",
              "    <path d=\"M18.56 5.44l.94 2.06.94-2.06 2.06-.94-2.06-.94-.94-2.06-.94 2.06-2.06.94zm-11 1L8.5 8.5l.94-2.06 2.06-.94-2.06-.94L8.5 2.5l-.94 2.06-2.06.94zm10 10l.94 2.06.94-2.06 2.06-.94-2.06-.94-.94-2.06-.94 2.06-2.06.94z\"/><path d=\"M17.41 7.96l-1.37-1.37c-.4-.4-.92-.59-1.43-.59-.52 0-1.04.2-1.43.59L10.3 9.45l-7.72 7.72c-.78.78-.78 2.05 0 2.83L4 21.41c.39.39.9.59 1.41.59.51 0 1.02-.2 1.41-.59l7.78-7.78 2.81-2.81c.8-.78.8-2.07 0-2.86zM5.41 20L4 18.59l7.72-7.72 1.47 1.35L5.41 20z\"/>\n",
              "  </svg>\n",
              "      </button>\n",
              "      \n",
              "  <style>\n",
              "    .colab-df-container {\n",
              "      display:flex;\n",
              "      flex-wrap:wrap;\n",
              "      gap: 12px;\n",
              "    }\n",
              "\n",
              "    .colab-df-convert {\n",
              "      background-color: #E8F0FE;\n",
              "      border: none;\n",
              "      border-radius: 50%;\n",
              "      cursor: pointer;\n",
              "      display: none;\n",
              "      fill: #1967D2;\n",
              "      height: 32px;\n",
              "      padding: 0 0 0 0;\n",
              "      width: 32px;\n",
              "    }\n",
              "\n",
              "    .colab-df-convert:hover {\n",
              "      background-color: #E2EBFA;\n",
              "      box-shadow: 0px 1px 2px rgba(60, 64, 67, 0.3), 0px 1px 3px 1px rgba(60, 64, 67, 0.15);\n",
              "      fill: #174EA6;\n",
              "    }\n",
              "\n",
              "    [theme=dark] .colab-df-convert {\n",
              "      background-color: #3B4455;\n",
              "      fill: #D2E3FC;\n",
              "    }\n",
              "\n",
              "    [theme=dark] .colab-df-convert:hover {\n",
              "      background-color: #434B5C;\n",
              "      box-shadow: 0px 1px 3px 1px rgba(0, 0, 0, 0.15);\n",
              "      filter: drop-shadow(0px 1px 2px rgba(0, 0, 0, 0.3));\n",
              "      fill: #FFFFFF;\n",
              "    }\n",
              "  </style>\n",
              "\n",
              "      <script>\n",
              "        const buttonEl =\n",
              "          document.querySelector('#df-ee56b9f3-7a3d-4324-ae7e-e7472453bd28 button.colab-df-convert');\n",
              "        buttonEl.style.display =\n",
              "          google.colab.kernel.accessAllowed ? 'block' : 'none';\n",
              "\n",
              "        async function convertToInteractive(key) {\n",
              "          const element = document.querySelector('#df-ee56b9f3-7a3d-4324-ae7e-e7472453bd28');\n",
              "          const dataTable =\n",
              "            await google.colab.kernel.invokeFunction('convertToInteractive',\n",
              "                                                     [key], {});\n",
              "          if (!dataTable) return;\n",
              "\n",
              "          const docLinkHtml = 'Like what you see? Visit the ' +\n",
              "            '<a target=\"_blank\" href=https://colab.research.google.com/notebooks/data_table.ipynb>data table notebook</a>'\n",
              "            + ' to learn more about interactive tables.';\n",
              "          element.innerHTML = '';\n",
              "          dataTable['output_type'] = 'display_data';\n",
              "          await google.colab.output.renderOutput(dataTable, element);\n",
              "          const docLink = document.createElement('div');\n",
              "          docLink.innerHTML = docLinkHtml;\n",
              "          element.appendChild(docLink);\n",
              "        }\n",
              "      </script>\n",
              "    </div>\n",
              "  </div>\n",
              "  "
            ]
          },
          "metadata": {},
          "execution_count": 148
        }
      ],
      "source": [
        "import pandas as pd\n",
        "compare_results = pd.DataFrame([model_LENET_MNIST_results,\n",
        "                                model_LENET_FashionMNIST_results,\n",
        "                                model_LENET_CIFAR10_results,\n",
        "                                model_LENET_CIFAR100_results])\n",
        "compare_results"
      ]
    },
    {
      "cell_type": "code",
      "execution_count": 149,
      "metadata": {
        "id": "aEHImKj4_RBk"
      },
      "outputs": [],
      "source": [
        "#In the chart below the models are as follows :\n",
        "\n",
        "#LeNET on MNIST Dataset\n",
        "\n",
        "#LeNET on FashionMNIST Dataset\n",
        "\n",
        "#LeNET on CIFAR 10 Dataset\n",
        "\n",
        "#LeNET on CIFAR 100 Datase"
      ]
    },
    {
      "cell_type": "code",
      "execution_count": 150,
      "metadata": {
        "colab": {
          "base_uri": "https://localhost:8080/",
          "height": 296
        },
        "id": "PchpQfVU_RBk",
        "outputId": "60da5423-8448-447a-ec51-b5ed019a9f95"
      },
      "outputs": [
        {
          "output_type": "execute_result",
          "data": {
            "text/plain": [
              "Text(0, 0.5, 'Model')"
            ]
          },
          "metadata": {},
          "execution_count": 150
        },
        {
          "output_type": "display_data",
          "data": {
            "text/plain": [
              "<Figure size 432x288 with 1 Axes>"
            ],
            "image/png": "[encoded data removed]"
          },
          "metadata": {
            "needs_background": "light"
          }
        }
      ],
      "source": [
        "#Visualize our model results\n",
        "compare_results.set_index(\"model_name\")[\"model_acc\"].plot(kind=\"barh\")\n",
        "plt.xlabel(\"Accuracy\")\n",
        "plt.ylabel(\"Model\")"
      ]
    },
    {
      "cell_type": "code",
      "execution_count": null,
      "metadata": {
        "id": "e-Br6cKN_RBl"
      },
      "outputs": [],
      "source": []
    }
  ],
  "metadata": {
    "accelerator": "GPU",
    "colab": {
      "provenance": [],
      "machine_shape": "hm"
    },
    "gpuClass": "premium",
    "kernelspec": {
      "display_name": "Python 3 (ipykernel)",
      "language": "python",
      "name": "python3"
    },
    "language_info": {
      "codemirror_mode": {
        "name": "ipython",
        "version": 3
      },
      "file_extension": ".py",
      "mimetype": "text/x-python",
      "name": "python",
      "nbconvert_exporter": "python",
      "pygments_lexer": "ipython3",
      "version": "3.10.6"
    }
  },
  "nbformat": 4,
  "nbformat_minor": 0
}