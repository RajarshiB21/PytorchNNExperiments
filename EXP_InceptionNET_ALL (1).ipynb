{
  "cells": [
    {
      "cell_type": "code",
      "execution_count": 1,
      "id": "9721a84a",
      "metadata": {
        "id": "9721a84a"
      },
      "outputs": [],
      "source": [
        "import torch\n",
        "import torch.nn as nn\n",
        "import torch.optim as optim\n",
        "import torch.nn.functional as F\n",
        "from torch.utils.data import DataLoader\n",
        "import torchvision.datasets as datasets   \n",
        "import torchvision.transforms as transforms\n",
        "import matplotlib.pyplot as plt\n",
        "from tqdm import tqdm\n",
        "from timeit import default_timer as timer"
      ]
    },
    {
      "cell_type": "code",
      "execution_count": 2,
      "id": "7f02ca5f",
      "metadata": {
        "id": "7f02ca5f"
      },
      "outputs": [],
      "source": [
        "class GoogLeNet(nn.Module):\n",
        "    def __init__(self,in_channels=3,num_classes = 1000):\n",
        "        super(GoogLeNet, self).__init__()\n",
        "        self.conv1 = conv_block(in_channels=in_channels, out_channels=64, kernel_size = 7, stride=2, padding=3)\n",
        "        self.maxpool1 = nn.MaxPool2d(kernel_size=3, stride=2, padding=1)\n",
        "        self.conv2 = conv_block(64, 192, kernel_size = 3, stride = 1, padding = 1)\n",
        "        self.maxpool2 = nn.MaxPool2d(kernel_size=3, stride=2, padding=1)\n",
        "\n",
        "        #ORDER in_channels, out_1x1, red_3x3, out_3x3, red_5x5, out_5x5, out_1x1pool\n",
        "        self.inception3a = Inception_block(192, 64, 96, 128, 16, 32, 32)\n",
        "        self.inception3b = Inception_block(256, 128, 128, 192, 32, 96, 64)\n",
        "        self.maxpool3 = nn.MaxPool2d(kernel_size=3, stride=2, padding=1)\n",
        "\n",
        "        self.inception4a = Inception_block(480, 192, 96, 208, 16, 48, 64)\n",
        "        self.inception4b = Inception_block(512, 160, 112, 224, 24, 64, 64)\n",
        "        self.inception4c = Inception_block(512, 128, 128, 256, 24, 64, 64)\n",
        "        self.inception4d = Inception_block(512, 112, 144, 288, 32, 64, 64)\n",
        "        self.inception4e = Inception_block(528, 256, 160, 320, 32, 128, 128)\n",
        "\n",
        "        self.maxpool4 = nn.MaxPool2d(kernel_size=3, stride=2, padding=1)\n",
        "        self.inception5a = Inception_block(832, 256, 160, 320, 32, 128, 128)\n",
        "        self.inception5b = Inception_block(832, 384, 192, 384, 48, 128, 128)\n",
        "\n",
        "        self.avgpool = nn.AvgPool2d(kernel_size=7, stride=1)\n",
        "        self.dropout = nn.Dropout(p=0.4)\n",
        "        self.fc1 = nn.Linear(1024, num_classes)\n",
        "\n",
        "\n",
        "    def forward(self, x):\n",
        "        x = self.conv1(x)\n",
        "        x = self.maxpool1(x)\n",
        "        x = self.conv2(x)\n",
        "        x = self.maxpool2(x)\n",
        "\n",
        "        x = self.inception3a(x)\n",
        "        x = self.inception3b(x)\n",
        "        x = self.maxpool3(x)\n",
        "\n",
        "        x = self.inception4a(x)\n",
        "        x = self.inception4b(x)\n",
        "        x = self.inception4c(x)\n",
        "        x = self.inception4d(x)\n",
        "        x = self.inception4e(x)\n",
        "        x = self.maxpool4(x)\n",
        "\n",
        "        x = self.inception5a(x)\n",
        "        x = self.inception5b(x)\n",
        "        x = self.avgpool(x)\n",
        "        x = x.reshape(x.shape[0], -1)\n",
        "        x = self.dropout(x)\n",
        "        x = self.fc1(x)\n",
        "\n",
        "        return x\n",
        "\n",
        "class Inception_block(nn.Module):\n",
        "    def __init__(self, in_channels, out_1x1, red_3x3, out_3x3, red_5x5, out_5x5, out_1x1pool):\n",
        "        super(Inception_block, self).__init__()\n",
        "\n",
        "        self.branch1 = conv_block(in_channels, out_1x1, kernel_size=1)\n",
        "        self.branch2 = nn.Sequential(\n",
        "            conv_block(in_channels, red_3x3, kernel_size = 1),\n",
        "            conv_block(red_3x3, out_3x3, kernel_size = 3, stride = 1, padding =1),\n",
        "        )\n",
        "        self.branch3 = nn.Sequential(\n",
        "            conv_block(in_channels, red_5x5, kernel_size=1),\n",
        "            conv_block(red_5x5, out_5x5, kernel_size=5, stride = 1, padding = 2)\n",
        "        )\n",
        "\n",
        "        self.branch4 = nn.Sequential(\n",
        "            nn.MaxPool2d(kernel_size=3, stride=1, padding=1),\n",
        "            conv_block(in_channels, out_1x1pool, kernel_size = 1),\n",
        "        )\n",
        "\n",
        "    def forward(self, x):\n",
        "        # N x filters x 28 x 28\n",
        "        #WE concatenate along the first dimension, essentially along the filters\n",
        "        return torch.cat([self.branch1(x), self.branch2(x), self.branch3(x), self.branch4(x)], 1)\n",
        "\n",
        "\n",
        "class conv_block(nn.Module):\n",
        "    def __init__(self, in_channels, out_channels, **kwargs):\n",
        "        #kwargs are keyword arguments\n",
        "        super(conv_block, self).__init__()\n",
        "        self.relu = nn.ReLU()\n",
        "        self.conv = nn.Conv2d(in_channels, out_channels, **kwargs)\n",
        "        self.batchnorm = nn.BatchNorm2d(out_channels)\n",
        "\n",
        "    def forward(self, x):\n",
        "        return self.relu(self.batchnorm(self.conv(x)))"
      ]
    },
    {
      "cell_type": "code",
      "execution_count": 3,
      "id": "1d7e9a73",
      "metadata": {
        "colab": {
          "base_uri": "https://localhost:8080/",
          "height": 423,
          "referenced_widgets": [
            "8b46179905f744ceaf239e7a3c56be2b",
            "0c537db1e711466fbc38932cb0bf14e5",
            "e4b7424e15c14e7fb091211b3cc92824",
            "6d3b02aa1fb74740b890bfe16c16e3ab",
            "865bb2bcbded49ca912c85c501e3ae54",
            "0e9ffbdc251b462095745c441681418a",
            "c41e64226ffa45919c9d85ba0d85bb79",
            "caf12bbe12fa4932babed80320f16043",
            "978f7022a2ea404887b913e49e6dc0f5",
            "4eee33002282407f8578e29e067c7e99",
            "bfdb7c0ff4f047c6bff2f7011801ad81",
            "11226df92c144a2da65f57076fc82e3a",
            "30cfe3e37f3448a9be71ab85a46bb215",
            "0a6ef9dc231b4199966c61c6bb975504",
            "077381e57cf841f686531c69c05ecf7f",
            "75a8780278be46e5abab781b11669ced",
            "1bdf242ffd5a4b89ab907e4933ae0d8d",
            "e821112425c34003872fb818e433929e",
            "52473291e9e04327ac2e6820396bba47",
            "e6bfc70ced57461c839fd19c020871d1",
            "4283b8cfaf974ddfa6559fa90a09ef51",
            "4ba4a9a1b57e46dba2464de35818f45b",
            "310cb136ffe9476488e632c65942bfd7",
            "0df667dd7c9c4369b08be7512c45bf64",
            "294a69b0bfdf4382a1a59395568be202",
            "959d431a7fde42da8260545d28f66523",
            "3c49a052c37e4af1b3e5bfe27acc857b",
            "f1e2cea9aa2e4c9294a841e3f18b7e59",
            "eed213950e15461f924d461a0e7b3404",
            "84a9145b69e64ed1975d0d6bf6963bf0",
            "22eba032bf1a4533bfe793c921a92b34",
            "a7d81bd211284e7992192cb94ffb1947",
            "44a753a72ec948dd8e59ae5484c606d4",
            "f342e5ef64c0466aaff0b5cabd630cb7",
            "a26490fcc8ce4edc84d88a3ca07a1522",
            "425ba23d42124311878069e7e3b1c8d0",
            "ed88a94c874f459494f4acac3cb22e16",
            "65e812c4cc964df7b4efb1425afd1dcc",
            "1118a56ef2ba461eb42fa3b5ff2f441c",
            "6dd508bc39c5401a9c5f61b111027c35",
            "d365369d3904448aa9f7354b876fbcc8",
            "7e3e22d1cbe44c939a5ebc706cd6e866",
            "a7d8863268a54032a87d467061537595",
            "7f2578934cb943a89ca825daeacccb3a"
          ]
        },
        "id": "1d7e9a73",
        "outputId": "83d694da-e39f-4f26-94f0-232a8c9c2528"
      },
      "outputs": [
        {
          "output_type": "stream",
          "name": "stdout",
          "text": [
            "Downloading http://yann.lecun.com/exdb/mnist/train-images-idx3-ubyte.gz\n",
            "Downloading http://yann.lecun.com/exdb/mnist/train-images-idx3-ubyte.gz to data/MNIST/raw/train-images-idx3-ubyte.gz\n"
          ]
        },
        {
          "output_type": "display_data",
          "data": {
            "text/plain": [
              "  0%|          | 0/9912422 [00:00<?, ?it/s]"
            ],
            "application/vnd.jupyter.widget-view+json": {
              "version_major": 2,
              "version_minor": 0,
              "model_id": "8b46179905f744ceaf239e7a3c56be2b"
            }
          },
          "metadata": {}
        },
        {
          "output_type": "stream",
          "name": "stdout",
          "text": [
            "Extracting data/MNIST/raw/train-images-idx3-ubyte.gz to data/MNIST/raw\n",
            "\n",
            "Downloading http://yann.lecun.com/exdb/mnist/train-labels-idx1-ubyte.gz\n",
            "Downloading http://yann.lecun.com/exdb/mnist/train-labels-idx1-ubyte.gz to data/MNIST/raw/train-labels-idx1-ubyte.gz\n"
          ]
        },
        {
          "output_type": "display_data",
          "data": {
            "text/plain": [
              "  0%|          | 0/28881 [00:00<?, ?it/s]"
            ],
            "application/vnd.jupyter.widget-view+json": {
              "version_major": 2,
              "version_minor": 0,
              "model_id": "11226df92c144a2da65f57076fc82e3a"
            }
          },
          "metadata": {}
        },
        {
          "output_type": "stream",
          "name": "stdout",
          "text": [
            "Extracting data/MNIST/raw/train-labels-idx1-ubyte.gz to data/MNIST/raw\n",
            "\n",
            "Downloading http://yann.lecun.com/exdb/mnist/t10k-images-idx3-ubyte.gz\n",
            "Downloading http://yann.lecun.com/exdb/mnist/t10k-images-idx3-ubyte.gz to data/MNIST/raw/t10k-images-idx3-ubyte.gz\n"
          ]
        },
        {
          "output_type": "display_data",
          "data": {
            "text/plain": [
              "  0%|          | 0/1648877 [00:00<?, ?it/s]"
            ],
            "application/vnd.jupyter.widget-view+json": {
              "version_major": 2,
              "version_minor": 0,
              "model_id": "310cb136ffe9476488e632c65942bfd7"
            }
          },
          "metadata": {}
        },
        {
          "output_type": "stream",
          "name": "stdout",
          "text": [
            "Extracting data/MNIST/raw/t10k-images-idx3-ubyte.gz to data/MNIST/raw\n",
            "\n",
            "Downloading http://yann.lecun.com/exdb/mnist/t10k-labels-idx1-ubyte.gz\n",
            "Downloading http://yann.lecun.com/exdb/mnist/t10k-labels-idx1-ubyte.gz to data/MNIST/raw/t10k-labels-idx1-ubyte.gz\n"
          ]
        },
        {
          "output_type": "display_data",
          "data": {
            "text/plain": [
              "  0%|          | 0/4542 [00:00<?, ?it/s]"
            ],
            "application/vnd.jupyter.widget-view+json": {
              "version_major": 2,
              "version_minor": 0,
              "model_id": "f342e5ef64c0466aaff0b5cabd630cb7"
            }
          },
          "metadata": {}
        },
        {
          "output_type": "stream",
          "name": "stdout",
          "text": [
            "Extracting data/MNIST/raw/t10k-labels-idx1-ubyte.gz to data/MNIST/raw\n",
            "\n"
          ]
        }
      ],
      "source": [
        "#MNIST\n",
        "#Setup train data\n",
        "train_data = datasets.MNIST(root=\"data\",\n",
        "                                   train=True,\n",
        "                                   download=True,\n",
        "                                   transform=transforms.Compose([transforms.Resize(size=(224,224)),transforms.ToTensor()]))\n",
        "\n",
        "test_data = datasets.MNIST(root=\"data\",\n",
        "                                   train=False,\n",
        "                                   download=True,\n",
        "                                   transform=transforms.Compose([transforms.Resize(size=(224,224)),transforms.ToTensor()]))"
      ]
    },
    {
      "cell_type": "code",
      "execution_count": 4,
      "id": "4dbc1b88",
      "metadata": {
        "colab": {
          "base_uri": "https://localhost:8080/"
        },
        "id": "4dbc1b88",
        "outputId": "29a4a6d2-2395-4063-d613-c7e8aec9c1e0"
      },
      "outputs": [
        {
          "output_type": "execute_result",
          "data": {
            "text/plain": [
              "(['0 - zero',\n",
              "  '1 - one',\n",
              "  '2 - two',\n",
              "  '3 - three',\n",
              "  '4 - four',\n",
              "  '5 - five',\n",
              "  '6 - six',\n",
              "  '7 - seven',\n",
              "  '8 - eight',\n",
              "  '9 - nine'],\n",
              " {'0 - zero': 0,\n",
              "  '1 - one': 1,\n",
              "  '2 - two': 2,\n",
              "  '3 - three': 3,\n",
              "  '4 - four': 4,\n",
              "  '5 - five': 5,\n",
              "  '6 - six': 6,\n",
              "  '7 - seven': 7,\n",
              "  '8 - eight': 8,\n",
              "  '9 - nine': 9})"
            ]
          },
          "metadata": {},
          "execution_count": 4
        }
      ],
      "source": [
        "class_names = train_data.classes\n",
        "class_to_idx = train_data.class_to_idx\n",
        "class_names, class_to_idx"
      ]
    },
    {
      "cell_type": "code",
      "execution_count": 5,
      "id": "e44b8bb1",
      "metadata": {
        "colab": {
          "base_uri": "https://localhost:8080/"
        },
        "id": "e44b8bb1",
        "outputId": "c384b522-9751-4061-b9a2-e1501bb3bbf2"
      },
      "outputs": [
        {
          "output_type": "execute_result",
          "data": {
            "text/plain": [
              "(1000, 200)"
            ]
          },
          "metadata": {},
          "execution_count": 5
        }
      ],
      "source": [
        "import torch.utils.data as data_utils\n",
        "\n",
        "indices_train = torch.arange(1000)\n",
        "indices_test = torch.arange(200)\n",
        "train_data = data_utils.Subset(train_data, indices_train)\n",
        "test_data = data_utils.Subset(test_data, indices_test)\n",
        "len(train_data), len(test_data)"
      ]
    },
    {
      "cell_type": "code",
      "execution_count": 6,
      "id": "fb9823da",
      "metadata": {
        "colab": {
          "base_uri": "https://localhost:8080/",
          "height": 536
        },
        "id": "fb9823da",
        "outputId": "92229753-9705-4523-e28d-51c1f4f5574c"
      },
      "outputs": [
        {
          "output_type": "display_data",
          "data": {
            "text/plain": [
              "<Figure size 648x648 with 16 Axes>"
            ],
            "image/png": "[encoded data removed]"
          },
          "metadata": {
            "needs_background": "light"
          }
        }
      ],
      "source": [
        "#Plot more images\n",
        "torch.manual_seed(42)\n",
        "fig = plt.figure(figsize=(9,9))\n",
        "rows, cols = 4, 4\n",
        "for i in range(1, rows*cols+1):\n",
        "  random_idx = torch.randint(0, len(train_data), size=[1]).item()\n",
        "  img, label = train_data[random_idx]\n",
        "  fig.add_subplot(rows, cols, i)\n",
        "  plt.imshow(img.squeeze(), cmap=\"gray\")\n",
        "  plt.title(class_names[label])\n",
        "  plt.axis(False)"
      ]
    },
    {
      "cell_type": "code",
      "execution_count": 7,
      "id": "9dc63c9e",
      "metadata": {
        "id": "9dc63c9e"
      },
      "outputs": [],
      "source": [
        "#Prepare Dataloader that prepares our data into python iterable\n",
        "#We turn our data into mini batches since it is more computationally efficient\n",
        "from torch.utils.data import DataLoader\n",
        "\n",
        "#Setup the batch size hyperparameter\n",
        "BATCH_SIZE = 512\n",
        "device = \"cuda\" if torch.cuda.is_available() else \"cpu\"\n",
        "\n",
        "#Turn datasets into iterables(batches)\n",
        "train_dataloader = DataLoader(train_data, batch_size=BATCH_SIZE, shuffle=True)\n",
        "test_dataloader = DataLoader(test_data, batch_size=BATCH_SIZE, shuffle=False)"
      ]
    },
    {
      "cell_type": "code",
      "execution_count": 8,
      "id": "c99da29e",
      "metadata": {
        "id": "c99da29e"
      },
      "outputs": [],
      "source": [
        "model_InceptionNET_0 = GoogLeNet(in_channels=1, num_classes=10).to(device)"
      ]
    },
    {
      "cell_type": "code",
      "execution_count": 3,
      "id": "6178daf6",
      "metadata": {
        "id": "6178daf6"
      },
      "outputs": [],
      "source": [
        "def print_train_time(start:float,\n",
        "                     end:float,\n",
        "                     device:torch.device=None):\n",
        "  total_time = end-start\n",
        "  print(f\"Train time on {device} : {total_time:.3f} seconds\")\n",
        "  return total_time"
      ]
    },
    {
      "cell_type": "code",
      "execution_count": 10,
      "id": "0ef6765b",
      "metadata": {
        "id": "0ef6765b"
      },
      "outputs": [],
      "source": [
        "loss_fn = nn.CrossEntropyLoss()\n",
        "optimizer = torch.optim.SGD(model_InceptionNET_0.parameters(), lr=0.03)\n",
        "\n",
        "def accuracy_fn(y_true, y_pred):\n",
        "    correct = torch.eq(y_true, y_pred).sum().item()\n",
        "    acc = (correct / len(y_pred)) * 100\n",
        "    return acc"
      ]
    },
    {
      "cell_type": "code",
      "source": [
        "device = \"cuda\" if torch.cuda.is_available() else \"cpu\""
      ],
      "metadata": {
        "id": "dLOGJv-7agKU"
      },
      "id": "dLOGJv-7agKU",
      "execution_count": 15,
      "outputs": []
    },
    {
      "cell_type": "code",
      "execution_count": 16,
      "id": "6be9e5ac",
      "metadata": {
        "id": "6be9e5ac"
      },
      "outputs": [],
      "source": [
        "#Functionizing training and evaluation/testing loops\n",
        "#We create a function for training loop - train_step()\n",
        "#testing loop - test_step()\n",
        "\n",
        "def train_step(model:torch.nn.Module, data_loader:torch.utils.data.DataLoader,loss_fn:torch.nn.Module,optimizer:torch.optim.Optimizer,accuracy_fn,device:torch.device=device):\n",
        "  #Performs training step on model trying to learn from data loader\n",
        "  train_loss, train_acc = 0, 0\n",
        "  #Put model in training mode\n",
        "  model.train()\n",
        "  #Add a loop through the training batches \n",
        "  for batch, (X,y) in enumerate(data_loader):#Enumerate helps keeping track of batches\n",
        "    #Put data on target device\n",
        "    X,y = X.to(device), y.to(device)\n",
        "    #forward pass\n",
        "    y_pred = model(X)\n",
        "    #loss and accuracy\n",
        "    loss = loss_fn(y_pred, y)\n",
        "    train_loss += loss\n",
        "    train_acc += accuracy_fn(y_true=y, y_pred=y_pred.argmax(dim=1))\n",
        "    #Optimizer zero grad\n",
        "    optimizer.zero_grad()\n",
        "    #Loss backward\n",
        "    loss.backward()\n",
        "    #Step\n",
        "    optimizer.step()\n",
        "\n",
        "  #Adjust the training loss so that it gives us the loss per epoch an not per batch\n",
        "  #Divide total train loss by length of train dataloader\n",
        "  train_loss /= len(data_loader)\n",
        "  train_acc /= len(data_loader)\n",
        "  print(f\"Train Loss: {train_loss:.5f}, Train acc: {train_acc:.2f}%\")"
      ]
    },
    {
      "cell_type": "code",
      "execution_count": 17,
      "id": "dee74f65",
      "metadata": {
        "id": "dee74f65"
      },
      "outputs": [],
      "source": [
        "def test_step(model:torch.nn.Module, data_loader:torch.utils.data.DataLoader,loss_fn:torch.nn.Module,optimizer:torch.optim.Optimizer,accuracy_fn,device:torch.device=device):\n",
        "  #Performs training step on model trying to learn from data loader\n",
        "  test_loss, test_acc = 0, 0\n",
        "  #Put model in training mode\n",
        "  model.eval()\n",
        "  #Add a loop through the training batches \n",
        "  with torch.inference_mode():\n",
        "    for X,y in data_loader:#Enumerate helps keeping track of batches\n",
        "      #Put data on target device\n",
        "      X,y = X.to(device), y.to(device)\n",
        "      #forward pass\n",
        "      test_pred = model(X)\n",
        "      #loss and accuracy\n",
        "      loss = loss_fn(test_pred, y)\n",
        "      test_loss += loss\n",
        "      test_acc += accuracy_fn(y_true=y, y_pred=test_pred.argmax(dim=1))\n",
        "\n",
        "    #Adjust the training loss so that it gives us the loss per epoch an not per batch\n",
        "    #Divide total train loss by length of train dataloader\n",
        "    test_loss /= len(data_loader)\n",
        "    test_acc /= len(data_loader)\n",
        "    print(f\"Test Loss: {test_loss:.5f}, Test acc: {test_acc:.2f}%\")"
      ]
    },
    {
      "cell_type": "code",
      "execution_count": 13,
      "id": "5c5b5730",
      "metadata": {
        "colab": {
          "base_uri": "https://localhost:8080/"
        },
        "id": "5c5b5730",
        "outputId": "65a2874c-d970-4dbc-8b87-a4b6062bf97d"
      },
      "outputs": [
        {
          "output_type": "stream",
          "name": "stderr",
          "text": [
            "\r  0%|          | 0/50 [00:00<?, ?it/s]"
          ]
        },
        {
          "output_type": "stream",
          "name": "stdout",
          "text": [
            "Epoch: 0 ----\n"
          ]
        },
        {
          "output_type": "stream",
          "name": "stderr",
          "text": [
            "\r  2%|▏         | 1/50 [00:09<07:43,  9.46s/it]"
          ]
        },
        {
          "output_type": "stream",
          "name": "stdout",
          "text": [
            "Train Loss: 2.29392, Train acc: 15.60%\n",
            "Test Loss: 2.30099, Test acc: 8.50%\n",
            "Epoch: 1 ----\n"
          ]
        },
        {
          "output_type": "stream",
          "name": "stderr",
          "text": [
            "\r  4%|▍         | 2/50 [00:10<03:35,  4.50s/it]"
          ]
        },
        {
          "output_type": "stream",
          "name": "stdout",
          "text": [
            "Train Loss: 2.20856, Train acc: 23.39%\n",
            "Test Loss: 2.29556, Test acc: 14.00%\n",
            "Epoch: 2 ----\n"
          ]
        },
        {
          "output_type": "stream",
          "name": "stderr",
          "text": [
            "\r  6%|▌         | 3/50 [00:11<02:16,  2.90s/it]"
          ]
        },
        {
          "output_type": "stream",
          "name": "stdout",
          "text": [
            "Train Loss: 2.09662, Train acc: 29.90%\n",
            "Test Loss: 2.28823, Test acc: 14.00%\n",
            "Epoch: 3 ----\n"
          ]
        },
        {
          "output_type": "stream",
          "name": "stderr",
          "text": [
            "\r  8%|▊         | 4/50 [00:12<01:39,  2.15s/it]"
          ]
        },
        {
          "output_type": "stream",
          "name": "stdout",
          "text": [
            "Train Loss: 1.96725, Train acc: 39.69%\n",
            "Test Loss: 2.28124, Test acc: 14.00%\n",
            "Epoch: 4 ----\n"
          ]
        },
        {
          "output_type": "stream",
          "name": "stderr",
          "text": [
            "\r 10%|█         | 5/50 [00:13<01:18,  1.74s/it]"
          ]
        },
        {
          "output_type": "stream",
          "name": "stdout",
          "text": [
            "Train Loss: 1.81989, Train acc: 48.77%\n",
            "Test Loss: 2.28014, Test acc: 14.00%\n",
            "Epoch: 5 ----\n"
          ]
        },
        {
          "output_type": "stream",
          "name": "stderr",
          "text": [
            "\r 12%|█▏        | 6/50 [00:14<01:05,  1.49s/it]"
          ]
        },
        {
          "output_type": "stream",
          "name": "stdout",
          "text": [
            "Train Loss: 1.62915, Train acc: 64.32%\n",
            "Test Loss: 2.29229, Test acc: 14.00%\n",
            "Epoch: 6 ----\n"
          ]
        },
        {
          "output_type": "stream",
          "name": "stderr",
          "text": [
            "\r 14%|█▍        | 7/50 [00:15<00:57,  1.33s/it]"
          ]
        },
        {
          "output_type": "stream",
          "name": "stdout",
          "text": [
            "Train Loss: 1.44250, Train acc: 73.58%\n",
            "Test Loss: 2.32383, Test acc: 14.00%\n",
            "Epoch: 7 ----\n"
          ]
        },
        {
          "output_type": "stream",
          "name": "stderr",
          "text": [
            "\r 16%|█▌        | 8/50 [00:16<00:51,  1.23s/it]"
          ]
        },
        {
          "output_type": "stream",
          "name": "stdout",
          "text": [
            "Train Loss: 1.26863, Train acc: 79.24%\n",
            "Test Loss: 2.38315, Test acc: 14.00%\n",
            "Epoch: 8 ----\n"
          ]
        },
        {
          "output_type": "stream",
          "name": "stderr",
          "text": [
            "\r 18%|█▊        | 9/50 [00:17<00:47,  1.17s/it]"
          ]
        },
        {
          "output_type": "stream",
          "name": "stdout",
          "text": [
            "Train Loss: 1.07785, Train acc: 85.45%\n",
            "Test Loss: 2.48568, Test acc: 14.00%\n",
            "Epoch: 9 ----\n"
          ]
        },
        {
          "output_type": "stream",
          "name": "stderr",
          "text": [
            "\r 20%|██        | 10/50 [00:18<00:44,  1.12s/it]"
          ]
        },
        {
          "output_type": "stream",
          "name": "stdout",
          "text": [
            "Train Loss: 0.96345, Train acc: 85.02%\n",
            "Test Loss: 2.63057, Test acc: 14.00%\n",
            "Epoch: 10 ----\n"
          ]
        },
        {
          "output_type": "stream",
          "name": "stderr",
          "text": [
            "\r 22%|██▏       | 11/50 [00:19<00:42,  1.08s/it]"
          ]
        },
        {
          "output_type": "stream",
          "name": "stdout",
          "text": [
            "Train Loss: 0.86685, Train acc: 88.00%\n",
            "Test Loss: 2.83117, Test acc: 14.00%\n",
            "Epoch: 11 ----\n"
          ]
        },
        {
          "output_type": "stream",
          "name": "stderr",
          "text": [
            "\r 24%|██▍       | 12/50 [00:20<00:40,  1.06s/it]"
          ]
        },
        {
          "output_type": "stream",
          "name": "stdout",
          "text": [
            "Train Loss: 0.70788, Train acc: 90.95%\n",
            "Test Loss: 3.09185, Test acc: 14.00%\n",
            "Epoch: 12 ----\n"
          ]
        },
        {
          "output_type": "stream",
          "name": "stderr",
          "text": [
            "\r 26%|██▌       | 13/50 [00:21<00:38,  1.05s/it]"
          ]
        },
        {
          "output_type": "stream",
          "name": "stdout",
          "text": [
            "Train Loss: 0.55825, Train acc: 94.23%\n",
            "Test Loss: 3.36895, Test acc: 14.00%\n",
            "Epoch: 13 ----\n"
          ]
        },
        {
          "output_type": "stream",
          "name": "stderr",
          "text": [
            "\r 28%|██▊       | 14/50 [00:22<00:37,  1.03s/it]"
          ]
        },
        {
          "output_type": "stream",
          "name": "stdout",
          "text": [
            "Train Loss: 0.51506, Train acc: 94.39%\n",
            "Test Loss: 3.68040, Test acc: 14.00%\n",
            "Epoch: 14 ----\n"
          ]
        },
        {
          "output_type": "stream",
          "name": "stderr",
          "text": [
            "\r 30%|███       | 15/50 [00:23<00:35,  1.03s/it]"
          ]
        },
        {
          "output_type": "stream",
          "name": "stdout",
          "text": [
            "Train Loss: 0.42814, Train acc: 95.71%\n",
            "Test Loss: 3.92296, Test acc: 14.00%\n",
            "Epoch: 15 ----\n"
          ]
        },
        {
          "output_type": "stream",
          "name": "stderr",
          "text": [
            "\r 32%|███▏      | 16/50 [00:24<00:34,  1.02s/it]"
          ]
        },
        {
          "output_type": "stream",
          "name": "stdout",
          "text": [
            "Train Loss: 0.35721, Train acc: 96.80%\n",
            "Test Loss: 4.11001, Test acc: 14.00%\n",
            "Epoch: 16 ----\n"
          ]
        },
        {
          "output_type": "stream",
          "name": "stderr",
          "text": [
            "\r 34%|███▍      | 17/50 [00:25<00:33,  1.01s/it]"
          ]
        },
        {
          "output_type": "stream",
          "name": "stdout",
          "text": [
            "Train Loss: 0.30336, Train acc: 97.38%\n",
            "Test Loss: 4.24382, Test acc: 14.00%\n",
            "Epoch: 17 ----\n"
          ]
        },
        {
          "output_type": "stream",
          "name": "stderr",
          "text": [
            "\r 36%|███▌      | 18/50 [00:26<00:32,  1.01s/it]"
          ]
        },
        {
          "output_type": "stream",
          "name": "stdout",
          "text": [
            "Train Loss: 0.26569, Train acc: 98.31%\n",
            "Test Loss: 4.24974, Test acc: 14.00%\n",
            "Epoch: 18 ----\n"
          ]
        },
        {
          "output_type": "stream",
          "name": "stderr",
          "text": [
            "\r 38%|███▊      | 19/50 [00:27<00:31,  1.02s/it]"
          ]
        },
        {
          "output_type": "stream",
          "name": "stdout",
          "text": [
            "Train Loss: 0.23994, Train acc: 98.29%\n",
            "Test Loss: 4.08989, Test acc: 14.00%\n",
            "Epoch: 19 ----\n"
          ]
        },
        {
          "output_type": "stream",
          "name": "stderr",
          "text": [
            "\r 40%|████      | 20/50 [00:28<00:30,  1.01s/it]"
          ]
        },
        {
          "output_type": "stream",
          "name": "stdout",
          "text": [
            "Train Loss: 0.21411, Train acc: 98.90%\n",
            "Test Loss: 3.99281, Test acc: 14.00%\n",
            "Epoch: 20 ----\n"
          ]
        },
        {
          "output_type": "stream",
          "name": "stderr",
          "text": [
            "\r 42%|████▏     | 21/50 [00:29<00:29,  1.01s/it]"
          ]
        },
        {
          "output_type": "stream",
          "name": "stdout",
          "text": [
            "Train Loss: 0.18190, Train acc: 99.10%\n",
            "Test Loss: 3.78060, Test acc: 14.00%\n",
            "Epoch: 21 ----\n"
          ]
        },
        {
          "output_type": "stream",
          "name": "stderr",
          "text": [
            "\r 44%|████▍     | 22/50 [00:30<00:28,  1.01s/it]"
          ]
        },
        {
          "output_type": "stream",
          "name": "stdout",
          "text": [
            "Train Loss: 0.16268, Train acc: 99.10%\n",
            "Test Loss: 3.61042, Test acc: 14.50%\n",
            "Epoch: 22 ----\n"
          ]
        },
        {
          "output_type": "stream",
          "name": "stderr",
          "text": [
            "\r 46%|████▌     | 23/50 [00:31<00:27,  1.01s/it]"
          ]
        },
        {
          "output_type": "stream",
          "name": "stdout",
          "text": [
            "Train Loss: 0.15284, Train acc: 99.30%\n",
            "Test Loss: 3.18535, Test acc: 15.50%\n",
            "Epoch: 23 ----\n"
          ]
        },
        {
          "output_type": "stream",
          "name": "stderr",
          "text": [
            "\r 48%|████▊     | 24/50 [00:32<00:26,  1.01s/it]"
          ]
        },
        {
          "output_type": "stream",
          "name": "stdout",
          "text": [
            "Train Loss: 0.14882, Train acc: 99.11%\n",
            "Test Loss: 2.97317, Test acc: 20.00%\n",
            "Epoch: 24 ----\n"
          ]
        },
        {
          "output_type": "stream",
          "name": "stderr",
          "text": [
            "\r 50%|█████     | 25/50 [00:33<00:25,  1.00s/it]"
          ]
        },
        {
          "output_type": "stream",
          "name": "stdout",
          "text": [
            "Train Loss: 0.12088, Train acc: 99.60%\n",
            "Test Loss: 2.62317, Test acc: 22.00%\n",
            "Epoch: 25 ----\n"
          ]
        },
        {
          "output_type": "stream",
          "name": "stderr",
          "text": [
            "\r 52%|█████▏    | 26/50 [00:34<00:24,  1.03s/it]"
          ]
        },
        {
          "output_type": "stream",
          "name": "stdout",
          "text": [
            "Train Loss: 0.10774, Train acc: 99.60%\n",
            "Test Loss: 2.25610, Test acc: 25.50%\n",
            "Epoch: 26 ----\n"
          ]
        },
        {
          "output_type": "stream",
          "name": "stderr",
          "text": [
            "\r 54%|█████▍    | 27/50 [00:35<00:23,  1.04s/it]"
          ]
        },
        {
          "output_type": "stream",
          "name": "stdout",
          "text": [
            "Train Loss: 0.09411, Train acc: 99.70%\n",
            "Test Loss: 1.80905, Test acc: 35.00%\n",
            "Epoch: 27 ----\n"
          ]
        },
        {
          "output_type": "stream",
          "name": "stderr",
          "text": [
            "\r 56%|█████▌    | 28/50 [00:36<00:22,  1.03s/it]"
          ]
        },
        {
          "output_type": "stream",
          "name": "stdout",
          "text": [
            "Train Loss: 0.09105, Train acc: 99.60%\n",
            "Test Loss: 1.34624, Test acc: 44.50%\n",
            "Epoch: 28 ----\n"
          ]
        },
        {
          "output_type": "stream",
          "name": "stderr",
          "text": [
            "\r 58%|█████▊    | 29/50 [00:37<00:21,  1.02s/it]"
          ]
        },
        {
          "output_type": "stream",
          "name": "stdout",
          "text": [
            "Train Loss: 0.08390, Train acc: 99.70%\n",
            "Test Loss: 1.09217, Test acc: 57.50%\n",
            "Epoch: 29 ----\n"
          ]
        },
        {
          "output_type": "stream",
          "name": "stderr",
          "text": [
            "\r 60%|██████    | 30/50 [00:38<00:20,  1.02s/it]"
          ]
        },
        {
          "output_type": "stream",
          "name": "stdout",
          "text": [
            "Train Loss: 0.07527, Train acc: 99.80%\n",
            "Test Loss: 0.83252, Test acc: 72.00%\n",
            "Epoch: 30 ----\n"
          ]
        },
        {
          "output_type": "stream",
          "name": "stderr",
          "text": [
            "\r 62%|██████▏   | 31/50 [00:39<00:19,  1.02s/it]"
          ]
        },
        {
          "output_type": "stream",
          "name": "stdout",
          "text": [
            "Train Loss: 0.06896, Train acc: 99.80%\n",
            "Test Loss: 0.54821, Test acc: 86.50%\n",
            "Epoch: 31 ----\n"
          ]
        },
        {
          "output_type": "stream",
          "name": "stderr",
          "text": [
            "\r 64%|██████▍   | 32/50 [00:40<00:18,  1.01s/it]"
          ]
        },
        {
          "output_type": "stream",
          "name": "stdout",
          "text": [
            "Train Loss: 0.06354, Train acc: 99.90%\n",
            "Test Loss: 0.43575, Test acc: 92.00%\n",
            "Epoch: 32 ----\n"
          ]
        },
        {
          "output_type": "stream",
          "name": "stderr",
          "text": [
            "\r 66%|██████▌   | 33/50 [00:41<00:17,  1.01s/it]"
          ]
        },
        {
          "output_type": "stream",
          "name": "stdout",
          "text": [
            "Train Loss: 0.05800, Train acc: 100.00%\n",
            "Test Loss: 0.53084, Test acc: 83.50%\n",
            "Epoch: 33 ----\n"
          ]
        },
        {
          "output_type": "stream",
          "name": "stderr",
          "text": [
            "\r 68%|██████▊   | 34/50 [00:42<00:16,  1.01s/it]"
          ]
        },
        {
          "output_type": "stream",
          "name": "stdout",
          "text": [
            "Train Loss: 0.05230, Train acc: 99.90%\n",
            "Test Loss: 0.45688, Test acc: 88.50%\n",
            "Epoch: 34 ----\n"
          ]
        },
        {
          "output_type": "stream",
          "name": "stderr",
          "text": [
            "\r 70%|███████   | 35/50 [00:43<00:15,  1.01s/it]"
          ]
        },
        {
          "output_type": "stream",
          "name": "stdout",
          "text": [
            "Train Loss: 0.05014, Train acc: 99.90%\n",
            "Test Loss: 0.40979, Test acc: 90.00%\n",
            "Epoch: 35 ----\n"
          ]
        },
        {
          "output_type": "stream",
          "name": "stderr",
          "text": [
            "\r 72%|███████▏  | 36/50 [00:44<00:14,  1.01s/it]"
          ]
        },
        {
          "output_type": "stream",
          "name": "stdout",
          "text": [
            "Train Loss: 0.05040, Train acc: 100.00%\n",
            "Test Loss: 0.31296, Test acc: 95.00%\n",
            "Epoch: 36 ----\n"
          ]
        },
        {
          "output_type": "stream",
          "name": "stderr",
          "text": [
            "\r 74%|███████▍  | 37/50 [00:45<00:13,  1.01s/it]"
          ]
        },
        {
          "output_type": "stream",
          "name": "stdout",
          "text": [
            "Train Loss: 0.04522, Train acc: 100.00%\n",
            "Test Loss: 0.28645, Test acc: 96.00%\n",
            "Epoch: 37 ----\n"
          ]
        },
        {
          "output_type": "stream",
          "name": "stderr",
          "text": [
            "\r 76%|███████▌  | 38/50 [00:46<00:12,  1.01s/it]"
          ]
        },
        {
          "output_type": "stream",
          "name": "stdout",
          "text": [
            "Train Loss: 0.04212, Train acc: 100.00%\n",
            "Test Loss: 0.24153, Test acc: 97.50%\n",
            "Epoch: 38 ----\n"
          ]
        },
        {
          "output_type": "stream",
          "name": "stderr",
          "text": [
            "\r 78%|███████▊  | 39/50 [00:47<00:11,  1.01s/it]"
          ]
        },
        {
          "output_type": "stream",
          "name": "stdout",
          "text": [
            "Train Loss: 0.03899, Train acc: 100.00%\n",
            "Test Loss: 0.18516, Test acc: 98.00%\n",
            "Epoch: 39 ----\n"
          ]
        },
        {
          "output_type": "stream",
          "name": "stderr",
          "text": [
            "\r 80%|████████  | 40/50 [00:48<00:10,  1.00s/it]"
          ]
        },
        {
          "output_type": "stream",
          "name": "stdout",
          "text": [
            "Train Loss: 0.03798, Train acc: 100.00%\n",
            "Test Loss: 0.17952, Test acc: 98.50%\n",
            "Epoch: 40 ----\n"
          ]
        },
        {
          "output_type": "stream",
          "name": "stderr",
          "text": [
            "\r 82%|████████▏ | 41/50 [00:49<00:09,  1.00s/it]"
          ]
        },
        {
          "output_type": "stream",
          "name": "stdout",
          "text": [
            "Train Loss: 0.03566, Train acc: 100.00%\n",
            "Test Loss: 0.18164, Test acc: 98.50%\n",
            "Epoch: 41 ----\n"
          ]
        },
        {
          "output_type": "stream",
          "name": "stderr",
          "text": [
            "\r 84%|████████▍ | 42/50 [00:50<00:08,  1.00s/it]"
          ]
        },
        {
          "output_type": "stream",
          "name": "stdout",
          "text": [
            "Train Loss: 0.03343, Train acc: 100.00%\n",
            "Test Loss: 0.19660, Test acc: 97.50%\n",
            "Epoch: 42 ----\n"
          ]
        },
        {
          "output_type": "stream",
          "name": "stderr",
          "text": [
            "\r 86%|████████▌ | 43/50 [00:51<00:07,  1.01s/it]"
          ]
        },
        {
          "output_type": "stream",
          "name": "stdout",
          "text": [
            "Train Loss: 0.03278, Train acc: 100.00%\n",
            "Test Loss: 0.17369, Test acc: 98.50%\n",
            "Epoch: 43 ----\n"
          ]
        },
        {
          "output_type": "stream",
          "name": "stderr",
          "text": [
            "\r 88%|████████▊ | 44/50 [00:52<00:06,  1.01s/it]"
          ]
        },
        {
          "output_type": "stream",
          "name": "stdout",
          "text": [
            "Train Loss: 0.03048, Train acc: 100.00%\n",
            "Test Loss: 0.14622, Test acc: 98.50%\n",
            "Epoch: 44 ----\n"
          ]
        },
        {
          "output_type": "stream",
          "name": "stderr",
          "text": [
            "\r 90%|█████████ | 45/50 [00:53<00:05,  1.01s/it]"
          ]
        },
        {
          "output_type": "stream",
          "name": "stdout",
          "text": [
            "Train Loss: 0.02910, Train acc: 100.00%\n",
            "Test Loss: 0.14890, Test acc: 98.50%\n",
            "Epoch: 45 ----\n"
          ]
        },
        {
          "output_type": "stream",
          "name": "stderr",
          "text": [
            "\r 92%|█████████▏| 46/50 [00:54<00:04,  1.01s/it]"
          ]
        },
        {
          "output_type": "stream",
          "name": "stdout",
          "text": [
            "Train Loss: 0.02668, Train acc: 100.00%\n",
            "Test Loss: 0.14069, Test acc: 98.50%\n",
            "Epoch: 46 ----\n"
          ]
        },
        {
          "output_type": "stream",
          "name": "stderr",
          "text": [
            "\r 94%|█████████▍| 47/50 [00:55<00:03,  1.01s/it]"
          ]
        },
        {
          "output_type": "stream",
          "name": "stdout",
          "text": [
            "Train Loss: 0.02624, Train acc: 100.00%\n",
            "Test Loss: 0.13516, Test acc: 98.50%\n",
            "Epoch: 47 ----\n"
          ]
        },
        {
          "output_type": "stream",
          "name": "stderr",
          "text": [
            "\r 96%|█████████▌| 48/50 [00:56<00:02,  1.01s/it]"
          ]
        },
        {
          "output_type": "stream",
          "name": "stdout",
          "text": [
            "Train Loss: 0.02505, Train acc: 100.00%\n",
            "Test Loss: 0.13299, Test acc: 98.50%\n",
            "Epoch: 48 ----\n"
          ]
        },
        {
          "output_type": "stream",
          "name": "stderr",
          "text": [
            "\r 98%|█████████▊| 49/50 [00:57<00:01,  1.01s/it]"
          ]
        },
        {
          "output_type": "stream",
          "name": "stdout",
          "text": [
            "Train Loss: 0.02565, Train acc: 100.00%\n",
            "Test Loss: 0.14014, Test acc: 98.50%\n",
            "Epoch: 49 ----\n"
          ]
        },
        {
          "output_type": "stream",
          "name": "stderr",
          "text": [
            "100%|██████████| 50/50 [00:59<00:00,  1.18s/it]"
          ]
        },
        {
          "output_type": "stream",
          "name": "stdout",
          "text": [
            "Train Loss: 0.02329, Train acc: 100.00%\n",
            "Test Loss: 0.13774, Test acc: 98.50%\n",
            "Train time on cuda : 59.012 seconds\n"
          ]
        },
        {
          "output_type": "stream",
          "name": "stderr",
          "text": [
            "\n"
          ]
        }
      ],
      "source": [
        "torch.manual_seed(42)\n",
        "\n",
        "#Measure time\n",
        "train_time_start_on_gpu = timer()\n",
        "\n",
        "#Set epochs\n",
        "epochs=50\n",
        "\n",
        "#Create a optimization and evaluation loop using train_step() and test_step()\n",
        "for epoch in tqdm(range(epochs)):\n",
        "  print(f\"Epoch: {epoch} ----\")\n",
        "  train_step(model=model_InceptionNET_0, data_loader=train_dataloader,loss_fn=loss_fn,optimizer=optimizer,accuracy_fn=accuracy_fn,device=device)\n",
        "  \n",
        "  test_step(model=model_InceptionNET_0,data_loader=test_dataloader,loss_fn=loss_fn,optimizer=optimizer,accuracy_fn=accuracy_fn,device=device)\n",
        "  \n",
        "train_time_end_on_gpu = timer()\n",
        "total_train_time_model_1 = print_train_time(start=train_time_start_on_gpu,\n",
        "                                            end=train_time_end_on_gpu,\n",
        "                                            device=device)"
      ]
    },
    {
      "cell_type": "code",
      "execution_count": 18,
      "id": "d43e47df",
      "metadata": {
        "id": "d43e47df"
      },
      "outputs": [],
      "source": [
        "def eval_model(model: torch.nn.Module,\n",
        "              data_loader: torch.utils.data.DataLoader,\n",
        "              loss_fn: torch.nn.Module,\n",
        "              accuracy_fn,\n",
        "              device=device):\n",
        "  loss,acc = 0, 0\n",
        "  #Returns a dictionary containing the results of the model predicting on data_loader\n",
        "  model.eval()\n",
        "  with torch.inference_mode():\n",
        "    for X,y in tqdm(data_loader):\n",
        "      X,y = X.to(device), y.to(device)\n",
        "      #Make predictions\n",
        "      y_pred = model(X)\n",
        "\n",
        "      #Accumulate the loss and acc values per batch\n",
        "      loss += loss_fn(y_pred, y)\n",
        "      acc += accuracy_fn(y_true=y,\n",
        "                         y_pred=y_pred.argmax(dim=1))\n",
        "    #Scale the loss and acc to find the average loss and acc per batch\n",
        "    loss /= len(data_loader)\n",
        "    acc /= len(data_loader)\n",
        "\n",
        "  return {\"model_name\":model.__class__.__name__,\n",
        "          \"model_loss\":loss.item(),\n",
        "          \"model_acc\":acc}"
      ]
    },
    {
      "cell_type": "code",
      "execution_count": 15,
      "id": "d8c17e86",
      "metadata": {
        "id": "d8c17e86"
      },
      "outputs": [],
      "source": [
        "#Now we save the model\n",
        "from pathlib import Path\n",
        "#Create the model directory\n",
        "MODEL_PATH = Path(\"models\")\n",
        "MODEL_PATH.mkdir(parents=True, exist_ok=True)\n",
        "#Create the model save path\n",
        "MODEL_NAME = \"00_InceptionNET_MNISTpth\"\n",
        "MODEL_SAVE_PATH = MODEL_PATH/MODEL_NAME"
      ]
    },
    {
      "cell_type": "code",
      "execution_count": 16,
      "id": "0e0a04c7",
      "metadata": {
        "id": "0e0a04c7",
        "colab": {
          "base_uri": "https://localhost:8080/"
        },
        "outputId": "7ea4e164-8f0f-422d-e535-d61fce4f18cf"
      },
      "outputs": [
        {
          "output_type": "stream",
          "name": "stdout",
          "text": [
            "Saved at models/00_InceptionNET_MNISTpth\n"
          ]
        }
      ],
      "source": [
        "#Saving the model\n",
        "torch.save(obj=model_InceptionNET_0.state_dict(),\n",
        "           f=MODEL_SAVE_PATH)\n",
        "print(f'Saved at {MODEL_SAVE_PATH}')"
      ]
    },
    {
      "cell_type": "code",
      "execution_count": 17,
      "id": "e41b447b",
      "metadata": {
        "id": "e41b447b",
        "colab": {
          "base_uri": "https://localhost:8080/"
        },
        "outputId": "7208361b-6251-4b46-f7f2-44901694669e"
      },
      "outputs": [
        {
          "output_type": "execute_result",
          "data": {
            "text/plain": [
              "<All keys matched successfully>"
            ]
          },
          "metadata": {},
          "execution_count": 17
        }
      ],
      "source": [
        "#Loading the model\n",
        "#Create a new instance of the model and update the parameters\n",
        "model_InceptionNET_MNIST = GoogLeNet(in_channels=1, num_classes=10).to(device)\n",
        "model_InceptionNET_MNIST.load_state_dict(torch.load(f=MODEL_SAVE_PATH))"
      ]
    },
    {
      "cell_type": "code",
      "execution_count": 18,
      "id": "00a347e6",
      "metadata": {
        "id": "00a347e6",
        "colab": {
          "base_uri": "https://localhost:8080/"
        },
        "outputId": "34a28433-6043-4cf8-dfc9-b366c48395c2"
      },
      "outputs": [
        {
          "output_type": "stream",
          "name": "stderr",
          "text": [
            "100%|██████████| 1/1 [00:00<00:00,  7.38it/s]\n"
          ]
        },
        {
          "output_type": "execute_result",
          "data": {
            "text/plain": [
              "{'model_name': 'GoogLeNet',\n",
              " 'model_loss': 0.13773691654205322,\n",
              " 'model_acc': 98.5}"
            ]
          },
          "metadata": {},
          "execution_count": 18
        }
      ],
      "source": [
        "#Get model results\n",
        "model_InceptionNET_MNIST_results = eval_model(\n",
        "    model=model_InceptionNET_MNIST,\n",
        "    data_loader=test_dataloader,\n",
        "    loss_fn=loss_fn,\n",
        "    accuracy_fn=accuracy_fn,\n",
        "    device=device\n",
        ")\n",
        "model_InceptionNET_MNIST_results"
      ]
    },
    {
      "cell_type": "code",
      "execution_count": 19,
      "id": "65b198ad",
      "metadata": {
        "id": "65b198ad",
        "colab": {
          "base_uri": "https://localhost:8080/",
          "height": 423,
          "referenced_widgets": [
            "e365e12a80094a2a809709ee8b6696e8",
            "9fd0f0873e0f4a4d8e13c319af64f536",
            "b35b036485d0415da418ff2a3a7e6a71",
            "b56a5d6535fa4177911fc78ceedf3750",
            "b80b24fcb68a432d8f348d423b3235fc",
            "de126fc4a31a499dbc9c696bbf909b3b",
            "817bd4cfa029418681fc64fec6a5003e",
            "7ff3cd969e564aaab97cee5cd190d53d",
            "62acda2478274546bd894e9c928c59dd",
            "d24b64908f7043b39839e6af99f92c27",
            "52bef6962bf045c08fad2d046a5e02ed",
            "09b32fd89ef041968da5d3c0f6b1fc86",
            "e7e6838741364e4a80106b069ff2e375",
            "2e0ba0a4844c486b828997d1d285d4ef",
            "c2402368fd634b7ba302db3b62fa71bb",
            "086fb2a5cbd849c0a19edfb91a762670",
            "881cf7d50d1b4b519f782d7e94b67f65",
            "12ef38a74e934fea8b2c7b1555975d73",
            "fdc5e687acbe4222aca6e085b805687d",
            "41e487a8d98248beb868516521d7a897",
            "c27f69307d4649ce9bd2858bc27e09b2",
            "020ad15b51ea4602abda5579d8d235fc",
            "907f9e3e54f142128114419df7448f6d",
            "662becc01b3e49a89d8cc83436283720",
            "bed74a9974a14dcab76f4407f96d1dda",
            "0c4d9b04589d44f28e9bb8fc52e3fbe8",
            "5045e69eb7824177b26d6f1c89338f0b",
            "ec8bd4a9e4774bc19f3235d46db9cbf9",
            "9d6fca26a4c34f3594b0b729a40f6ce3",
            "023d62b685674929b14335fed3fa2e7b",
            "54799f92d83545bc98ea87f7ba2131f1",
            "38047f0d9bed45ea991de3b8ca58ec7e",
            "a9879c0cfddb4f7085789be03f1e5db3",
            "1ed64eede7b74720a33a6d7b0b4c9139",
            "8d954c7b525e4a4cb9c64d75a367b1e6",
            "932adbc282b64dab90750a40d1e16045",
            "263c786095284ac69f1e3f75f79c4507",
            "6dbbf3ff83e247f9b416ef16644b2965",
            "b42e37b326434649bbdec9febcd7154a",
            "dac819834df4420a888e4e09ccbbd2fd",
            "a8b5646990f74b74b1ed57425e5ee5ec",
            "9ea755ceb4c748fa8cff44052d703147",
            "d455afc1dbdb44f49a45d3f85f928a56",
            "798a8025e8724f0c8351e4cde8f9b106"
          ]
        },
        "outputId": "a9c821bb-5b99-45c1-d38b-3ca76ca83351"
      },
      "outputs": [
        {
          "output_type": "stream",
          "name": "stdout",
          "text": [
            "Downloading http://fashion-mnist.s3-website.eu-central-1.amazonaws.com/train-images-idx3-ubyte.gz\n",
            "Downloading http://fashion-mnist.s3-website.eu-central-1.amazonaws.com/train-images-idx3-ubyte.gz to data/FashionMNIST/raw/train-images-idx3-ubyte.gz\n"
          ]
        },
        {
          "output_type": "display_data",
          "data": {
            "text/plain": [
              "  0%|          | 0/26421880 [00:00<?, ?it/s]"
            ],
            "application/vnd.jupyter.widget-view+json": {
              "version_major": 2,
              "version_minor": 0,
              "model_id": "e365e12a80094a2a809709ee8b6696e8"
            }
          },
          "metadata": {}
        },
        {
          "output_type": "stream",
          "name": "stdout",
          "text": [
            "Extracting data/FashionMNIST/raw/train-images-idx3-ubyte.gz to data/FashionMNIST/raw\n",
            "\n",
            "Downloading http://fashion-mnist.s3-website.eu-central-1.amazonaws.com/train-labels-idx1-ubyte.gz\n",
            "Downloading http://fashion-mnist.s3-website.eu-central-1.amazonaws.com/train-labels-idx1-ubyte.gz to data/FashionMNIST/raw/train-labels-idx1-ubyte.gz\n"
          ]
        },
        {
          "output_type": "display_data",
          "data": {
            "text/plain": [
              "  0%|          | 0/29515 [00:00<?, ?it/s]"
            ],
            "application/vnd.jupyter.widget-view+json": {
              "version_major": 2,
              "version_minor": 0,
              "model_id": "09b32fd89ef041968da5d3c0f6b1fc86"
            }
          },
          "metadata": {}
        },
        {
          "output_type": "stream",
          "name": "stdout",
          "text": [
            "Extracting data/FashionMNIST/raw/train-labels-idx1-ubyte.gz to data/FashionMNIST/raw\n",
            "\n",
            "Downloading http://fashion-mnist.s3-website.eu-central-1.amazonaws.com/t10k-images-idx3-ubyte.gz\n",
            "Downloading http://fashion-mnist.s3-website.eu-central-1.amazonaws.com/t10k-images-idx3-ubyte.gz to data/FashionMNIST/raw/t10k-images-idx3-ubyte.gz\n"
          ]
        },
        {
          "output_type": "display_data",
          "data": {
            "text/plain": [
              "  0%|          | 0/4422102 [00:00<?, ?it/s]"
            ],
            "application/vnd.jupyter.widget-view+json": {
              "version_major": 2,
              "version_minor": 0,
              "model_id": "907f9e3e54f142128114419df7448f6d"
            }
          },
          "metadata": {}
        },
        {
          "output_type": "stream",
          "name": "stdout",
          "text": [
            "Extracting data/FashionMNIST/raw/t10k-images-idx3-ubyte.gz to data/FashionMNIST/raw\n",
            "\n",
            "Downloading http://fashion-mnist.s3-website.eu-central-1.amazonaws.com/t10k-labels-idx1-ubyte.gz\n",
            "Downloading http://fashion-mnist.s3-website.eu-central-1.amazonaws.com/t10k-labels-idx1-ubyte.gz to data/FashionMNIST/raw/t10k-labels-idx1-ubyte.gz\n"
          ]
        },
        {
          "output_type": "display_data",
          "data": {
            "text/plain": [
              "  0%|          | 0/5148 [00:00<?, ?it/s]"
            ],
            "application/vnd.jupyter.widget-view+json": {
              "version_major": 2,
              "version_minor": 0,
              "model_id": "1ed64eede7b74720a33a6d7b0b4c9139"
            }
          },
          "metadata": {}
        },
        {
          "output_type": "stream",
          "name": "stdout",
          "text": [
            "Extracting data/FashionMNIST/raw/t10k-labels-idx1-ubyte.gz to data/FashionMNIST/raw\n",
            "\n"
          ]
        }
      ],
      "source": [
        "#FashionMNIST\n",
        "train_data = datasets.FashionMNIST(root=\"data\",\n",
        "                                   train=True,\n",
        "                                   download=True,\n",
        "                                   transform=transforms.Compose([transforms.Resize(size=(224,224)),transforms.ToTensor()]))\n",
        "\n",
        "test_data = datasets.FashionMNIST(root=\"data\",\n",
        "                                   train=False,\n",
        "                                   download=True,\n",
        "                                   transform=transforms.Compose([transforms.Resize(size=(224,224)),transforms.ToTensor()]))"
      ]
    },
    {
      "cell_type": "code",
      "execution_count": 20,
      "id": "6a1dba34",
      "metadata": {
        "id": "6a1dba34",
        "colab": {
          "base_uri": "https://localhost:8080/"
        },
        "outputId": "7d70672f-e717-407e-8e03-04715f3b4d2c"
      },
      "outputs": [
        {
          "output_type": "execute_result",
          "data": {
            "text/plain": [
              "(['T-shirt/top',\n",
              "  'Trouser',\n",
              "  'Pullover',\n",
              "  'Dress',\n",
              "  'Coat',\n",
              "  'Sandal',\n",
              "  'Shirt',\n",
              "  'Sneaker',\n",
              "  'Bag',\n",
              "  'Ankle boot'],\n",
              " {'T-shirt/top': 0,\n",
              "  'Trouser': 1,\n",
              "  'Pullover': 2,\n",
              "  'Dress': 3,\n",
              "  'Coat': 4,\n",
              "  'Sandal': 5,\n",
              "  'Shirt': 6,\n",
              "  'Sneaker': 7,\n",
              "  'Bag': 8,\n",
              "  'Ankle boot': 9})"
            ]
          },
          "metadata": {},
          "execution_count": 20
        }
      ],
      "source": [
        "class_names = train_data.classes\n",
        "class_to_idx = train_data.class_to_idx\n",
        "class_names, class_to_idx"
      ]
    },
    {
      "cell_type": "code",
      "execution_count": 21,
      "id": "821db843",
      "metadata": {
        "id": "821db843",
        "colab": {
          "base_uri": "https://localhost:8080/"
        },
        "outputId": "40b3f1b1-0ed7-436d-a006-2213b1f02c84"
      },
      "outputs": [
        {
          "output_type": "execute_result",
          "data": {
            "text/plain": [
              "(1000, 200)"
            ]
          },
          "metadata": {},
          "execution_count": 21
        }
      ],
      "source": [
        "import torch.utils.data as data_utils\n",
        "\n",
        "indices_train = torch.arange(1000)\n",
        "indices_test = torch.arange(200)\n",
        "train_data = data_utils.Subset(train_data, indices_train)\n",
        "test_data = data_utils.Subset(test_data, indices_test)\n",
        "len(train_data), len(test_data)"
      ]
    },
    {
      "cell_type": "code",
      "execution_count": 22,
      "id": "79dd94e8",
      "metadata": {
        "id": "79dd94e8",
        "colab": {
          "base_uri": "https://localhost:8080/",
          "height": 536
        },
        "outputId": "bc9ab996-22cf-4c2d-f389-db672f64d54f"
      },
      "outputs": [
        {
          "output_type": "display_data",
          "data": {
            "text/plain": [
              "<Figure size 648x648 with 16 Axes>"
            ],
            "image/png": "[encoded data removed]"
          },
          "metadata": {
            "needs_background": "light"
          }
        }
      ],
      "source": [
        "#Plot more images\n",
        "torch.manual_seed(42)\n",
        "fig = plt.figure(figsize=(9,9))\n",
        "rows, cols = 4, 4\n",
        "for i in range(1, rows*cols+1):\n",
        "  random_idx = torch.randint(0, len(train_data), size=[1]).item()\n",
        "  img, label = train_data[random_idx]\n",
        "  fig.add_subplot(rows, cols, i)\n",
        "  plt.imshow(img.squeeze(), cmap=\"gray\")\n",
        "  plt.title(class_names[label])\n",
        "  plt.axis(False)"
      ]
    },
    {
      "cell_type": "code",
      "execution_count": 23,
      "id": "fa37cf64",
      "metadata": {
        "id": "fa37cf64"
      },
      "outputs": [],
      "source": [
        "#Prepare Dataloader that prepares our data into python iterable\n",
        "#We turn our data into mini batches since it is more computationally efficient\n",
        "from torch.utils.data import DataLoader\n",
        "\n",
        "#Setup the batch size hyperparameter\n",
        "BATCH_SIZE = 512\n",
        "device = \"cuda\" if torch.cuda.is_available() else \"cpu\"\n",
        "\n",
        "#Turn datasets into iterables(batches)\n",
        "train_dataloader = DataLoader(train_data, batch_size=BATCH_SIZE, shuffle=True)\n",
        "test_dataloader = DataLoader(test_data, batch_size=BATCH_SIZE, shuffle=False)"
      ]
    },
    {
      "cell_type": "code",
      "execution_count": 24,
      "id": "2e56e363",
      "metadata": {
        "id": "2e56e363"
      },
      "outputs": [],
      "source": [
        "model_InceptionNET_1 = GoogLeNet(in_channels=1, num_classes=10).to(device)"
      ]
    },
    {
      "cell_type": "code",
      "execution_count": 25,
      "id": "96d5c360",
      "metadata": {
        "id": "96d5c360"
      },
      "outputs": [],
      "source": [
        "loss_fn = nn.CrossEntropyLoss()\n",
        "optimizer = torch.optim.SGD(model_InceptionNET_1.parameters(), lr=0.03)\n",
        "\n",
        "def accuracy_fn(y_true, y_pred):\n",
        "    correct = torch.eq(y_true, y_pred).sum().item()\n",
        "    acc = (correct / len(y_pred)) * 100\n",
        "    return acc"
      ]
    },
    {
      "cell_type": "code",
      "execution_count": 26,
      "id": "66785c9f",
      "metadata": {
        "id": "66785c9f"
      },
      "outputs": [],
      "source": [
        "#TRAINING AND TESTING"
      ]
    },
    {
      "cell_type": "code",
      "execution_count": 27,
      "id": "c11c8ce0",
      "metadata": {
        "id": "c11c8ce0",
        "colab": {
          "base_uri": "https://localhost:8080/"
        },
        "outputId": "e04fbf8d-597a-4c32-81aa-b9fc1cc8e3c1"
      },
      "outputs": [
        {
          "output_type": "stream",
          "name": "stderr",
          "text": [
            "\r  0%|          | 0/50 [00:00<?, ?it/s]"
          ]
        },
        {
          "output_type": "stream",
          "name": "stdout",
          "text": [
            "Epoch: 0 ----\n"
          ]
        },
        {
          "output_type": "stream",
          "name": "stderr",
          "text": [
            "\r  2%|▏         | 1/50 [00:01<00:50,  1.04s/it]"
          ]
        },
        {
          "output_type": "stream",
          "name": "stdout",
          "text": [
            "Train Loss: 2.30961, Train acc: 12.89%\n",
            "Test Loss: 2.30264, Test acc: 10.00%\n",
            "Epoch: 1 ----\n"
          ]
        },
        {
          "output_type": "stream",
          "name": "stderr",
          "text": [
            "\r  4%|▍         | 2/50 [00:02<00:49,  1.03s/it]"
          ]
        },
        {
          "output_type": "stream",
          "name": "stdout",
          "text": [
            "Train Loss: 2.19955, Train acc: 23.26%\n",
            "Test Loss: 2.30416, Test acc: 10.00%\n",
            "Epoch: 2 ----\n"
          ]
        },
        {
          "output_type": "stream",
          "name": "stderr",
          "text": [
            "\r  6%|▌         | 3/50 [00:03<00:48,  1.03s/it]"
          ]
        },
        {
          "output_type": "stream",
          "name": "stdout",
          "text": [
            "Train Loss: 2.05063, Train acc: 33.76%\n",
            "Test Loss: 2.30669, Test acc: 10.00%\n",
            "Epoch: 3 ----\n"
          ]
        },
        {
          "output_type": "stream",
          "name": "stderr",
          "text": [
            "\r  8%|▊         | 4/50 [00:04<00:46,  1.02s/it]"
          ]
        },
        {
          "output_type": "stream",
          "name": "stdout",
          "text": [
            "Train Loss: 1.90632, Train acc: 37.99%\n",
            "Test Loss: 2.31046, Test acc: 10.00%\n",
            "Epoch: 4 ----\n"
          ]
        },
        {
          "output_type": "stream",
          "name": "stderr",
          "text": [
            "\r 10%|█         | 5/50 [00:05<00:45,  1.02s/it]"
          ]
        },
        {
          "output_type": "stream",
          "name": "stdout",
          "text": [
            "Train Loss: 1.73845, Train acc: 46.43%\n",
            "Test Loss: 2.31484, Test acc: 8.50%\n",
            "Epoch: 5 ----\n"
          ]
        },
        {
          "output_type": "stream",
          "name": "stderr",
          "text": [
            "\r 12%|█▏        | 6/50 [00:06<00:44,  1.02s/it]"
          ]
        },
        {
          "output_type": "stream",
          "name": "stdout",
          "text": [
            "Train Loss: 1.56599, Train acc: 56.02%\n",
            "Test Loss: 2.32104, Test acc: 8.50%\n",
            "Epoch: 6 ----\n"
          ]
        },
        {
          "output_type": "stream",
          "name": "stderr",
          "text": [
            "\r 14%|█▍        | 7/50 [00:07<00:43,  1.01s/it]"
          ]
        },
        {
          "output_type": "stream",
          "name": "stdout",
          "text": [
            "Train Loss: 1.42232, Train acc: 59.42%\n",
            "Test Loss: 2.32906, Test acc: 8.50%\n",
            "Epoch: 7 ----\n"
          ]
        },
        {
          "output_type": "stream",
          "name": "stderr",
          "text": [
            "\r 16%|█▌        | 8/50 [00:08<00:42,  1.01s/it]"
          ]
        },
        {
          "output_type": "stream",
          "name": "stdout",
          "text": [
            "Train Loss: 1.28238, Train acc: 66.22%\n",
            "Test Loss: 2.34478, Test acc: 8.50%\n",
            "Epoch: 8 ----\n"
          ]
        },
        {
          "output_type": "stream",
          "name": "stderr",
          "text": [
            "\r 18%|█▊        | 9/50 [00:09<00:41,  1.01s/it]"
          ]
        },
        {
          "output_type": "stream",
          "name": "stdout",
          "text": [
            "Train Loss: 1.16406, Train acc: 69.11%\n",
            "Test Loss: 2.35796, Test acc: 8.50%\n",
            "Epoch: 9 ----\n"
          ]
        },
        {
          "output_type": "stream",
          "name": "stderr",
          "text": [
            "\r 20%|██        | 10/50 [00:10<00:40,  1.01s/it]"
          ]
        },
        {
          "output_type": "stream",
          "name": "stdout",
          "text": [
            "Train Loss: 1.05993, Train acc: 74.40%\n",
            "Test Loss: 2.37625, Test acc: 8.50%\n",
            "Epoch: 10 ----\n"
          ]
        },
        {
          "output_type": "stream",
          "name": "stderr",
          "text": [
            "\r 22%|██▏       | 11/50 [00:11<00:39,  1.01s/it]"
          ]
        },
        {
          "output_type": "stream",
          "name": "stdout",
          "text": [
            "Train Loss: 0.98116, Train acc: 73.43%\n",
            "Test Loss: 2.39302, Test acc: 8.50%\n",
            "Epoch: 11 ----\n"
          ]
        },
        {
          "output_type": "stream",
          "name": "stderr",
          "text": [
            "\r 24%|██▍       | 12/50 [00:12<00:38,  1.00s/it]"
          ]
        },
        {
          "output_type": "stream",
          "name": "stdout",
          "text": [
            "Train Loss: 0.91167, Train acc: 74.85%\n",
            "Test Loss: 2.41231, Test acc: 8.50%\n",
            "Epoch: 12 ----\n"
          ]
        },
        {
          "output_type": "stream",
          "name": "stderr",
          "text": [
            "\r 26%|██▌       | 13/50 [00:13<00:37,  1.01s/it]"
          ]
        },
        {
          "output_type": "stream",
          "name": "stdout",
          "text": [
            "Train Loss: 0.82770, Train acc: 79.12%\n",
            "Test Loss: 2.42457, Test acc: 8.50%\n",
            "Epoch: 13 ----\n"
          ]
        },
        {
          "output_type": "stream",
          "name": "stderr",
          "text": [
            "\r 28%|██▊       | 14/50 [00:14<00:36,  1.01s/it]"
          ]
        },
        {
          "output_type": "stream",
          "name": "stdout",
          "text": [
            "Train Loss: 0.76938, Train acc: 78.95%\n",
            "Test Loss: 2.40626, Test acc: 9.50%\n",
            "Epoch: 14 ----\n"
          ]
        },
        {
          "output_type": "stream",
          "name": "stderr",
          "text": [
            "\r 30%|███       | 15/50 [00:15<00:35,  1.01s/it]"
          ]
        },
        {
          "output_type": "stream",
          "name": "stdout",
          "text": [
            "Train Loss: 0.75379, Train acc: 79.00%\n",
            "Test Loss: 2.37630, Test acc: 13.00%\n",
            "Epoch: 15 ----\n"
          ]
        },
        {
          "output_type": "stream",
          "name": "stderr",
          "text": [
            "\r 32%|███▏      | 16/50 [00:16<00:34,  1.01s/it]"
          ]
        },
        {
          "output_type": "stream",
          "name": "stdout",
          "text": [
            "Train Loss: 0.70088, Train acc: 81.17%\n",
            "Test Loss: 2.34625, Test acc: 15.50%\n",
            "Epoch: 16 ----\n"
          ]
        },
        {
          "output_type": "stream",
          "name": "stderr",
          "text": [
            "\r 34%|███▍      | 17/50 [00:17<00:33,  1.01s/it]"
          ]
        },
        {
          "output_type": "stream",
          "name": "stdout",
          "text": [
            "Train Loss: 0.66564, Train acc: 79.62%\n",
            "Test Loss: 2.29564, Test acc: 12.50%\n",
            "Epoch: 17 ----\n"
          ]
        },
        {
          "output_type": "stream",
          "name": "stderr",
          "text": [
            "\r 36%|███▌      | 18/50 [00:18<00:32,  1.01s/it]"
          ]
        },
        {
          "output_type": "stream",
          "name": "stdout",
          "text": [
            "Train Loss: 0.61790, Train acc: 81.94%\n",
            "Test Loss: 2.20161, Test acc: 17.00%\n",
            "Epoch: 18 ----\n"
          ]
        },
        {
          "output_type": "stream",
          "name": "stderr",
          "text": [
            "\r 38%|███▊      | 19/50 [00:19<00:31,  1.01s/it]"
          ]
        },
        {
          "output_type": "stream",
          "name": "stdout",
          "text": [
            "Train Loss: 0.56062, Train acc: 83.56%\n",
            "Test Loss: 2.16746, Test acc: 23.50%\n",
            "Epoch: 19 ----\n"
          ]
        },
        {
          "output_type": "stream",
          "name": "stderr",
          "text": [
            "\r 40%|████      | 20/50 [00:20<00:30,  1.01s/it]"
          ]
        },
        {
          "output_type": "stream",
          "name": "stdout",
          "text": [
            "Train Loss: 0.53713, Train acc: 85.60%\n",
            "Test Loss: 1.98260, Test acc: 29.50%\n",
            "Epoch: 20 ----\n"
          ]
        },
        {
          "output_type": "stream",
          "name": "stderr",
          "text": [
            "\r 42%|████▏     | 21/50 [00:21<00:29,  1.01s/it]"
          ]
        },
        {
          "output_type": "stream",
          "name": "stdout",
          "text": [
            "Train Loss: 0.51858, Train acc: 85.14%\n",
            "Test Loss: 1.85702, Test acc: 29.00%\n",
            "Epoch: 21 ----\n"
          ]
        },
        {
          "output_type": "stream",
          "name": "stderr",
          "text": [
            "\r 44%|████▍     | 22/50 [00:22<00:28,  1.01s/it]"
          ]
        },
        {
          "output_type": "stream",
          "name": "stdout",
          "text": [
            "Train Loss: 0.49216, Train acc: 87.54%\n",
            "Test Loss: 1.59475, Test acc: 38.50%\n",
            "Epoch: 22 ----\n"
          ]
        },
        {
          "output_type": "stream",
          "name": "stderr",
          "text": [
            "\r 46%|████▌     | 23/50 [00:23<00:27,  1.01s/it]"
          ]
        },
        {
          "output_type": "stream",
          "name": "stdout",
          "text": [
            "Train Loss: 0.46049, Train acc: 87.04%\n",
            "Test Loss: 1.50472, Test acc: 40.00%\n",
            "Epoch: 23 ----\n"
          ]
        },
        {
          "output_type": "stream",
          "name": "stderr",
          "text": [
            "\r 48%|████▊     | 24/50 [00:24<00:26,  1.01s/it]"
          ]
        },
        {
          "output_type": "stream",
          "name": "stdout",
          "text": [
            "Train Loss: 0.44701, Train acc: 87.13%\n",
            "Test Loss: 1.61999, Test acc: 32.50%\n",
            "Epoch: 24 ----\n"
          ]
        },
        {
          "output_type": "stream",
          "name": "stderr",
          "text": [
            "\r 50%|█████     | 25/50 [00:25<00:25,  1.01s/it]"
          ]
        },
        {
          "output_type": "stream",
          "name": "stdout",
          "text": [
            "Train Loss: 0.45149, Train acc: 87.70%\n",
            "Test Loss: 1.17833, Test acc: 51.50%\n",
            "Epoch: 25 ----\n"
          ]
        },
        {
          "output_type": "stream",
          "name": "stderr",
          "text": [
            "\r 52%|█████▏    | 26/50 [00:26<00:24,  1.01s/it]"
          ]
        },
        {
          "output_type": "stream",
          "name": "stdout",
          "text": [
            "Train Loss: 0.37956, Train acc: 89.63%\n",
            "Test Loss: 0.99102, Test acc: 61.00%\n",
            "Epoch: 26 ----\n"
          ]
        },
        {
          "output_type": "stream",
          "name": "stderr",
          "text": [
            "\r 54%|█████▍    | 27/50 [00:27<00:23,  1.01s/it]"
          ]
        },
        {
          "output_type": "stream",
          "name": "stdout",
          "text": [
            "Train Loss: 0.35693, Train acc: 91.47%\n",
            "Test Loss: 0.93538, Test acc: 64.50%\n",
            "Epoch: 27 ----\n"
          ]
        },
        {
          "output_type": "stream",
          "name": "stderr",
          "text": [
            "\r 56%|█████▌    | 28/50 [00:28<00:22,  1.01s/it]"
          ]
        },
        {
          "output_type": "stream",
          "name": "stdout",
          "text": [
            "Train Loss: 0.35258, Train acc: 90.99%\n",
            "Test Loss: 0.86388, Test acc: 67.50%\n",
            "Epoch: 28 ----\n"
          ]
        },
        {
          "output_type": "stream",
          "name": "stderr",
          "text": [
            "\r 58%|█████▊    | 29/50 [00:29<00:21,  1.01s/it]"
          ]
        },
        {
          "output_type": "stream",
          "name": "stdout",
          "text": [
            "Train Loss: 0.36052, Train acc: 90.58%\n",
            "Test Loss: 0.74932, Test acc: 71.50%\n",
            "Epoch: 29 ----\n"
          ]
        },
        {
          "output_type": "stream",
          "name": "stderr",
          "text": [
            "\r 60%|██████    | 30/50 [00:30<00:20,  1.01s/it]"
          ]
        },
        {
          "output_type": "stream",
          "name": "stdout",
          "text": [
            "Train Loss: 0.35319, Train acc: 90.79%\n",
            "Test Loss: 0.89003, Test acc: 66.00%\n",
            "Epoch: 30 ----\n"
          ]
        },
        {
          "output_type": "stream",
          "name": "stderr",
          "text": [
            "\r 62%|██████▏   | 31/50 [00:31<00:19,  1.01s/it]"
          ]
        },
        {
          "output_type": "stream",
          "name": "stdout",
          "text": [
            "Train Loss: 0.35059, Train acc: 89.91%\n",
            "Test Loss: 0.76967, Test acc: 71.00%\n",
            "Epoch: 31 ----\n"
          ]
        },
        {
          "output_type": "stream",
          "name": "stderr",
          "text": [
            "\r 64%|██████▍   | 32/50 [00:32<00:18,  1.01s/it]"
          ]
        },
        {
          "output_type": "stream",
          "name": "stdout",
          "text": [
            "Train Loss: 0.27433, Train acc: 94.61%\n",
            "Test Loss: 0.60563, Test acc: 78.50%\n",
            "Epoch: 32 ----\n"
          ]
        },
        {
          "output_type": "stream",
          "name": "stderr",
          "text": [
            "\r 66%|██████▌   | 33/50 [00:33<00:17,  1.01s/it]"
          ]
        },
        {
          "output_type": "stream",
          "name": "stdout",
          "text": [
            "Train Loss: 0.26937, Train acc: 93.50%\n",
            "Test Loss: 1.08461, Test acc: 63.00%\n",
            "Epoch: 33 ----\n"
          ]
        },
        {
          "output_type": "stream",
          "name": "stderr",
          "text": [
            "\r 68%|██████▊   | 34/50 [00:34<00:16,  1.01s/it]"
          ]
        },
        {
          "output_type": "stream",
          "name": "stdout",
          "text": [
            "Train Loss: 0.31063, Train acc: 91.26%\n",
            "Test Loss: 0.72625, Test acc: 71.50%\n",
            "Epoch: 34 ----\n"
          ]
        },
        {
          "output_type": "stream",
          "name": "stderr",
          "text": [
            "\r 70%|███████   | 35/50 [00:35<00:15,  1.01s/it]"
          ]
        },
        {
          "output_type": "stream",
          "name": "stdout",
          "text": [
            "Train Loss: 0.26249, Train acc: 93.59%\n",
            "Test Loss: 0.87597, Test acc: 69.50%\n",
            "Epoch: 35 ----\n"
          ]
        },
        {
          "output_type": "stream",
          "name": "stderr",
          "text": [
            "\r 72%|███████▏  | 36/50 [00:36<00:14,  1.01s/it]"
          ]
        },
        {
          "output_type": "stream",
          "name": "stdout",
          "text": [
            "Train Loss: 0.26946, Train acc: 92.90%\n",
            "Test Loss: 0.62366, Test acc: 77.00%\n",
            "Epoch: 36 ----\n"
          ]
        },
        {
          "output_type": "stream",
          "name": "stderr",
          "text": [
            "\r 74%|███████▍  | 37/50 [00:37<00:13,  1.01s/it]"
          ]
        },
        {
          "output_type": "stream",
          "name": "stdout",
          "text": [
            "Train Loss: 0.25175, Train acc: 94.07%\n",
            "Test Loss: 0.69740, Test acc: 78.50%\n",
            "Epoch: 37 ----\n"
          ]
        },
        {
          "output_type": "stream",
          "name": "stderr",
          "text": [
            "\r 76%|███████▌  | 38/50 [00:38<00:12,  1.02s/it]"
          ]
        },
        {
          "output_type": "stream",
          "name": "stdout",
          "text": [
            "Train Loss: 0.21935, Train acc: 95.01%\n",
            "Test Loss: 0.56360, Test acc: 80.00%\n",
            "Epoch: 38 ----\n"
          ]
        },
        {
          "output_type": "stream",
          "name": "stderr",
          "text": [
            "\r 78%|███████▊  | 39/50 [00:39<00:11,  1.02s/it]"
          ]
        },
        {
          "output_type": "stream",
          "name": "stdout",
          "text": [
            "Train Loss: 0.15344, Train acc: 98.13%\n",
            "Test Loss: 0.54678, Test acc: 81.50%\n",
            "Epoch: 39 ----\n"
          ]
        },
        {
          "output_type": "stream",
          "name": "stderr",
          "text": [
            "\r 80%|████████  | 40/50 [00:40<00:10,  1.02s/it]"
          ]
        },
        {
          "output_type": "stream",
          "name": "stdout",
          "text": [
            "Train Loss: 0.13810, Train acc: 98.91%\n",
            "Test Loss: 0.55638, Test acc: 81.50%\n",
            "Epoch: 40 ----\n"
          ]
        },
        {
          "output_type": "stream",
          "name": "stderr",
          "text": [
            "\r 82%|████████▏ | 41/50 [00:41<00:09,  1.02s/it]"
          ]
        },
        {
          "output_type": "stream",
          "name": "stdout",
          "text": [
            "Train Loss: 0.16756, Train acc: 96.57%\n",
            "Test Loss: 0.92444, Test acc: 72.00%\n",
            "Epoch: 41 ----\n"
          ]
        },
        {
          "output_type": "stream",
          "name": "stderr",
          "text": [
            "\r 84%|████████▍ | 42/50 [00:42<00:08,  1.02s/it]"
          ]
        },
        {
          "output_type": "stream",
          "name": "stdout",
          "text": [
            "Train Loss: 0.26182, Train acc: 92.13%\n",
            "Test Loss: 0.85797, Test acc: 71.00%\n",
            "Epoch: 42 ----\n"
          ]
        },
        {
          "output_type": "stream",
          "name": "stderr",
          "text": [
            "\r 86%|████████▌ | 43/50 [00:43<00:07,  1.01s/it]"
          ]
        },
        {
          "output_type": "stream",
          "name": "stdout",
          "text": [
            "Train Loss: 0.17298, Train acc: 96.71%\n",
            "Test Loss: 0.73788, Test acc: 75.00%\n",
            "Epoch: 43 ----\n"
          ]
        },
        {
          "output_type": "stream",
          "name": "stderr",
          "text": [
            "\r 88%|████████▊ | 44/50 [00:44<00:06,  1.01s/it]"
          ]
        },
        {
          "output_type": "stream",
          "name": "stdout",
          "text": [
            "Train Loss: 0.16937, Train acc: 95.68%\n",
            "Test Loss: 0.83964, Test acc: 73.50%\n",
            "Epoch: 44 ----\n"
          ]
        },
        {
          "output_type": "stream",
          "name": "stderr",
          "text": [
            "\r 90%|█████████ | 45/50 [00:45<00:05,  1.01s/it]"
          ]
        },
        {
          "output_type": "stream",
          "name": "stdout",
          "text": [
            "Train Loss: 0.20692, Train acc: 94.70%\n",
            "Test Loss: 0.60877, Test acc: 80.50%\n",
            "Epoch: 45 ----\n"
          ]
        },
        {
          "output_type": "stream",
          "name": "stderr",
          "text": [
            "\r 92%|█████████▏| 46/50 [00:46<00:04,  1.01s/it]"
          ]
        },
        {
          "output_type": "stream",
          "name": "stdout",
          "text": [
            "Train Loss: 0.12987, Train acc: 97.93%\n",
            "Test Loss: 0.56353, Test acc: 79.50%\n",
            "Epoch: 46 ----\n"
          ]
        },
        {
          "output_type": "stream",
          "name": "stderr",
          "text": [
            "\r 94%|█████████▍| 47/50 [00:47<00:03,  1.01s/it]"
          ]
        },
        {
          "output_type": "stream",
          "name": "stdout",
          "text": [
            "Train Loss: 0.08669, Train acc: 99.40%\n",
            "Test Loss: 0.56558, Test acc: 82.50%\n",
            "Epoch: 47 ----\n"
          ]
        },
        {
          "output_type": "stream",
          "name": "stderr",
          "text": [
            "\r 96%|█████████▌| 48/50 [00:48<00:02,  1.01s/it]"
          ]
        },
        {
          "output_type": "stream",
          "name": "stdout",
          "text": [
            "Train Loss: 0.06647, Train acc: 100.00%\n",
            "Test Loss: 0.52702, Test acc: 81.50%\n",
            "Epoch: 48 ----\n"
          ]
        },
        {
          "output_type": "stream",
          "name": "stderr",
          "text": [
            "\r 98%|█████████▊| 49/50 [00:49<00:01,  1.01s/it]"
          ]
        },
        {
          "output_type": "stream",
          "name": "stdout",
          "text": [
            "Train Loss: 0.05753, Train acc: 100.00%\n",
            "Test Loss: 0.52766, Test acc: 81.00%\n",
            "Epoch: 49 ----\n"
          ]
        },
        {
          "output_type": "stream",
          "name": "stderr",
          "text": [
            "100%|██████████| 50/50 [00:50<00:00,  1.01s/it]"
          ]
        },
        {
          "output_type": "stream",
          "name": "stdout",
          "text": [
            "Train Loss: 0.05101, Train acc: 100.00%\n",
            "Test Loss: 0.52220, Test acc: 80.00%\n",
            "Train time on cuda : 50.526 seconds\n"
          ]
        },
        {
          "output_type": "stream",
          "name": "stderr",
          "text": [
            "\n"
          ]
        }
      ],
      "source": [
        "torch.manual_seed(42)\n",
        "\n",
        "#Measure time\n",
        "train_time_start_on_gpu = timer()\n",
        "\n",
        "#Set epochs\n",
        "epochs=50\n",
        "\n",
        "#Create a optimization and evaluation loop using train_step() and test_step()\n",
        "for epoch in tqdm(range(epochs)):\n",
        "  print(f\"Epoch: {epoch} ----\")\n",
        "  train_step(model=model_InceptionNET_1, data_loader=train_dataloader,loss_fn=loss_fn,optimizer=optimizer,accuracy_fn=accuracy_fn,device=device)\n",
        "  \n",
        "  test_step(model=model_InceptionNET_1,data_loader=test_dataloader,loss_fn=loss_fn,optimizer=optimizer,accuracy_fn=accuracy_fn,device=device)\n",
        "  \n",
        "train_time_end_on_gpu = timer()\n",
        "total_train_time_model_1 = print_train_time(start=train_time_start_on_gpu,\n",
        "                                            end=train_time_end_on_gpu,\n",
        "                                            device=device)"
      ]
    },
    {
      "cell_type": "code",
      "execution_count": 28,
      "id": "98b781ec",
      "metadata": {
        "id": "98b781ec"
      },
      "outputs": [],
      "source": [
        "#Now we save the model\n",
        "from pathlib import Path\n",
        "#Create the model directory\n",
        "MODEL_PATH = Path(\"models\")\n",
        "MODEL_PATH.mkdir(parents=True, exist_ok=True)\n",
        "#Create the model save path\n",
        "MODEL_NAME = \"01_InceptionNET_FashionMNISTpth\"\n",
        "MODEL_SAVE_PATH = MODEL_PATH/MODEL_NAME"
      ]
    },
    {
      "cell_type": "code",
      "execution_count": 29,
      "id": "fa24247a",
      "metadata": {
        "id": "fa24247a",
        "colab": {
          "base_uri": "https://localhost:8080/"
        },
        "outputId": "e25707a2-4062-4780-fc2e-d51bc5749900"
      },
      "outputs": [
        {
          "output_type": "stream",
          "name": "stdout",
          "text": [
            "Saved at models/01_InceptionNET_FashionMNISTpth\n"
          ]
        }
      ],
      "source": [
        "#Saving the model\n",
        "torch.save(obj=model_InceptionNET_1.state_dict(),\n",
        "           f=MODEL_SAVE_PATH)\n",
        "print(f'Saved at {MODEL_SAVE_PATH}')"
      ]
    },
    {
      "cell_type": "code",
      "execution_count": 30,
      "id": "e1d510e1",
      "metadata": {
        "id": "e1d510e1",
        "colab": {
          "base_uri": "https://localhost:8080/"
        },
        "outputId": "b1942107-a764-4181-b1f7-2f7f9dbccf90"
      },
      "outputs": [
        {
          "output_type": "execute_result",
          "data": {
            "text/plain": [
              "<All keys matched successfully>"
            ]
          },
          "metadata": {},
          "execution_count": 30
        }
      ],
      "source": [
        "#Loading the model\n",
        "#Create a new instance of the model and update the parameters\n",
        "model_InceptionNET_FashionMNIST = GoogLeNet(in_channels=1, num_classes=10).to(device)\n",
        "model_InceptionNET_FashionMNIST.load_state_dict(torch.load(f=MODEL_SAVE_PATH))"
      ]
    },
    {
      "cell_type": "code",
      "execution_count": 31,
      "id": "5c6790a1",
      "metadata": {
        "id": "5c6790a1",
        "colab": {
          "base_uri": "https://localhost:8080/"
        },
        "outputId": "4c575d0c-3dc0-4ba6-9aac-53dc3ee6d224"
      },
      "outputs": [
        {
          "output_type": "stream",
          "name": "stderr",
          "text": [
            "100%|██████████| 1/1 [00:00<00:00,  6.85it/s]\n"
          ]
        },
        {
          "output_type": "execute_result",
          "data": {
            "text/plain": [
              "{'model_name': 'GoogLeNet',\n",
              " 'model_loss': 0.5222022533416748,\n",
              " 'model_acc': 80.0}"
            ]
          },
          "metadata": {},
          "execution_count": 31
        }
      ],
      "source": [
        "#Get model results\n",
        "model_InceptionNET_FashionMNIST_results = eval_model(\n",
        "    model=model_InceptionNET_FashionMNIST,\n",
        "    data_loader=test_dataloader,\n",
        "    loss_fn=loss_fn,\n",
        "    accuracy_fn=accuracy_fn,\n",
        "    device=device\n",
        ")\n",
        "model_InceptionNET_FashionMNIST_results"
      ]
    },
    {
      "cell_type": "code",
      "execution_count": 32,
      "id": "daa9a23c",
      "metadata": {
        "id": "daa9a23c",
        "colab": {
          "base_uri": "https://localhost:8080/",
          "height": 101,
          "referenced_widgets": [
            "0330b8174fe241688c75e420b8d9d36f",
            "f840ec293d0e4758afdc8cd695749dc0",
            "e744b55fafd14bdeaaa66f0a9331678d",
            "f5c39df764104d6498033576dd4fb13a",
            "37ba6035b7ca48388cc5539b0ba400fa",
            "50ea0bc478c144b3982c675c55c04701",
            "8cd44847c35a41818cb7d9f79f196d29",
            "9926970842f14409b5700671fc0c0fb1",
            "9bc88b497c21494191b451b74bb87d4d",
            "105292490fc64c85893583d9e5973aad",
            "72bc05906a664fa4ac690d9b51dbe60d"
          ]
        },
        "outputId": "57b8a629-88ff-49e0-9cc0-c18cd88fdc2f"
      },
      "outputs": [
        {
          "output_type": "stream",
          "name": "stdout",
          "text": [
            "Downloading https://www.cs.toronto.edu/~kriz/cifar-10-python.tar.gz to data/cifar-10-python.tar.gz\n"
          ]
        },
        {
          "output_type": "display_data",
          "data": {
            "text/plain": [
              "  0%|          | 0/170498071 [00:00<?, ?it/s]"
            ],
            "application/vnd.jupyter.widget-view+json": {
              "version_major": 2,
              "version_minor": 0,
              "model_id": "0330b8174fe241688c75e420b8d9d36f"
            }
          },
          "metadata": {}
        },
        {
          "output_type": "stream",
          "name": "stdout",
          "text": [
            "Extracting data/cifar-10-python.tar.gz to data\n",
            "Files already downloaded and verified\n"
          ]
        }
      ],
      "source": [
        "#CIFAR 10\n",
        "train_data = datasets.CIFAR10(root=\"data\",\n",
        "                                   train=True,\n",
        "                                   download=True,\n",
        "                                   transform=transforms.Compose([transforms.Grayscale(),transforms.Resize(size=(224,224)),transforms.ToTensor()]))\n",
        "\n",
        "test_data = datasets.CIFAR10(root=\"data\",\n",
        "                                   train=False,\n",
        "                                   download=True,\n",
        "                                   transform=transforms.Compose([transforms.Grayscale(),transforms.Resize(size=(224,224)),transforms.ToTensor()]))"
      ]
    },
    {
      "cell_type": "code",
      "source": [
        "class_names = train_data.classes\n",
        "class_to_idx = train_data.class_to_idx\n",
        "class_names, class_to_idx"
      ],
      "metadata": {
        "id": "BGSMIAkys_Xh",
        "colab": {
          "base_uri": "https://localhost:8080/"
        },
        "outputId": "3a6cadac-e20b-4a3f-d7af-06cb0e7da5f3"
      },
      "id": "BGSMIAkys_Xh",
      "execution_count": 33,
      "outputs": [
        {
          "output_type": "execute_result",
          "data": {
            "text/plain": [
              "(['airplane',\n",
              "  'automobile',\n",
              "  'bird',\n",
              "  'cat',\n",
              "  'deer',\n",
              "  'dog',\n",
              "  'frog',\n",
              "  'horse',\n",
              "  'ship',\n",
              "  'truck'],\n",
              " {'airplane': 0,\n",
              "  'automobile': 1,\n",
              "  'bird': 2,\n",
              "  'cat': 3,\n",
              "  'deer': 4,\n",
              "  'dog': 5,\n",
              "  'frog': 6,\n",
              "  'horse': 7,\n",
              "  'ship': 8,\n",
              "  'truck': 9})"
            ]
          },
          "metadata": {},
          "execution_count": 33
        }
      ]
    },
    {
      "cell_type": "code",
      "source": [
        "import torch.utils.data as data_utils\n",
        "\n",
        "indices_train = torch.arange(10000)\n",
        "indices_test = torch.arange(2000)\n",
        "train_data = data_utils.Subset(train_data, indices_train)\n",
        "test_data = data_utils.Subset(test_data, indices_test)\n",
        "len(train_data), len(test_data)"
      ],
      "metadata": {
        "id": "fW6yrRuktBdb",
        "colab": {
          "base_uri": "https://localhost:8080/"
        },
        "outputId": "1558ea4b-842d-473c-f561-912c447be8f2"
      },
      "id": "fW6yrRuktBdb",
      "execution_count": 34,
      "outputs": [
        {
          "output_type": "execute_result",
          "data": {
            "text/plain": [
              "(10000, 2000)"
            ]
          },
          "metadata": {},
          "execution_count": 34
        }
      ]
    },
    {
      "cell_type": "code",
      "source": [
        "#Plot more images\n",
        "torch.manual_seed(42)\n",
        "fig = plt.figure(figsize=(9,9))\n",
        "rows, cols = 4, 4\n",
        "for i in range(1, rows*cols+1):\n",
        "  random_idx = torch.randint(0, len(train_data), size=[1]).item()\n",
        "  img, label = train_data[random_idx]\n",
        "  fig.add_subplot(rows, cols, i)\n",
        "  plt.imshow(img.squeeze(), cmap=\"gray\")\n",
        "  plt.title(class_names[label])\n",
        "  plt.axis(False)"
      ],
      "metadata": {
        "id": "511uZ_-KtDUl",
        "colab": {
          "base_uri": "https://localhost:8080/",
          "height": 536
        },
        "outputId": "ac565ce8-4719-468b-83a0-62f63fe77c61"
      },
      "id": "511uZ_-KtDUl",
      "execution_count": 35,
      "outputs": [
        {
          "output_type": "display_data",
          "data": {
            "text/plain": [
              "<Figure size 648x648 with 16 Axes>"
            ],
            "image/png": "[encoded data removed]"
          },
          "metadata": {
            "needs_background": "light"
          }
        }
      ]
    },
    {
      "cell_type": "code",
      "source": [
        "#Prepare Dataloader that prepares our data into python iterable\n",
        "#We turn our data into mini batches since it is more computationally efficient\n",
        "from torch.utils.data import DataLoader\n",
        "\n",
        "#Setup the batch size hyperparameter\n",
        "BATCH_SIZE = 512\n",
        "device = \"cuda\" if torch.cuda.is_available() else \"cpu\"\n",
        "\n",
        "#Turn datasets into iterables(batches)\n",
        "train_dataloader = DataLoader(train_data, batch_size=BATCH_SIZE, shuffle=True)\n",
        "test_dataloader = DataLoader(test_data, batch_size=BATCH_SIZE, shuffle=False)"
      ],
      "metadata": {
        "id": "i9nqtBZntH0x"
      },
      "id": "i9nqtBZntH0x",
      "execution_count": 36,
      "outputs": []
    },
    {
      "cell_type": "code",
      "source": [
        "model_InceptionNET_2 = GoogLeNet(in_channels=1, num_classes=10).to(device)"
      ],
      "metadata": {
        "id": "Y1W3j2pUtJlM"
      },
      "id": "Y1W3j2pUtJlM",
      "execution_count": 37,
      "outputs": []
    },
    {
      "cell_type": "code",
      "source": [
        "loss_fn = nn.CrossEntropyLoss()\n",
        "optimizer = torch.optim.SGD(model_InceptionNET_2.parameters(), lr=0.03)\n",
        "\n",
        "def accuracy_fn(y_true, y_pred):\n",
        "    correct = torch.eq(y_true, y_pred).sum().item()\n",
        "    acc = (correct / len(y_pred)) * 100\n",
        "    return acc"
      ],
      "metadata": {
        "id": "67hrSpDdtO-G"
      },
      "id": "67hrSpDdtO-G",
      "execution_count": 38,
      "outputs": []
    },
    {
      "cell_type": "code",
      "source": [
        "torch.manual_seed(42)\n",
        "\n",
        "#Measure time\n",
        "train_time_start_on_gpu = timer()\n",
        "\n",
        "#Set epochs\n",
        "epochs=50\n",
        "\n",
        "#Create a optimization and evaluation loop using train_step() and test_step()\n",
        "for epoch in tqdm(range(epochs)):\n",
        "  print(f\"Epoch: {epoch} ----\")\n",
        "  train_step(model=model_InceptionNET_2, data_loader=train_dataloader,loss_fn=loss_fn,optimizer=optimizer,accuracy_fn=accuracy_fn,device=device)\n",
        "  \n",
        "  test_step(model=model_InceptionNET_2,data_loader=test_dataloader,loss_fn=loss_fn,optimizer=optimizer,accuracy_fn=accuracy_fn,device=device)\n",
        "  \n",
        "train_time_end_on_gpu = timer()\n",
        "total_train_time_model_1 = print_train_time(start=train_time_start_on_gpu,\n",
        "                                            end=train_time_end_on_gpu,\n",
        "                                            device=device)"
      ],
      "metadata": {
        "id": "Vwm-AXlttTPY",
        "colab": {
          "base_uri": "https://localhost:8080/"
        },
        "outputId": "75c44413-2c25-4e05-cbc5-b64ef1b28348"
      },
      "id": "Vwm-AXlttTPY",
      "execution_count": 39,
      "outputs": [
        {
          "output_type": "stream",
          "name": "stderr",
          "text": [
            "\r  0%|          | 0/50 [00:00<?, ?it/s]"
          ]
        },
        {
          "output_type": "stream",
          "name": "stdout",
          "text": [
            "Epoch: 0 ----\n",
            "Train Loss: 2.16058, Train acc: 20.46%\n"
          ]
        },
        {
          "output_type": "stream",
          "name": "stderr",
          "text": [
            "\r  2%|▏         | 1/50 [00:09<07:26,  9.11s/it]"
          ]
        },
        {
          "output_type": "stream",
          "name": "stdout",
          "text": [
            "Test Loss: 2.50230, Test acc: 9.93%\n",
            "Epoch: 1 ----\n",
            "Train Loss: 1.88705, Train acc: 30.89%\n"
          ]
        },
        {
          "output_type": "stream",
          "name": "stderr",
          "text": [
            "\r  4%|▍         | 2/50 [00:18<07:17,  9.11s/it]"
          ]
        },
        {
          "output_type": "stream",
          "name": "stdout",
          "text": [
            "Test Loss: 2.98870, Test acc: 10.38%\n",
            "Epoch: 2 ----\n",
            "Train Loss: 1.72521, Train acc: 36.97%\n"
          ]
        },
        {
          "output_type": "stream",
          "name": "stderr",
          "text": [
            "\r  6%|▌         | 3/50 [00:27<07:06,  9.08s/it]"
          ]
        },
        {
          "output_type": "stream",
          "name": "stdout",
          "text": [
            "Test Loss: 1.82207, Test acc: 33.40%\n",
            "Epoch: 3 ----\n",
            "Train Loss: 1.59296, Train acc: 42.26%\n"
          ]
        },
        {
          "output_type": "stream",
          "name": "stderr",
          "text": [
            "\r  8%|▊         | 4/50 [00:36<07:01,  9.17s/it]"
          ]
        },
        {
          "output_type": "stream",
          "name": "stdout",
          "text": [
            "Test Loss: 1.71401, Test acc: 38.15%\n",
            "Epoch: 4 ----\n",
            "Train Loss: 1.50527, Train acc: 45.91%\n"
          ]
        },
        {
          "output_type": "stream",
          "name": "stderr",
          "text": [
            "\r 10%|█         | 5/50 [00:45<06:50,  9.13s/it]"
          ]
        },
        {
          "output_type": "stream",
          "name": "stdout",
          "text": [
            "Test Loss: 2.14315, Test acc: 32.35%\n",
            "Epoch: 5 ----\n",
            "Train Loss: 1.38564, Train acc: 51.11%\n"
          ]
        },
        {
          "output_type": "stream",
          "name": "stderr",
          "text": [
            "\r 12%|█▏        | 6/50 [00:54<06:40,  9.09s/it]"
          ]
        },
        {
          "output_type": "stream",
          "name": "stdout",
          "text": [
            "Test Loss: 1.86369, Test acc: 33.64%\n",
            "Epoch: 6 ----\n",
            "Train Loss: 1.31233, Train acc: 53.01%\n"
          ]
        },
        {
          "output_type": "stream",
          "name": "stderr",
          "text": [
            "\r 14%|█▍        | 7/50 [01:03<06:31,  9.10s/it]"
          ]
        },
        {
          "output_type": "stream",
          "name": "stdout",
          "text": [
            "Test Loss: 2.15301, Test acc: 24.99%\n",
            "Epoch: 7 ----\n",
            "Train Loss: 1.22360, Train acc: 56.26%\n"
          ]
        },
        {
          "output_type": "stream",
          "name": "stderr",
          "text": [
            "\r 16%|█▌        | 8/50 [01:12<06:20,  9.06s/it]"
          ]
        },
        {
          "output_type": "stream",
          "name": "stdout",
          "text": [
            "Test Loss: 2.25148, Test acc: 38.26%\n",
            "Epoch: 8 ----\n",
            "Train Loss: 1.15845, Train acc: 58.55%\n"
          ]
        },
        {
          "output_type": "stream",
          "name": "stderr",
          "text": [
            "\r 18%|█▊        | 9/50 [01:21<06:11,  9.05s/it]"
          ]
        },
        {
          "output_type": "stream",
          "name": "stdout",
          "text": [
            "Test Loss: 2.11479, Test acc: 32.18%\n",
            "Epoch: 9 ----\n",
            "Train Loss: 1.12855, Train acc: 59.72%\n"
          ]
        },
        {
          "output_type": "stream",
          "name": "stderr",
          "text": [
            "\r 20%|██        | 10/50 [01:30<06:01,  9.04s/it]"
          ]
        },
        {
          "output_type": "stream",
          "name": "stdout",
          "text": [
            "Test Loss: 2.09262, Test acc: 33.30%\n",
            "Epoch: 10 ----\n",
            "Train Loss: 1.03532, Train acc: 63.18%\n"
          ]
        },
        {
          "output_type": "stream",
          "name": "stderr",
          "text": [
            "\r 22%|██▏       | 11/50 [01:40<05:55,  9.13s/it]"
          ]
        },
        {
          "output_type": "stream",
          "name": "stdout",
          "text": [
            "Test Loss: 1.69152, Test acc: 40.54%\n",
            "Epoch: 11 ----\n",
            "Train Loss: 0.96064, Train acc: 66.20%\n"
          ]
        },
        {
          "output_type": "stream",
          "name": "stderr",
          "text": [
            "\r 24%|██▍       | 12/50 [01:49<05:45,  9.10s/it]"
          ]
        },
        {
          "output_type": "stream",
          "name": "stdout",
          "text": [
            "Test Loss: 1.53618, Test acc: 48.74%\n",
            "Epoch: 12 ----\n",
            "Train Loss: 0.94260, Train acc: 67.10%\n"
          ]
        },
        {
          "output_type": "stream",
          "name": "stderr",
          "text": [
            "\r 26%|██▌       | 13/50 [01:58<05:36,  9.09s/it]"
          ]
        },
        {
          "output_type": "stream",
          "name": "stdout",
          "text": [
            "Test Loss: 2.38562, Test acc: 38.79%\n",
            "Epoch: 13 ----\n",
            "Train Loss: 0.85741, Train acc: 70.20%\n"
          ]
        },
        {
          "output_type": "stream",
          "name": "stderr",
          "text": [
            "\r 28%|██▊       | 14/50 [02:07<05:26,  9.07s/it]"
          ]
        },
        {
          "output_type": "stream",
          "name": "stdout",
          "text": [
            "Test Loss: 3.05457, Test acc: 31.04%\n",
            "Epoch: 14 ----\n",
            "Train Loss: 0.78286, Train acc: 72.82%\n"
          ]
        },
        {
          "output_type": "stream",
          "name": "stderr",
          "text": [
            "\r 30%|███       | 15/50 [02:16<05:17,  9.06s/it]"
          ]
        },
        {
          "output_type": "stream",
          "name": "stdout",
          "text": [
            "Test Loss: 2.22670, Test acc: 36.27%\n",
            "Epoch: 15 ----\n",
            "Train Loss: 0.73710, Train acc: 74.50%\n"
          ]
        },
        {
          "output_type": "stream",
          "name": "stderr",
          "text": [
            "\r 32%|███▏      | 16/50 [02:25<05:07,  9.05s/it]"
          ]
        },
        {
          "output_type": "stream",
          "name": "stdout",
          "text": [
            "Test Loss: 2.16658, Test acc: 43.12%\n",
            "Epoch: 16 ----\n",
            "Train Loss: 0.64949, Train acc: 77.73%\n"
          ]
        },
        {
          "output_type": "stream",
          "name": "stderr",
          "text": [
            "\r 34%|███▍      | 17/50 [02:34<04:58,  9.04s/it]"
          ]
        },
        {
          "output_type": "stream",
          "name": "stdout",
          "text": [
            "Test Loss: 3.57081, Test acc: 19.33%\n",
            "Epoch: 17 ----\n",
            "Train Loss: 0.66237, Train acc: 76.86%\n"
          ]
        },
        {
          "output_type": "stream",
          "name": "stderr",
          "text": [
            "\r 36%|███▌      | 18/50 [02:43<04:49,  9.04s/it]"
          ]
        },
        {
          "output_type": "stream",
          "name": "stdout",
          "text": [
            "Test Loss: 1.93515, Test acc: 40.03%\n",
            "Epoch: 18 ----\n",
            "Train Loss: 0.55797, Train acc: 81.67%\n"
          ]
        },
        {
          "output_type": "stream",
          "name": "stderr",
          "text": [
            "\r 38%|███▊      | 19/50 [02:52<04:40,  9.04s/it]"
          ]
        },
        {
          "output_type": "stream",
          "name": "stdout",
          "text": [
            "Test Loss: 13.14837, Test acc: 11.52%\n",
            "Epoch: 19 ----\n",
            "Train Loss: 0.53709, Train acc: 81.93%\n"
          ]
        },
        {
          "output_type": "stream",
          "name": "stderr",
          "text": [
            "\r 40%|████      | 20/50 [03:01<04:30,  9.03s/it]"
          ]
        },
        {
          "output_type": "stream",
          "name": "stdout",
          "text": [
            "Test Loss: 2.11145, Test acc: 40.95%\n",
            "Epoch: 20 ----\n",
            "Train Loss: 0.40362, Train acc: 87.28%\n"
          ]
        },
        {
          "output_type": "stream",
          "name": "stderr",
          "text": [
            "\r 42%|████▏     | 21/50 [03:10<04:21,  9.02s/it]"
          ]
        },
        {
          "output_type": "stream",
          "name": "stdout",
          "text": [
            "Test Loss: 2.25742, Test acc: 42.79%\n",
            "Epoch: 21 ----\n",
            "Train Loss: 0.35362, Train acc: 89.32%\n"
          ]
        },
        {
          "output_type": "stream",
          "name": "stderr",
          "text": [
            "\r 44%|████▍     | 22/50 [03:19<04:12,  9.02s/it]"
          ]
        },
        {
          "output_type": "stream",
          "name": "stdout",
          "text": [
            "Test Loss: 1.33468, Test acc: 57.45%\n",
            "Epoch: 22 ----\n",
            "Train Loss: 0.25427, Train acc: 93.10%\n"
          ]
        },
        {
          "output_type": "stream",
          "name": "stderr",
          "text": [
            "\r 46%|████▌     | 23/50 [03:28<04:03,  9.02s/it]"
          ]
        },
        {
          "output_type": "stream",
          "name": "stdout",
          "text": [
            "Test Loss: 2.05115, Test acc: 44.02%\n",
            "Epoch: 23 ----\n",
            "Train Loss: 0.40524, Train acc: 86.99%\n"
          ]
        },
        {
          "output_type": "stream",
          "name": "stderr",
          "text": [
            "\r 48%|████▊     | 24/50 [03:37<03:54,  9.02s/it]"
          ]
        },
        {
          "output_type": "stream",
          "name": "stdout",
          "text": [
            "Test Loss: 1.50252, Test acc: 54.87%\n",
            "Epoch: 24 ----\n",
            "Train Loss: 0.12932, Train acc: 97.45%\n"
          ]
        },
        {
          "output_type": "stream",
          "name": "stderr",
          "text": [
            "\r 50%|█████     | 25/50 [03:46<03:45,  9.02s/it]"
          ]
        },
        {
          "output_type": "stream",
          "name": "stdout",
          "text": [
            "Test Loss: 1.15326, Test acc: 63.02%\n",
            "Epoch: 25 ----\n",
            "Train Loss: 0.06353, Train acc: 99.38%\n"
          ]
        },
        {
          "output_type": "stream",
          "name": "stderr",
          "text": [
            "\r 52%|█████▏    | 26/50 [03:55<03:36,  9.01s/it]"
          ]
        },
        {
          "output_type": "stream",
          "name": "stdout",
          "text": [
            "Test Loss: 1.06374, Test acc: 66.36%\n",
            "Epoch: 26 ----\n",
            "Train Loss: 0.03760, Train acc: 99.83%\n"
          ]
        },
        {
          "output_type": "stream",
          "name": "stderr",
          "text": [
            "\r 54%|█████▍    | 27/50 [04:04<03:27,  9.01s/it]"
          ]
        },
        {
          "output_type": "stream",
          "name": "stdout",
          "text": [
            "Test Loss: 1.12941, Test acc: 65.01%\n",
            "Epoch: 27 ----\n",
            "Train Loss: 0.02495, Train acc: 99.98%\n"
          ]
        },
        {
          "output_type": "stream",
          "name": "stderr",
          "text": [
            "\r 56%|█████▌    | 28/50 [04:13<03:18,  9.01s/it]"
          ]
        },
        {
          "output_type": "stream",
          "name": "stdout",
          "text": [
            "Test Loss: 1.11032, Test acc: 66.26%\n",
            "Epoch: 28 ----\n",
            "Train Loss: 0.01900, Train acc: 99.99%\n"
          ]
        },
        {
          "output_type": "stream",
          "name": "stderr",
          "text": [
            "\r 58%|█████▊    | 29/50 [04:22<03:09,  9.03s/it]"
          ]
        },
        {
          "output_type": "stream",
          "name": "stdout",
          "text": [
            "Test Loss: 1.04548, Test acc: 68.02%\n",
            "Epoch: 29 ----\n",
            "Train Loss: 0.01471, Train acc: 100.00%\n"
          ]
        },
        {
          "output_type": "stream",
          "name": "stderr",
          "text": [
            "\r 60%|██████    | 30/50 [04:31<03:00,  9.05s/it]"
          ]
        },
        {
          "output_type": "stream",
          "name": "stdout",
          "text": [
            "Test Loss: 1.05643, Test acc: 67.65%\n",
            "Epoch: 30 ----\n",
            "Train Loss: 0.01175, Train acc: 100.00%\n"
          ]
        },
        {
          "output_type": "stream",
          "name": "stderr",
          "text": [
            "\r 62%|██████▏   | 31/50 [04:40<02:51,  9.04s/it]"
          ]
        },
        {
          "output_type": "stream",
          "name": "stdout",
          "text": [
            "Test Loss: 1.05898, Test acc: 67.24%\n",
            "Epoch: 31 ----\n",
            "Train Loss: 0.01099, Train acc: 100.00%\n"
          ]
        },
        {
          "output_type": "stream",
          "name": "stderr",
          "text": [
            "\r 64%|██████▍   | 32/50 [04:49<02:42,  9.03s/it]"
          ]
        },
        {
          "output_type": "stream",
          "name": "stdout",
          "text": [
            "Test Loss: 1.08078, Test acc: 66.64%\n",
            "Epoch: 32 ----\n",
            "Train Loss: 0.00868, Train acc: 100.00%\n"
          ]
        },
        {
          "output_type": "stream",
          "name": "stderr",
          "text": [
            "\r 66%|██████▌   | 33/50 [04:58<02:33,  9.02s/it]"
          ]
        },
        {
          "output_type": "stream",
          "name": "stdout",
          "text": [
            "Test Loss: 1.06163, Test acc: 68.14%\n",
            "Epoch: 33 ----\n",
            "Train Loss: 0.00780, Train acc: 100.00%\n"
          ]
        },
        {
          "output_type": "stream",
          "name": "stderr",
          "text": [
            "\r 68%|██████▊   | 34/50 [05:07<02:24,  9.02s/it]"
          ]
        },
        {
          "output_type": "stream",
          "name": "stdout",
          "text": [
            "Test Loss: 1.07847, Test acc: 67.44%\n",
            "Epoch: 34 ----\n",
            "Train Loss: 0.00695, Train acc: 100.00%\n"
          ]
        },
        {
          "output_type": "stream",
          "name": "stderr",
          "text": [
            "\r 70%|███████   | 35/50 [05:16<02:15,  9.03s/it]"
          ]
        },
        {
          "output_type": "stream",
          "name": "stdout",
          "text": [
            "Test Loss: 1.08198, Test acc: 67.88%\n",
            "Epoch: 35 ----\n",
            "Train Loss: 0.00630, Train acc: 100.00%\n"
          ]
        },
        {
          "output_type": "stream",
          "name": "stderr",
          "text": [
            "\r 72%|███████▏  | 36/50 [05:25<02:06,  9.01s/it]"
          ]
        },
        {
          "output_type": "stream",
          "name": "stdout",
          "text": [
            "Test Loss: 1.08715, Test acc: 67.22%\n",
            "Epoch: 36 ----\n",
            "Train Loss: 0.00592, Train acc: 100.00%\n"
          ]
        },
        {
          "output_type": "stream",
          "name": "stderr",
          "text": [
            "\r 74%|███████▍  | 37/50 [05:34<01:57,  9.03s/it]"
          ]
        },
        {
          "output_type": "stream",
          "name": "stdout",
          "text": [
            "Test Loss: 1.09236, Test acc: 67.38%\n",
            "Epoch: 37 ----\n",
            "Train Loss: 0.00514, Train acc: 100.00%\n"
          ]
        },
        {
          "output_type": "stream",
          "name": "stderr",
          "text": [
            "\r 76%|███████▌  | 38/50 [05:43<01:48,  9.04s/it]"
          ]
        },
        {
          "output_type": "stream",
          "name": "stdout",
          "text": [
            "Test Loss: 1.09055, Test acc: 67.59%\n",
            "Epoch: 38 ----\n",
            "Train Loss: 0.00493, Train acc: 100.00%\n"
          ]
        },
        {
          "output_type": "stream",
          "name": "stderr",
          "text": [
            "\r 78%|███████▊  | 39/50 [05:52<01:39,  9.04s/it]"
          ]
        },
        {
          "output_type": "stream",
          "name": "stdout",
          "text": [
            "Test Loss: 1.09615, Test acc: 67.20%\n",
            "Epoch: 39 ----\n",
            "Train Loss: 0.00477, Train acc: 100.00%\n"
          ]
        },
        {
          "output_type": "stream",
          "name": "stderr",
          "text": [
            "\r 80%|████████  | 40/50 [06:01<01:30,  9.04s/it]"
          ]
        },
        {
          "output_type": "stream",
          "name": "stdout",
          "text": [
            "Test Loss: 1.08838, Test acc: 68.07%\n",
            "Epoch: 40 ----\n",
            "Train Loss: 0.00410, Train acc: 100.00%\n"
          ]
        },
        {
          "output_type": "stream",
          "name": "stderr",
          "text": [
            "\r 82%|████████▏ | 41/50 [06:11<01:21,  9.04s/it]"
          ]
        },
        {
          "output_type": "stream",
          "name": "stdout",
          "text": [
            "Test Loss: 1.10507, Test acc: 67.64%\n",
            "Epoch: 41 ----\n",
            "Train Loss: 0.00389, Train acc: 100.00%\n"
          ]
        },
        {
          "output_type": "stream",
          "name": "stderr",
          "text": [
            "\r 84%|████████▍ | 42/50 [06:20<01:12,  9.03s/it]"
          ]
        },
        {
          "output_type": "stream",
          "name": "stdout",
          "text": [
            "Test Loss: 1.09482, Test acc: 67.88%\n",
            "Epoch: 42 ----\n",
            "Train Loss: 0.00371, Train acc: 100.00%\n"
          ]
        },
        {
          "output_type": "stream",
          "name": "stderr",
          "text": [
            "\r 86%|████████▌ | 43/50 [06:29<01:03,  9.03s/it]"
          ]
        },
        {
          "output_type": "stream",
          "name": "stdout",
          "text": [
            "Test Loss: 1.10678, Test acc: 67.58%\n",
            "Epoch: 43 ----\n",
            "Train Loss: 0.00356, Train acc: 100.00%\n"
          ]
        },
        {
          "output_type": "stream",
          "name": "stderr",
          "text": [
            "\r 88%|████████▊ | 44/50 [06:38<00:54,  9.01s/it]"
          ]
        },
        {
          "output_type": "stream",
          "name": "stdout",
          "text": [
            "Test Loss: 1.10576, Test acc: 67.63%\n",
            "Epoch: 44 ----\n",
            "Train Loss: 0.00360, Train acc: 100.00%\n"
          ]
        },
        {
          "output_type": "stream",
          "name": "stderr",
          "text": [
            "\r 90%|█████████ | 45/50 [06:47<00:45,  9.04s/it]"
          ]
        },
        {
          "output_type": "stream",
          "name": "stdout",
          "text": [
            "Test Loss: 1.10679, Test acc: 67.73%\n",
            "Epoch: 45 ----\n",
            "Train Loss: 0.00316, Train acc: 100.00%\n"
          ]
        },
        {
          "output_type": "stream",
          "name": "stderr",
          "text": [
            "\r 92%|█████████▏| 46/50 [06:56<00:36,  9.03s/it]"
          ]
        },
        {
          "output_type": "stream",
          "name": "stdout",
          "text": [
            "Test Loss: 1.10979, Test acc: 67.48%\n",
            "Epoch: 46 ----\n",
            "Train Loss: 0.00302, Train acc: 100.00%\n"
          ]
        },
        {
          "output_type": "stream",
          "name": "stderr",
          "text": [
            "\r 94%|█████████▍| 47/50 [07:05<00:27,  9.02s/it]"
          ]
        },
        {
          "output_type": "stream",
          "name": "stdout",
          "text": [
            "Test Loss: 1.10873, Test acc: 68.09%\n",
            "Epoch: 47 ----\n",
            "Train Loss: 0.00291, Train acc: 100.00%\n"
          ]
        },
        {
          "output_type": "stream",
          "name": "stderr",
          "text": [
            "\r 96%|█████████▌| 48/50 [07:14<00:18,  9.02s/it]"
          ]
        },
        {
          "output_type": "stream",
          "name": "stdout",
          "text": [
            "Test Loss: 1.11277, Test acc: 67.84%\n",
            "Epoch: 48 ----\n",
            "Train Loss: 0.00286, Train acc: 100.00%\n"
          ]
        },
        {
          "output_type": "stream",
          "name": "stderr",
          "text": [
            "\r 98%|█████████▊| 49/50 [07:23<00:09,  9.03s/it]"
          ]
        },
        {
          "output_type": "stream",
          "name": "stdout",
          "text": [
            "Test Loss: 1.13055, Test acc: 67.89%\n",
            "Epoch: 49 ----\n",
            "Train Loss: 0.00268, Train acc: 100.00%\n"
          ]
        },
        {
          "output_type": "stream",
          "name": "stderr",
          "text": [
            "100%|██████████| 50/50 [07:32<00:00,  9.04s/it]"
          ]
        },
        {
          "output_type": "stream",
          "name": "stdout",
          "text": [
            "Test Loss: 1.11584, Test acc: 68.15%\n",
            "Train time on cuda : 452.242 seconds\n"
          ]
        },
        {
          "output_type": "stream",
          "name": "stderr",
          "text": [
            "\n"
          ]
        }
      ]
    },
    {
      "cell_type": "code",
      "source": [
        "#Now we save the model\n",
        "from pathlib import Path\n",
        "#Create the model directory\n",
        "MODEL_PATH = Path(\"models\")\n",
        "MODEL_PATH.mkdir(parents=True, exist_ok=True)\n",
        "#Create the model save path\n",
        "MODEL_NAME = \"02_InceptionNET_CIFAR10pth\"\n",
        "MODEL_SAVE_PATH = MODEL_PATH/MODEL_NAME"
      ],
      "metadata": {
        "id": "GtOsBYxDtare"
      },
      "id": "GtOsBYxDtare",
      "execution_count": 40,
      "outputs": []
    },
    {
      "cell_type": "code",
      "source": [
        "#Saving the model\n",
        "torch.save(obj=model_InceptionNET_2.state_dict(),\n",
        "           f=MODEL_SAVE_PATH)\n",
        "print(f'Saved at {MODEL_SAVE_PATH}')"
      ],
      "metadata": {
        "id": "WKEt-8ortesS",
        "colab": {
          "base_uri": "https://localhost:8080/"
        },
        "outputId": "267a20f4-852c-4f1e-89cc-84b0f02ad972"
      },
      "id": "WKEt-8ortesS",
      "execution_count": 41,
      "outputs": [
        {
          "output_type": "stream",
          "name": "stdout",
          "text": [
            "Saved at models/02_InceptionNET_CIFAR10pth\n"
          ]
        }
      ]
    },
    {
      "cell_type": "code",
      "source": [
        "#Loading the model\n",
        "#Create a new instance of the model and update the parameters\n",
        "model_InceptionNET_CIFAR10 = GoogLeNet(in_channels=1, num_classes=10).to(device)\n",
        "model_InceptionNET_CIFAR10.load_state_dict(torch.load(f=MODEL_SAVE_PATH))"
      ],
      "metadata": {
        "id": "wtDE8kP4tvTA",
        "colab": {
          "base_uri": "https://localhost:8080/"
        },
        "outputId": "010efe8d-abc6-4fb2-81f4-6d80ff8a2aed"
      },
      "id": "wtDE8kP4tvTA",
      "execution_count": 42,
      "outputs": [
        {
          "output_type": "execute_result",
          "data": {
            "text/plain": [
              "<All keys matched successfully>"
            ]
          },
          "metadata": {},
          "execution_count": 42
        }
      ]
    },
    {
      "cell_type": "code",
      "source": [
        "#Get model results\n",
        "model_InceptionNET_CIFAR10_results = eval_model(\n",
        "    model=model_InceptionNET_CIFAR10,\n",
        "    data_loader=test_dataloader,\n",
        "    loss_fn=loss_fn,\n",
        "    accuracy_fn=accuracy_fn,\n",
        "    device=device\n",
        ")\n",
        "model_InceptionNET_CIFAR10_results"
      ],
      "metadata": {
        "id": "rlZ0cEMxtyvl",
        "colab": {
          "base_uri": "https://localhost:8080/"
        },
        "outputId": "20e43d7f-4d54-41a3-932a-ed926eb27159"
      },
      "id": "rlZ0cEMxtyvl",
      "execution_count": 43,
      "outputs": [
        {
          "output_type": "stream",
          "name": "stderr",
          "text": [
            "100%|██████████| 4/4 [00:01<00:00,  2.95it/s]\n"
          ]
        },
        {
          "output_type": "execute_result",
          "data": {
            "text/plain": [
              "{'model_name': 'GoogLeNet',\n",
              " 'model_loss': 1.1158448457717896,\n",
              " 'model_acc': 68.14890894396552}"
            ]
          },
          "metadata": {},
          "execution_count": 43
        }
      ]
    },
    {
      "cell_type": "code",
      "source": [
        "#CIFAR100\n",
        "train_data = datasets.CIFAR100(root=\"data\",\n",
        "                                   train=True,\n",
        "                                   download=True,\n",
        "                                   transform=transforms.Compose([transforms.Grayscale(),transforms.Resize(size=(224,224)),transforms.ToTensor()]))\n",
        "\n",
        "test_data = datasets.CIFAR100(root=\"data\",\n",
        "                                   train=False,\n",
        "                                   download=True,\n",
        "                                   transform=transforms.Compose([transforms.Grayscale(),transforms.Resize(size=(224,224)),transforms.ToTensor()]))"
      ],
      "metadata": {
        "id": "KFZ9Di2zt4DD",
        "colab": {
          "base_uri": "https://localhost:8080/"
        },
        "outputId": "bfe24463-fbec-4c03-e48d-ff96a260fc13"
      },
      "id": "KFZ9Di2zt4DD",
      "execution_count": 7,
      "outputs": [
        {
          "output_type": "stream",
          "name": "stdout",
          "text": [
            "Files already downloaded and verified\n",
            "Files already downloaded and verified\n"
          ]
        }
      ]
    },
    {
      "cell_type": "code",
      "source": [
        "class_names = train_data.classes\n",
        "class_to_idx = train_data.class_to_idx\n",
        "class_names, class_to_idx"
      ],
      "metadata": {
        "id": "1tJShm_CuH-D",
        "colab": {
          "base_uri": "https://localhost:8080/"
        },
        "outputId": "ae167c21-4c05-43ff-eae7-f625383c3b4b"
      },
      "id": "1tJShm_CuH-D",
      "execution_count": 8,
      "outputs": [
        {
          "output_type": "execute_result",
          "data": {
            "text/plain": [
              "(['apple',\n",
              "  'aquarium_fish',\n",
              "  'baby',\n",
              "  'bear',\n",
              "  'beaver',\n",
              "  'bed',\n",
              "  'bee',\n",
              "  'beetle',\n",
              "  'bicycle',\n",
              "  'bottle',\n",
              "  'bowl',\n",
              "  'boy',\n",
              "  'bridge',\n",
              "  'bus',\n",
              "  'butterfly',\n",
              "  'camel',\n",
              "  'can',\n",
              "  'castle',\n",
              "  'caterpillar',\n",
              "  'cattle',\n",
              "  'chair',\n",
              "  'chimpanzee',\n",
              "  'clock',\n",
              "  'cloud',\n",
              "  'cockroach',\n",
              "  'couch',\n",
              "  'crab',\n",
              "  'crocodile',\n",
              "  'cup',\n",
              "  'dinosaur',\n",
              "  'dolphin',\n",
              "  'elephant',\n",
              "  'flatfish',\n",
              "  'forest',\n",
              "  'fox',\n",
              "  'girl',\n",
              "  'hamster',\n",
              "  'house',\n",
              "  'kangaroo',\n",
              "  'keyboard',\n",
              "  'lamp',\n",
              "  'lawn_mower',\n",
              "  'leopard',\n",
              "  'lion',\n",
              "  'lizard',\n",
              "  'lobster',\n",
              "  'man',\n",
              "  'maple_tree',\n",
              "  'motorcycle',\n",
              "  'mountain',\n",
              "  'mouse',\n",
              "  'mushroom',\n",
              "  'oak_tree',\n",
              "  'orange',\n",
              "  'orchid',\n",
              "  'otter',\n",
              "  'palm_tree',\n",
              "  'pear',\n",
              "  'pickup_truck',\n",
              "  'pine_tree',\n",
              "  'plain',\n",
              "  'plate',\n",
              "  'poppy',\n",
              "  'porcupine',\n",
              "  'possum',\n",
              "  'rabbit',\n",
              "  'raccoon',\n",
              "  'ray',\n",
              "  'road',\n",
              "  'rocket',\n",
              "  'rose',\n",
              "  'sea',\n",
              "  'seal',\n",
              "  'shark',\n",
              "  'shrew',\n",
              "  'skunk',\n",
              "  'skyscraper',\n",
              "  'snail',\n",
              "  'snake',\n",
              "  'spider',\n",
              "  'squirrel',\n",
              "  'streetcar',\n",
              "  'sunflower',\n",
              "  'sweet_pepper',\n",
              "  'table',\n",
              "  'tank',\n",
              "  'telephone',\n",
              "  'television',\n",
              "  'tiger',\n",
              "  'tractor',\n",
              "  'train',\n",
              "  'trout',\n",
              "  'tulip',\n",
              "  'turtle',\n",
              "  'wardrobe',\n",
              "  'whale',\n",
              "  'willow_tree',\n",
              "  'wolf',\n",
              "  'woman',\n",
              "  'worm'],\n",
              " {'apple': 0,\n",
              "  'aquarium_fish': 1,\n",
              "  'baby': 2,\n",
              "  'bear': 3,\n",
              "  'beaver': 4,\n",
              "  'bed': 5,\n",
              "  'bee': 6,\n",
              "  'beetle': 7,\n",
              "  'bicycle': 8,\n",
              "  'bottle': 9,\n",
              "  'bowl': 10,\n",
              "  'boy': 11,\n",
              "  'bridge': 12,\n",
              "  'bus': 13,\n",
              "  'butterfly': 14,\n",
              "  'camel': 15,\n",
              "  'can': 16,\n",
              "  'castle': 17,\n",
              "  'caterpillar': 18,\n",
              "  'cattle': 19,\n",
              "  'chair': 20,\n",
              "  'chimpanzee': 21,\n",
              "  'clock': 22,\n",
              "  'cloud': 23,\n",
              "  'cockroach': 24,\n",
              "  'couch': 25,\n",
              "  'crab': 26,\n",
              "  'crocodile': 27,\n",
              "  'cup': 28,\n",
              "  'dinosaur': 29,\n",
              "  'dolphin': 30,\n",
              "  'elephant': 31,\n",
              "  'flatfish': 32,\n",
              "  'forest': 33,\n",
              "  'fox': 34,\n",
              "  'girl': 35,\n",
              "  'hamster': 36,\n",
              "  'house': 37,\n",
              "  'kangaroo': 38,\n",
              "  'keyboard': 39,\n",
              "  'lamp': 40,\n",
              "  'lawn_mower': 41,\n",
              "  'leopard': 42,\n",
              "  'lion': 43,\n",
              "  'lizard': 44,\n",
              "  'lobster': 45,\n",
              "  'man': 46,\n",
              "  'maple_tree': 47,\n",
              "  'motorcycle': 48,\n",
              "  'mountain': 49,\n",
              "  'mouse': 50,\n",
              "  'mushroom': 51,\n",
              "  'oak_tree': 52,\n",
              "  'orange': 53,\n",
              "  'orchid': 54,\n",
              "  'otter': 55,\n",
              "  'palm_tree': 56,\n",
              "  'pear': 57,\n",
              "  'pickup_truck': 58,\n",
              "  'pine_tree': 59,\n",
              "  'plain': 60,\n",
              "  'plate': 61,\n",
              "  'poppy': 62,\n",
              "  'porcupine': 63,\n",
              "  'possum': 64,\n",
              "  'rabbit': 65,\n",
              "  'raccoon': 66,\n",
              "  'ray': 67,\n",
              "  'road': 68,\n",
              "  'rocket': 69,\n",
              "  'rose': 70,\n",
              "  'sea': 71,\n",
              "  'seal': 72,\n",
              "  'shark': 73,\n",
              "  'shrew': 74,\n",
              "  'skunk': 75,\n",
              "  'skyscraper': 76,\n",
              "  'snail': 77,\n",
              "  'snake': 78,\n",
              "  'spider': 79,\n",
              "  'squirrel': 80,\n",
              "  'streetcar': 81,\n",
              "  'sunflower': 82,\n",
              "  'sweet_pepper': 83,\n",
              "  'table': 84,\n",
              "  'tank': 85,\n",
              "  'telephone': 86,\n",
              "  'television': 87,\n",
              "  'tiger': 88,\n",
              "  'tractor': 89,\n",
              "  'train': 90,\n",
              "  'trout': 91,\n",
              "  'tulip': 92,\n",
              "  'turtle': 93,\n",
              "  'wardrobe': 94,\n",
              "  'whale': 95,\n",
              "  'willow_tree': 96,\n",
              "  'wolf': 97,\n",
              "  'woman': 98,\n",
              "  'worm': 99})"
            ]
          },
          "metadata": {},
          "execution_count": 8
        }
      ]
    },
    {
      "cell_type": "code",
      "source": [
        "import torch.utils.data as data_utils\n",
        "\n",
        "indices_train = torch.arange(15000)\n",
        "indices_test = torch.arange(5000)\n",
        "train_data = data_utils.Subset(train_data, indices_train)\n",
        "test_data = data_utils.Subset(test_data, indices_test)\n",
        "len(train_data), len(test_data)"
      ],
      "metadata": {
        "id": "R8KVVr99uKaA",
        "colab": {
          "base_uri": "https://localhost:8080/"
        },
        "outputId": "a1e5e0ad-65b0-4976-9c2e-b1faf35b9364"
      },
      "id": "R8KVVr99uKaA",
      "execution_count": 9,
      "outputs": [
        {
          "output_type": "execute_result",
          "data": {
            "text/plain": [
              "(15000, 5000)"
            ]
          },
          "metadata": {},
          "execution_count": 9
        }
      ]
    },
    {
      "cell_type": "code",
      "source": [
        "#Plot more images\n",
        "torch.manual_seed(42)\n",
        "fig = plt.figure(figsize=(9,9))\n",
        "rows, cols = 4, 4\n",
        "for i in range(1, rows*cols+1):\n",
        "  random_idx = torch.randint(0, len(train_data), size=[1]).item()\n",
        "  img, label = train_data[random_idx]\n",
        "  fig.add_subplot(rows, cols, i)\n",
        "  plt.imshow(img.squeeze(), cmap=\"gray\")\n",
        "  plt.title(class_names[label])\n",
        "  plt.axis(False)"
      ],
      "metadata": {
        "id": "bJ8PsAWFuNUb",
        "colab": {
          "base_uri": "https://localhost:8080/",
          "height": 536
        },
        "outputId": "2cd3050f-3e6d-4d6e-c0d3-18a1707fd51f"
      },
      "id": "bJ8PsAWFuNUb",
      "execution_count": 10,
      "outputs": [
        {
          "output_type": "display_data",
          "data": {
            "text/plain": [
              "<Figure size 648x648 with 16 Axes>"
            ],
            "image/png": "[encoded data removed]"
          },
          "metadata": {
            "needs_background": "light"
          }
        }
      ]
    },
    {
      "cell_type": "code",
      "source": [
        "#Prepare Dataloader that prepares our data into python iterable\n",
        "#We turn our data into mini batches since it is more computationally efficient\n",
        "from torch.utils.data import DataLoader\n",
        "\n",
        "#Setup the batch size hyperparameter\n",
        "BATCH_SIZE = 512\n",
        "device = \"cuda\" if torch.cuda.is_available() else \"cpu\"\n",
        "\n",
        "#Turn datasets into iterables(batches)\n",
        "train_dataloader = DataLoader(train_data, batch_size=BATCH_SIZE, shuffle=True)\n",
        "test_dataloader = DataLoader(test_data, batch_size=BATCH_SIZE, shuffle=False)"
      ],
      "metadata": {
        "id": "oPSROgOWuRO7"
      },
      "id": "oPSROgOWuRO7",
      "execution_count": 11,
      "outputs": []
    },
    {
      "cell_type": "code",
      "source": [
        "model_InceptionNET_3 = GoogLeNet(in_channels=1, num_classes=100).to(device)"
      ],
      "metadata": {
        "id": "E-mydGmzuVzN"
      },
      "id": "E-mydGmzuVzN",
      "execution_count": 12,
      "outputs": []
    },
    {
      "cell_type": "code",
      "source": [
        "loss_fn = nn.CrossEntropyLoss()\n",
        "optimizer = torch.optim.Adam(model_InceptionNET_3.parameters(), lr=0.001)\n",
        "\n",
        "def accuracy_fn(y_true, y_pred):\n",
        "    correct = torch.eq(y_true, y_pred).sum().item()\n",
        "    acc = (correct / len(y_pred)) * 100\n",
        "    return acc"
      ],
      "metadata": {
        "id": "ic8z7Gj1uZ3f"
      },
      "id": "ic8z7Gj1uZ3f",
      "execution_count": 13,
      "outputs": []
    },
    {
      "cell_type": "code",
      "source": [
        "#torch.manual_seed(42)\n",
        "\n",
        "#Measure time\n",
        "train_time_start_on_gpu = timer()\n",
        "\n",
        "#Set epochs\n",
        "epochs=100\n",
        "\n",
        "#Create a optimization and evaluation loop using train_step() and test_step()\n",
        "for epoch in tqdm(range(epochs)):\n",
        "  print(f\"Epoch: {epoch} ----\")\n",
        "  train_step(model=model_InceptionNET_3, data_loader=train_dataloader,loss_fn=loss_fn,optimizer=optimizer,accuracy_fn=accuracy_fn,device=device)\n",
        "  \n",
        "  test_step(model=model_InceptionNET_3,data_loader=test_dataloader,loss_fn=loss_fn,optimizer=optimizer,accuracy_fn=accuracy_fn,device=device)\n",
        "  \n",
        "train_time_end_on_gpu = timer()\n",
        "total_train_time_model_1 = print_train_time(start=train_time_start_on_gpu,\n",
        "                                            end=train_time_end_on_gpu,\n",
        "                                            device=device)"
      ],
      "metadata": {
        "id": "peQylqyWudiW",
        "colab": {
          "base_uri": "https://localhost:8080/"
        },
        "outputId": "c5cd71a4-858b-44c6-fed3-64a7c3b82cdb"
      },
      "id": "peQylqyWudiW",
      "execution_count": 19,
      "outputs": [
        {
          "output_type": "stream",
          "name": "stderr",
          "text": [
            "\r  0%|          | 0/100 [00:00<?, ?it/s]"
          ]
        },
        {
          "output_type": "stream",
          "name": "stdout",
          "text": [
            "Epoch: 0 ----\n",
            "Train Loss: 4.34516, Train acc: 4.75%\n"
          ]
        },
        {
          "output_type": "stream",
          "name": "stderr",
          "text": [
            "\r  1%|          | 1/100 [00:22<37:00, 22.43s/it]"
          ]
        },
        {
          "output_type": "stream",
          "name": "stdout",
          "text": [
            "Test Loss: 6.09967, Test acc: 1.81%\n",
            "Epoch: 1 ----\n",
            "Train Loss: 3.95068, Train acc: 9.32%\n"
          ]
        },
        {
          "output_type": "stream",
          "name": "stderr",
          "text": [
            "\r  2%|▏         | 2/100 [00:42<34:01, 20.83s/it]"
          ]
        },
        {
          "output_type": "stream",
          "name": "stdout",
          "text": [
            "Test Loss: 4.77879, Test acc: 4.78%\n",
            "Epoch: 2 ----\n",
            "Train Loss: 3.63498, Train acc: 14.36%\n"
          ]
        },
        {
          "output_type": "stream",
          "name": "stderr",
          "text": [
            "\r  3%|▎         | 3/100 [01:01<32:52, 20.34s/it]"
          ]
        },
        {
          "output_type": "stream",
          "name": "stdout",
          "text": [
            "Test Loss: 4.24372, Test acc: 8.07%\n",
            "Epoch: 3 ----\n",
            "Train Loss: 3.36645, Train acc: 18.20%\n"
          ]
        },
        {
          "output_type": "stream",
          "name": "stderr",
          "text": [
            "\r  4%|▍         | 4/100 [01:21<32:10, 20.10s/it]"
          ]
        },
        {
          "output_type": "stream",
          "name": "stdout",
          "text": [
            "Test Loss: 3.68923, Test acc: 13.10%\n",
            "Epoch: 4 ----\n",
            "Train Loss: 3.06577, Train acc: 23.57%\n"
          ]
        },
        {
          "output_type": "stream",
          "name": "stderr",
          "text": [
            "\r  5%|▌         | 5/100 [01:41<31:36, 19.96s/it]"
          ]
        },
        {
          "output_type": "stream",
          "name": "stdout",
          "text": [
            "Test Loss: 3.71530, Test acc: 14.42%\n",
            "Epoch: 5 ----\n",
            "Train Loss: 2.77286, Train acc: 29.17%\n"
          ]
        },
        {
          "output_type": "stream",
          "name": "stderr",
          "text": [
            "\r  6%|▌         | 6/100 [02:01<31:08, 19.87s/it]"
          ]
        },
        {
          "output_type": "stream",
          "name": "stdout",
          "text": [
            "Test Loss: 3.19941, Test acc: 21.42%\n",
            "Epoch: 6 ----\n",
            "Train Loss: 2.53523, Train acc: 33.28%\n"
          ]
        },
        {
          "output_type": "stream",
          "name": "stderr",
          "text": [
            "\r  7%|▋         | 7/100 [02:20<30:44, 19.84s/it]"
          ]
        },
        {
          "output_type": "stream",
          "name": "stdout",
          "text": [
            "Test Loss: 3.85985, Test acc: 14.58%\n",
            "Epoch: 7 ----\n",
            "Train Loss: 2.33844, Train acc: 37.82%\n"
          ]
        },
        {
          "output_type": "stream",
          "name": "stderr",
          "text": [
            "\r  8%|▊         | 8/100 [02:40<30:20, 19.79s/it]"
          ]
        },
        {
          "output_type": "stream",
          "name": "stdout",
          "text": [
            "Test Loss: 3.16308, Test acc: 23.51%\n",
            "Epoch: 8 ----\n",
            "Train Loss: 2.12008, Train acc: 42.83%\n"
          ]
        },
        {
          "output_type": "stream",
          "name": "stderr",
          "text": [
            "\r  9%|▉         | 9/100 [03:00<29:59, 19.77s/it]"
          ]
        },
        {
          "output_type": "stream",
          "name": "stdout",
          "text": [
            "Test Loss: 3.34504, Test acc: 24.41%\n",
            "Epoch: 9 ----\n",
            "Train Loss: 1.92624, Train acc: 47.07%\n"
          ]
        },
        {
          "output_type": "stream",
          "name": "stderr",
          "text": [
            "\r 10%|█         | 10/100 [03:20<29:40, 19.78s/it]"
          ]
        },
        {
          "output_type": "stream",
          "name": "stdout",
          "text": [
            "Test Loss: 2.91232, Test acc: 29.86%\n",
            "Epoch: 10 ----\n",
            "Train Loss: 1.72411, Train acc: 51.61%\n"
          ]
        },
        {
          "output_type": "stream",
          "name": "stderr",
          "text": [
            "\r 11%|█         | 11/100 [03:39<29:22, 19.80s/it]"
          ]
        },
        {
          "output_type": "stream",
          "name": "stdout",
          "text": [
            "Test Loss: 2.95132, Test acc: 31.04%\n",
            "Epoch: 11 ----\n",
            "Train Loss: 1.51174, Train acc: 56.84%\n"
          ]
        },
        {
          "output_type": "stream",
          "name": "stderr",
          "text": [
            "\r 12%|█▏        | 12/100 [03:59<29:00, 19.77s/it]"
          ]
        },
        {
          "output_type": "stream",
          "name": "stdout",
          "text": [
            "Test Loss: 3.02343, Test acc: 30.00%\n",
            "Epoch: 12 ----\n",
            "Train Loss: 1.32136, Train acc: 62.32%\n"
          ]
        },
        {
          "output_type": "stream",
          "name": "stderr",
          "text": [
            "\r 13%|█▎        | 13/100 [04:19<28:39, 19.76s/it]"
          ]
        },
        {
          "output_type": "stream",
          "name": "stdout",
          "text": [
            "Test Loss: 3.05889, Test acc: 30.35%\n",
            "Epoch: 13 ----\n",
            "Train Loss: 1.12241, Train acc: 67.40%\n"
          ]
        },
        {
          "output_type": "stream",
          "name": "stderr",
          "text": [
            "\r 14%|█▍        | 14/100 [04:39<28:18, 19.75s/it]"
          ]
        },
        {
          "output_type": "stream",
          "name": "stdout",
          "text": [
            "Test Loss: 3.26061, Test acc: 29.71%\n",
            "Epoch: 14 ----\n",
            "Train Loss: 0.94978, Train acc: 72.07%\n"
          ]
        },
        {
          "output_type": "stream",
          "name": "stderr",
          "text": [
            "\r 15%|█▌        | 15/100 [04:58<28:00, 19.78s/it]"
          ]
        },
        {
          "output_type": "stream",
          "name": "stdout",
          "text": [
            "Test Loss: 2.65927, Test acc: 37.31%\n",
            "Epoch: 15 ----\n",
            "Train Loss: 0.78575, Train acc: 77.09%\n"
          ]
        },
        {
          "output_type": "stream",
          "name": "stderr",
          "text": [
            "\r 16%|█▌        | 16/100 [05:18<27:40, 19.77s/it]"
          ]
        },
        {
          "output_type": "stream",
          "name": "stdout",
          "text": [
            "Test Loss: 2.73473, Test acc: 36.52%\n",
            "Epoch: 16 ----\n",
            "Train Loss: 0.63924, Train acc: 81.24%\n"
          ]
        },
        {
          "output_type": "stream",
          "name": "stderr",
          "text": [
            "\r 17%|█▋        | 17/100 [05:38<27:21, 19.78s/it]"
          ]
        },
        {
          "output_type": "stream",
          "name": "stdout",
          "text": [
            "Test Loss: 2.90039, Test acc: 35.46%\n",
            "Epoch: 17 ----\n",
            "Train Loss: 0.46442, Train acc: 86.72%\n"
          ]
        },
        {
          "output_type": "stream",
          "name": "stderr",
          "text": [
            "\r 18%|█▊        | 18/100 [05:58<27:04, 19.81s/it]"
          ]
        },
        {
          "output_type": "stream",
          "name": "stdout",
          "text": [
            "Test Loss: 3.21439, Test acc: 33.72%\n",
            "Epoch: 18 ----\n",
            "Train Loss: 0.39459, Train acc: 88.86%\n"
          ]
        },
        {
          "output_type": "stream",
          "name": "stderr",
          "text": [
            "\r 19%|█▉        | 19/100 [06:18<26:43, 19.80s/it]"
          ]
        },
        {
          "output_type": "stream",
          "name": "stdout",
          "text": [
            "Test Loss: 3.58002, Test acc: 33.33%\n",
            "Epoch: 19 ----\n",
            "Train Loss: 0.29691, Train acc: 91.89%\n"
          ]
        },
        {
          "output_type": "stream",
          "name": "stderr",
          "text": [
            "\r 20%|██        | 20/100 [06:37<26:21, 19.77s/it]"
          ]
        },
        {
          "output_type": "stream",
          "name": "stdout",
          "text": [
            "Test Loss: 3.61592, Test acc: 32.40%\n",
            "Epoch: 20 ----\n",
            "Train Loss: 0.19678, Train acc: 95.25%\n"
          ]
        },
        {
          "output_type": "stream",
          "name": "stderr",
          "text": [
            "\r 21%|██        | 21/100 [06:57<26:01, 19.77s/it]"
          ]
        },
        {
          "output_type": "stream",
          "name": "stdout",
          "text": [
            "Test Loss: 3.40175, Test acc: 34.61%\n",
            "Epoch: 21 ----\n",
            "Train Loss: 0.12845, Train acc: 97.23%\n"
          ]
        },
        {
          "output_type": "stream",
          "name": "stderr",
          "text": [
            "\r 22%|██▏       | 22/100 [07:17<25:41, 19.76s/it]"
          ]
        },
        {
          "output_type": "stream",
          "name": "stdout",
          "text": [
            "Test Loss: 3.24160, Test acc: 37.99%\n",
            "Epoch: 22 ----\n",
            "Train Loss: 0.09849, Train acc: 97.96%\n"
          ]
        },
        {
          "output_type": "stream",
          "name": "stderr",
          "text": [
            "\r 23%|██▎       | 23/100 [07:37<25:20, 19.75s/it]"
          ]
        },
        {
          "output_type": "stream",
          "name": "stdout",
          "text": [
            "Test Loss: 3.20041, Test acc: 38.96%\n",
            "Epoch: 23 ----\n",
            "Train Loss: 0.07684, Train acc: 98.53%\n"
          ]
        },
        {
          "output_type": "stream",
          "name": "stderr",
          "text": [
            "\r 24%|██▍       | 24/100 [07:56<24:59, 19.73s/it]"
          ]
        },
        {
          "output_type": "stream",
          "name": "stdout",
          "text": [
            "Test Loss: 3.38967, Test acc: 37.36%\n",
            "Epoch: 24 ----\n",
            "Train Loss: 0.05575, Train acc: 99.09%\n"
          ]
        },
        {
          "output_type": "stream",
          "name": "stderr",
          "text": [
            "\r 25%|██▌       | 25/100 [08:16<24:40, 19.74s/it]"
          ]
        },
        {
          "output_type": "stream",
          "name": "stdout",
          "text": [
            "Test Loss: 3.13350, Test acc: 41.11%\n",
            "Epoch: 25 ----\n",
            "Train Loss: 0.03221, Train acc: 99.64%\n"
          ]
        },
        {
          "output_type": "stream",
          "name": "stderr",
          "text": [
            "\r 26%|██▌       | 26/100 [08:36<24:20, 19.74s/it]"
          ]
        },
        {
          "output_type": "stream",
          "name": "stdout",
          "text": [
            "Test Loss: 3.26774, Test acc: 39.77%\n",
            "Epoch: 26 ----\n",
            "Train Loss: 0.01821, Train acc: 99.83%\n"
          ]
        },
        {
          "output_type": "stream",
          "name": "stderr",
          "text": [
            "\r 27%|██▋       | 27/100 [08:55<24:01, 19.75s/it]"
          ]
        },
        {
          "output_type": "stream",
          "name": "stdout",
          "text": [
            "Test Loss: 3.00573, Test acc: 42.83%\n",
            "Epoch: 27 ----\n",
            "Train Loss: 0.01172, Train acc: 99.93%\n"
          ]
        },
        {
          "output_type": "stream",
          "name": "stderr",
          "text": [
            "\r 28%|██▊       | 28/100 [09:15<23:42, 19.76s/it]"
          ]
        },
        {
          "output_type": "stream",
          "name": "stdout",
          "text": [
            "Test Loss: 3.12588, Test acc: 41.91%\n",
            "Epoch: 28 ----\n",
            "Train Loss: 0.00717, Train acc: 99.97%\n"
          ]
        },
        {
          "output_type": "stream",
          "name": "stderr",
          "text": [
            "\r 29%|██▉       | 29/100 [09:35<23:24, 19.78s/it]"
          ]
        },
        {
          "output_type": "stream",
          "name": "stdout",
          "text": [
            "Test Loss: 3.00326, Test acc: 44.07%\n",
            "Epoch: 29 ----\n",
            "Train Loss: 0.00390, Train acc: 99.99%\n"
          ]
        },
        {
          "output_type": "stream",
          "name": "stderr",
          "text": [
            "\r 30%|███       | 30/100 [09:55<23:03, 19.77s/it]"
          ]
        },
        {
          "output_type": "stream",
          "name": "stdout",
          "text": [
            "Test Loss: 2.94316, Test acc: 44.36%\n",
            "Epoch: 30 ----\n",
            "Train Loss: 0.00309, Train acc: 99.99%\n"
          ]
        },
        {
          "output_type": "stream",
          "name": "stderr",
          "text": [
            "\r 31%|███       | 31/100 [10:15<22:43, 19.76s/it]"
          ]
        },
        {
          "output_type": "stream",
          "name": "stdout",
          "text": [
            "Test Loss: 2.98689, Test acc: 44.14%\n",
            "Epoch: 31 ----\n",
            "Train Loss: 0.00223, Train acc: 100.00%\n"
          ]
        },
        {
          "output_type": "stream",
          "name": "stderr",
          "text": [
            "\r 32%|███▏      | 32/100 [10:34<22:22, 19.75s/it]"
          ]
        },
        {
          "output_type": "stream",
          "name": "stdout",
          "text": [
            "Test Loss: 2.95405, Test acc: 44.22%\n",
            "Epoch: 32 ----\n",
            "Train Loss: 0.00188, Train acc: 100.00%\n"
          ]
        },
        {
          "output_type": "stream",
          "name": "stderr",
          "text": [
            "\r 33%|███▎      | 33/100 [10:54<22:02, 19.74s/it]"
          ]
        },
        {
          "output_type": "stream",
          "name": "stdout",
          "text": [
            "Test Loss: 2.93926, Test acc: 44.81%\n",
            "Epoch: 33 ----\n",
            "Train Loss: 0.00170, Train acc: 100.00%\n"
          ]
        },
        {
          "output_type": "stream",
          "name": "stderr",
          "text": [
            "\r 34%|███▍      | 34/100 [11:14<21:42, 19.73s/it]"
          ]
        },
        {
          "output_type": "stream",
          "name": "stdout",
          "text": [
            "Test Loss: 2.97287, Test acc: 44.51%\n",
            "Epoch: 34 ----\n",
            "Train Loss: 0.00155, Train acc: 100.00%\n"
          ]
        },
        {
          "output_type": "stream",
          "name": "stderr",
          "text": [
            "\r 35%|███▌      | 35/100 [11:33<21:22, 19.73s/it]"
          ]
        },
        {
          "output_type": "stream",
          "name": "stdout",
          "text": [
            "Test Loss: 2.97774, Test acc: 44.24%\n",
            "Epoch: 35 ----\n",
            "Train Loss: 0.00138, Train acc: 100.00%\n"
          ]
        },
        {
          "output_type": "stream",
          "name": "stderr",
          "text": [
            "\r 36%|███▌      | 36/100 [11:53<21:03, 19.74s/it]"
          ]
        },
        {
          "output_type": "stream",
          "name": "stdout",
          "text": [
            "Test Loss: 2.98158, Test acc: 44.44%\n",
            "Epoch: 36 ----\n",
            "Train Loss: 0.00134, Train acc: 100.00%\n"
          ]
        },
        {
          "output_type": "stream",
          "name": "stderr",
          "text": [
            "\r 37%|███▋      | 37/100 [12:13<20:44, 19.75s/it]"
          ]
        },
        {
          "output_type": "stream",
          "name": "stdout",
          "text": [
            "Test Loss: 2.99543, Test acc: 44.17%\n",
            "Epoch: 37 ----\n",
            "Train Loss: 0.00121, Train acc: 100.00%\n"
          ]
        },
        {
          "output_type": "stream",
          "name": "stderr",
          "text": [
            "\r 38%|███▊      | 38/100 [12:33<20:24, 19.74s/it]"
          ]
        },
        {
          "output_type": "stream",
          "name": "stdout",
          "text": [
            "Test Loss: 2.99251, Test acc: 44.12%\n",
            "Epoch: 38 ----\n",
            "Train Loss: 0.00116, Train acc: 100.00%\n"
          ]
        },
        {
          "output_type": "stream",
          "name": "stderr",
          "text": [
            "\r 39%|███▉      | 39/100 [12:53<20:08, 19.81s/it]"
          ]
        },
        {
          "output_type": "stream",
          "name": "stdout",
          "text": [
            "Test Loss: 2.99833, Test acc: 44.35%\n",
            "Epoch: 39 ----\n",
            "Train Loss: 0.00103, Train acc: 100.00%\n"
          ]
        },
        {
          "output_type": "stream",
          "name": "stderr",
          "text": [
            "\r 40%|████      | 40/100 [13:13<19:49, 19.82s/it]"
          ]
        },
        {
          "output_type": "stream",
          "name": "stdout",
          "text": [
            "Test Loss: 3.00575, Test acc: 44.49%\n",
            "Epoch: 40 ----\n",
            "Train Loss: 0.00100, Train acc: 100.00%\n"
          ]
        },
        {
          "output_type": "stream",
          "name": "stderr",
          "text": [
            "\r 41%|████      | 41/100 [13:32<19:30, 19.84s/it]"
          ]
        },
        {
          "output_type": "stream",
          "name": "stdout",
          "text": [
            "Test Loss: 3.01297, Test acc: 44.55%\n",
            "Epoch: 41 ----\n",
            "Train Loss: 0.00096, Train acc: 100.00%\n"
          ]
        },
        {
          "output_type": "stream",
          "name": "stderr",
          "text": [
            "\r 42%|████▏     | 42/100 [13:52<19:09, 19.82s/it]"
          ]
        },
        {
          "output_type": "stream",
          "name": "stdout",
          "text": [
            "Test Loss: 3.01028, Test acc: 44.40%\n",
            "Epoch: 42 ----\n",
            "Train Loss: 0.00094, Train acc: 100.00%\n"
          ]
        },
        {
          "output_type": "stream",
          "name": "stderr",
          "text": [
            "\r 43%|████▎     | 43/100 [14:12<18:48, 19.80s/it]"
          ]
        },
        {
          "output_type": "stream",
          "name": "stdout",
          "text": [
            "Test Loss: 3.02052, Test acc: 44.29%\n",
            "Epoch: 43 ----\n",
            "Train Loss: 0.00084, Train acc: 100.00%\n"
          ]
        },
        {
          "output_type": "stream",
          "name": "stderr",
          "text": [
            "\r 44%|████▍     | 44/100 [14:32<18:27, 19.78s/it]"
          ]
        },
        {
          "output_type": "stream",
          "name": "stdout",
          "text": [
            "Test Loss: 3.03202, Test acc: 44.27%\n",
            "Epoch: 44 ----\n",
            "Train Loss: 0.00079, Train acc: 100.00%\n"
          ]
        },
        {
          "output_type": "stream",
          "name": "stderr",
          "text": [
            "\r 45%|████▌     | 45/100 [14:51<18:07, 19.78s/it]"
          ]
        },
        {
          "output_type": "stream",
          "name": "stdout",
          "text": [
            "Test Loss: 3.03057, Test acc: 44.40%\n",
            "Epoch: 45 ----\n",
            "Train Loss: 0.00074, Train acc: 100.00%\n"
          ]
        },
        {
          "output_type": "stream",
          "name": "stderr",
          "text": [
            "\r 46%|████▌     | 46/100 [15:11<17:48, 19.79s/it]"
          ]
        },
        {
          "output_type": "stream",
          "name": "stdout",
          "text": [
            "Test Loss: 3.04064, Test acc: 44.43%\n",
            "Epoch: 46 ----\n",
            "Train Loss: 0.00076, Train acc: 100.00%\n"
          ]
        },
        {
          "output_type": "stream",
          "name": "stderr",
          "text": [
            "\r 47%|████▋     | 47/100 [15:31<17:29, 19.79s/it]"
          ]
        },
        {
          "output_type": "stream",
          "name": "stdout",
          "text": [
            "Test Loss: 3.05775, Test acc: 44.35%\n",
            "Epoch: 47 ----\n",
            "Train Loss: 0.00070, Train acc: 100.00%\n"
          ]
        },
        {
          "output_type": "stream",
          "name": "stderr",
          "text": [
            "\r 48%|████▊     | 48/100 [15:51<17:08, 19.78s/it]"
          ]
        },
        {
          "output_type": "stream",
          "name": "stdout",
          "text": [
            "Test Loss: 3.04745, Test acc: 44.25%\n",
            "Epoch: 48 ----\n",
            "Train Loss: 0.00067, Train acc: 100.00%\n"
          ]
        },
        {
          "output_type": "stream",
          "name": "stderr",
          "text": [
            "\r 49%|████▉     | 49/100 [16:11<16:48, 19.77s/it]"
          ]
        },
        {
          "output_type": "stream",
          "name": "stdout",
          "text": [
            "Test Loss: 3.05898, Test acc: 44.34%\n",
            "Epoch: 49 ----\n",
            "Train Loss: 0.00064, Train acc: 100.00%\n"
          ]
        },
        {
          "output_type": "stream",
          "name": "stderr",
          "text": [
            "\r 50%|█████     | 50/100 [16:30<16:28, 19.76s/it]"
          ]
        },
        {
          "output_type": "stream",
          "name": "stdout",
          "text": [
            "Test Loss: 3.06301, Test acc: 44.37%\n",
            "Epoch: 50 ----\n",
            "Train Loss: 0.00061, Train acc: 100.00%\n"
          ]
        },
        {
          "output_type": "stream",
          "name": "stderr",
          "text": [
            "\r 51%|█████     | 51/100 [16:50<16:09, 19.79s/it]"
          ]
        },
        {
          "output_type": "stream",
          "name": "stdout",
          "text": [
            "Test Loss: 3.06339, Test acc: 44.53%\n",
            "Epoch: 51 ----\n",
            "Train Loss: 0.00060, Train acc: 100.00%\n"
          ]
        },
        {
          "output_type": "stream",
          "name": "stderr",
          "text": [
            "\r 52%|█████▏    | 52/100 [17:10<15:48, 19.76s/it]"
          ]
        },
        {
          "output_type": "stream",
          "name": "stdout",
          "text": [
            "Test Loss: 3.07727, Test acc: 44.45%\n",
            "Epoch: 52 ----\n",
            "Train Loss: 0.00058, Train acc: 100.00%\n"
          ]
        },
        {
          "output_type": "stream",
          "name": "stderr",
          "text": [
            "\r 53%|█████▎    | 53/100 [17:30<15:29, 19.78s/it]"
          ]
        },
        {
          "output_type": "stream",
          "name": "stdout",
          "text": [
            "Test Loss: 3.08361, Test acc: 44.45%\n",
            "Epoch: 53 ----\n",
            "Train Loss: 0.00055, Train acc: 100.00%\n"
          ]
        },
        {
          "output_type": "stream",
          "name": "stderr",
          "text": [
            "\r 54%|█████▍    | 54/100 [17:49<15:09, 19.77s/it]"
          ]
        },
        {
          "output_type": "stream",
          "name": "stdout",
          "text": [
            "Test Loss: 3.08027, Test acc: 44.30%\n",
            "Epoch: 54 ----\n",
            "Train Loss: 0.00055, Train acc: 100.00%\n"
          ]
        },
        {
          "output_type": "stream",
          "name": "stderr",
          "text": [
            "\r 55%|█████▌    | 55/100 [18:09<14:50, 19.79s/it]"
          ]
        },
        {
          "output_type": "stream",
          "name": "stdout",
          "text": [
            "Test Loss: 3.08212, Test acc: 44.59%\n",
            "Epoch: 55 ----\n",
            "Train Loss: 0.00050, Train acc: 100.00%\n"
          ]
        },
        {
          "output_type": "stream",
          "name": "stderr",
          "text": [
            "\r 56%|█████▌    | 56/100 [18:29<14:31, 19.80s/it]"
          ]
        },
        {
          "output_type": "stream",
          "name": "stdout",
          "text": [
            "Test Loss: 3.09203, Test acc: 44.57%\n",
            "Epoch: 56 ----\n",
            "Train Loss: 0.00049, Train acc: 100.00%\n"
          ]
        },
        {
          "output_type": "stream",
          "name": "stderr",
          "text": [
            "\r 57%|█████▋    | 57/100 [18:49<14:12, 19.83s/it]"
          ]
        },
        {
          "output_type": "stream",
          "name": "stdout",
          "text": [
            "Test Loss: 3.09028, Test acc: 44.36%\n",
            "Epoch: 57 ----\n",
            "Train Loss: 0.00047, Train acc: 100.00%\n"
          ]
        },
        {
          "output_type": "stream",
          "name": "stderr",
          "text": [
            "\r 58%|█████▊    | 58/100 [19:09<13:53, 19.84s/it]"
          ]
        },
        {
          "output_type": "stream",
          "name": "stdout",
          "text": [
            "Test Loss: 3.09974, Test acc: 44.36%\n",
            "Epoch: 58 ----\n",
            "Train Loss: 0.00045, Train acc: 100.00%\n"
          ]
        },
        {
          "output_type": "stream",
          "name": "stderr",
          "text": [
            "\r 59%|█████▉    | 59/100 [19:29<13:32, 19.83s/it]"
          ]
        },
        {
          "output_type": "stream",
          "name": "stdout",
          "text": [
            "Test Loss: 3.10341, Test acc: 44.62%\n",
            "Epoch: 59 ----\n",
            "Train Loss: 0.00043, Train acc: 100.00%\n"
          ]
        },
        {
          "output_type": "stream",
          "name": "stderr",
          "text": [
            "\r 60%|██████    | 60/100 [19:48<13:12, 19.81s/it]"
          ]
        },
        {
          "output_type": "stream",
          "name": "stdout",
          "text": [
            "Test Loss: 3.10503, Test acc: 44.49%\n",
            "Epoch: 60 ----\n",
            "Train Loss: 0.00043, Train acc: 100.00%\n"
          ]
        },
        {
          "output_type": "stream",
          "name": "stderr",
          "text": [
            "\r 61%|██████    | 61/100 [20:08<12:51, 19.78s/it]"
          ]
        },
        {
          "output_type": "stream",
          "name": "stdout",
          "text": [
            "Test Loss: 3.11142, Test acc: 44.30%\n",
            "Epoch: 61 ----\n",
            "Train Loss: 0.00041, Train acc: 100.00%\n"
          ]
        },
        {
          "output_type": "stream",
          "name": "stderr",
          "text": [
            "\r 62%|██████▏   | 62/100 [20:28<12:31, 19.78s/it]"
          ]
        },
        {
          "output_type": "stream",
          "name": "stdout",
          "text": [
            "Test Loss: 3.11168, Test acc: 44.46%\n",
            "Epoch: 62 ----\n",
            "Train Loss: 0.00040, Train acc: 100.00%\n"
          ]
        },
        {
          "output_type": "stream",
          "name": "stderr",
          "text": [
            "\r 63%|██████▎   | 63/100 [20:48<12:12, 19.80s/it]"
          ]
        },
        {
          "output_type": "stream",
          "name": "stdout",
          "text": [
            "Test Loss: 3.11304, Test acc: 44.49%\n",
            "Epoch: 63 ----\n",
            "Train Loss: 0.00038, Train acc: 100.00%\n"
          ]
        },
        {
          "output_type": "stream",
          "name": "stderr",
          "text": [
            "\r 64%|██████▍   | 64/100 [21:08<11:52, 19.79s/it]"
          ]
        },
        {
          "output_type": "stream",
          "name": "stdout",
          "text": [
            "Test Loss: 3.12490, Test acc: 44.48%\n",
            "Epoch: 64 ----\n",
            "Train Loss: 0.00038, Train acc: 100.00%\n"
          ]
        },
        {
          "output_type": "stream",
          "name": "stderr",
          "text": [
            "\r 65%|██████▌   | 65/100 [21:27<11:32, 19.80s/it]"
          ]
        },
        {
          "output_type": "stream",
          "name": "stdout",
          "text": [
            "Test Loss: 3.12724, Test acc: 44.39%\n",
            "Epoch: 65 ----\n",
            "Train Loss: 0.00037, Train acc: 100.00%\n"
          ]
        },
        {
          "output_type": "stream",
          "name": "stderr",
          "text": [
            "\r 66%|██████▌   | 66/100 [21:47<11:14, 19.83s/it]"
          ]
        },
        {
          "output_type": "stream",
          "name": "stdout",
          "text": [
            "Test Loss: 3.12982, Test acc: 44.27%\n",
            "Epoch: 66 ----\n",
            "Train Loss: 0.00036, Train acc: 100.00%\n"
          ]
        },
        {
          "output_type": "stream",
          "name": "stderr",
          "text": [
            "\r 67%|██████▋   | 67/100 [22:07<10:55, 19.87s/it]"
          ]
        },
        {
          "output_type": "stream",
          "name": "stdout",
          "text": [
            "Test Loss: 3.13065, Test acc: 44.45%\n",
            "Epoch: 67 ----\n",
            "Train Loss: 0.00033, Train acc: 100.00%\n"
          ]
        },
        {
          "output_type": "stream",
          "name": "stderr",
          "text": [
            "\r 68%|██████▊   | 68/100 [22:27<10:36, 19.90s/it]"
          ]
        },
        {
          "output_type": "stream",
          "name": "stdout",
          "text": [
            "Test Loss: 3.13702, Test acc: 44.42%\n",
            "Epoch: 68 ----\n",
            "Train Loss: 0.00033, Train acc: 100.00%\n"
          ]
        },
        {
          "output_type": "stream",
          "name": "stderr",
          "text": [
            "\r 69%|██████▉   | 69/100 [22:47<10:17, 19.92s/it]"
          ]
        },
        {
          "output_type": "stream",
          "name": "stdout",
          "text": [
            "Test Loss: 3.14432, Test acc: 44.40%\n",
            "Epoch: 69 ----\n",
            "Train Loss: 0.00032, Train acc: 100.00%\n"
          ]
        },
        {
          "output_type": "stream",
          "name": "stderr",
          "text": [
            "\r 70%|███████   | 70/100 [23:07<09:56, 19.90s/it]"
          ]
        },
        {
          "output_type": "stream",
          "name": "stdout",
          "text": [
            "Test Loss: 3.14761, Test acc: 44.34%\n",
            "Epoch: 70 ----\n",
            "Train Loss: 0.00031, Train acc: 100.00%\n"
          ]
        },
        {
          "output_type": "stream",
          "name": "stderr",
          "text": [
            "\r 71%|███████   | 71/100 [23:27<09:36, 19.87s/it]"
          ]
        },
        {
          "output_type": "stream",
          "name": "stdout",
          "text": [
            "Test Loss: 3.14625, Test acc: 44.27%\n",
            "Epoch: 71 ----\n",
            "Train Loss: 0.00031, Train acc: 100.00%\n"
          ]
        },
        {
          "output_type": "stream",
          "name": "stderr",
          "text": [
            "\r 72%|███████▏  | 72/100 [23:47<09:15, 19.85s/it]"
          ]
        },
        {
          "output_type": "stream",
          "name": "stdout",
          "text": [
            "Test Loss: 3.14947, Test acc: 44.44%\n",
            "Epoch: 72 ----\n",
            "Train Loss: 0.00031, Train acc: 100.00%\n"
          ]
        },
        {
          "output_type": "stream",
          "name": "stderr",
          "text": [
            "\r 73%|███████▎  | 73/100 [24:06<08:55, 19.83s/it]"
          ]
        },
        {
          "output_type": "stream",
          "name": "stdout",
          "text": [
            "Test Loss: 3.15478, Test acc: 44.40%\n",
            "Epoch: 73 ----\n",
            "Train Loss: 0.00029, Train acc: 100.00%\n"
          ]
        },
        {
          "output_type": "stream",
          "name": "stderr",
          "text": [
            "\r 74%|███████▍  | 74/100 [24:26<08:34, 19.80s/it]"
          ]
        },
        {
          "output_type": "stream",
          "name": "stdout",
          "text": [
            "Test Loss: 3.15914, Test acc: 44.60%\n",
            "Epoch: 74 ----\n",
            "Train Loss: 0.00028, Train acc: 100.00%\n"
          ]
        },
        {
          "output_type": "stream",
          "name": "stderr",
          "text": [
            "\r 75%|███████▌  | 75/100 [24:46<08:15, 19.80s/it]"
          ]
        },
        {
          "output_type": "stream",
          "name": "stdout",
          "text": [
            "Test Loss: 3.16219, Test acc: 44.35%\n",
            "Epoch: 75 ----\n",
            "Train Loss: 0.00028, Train acc: 100.00%\n"
          ]
        },
        {
          "output_type": "stream",
          "name": "stderr",
          "text": [
            "\r 76%|███████▌  | 76/100 [25:06<07:55, 19.81s/it]"
          ]
        },
        {
          "output_type": "stream",
          "name": "stdout",
          "text": [
            "Test Loss: 3.16677, Test acc: 44.43%\n",
            "Epoch: 76 ----\n",
            "Train Loss: 0.00027, Train acc: 100.00%\n"
          ]
        },
        {
          "output_type": "stream",
          "name": "stderr",
          "text": [
            "\r 77%|███████▋  | 77/100 [25:26<07:35, 19.80s/it]"
          ]
        },
        {
          "output_type": "stream",
          "name": "stdout",
          "text": [
            "Test Loss: 3.17099, Test acc: 44.42%\n",
            "Epoch: 77 ----\n",
            "Train Loss: 0.00026, Train acc: 100.00%\n"
          ]
        },
        {
          "output_type": "stream",
          "name": "stderr",
          "text": [
            "\r 78%|███████▊  | 78/100 [25:45<07:15, 19.81s/it]"
          ]
        },
        {
          "output_type": "stream",
          "name": "stdout",
          "text": [
            "Test Loss: 3.17011, Test acc: 44.16%\n",
            "Epoch: 78 ----\n",
            "Train Loss: 0.00026, Train acc: 100.00%\n"
          ]
        },
        {
          "output_type": "stream",
          "name": "stderr",
          "text": [
            "\r 79%|███████▉  | 79/100 [26:05<06:55, 19.80s/it]"
          ]
        },
        {
          "output_type": "stream",
          "name": "stdout",
          "text": [
            "Test Loss: 3.18381, Test acc: 44.26%\n",
            "Epoch: 79 ----\n",
            "Train Loss: 0.00025, Train acc: 100.00%\n"
          ]
        },
        {
          "output_type": "stream",
          "name": "stderr",
          "text": [
            "\r 80%|████████  | 80/100 [26:25<06:36, 19.84s/it]"
          ]
        },
        {
          "output_type": "stream",
          "name": "stdout",
          "text": [
            "Test Loss: 3.17846, Test acc: 44.54%\n",
            "Epoch: 80 ----\n",
            "Train Loss: 0.00024, Train acc: 100.00%\n"
          ]
        },
        {
          "output_type": "stream",
          "name": "stderr",
          "text": [
            "\r 81%|████████  | 81/100 [26:45<06:17, 19.86s/it]"
          ]
        },
        {
          "output_type": "stream",
          "name": "stdout",
          "text": [
            "Test Loss: 3.18422, Test acc: 44.43%\n",
            "Epoch: 81 ----\n",
            "Train Loss: 0.00024, Train acc: 100.00%\n"
          ]
        },
        {
          "output_type": "stream",
          "name": "stderr",
          "text": [
            "\r 82%|████████▏ | 82/100 [27:05<05:57, 19.84s/it]"
          ]
        },
        {
          "output_type": "stream",
          "name": "stdout",
          "text": [
            "Test Loss: 3.18792, Test acc: 44.37%\n",
            "Epoch: 82 ----\n",
            "Train Loss: 0.00023, Train acc: 100.00%\n"
          ]
        },
        {
          "output_type": "stream",
          "name": "stderr",
          "text": [
            "\r 83%|████████▎ | 83/100 [27:25<05:37, 19.88s/it]"
          ]
        },
        {
          "output_type": "stream",
          "name": "stdout",
          "text": [
            "Test Loss: 3.19437, Test acc: 44.38%\n",
            "Epoch: 83 ----\n",
            "Train Loss: 0.00023, Train acc: 100.00%\n"
          ]
        },
        {
          "output_type": "stream",
          "name": "stderr",
          "text": [
            "\r 84%|████████▍ | 84/100 [27:45<05:18, 19.90s/it]"
          ]
        },
        {
          "output_type": "stream",
          "name": "stdout",
          "text": [
            "Test Loss: 3.19288, Test acc: 44.27%\n",
            "Epoch: 84 ----\n",
            "Train Loss: 0.00021, Train acc: 100.00%\n"
          ]
        },
        {
          "output_type": "stream",
          "name": "stderr",
          "text": [
            "\r 85%|████████▌ | 85/100 [28:04<04:57, 19.85s/it]"
          ]
        },
        {
          "output_type": "stream",
          "name": "stdout",
          "text": [
            "Test Loss: 3.19383, Test acc: 44.52%\n",
            "Epoch: 85 ----\n",
            "Train Loss: 0.00022, Train acc: 100.00%\n"
          ]
        },
        {
          "output_type": "stream",
          "name": "stderr",
          "text": [
            "\r 86%|████████▌ | 86/100 [28:24<04:38, 19.87s/it]"
          ]
        },
        {
          "output_type": "stream",
          "name": "stdout",
          "text": [
            "Test Loss: 3.20235, Test acc: 44.47%\n",
            "Epoch: 86 ----\n",
            "Train Loss: 0.00020, Train acc: 100.00%\n"
          ]
        },
        {
          "output_type": "stream",
          "name": "stderr",
          "text": [
            "\r 87%|████████▋ | 87/100 [28:44<04:18, 19.91s/it]"
          ]
        },
        {
          "output_type": "stream",
          "name": "stdout",
          "text": [
            "Test Loss: 3.20344, Test acc: 44.36%\n",
            "Epoch: 87 ----\n",
            "Train Loss: 0.00021, Train acc: 100.00%\n"
          ]
        },
        {
          "output_type": "stream",
          "name": "stderr",
          "text": [
            "\r 88%|████████▊ | 88/100 [29:04<03:58, 19.90s/it]"
          ]
        },
        {
          "output_type": "stream",
          "name": "stdout",
          "text": [
            "Test Loss: 3.20837, Test acc: 44.49%\n",
            "Epoch: 88 ----\n",
            "Train Loss: 0.00020, Train acc: 100.00%\n"
          ]
        },
        {
          "output_type": "stream",
          "name": "stderr",
          "text": [
            "\r 89%|████████▉ | 89/100 [29:24<03:38, 19.89s/it]"
          ]
        },
        {
          "output_type": "stream",
          "name": "stdout",
          "text": [
            "Test Loss: 3.20596, Test acc: 44.28%\n",
            "Epoch: 89 ----\n",
            "Train Loss: 0.00020, Train acc: 100.00%\n"
          ]
        },
        {
          "output_type": "stream",
          "name": "stderr",
          "text": [
            "\r 90%|█████████ | 90/100 [29:44<03:18, 19.88s/it]"
          ]
        },
        {
          "output_type": "stream",
          "name": "stdout",
          "text": [
            "Test Loss: 3.21693, Test acc: 44.09%\n",
            "Epoch: 90 ----\n",
            "Train Loss: 0.00019, Train acc: 100.00%\n"
          ]
        },
        {
          "output_type": "stream",
          "name": "stderr",
          "text": [
            "\r 91%|█████████ | 91/100 [30:04<02:58, 19.85s/it]"
          ]
        },
        {
          "output_type": "stream",
          "name": "stdout",
          "text": [
            "Test Loss: 3.21669, Test acc: 44.10%\n",
            "Epoch: 91 ----\n",
            "Train Loss: 0.00018, Train acc: 100.00%\n"
          ]
        },
        {
          "output_type": "stream",
          "name": "stderr",
          "text": [
            "\r 92%|█████████▏| 92/100 [30:24<02:38, 19.83s/it]"
          ]
        },
        {
          "output_type": "stream",
          "name": "stdout",
          "text": [
            "Test Loss: 3.23007, Test acc: 44.31%\n",
            "Epoch: 92 ----\n",
            "Train Loss: 0.00017, Train acc: 100.00%\n"
          ]
        },
        {
          "output_type": "stream",
          "name": "stderr",
          "text": [
            "\r 93%|█████████▎| 93/100 [30:43<02:18, 19.80s/it]"
          ]
        },
        {
          "output_type": "stream",
          "name": "stdout",
          "text": [
            "Test Loss: 3.22962, Test acc: 44.27%\n",
            "Epoch: 93 ----\n",
            "Train Loss: 0.00017, Train acc: 100.00%\n"
          ]
        },
        {
          "output_type": "stream",
          "name": "stderr",
          "text": [
            "\r 94%|█████████▍| 94/100 [31:03<01:59, 19.83s/it]"
          ]
        },
        {
          "output_type": "stream",
          "name": "stdout",
          "text": [
            "Test Loss: 3.22717, Test acc: 44.43%\n",
            "Epoch: 94 ----\n",
            "Train Loss: 0.00017, Train acc: 100.00%\n"
          ]
        },
        {
          "output_type": "stream",
          "name": "stderr",
          "text": [
            "\r 95%|█████████▌| 95/100 [31:23<01:39, 19.85s/it]"
          ]
        },
        {
          "output_type": "stream",
          "name": "stdout",
          "text": [
            "Test Loss: 3.23499, Test acc: 44.08%\n",
            "Epoch: 95 ----\n",
            "Train Loss: 0.00017, Train acc: 100.00%\n"
          ]
        },
        {
          "output_type": "stream",
          "name": "stderr",
          "text": [
            "\r 96%|█████████▌| 96/100 [31:43<01:19, 19.81s/it]"
          ]
        },
        {
          "output_type": "stream",
          "name": "stdout",
          "text": [
            "Test Loss: 3.22903, Test acc: 44.17%\n",
            "Epoch: 96 ----\n",
            "Train Loss: 0.00016, Train acc: 100.00%\n"
          ]
        },
        {
          "output_type": "stream",
          "name": "stderr",
          "text": [
            "\r 97%|█████████▋| 97/100 [32:03<00:59, 19.81s/it]"
          ]
        },
        {
          "output_type": "stream",
          "name": "stdout",
          "text": [
            "Test Loss: 3.23510, Test acc: 44.31%\n",
            "Epoch: 97 ----\n",
            "Train Loss: 0.00016, Train acc: 100.00%\n"
          ]
        },
        {
          "output_type": "stream",
          "name": "stderr",
          "text": [
            "\r 98%|█████████▊| 98/100 [32:22<00:39, 19.82s/it]"
          ]
        },
        {
          "output_type": "stream",
          "name": "stdout",
          "text": [
            "Test Loss: 3.24045, Test acc: 44.05%\n",
            "Epoch: 98 ----\n",
            "Train Loss: 0.00015, Train acc: 100.00%\n"
          ]
        },
        {
          "output_type": "stream",
          "name": "stderr",
          "text": [
            "\r 99%|█████████▉| 99/100 [32:42<00:19, 19.82s/it]"
          ]
        },
        {
          "output_type": "stream",
          "name": "stdout",
          "text": [
            "Test Loss: 3.24126, Test acc: 44.12%\n",
            "Epoch: 99 ----\n",
            "Train Loss: 0.00015, Train acc: 100.00%\n"
          ]
        },
        {
          "output_type": "stream",
          "name": "stderr",
          "text": [
            "100%|██████████| 100/100 [33:02<00:00, 19.83s/it]"
          ]
        },
        {
          "output_type": "stream",
          "name": "stdout",
          "text": [
            "Test Loss: 3.23927, Test acc: 44.22%\n",
            "Train time on cuda : 1982.584 seconds\n"
          ]
        },
        {
          "output_type": "stream",
          "name": "stderr",
          "text": [
            "\n"
          ]
        }
      ]
    },
    {
      "cell_type": "code",
      "source": [
        "#Now we save the model\n",
        "from pathlib import Path\n",
        "#Create the model directory\n",
        "MODEL_PATH = Path(\"models\")\n",
        "MODEL_PATH.mkdir(parents=True, exist_ok=True)\n",
        "#Create the model save path\n",
        "MODEL_NAME = \"03_InceptionNET_CIFAR100pth\"\n",
        "MODEL_SAVE_PATH = MODEL_PATH/MODEL_NAME"
      ],
      "metadata": {
        "id": "EbKYJKmKurrK"
      },
      "id": "EbKYJKmKurrK",
      "execution_count": 20,
      "outputs": []
    },
    {
      "cell_type": "code",
      "source": [
        "#Saving the model\n",
        "torch.save(obj=model_InceptionNET_3.state_dict(),\n",
        "           f=MODEL_SAVE_PATH)\n",
        "print(f'Saved at {MODEL_SAVE_PATH}')"
      ],
      "metadata": {
        "id": "TZngFEXSu4eq",
        "colab": {
          "base_uri": "https://localhost:8080/"
        },
        "outputId": "4c5c13fe-0799-4113-8947-b0a7dcb997b4"
      },
      "id": "TZngFEXSu4eq",
      "execution_count": 21,
      "outputs": [
        {
          "output_type": "stream",
          "name": "stdout",
          "text": [
            "Saved at models/03_InceptionNET_CIFAR100pth\n"
          ]
        }
      ]
    },
    {
      "cell_type": "code",
      "source": [
        "#Loading the model\n",
        "#Create a new instance of the model and update the parameters\n",
        "model_InceptionNET_CIFAR100 = GoogLeNet(in_channels=1, num_classes=100).to(device)\n",
        "model_InceptionNET_CIFAR100.load_state_dict(torch.load(f=MODEL_SAVE_PATH))"
      ],
      "metadata": {
        "id": "GpIhY7KKv8Zd",
        "colab": {
          "base_uri": "https://localhost:8080/"
        },
        "outputId": "0292d06c-32b8-4479-d034-21131add0504"
      },
      "id": "GpIhY7KKv8Zd",
      "execution_count": 22,
      "outputs": [
        {
          "output_type": "execute_result",
          "data": {
            "text/plain": [
              "<All keys matched successfully>"
            ]
          },
          "metadata": {},
          "execution_count": 22
        }
      ]
    },
    {
      "cell_type": "code",
      "source": [
        "#Get model results\n",
        "model_InceptionNET_CIFAR100_results = eval_model(\n",
        "    model=model_InceptionNET_CIFAR100,\n",
        "    data_loader=test_dataloader,\n",
        "    loss_fn=loss_fn,\n",
        "    accuracy_fn=accuracy_fn,\n",
        "    device=device\n",
        ")\n",
        "model_InceptionNET_CIFAR100_results"
      ],
      "metadata": {
        "id": "_RMNtINBwCIU",
        "colab": {
          "base_uri": "https://localhost:8080/"
        },
        "outputId": "27e09ea2-10e2-4f56-9445-6e4dc977e3b7"
      },
      "id": "_RMNtINBwCIU",
      "execution_count": 23,
      "outputs": [
        {
          "output_type": "stream",
          "name": "stderr",
          "text": [
            "100%|██████████| 10/10 [00:03<00:00,  2.91it/s]\n"
          ]
        },
        {
          "output_type": "execute_result",
          "data": {
            "text/plain": [
              "{'model_name': 'GoogLeNet',\n",
              " 'model_loss': 3.239272356033325,\n",
              " 'model_acc': 44.2155612244898}"
            ]
          },
          "metadata": {},
          "execution_count": 23
        }
      ]
    },
    {
      "cell_type": "code",
      "source": [],
      "metadata": {
        "id": "GzwMCrfZwKMy"
      },
      "id": "GzwMCrfZwKMy",
      "execution_count": 55,
      "outputs": []
    }
  ],
  "metadata": {
    "kernelspec": {
      "display_name": "Python 3 (ipykernel)",
      "language": "python",
      "name": "python3"
    },
    "language_info": {
      "codemirror_mode": {
        "name": "ipython",
        "version": 3
      },
      "file_extension": ".py",
      "mimetype": "text/x-python",
      "name": "python",
      "nbconvert_exporter": "python",
      "pygments_lexer": "ipython3",
      "version": "3.10.6"
    },
    "colab": {
      "provenance": [],
      "collapsed_sections": [],
      "machine_shape": "hm"
    },
    "accelerator": "GPU",
    "gpuClass": "premium",
    "widgets": {
      "application/vnd.jupyter.widget-state+json": {
        "8b46179905f744ceaf239e7a3c56be2b": {
          "model_module": "@jupyter-widgets/controls",
          "model_name": "HBoxModel",
          "model_module_version": "1.5.0",
          "state": {
            "_dom_classes": [],
            "_model_module": "@jupyter-widgets/controls",
            "_model_module_version": "1.5.0",
            "_model_name": "HBoxModel",
            "_view_count": null,
            "_view_module": "@jupyter-widgets/controls",
            "_view_module_version": "1.5.0",
            "_view_name": "HBoxView",
            "box_style": "",
            "children": [
              "IPY_MODEL_0c537db1e711466fbc38932cb0bf14e5",
              "IPY_MODEL_e4b7424e15c14e7fb091211b3cc92824",
              "IPY_MODEL_6d3b02aa1fb74740b890bfe16c16e3ab"
            ],
            "layout": "IPY_MODEL_865bb2bcbded49ca912c85c501e3ae54"
          }
        },
        "0c537db1e711466fbc38932cb0bf14e5": {
          "model_module": "@jupyter-widgets/controls",
          "model_name": "HTMLModel",
          "model_module_version": "1.5.0",
          "state": {
            "_dom_classes": [],
            "_model_module": "@jupyter-widgets/controls",
            "_model_module_version": "1.5.0",
            "_model_name": "HTMLModel",
            "_view_count": null,
            "_view_module": "@jupyter-widgets/controls",
            "_view_module_version": "1.5.0",
            "_view_name": "HTMLView",
            "description": "",
            "description_tooltip": null,
            "layout": "IPY_MODEL_0e9ffbdc251b462095745c441681418a",
            "placeholder": "​",
            "style": "IPY_MODEL_c41e64226ffa45919c9d85ba0d85bb79",
            "value": "100%"
          }
        },
        "e4b7424e15c14e7fb091211b3cc92824": {
          "model_module": "@jupyter-widgets/controls",
          "model_name": "FloatProgressModel",
          "model_module_version": "1.5.0",
          "state": {
            "_dom_classes": [],
            "_model_module": "@jupyter-widgets/controls",
            "_model_module_version": "1.5.0",
            "_model_name": "FloatProgressModel",
            "_view_count": null,
            "_view_module": "@jupyter-widgets/controls",
            "_view_module_version": "1.5.0",
            "_view_name": "ProgressView",
            "bar_style": "success",
            "description": "",
            "description_tooltip": null,
            "layout": "IPY_MODEL_caf12bbe12fa4932babed80320f16043",
            "max": 9912422,
            "min": 0,
            "orientation": "horizontal",
            "style": "IPY_MODEL_978f7022a2ea404887b913e49e6dc0f5",
            "value": 9912422
          }
        },
        "6d3b02aa1fb74740b890bfe16c16e3ab": {
          "model_module": "@jupyter-widgets/controls",
          "model_name": "HTMLModel",
          "model_module_version": "1.5.0",
          "state": {
            "_dom_classes": [],
            "_model_module": "@jupyter-widgets/controls",
            "_model_module_version": "1.5.0",
            "_model_name": "HTMLModel",
            "_view_count": null,
            "_view_module": "@jupyter-widgets/controls",
            "_view_module_version": "1.5.0",
            "_view_name": "HTMLView",
            "description": "",
            "description_tooltip": null,
            "layout": "IPY_MODEL_4eee33002282407f8578e29e067c7e99",
            "placeholder": "​",
            "style": "IPY_MODEL_bfdb7c0ff4f047c6bff2f7011801ad81",
            "value": " 9912422/9912422 [00:00&lt;00:00, 179783749.66it/s]"
          }
        },
        "865bb2bcbded49ca912c85c501e3ae54": {
          "model_module": "@jupyter-widgets/base",
          "model_name": "LayoutModel",
          "model_module_version": "1.2.0",
          "state": {
            "_model_module": "@jupyter-widgets/base",
            "_model_module_version": "1.2.0",
            "_model_name": "LayoutModel",
            "_view_count": null,
            "_view_module": "@jupyter-widgets/base",
            "_view_module_version": "1.2.0",
            "_view_name": "LayoutView",
            "align_content": null,
            "align_items": null,
            "align_self": null,
            "border": null,
            "bottom": null,
            "display": null,
            "flex": null,
            "flex_flow": null,
            "grid_area": null,
            "grid_auto_columns": null,
            "grid_auto_flow": null,
            "grid_auto_rows": null,
            "grid_column": null,
            "grid_gap": null,
            "grid_row": null,
            "grid_template_areas": null,
            "grid_template_columns": null,
            "grid_template_rows": null,
            "height": null,
            "justify_content": null,
            "justify_items": null,
            "left": null,
            "margin": null,
            "max_height": null,
            "max_width": null,
            "min_height": null,
            "min_width": null,
            "object_fit": null,
            "object_position": null,
            "order": null,
            "overflow": null,
            "overflow_x": null,
            "overflow_y": null,
            "padding": null,
            "right": null,
            "top": null,
            "visibility": null,
            "width": null
          }
        },
        "0e9ffbdc251b462095745c441681418a": {
          "model_module": "@jupyter-widgets/base",
          "model_name": "LayoutModel",
          "model_module_version": "1.2.0",
          "state": {
            "_model_module": "@jupyter-widgets/base",
            "_model_module_version": "1.2.0",
            "_model_name": "LayoutModel",
            "_view_count": null,
            "_view_module": "@jupyter-widgets/base",
            "_view_module_version": "1.2.0",
            "_view_name": "LayoutView",
            "align_content": null,
            "align_items": null,
            "align_self": null,
            "border": null,
            "bottom": null,
            "display": null,
            "flex": null,
            "flex_flow": null,
            "grid_area": null,
            "grid_auto_columns": null,
            "grid_auto_flow": null,
            "grid_auto_rows": null,
            "grid_column": null,
            "grid_gap": null,
            "grid_row": null,
            "grid_template_areas": null,
            "grid_template_columns": null,
            "grid_template_rows": null,
            "height": null,
            "justify_content": null,
            "justify_items": null,
            "left": null,
            "margin": null,
            "max_height": null,
            "max_width": null,
            "min_height": null,
            "min_width": null,
            "object_fit": null,
            "object_position": null,
            "order": null,
            "overflow": null,
            "overflow_x": null,
            "overflow_y": null,
            "padding": null,
            "right": null,
            "top": null,
            "visibility": null,
            "width": null
          }
        },
        "c41e64226ffa45919c9d85ba0d85bb79": {
          "model_module": "@jupyter-widgets/controls",
          "model_name": "DescriptionStyleModel",
          "model_module_version": "1.5.0",
          "state": {
            "_model_module": "@jupyter-widgets/controls",
            "_model_module_version": "1.5.0",
            "_model_name": "DescriptionStyleModel",
            "_view_count": null,
            "_view_module": "@jupyter-widgets/base",
            "_view_module_version": "1.2.0",
            "_view_name": "StyleView",
            "description_width": ""
          }
        },
        "caf12bbe12fa4932babed80320f16043": {
          "model_module": "@jupyter-widgets/base",
          "model_name": "LayoutModel",
          "model_module_version": "1.2.0",
          "state": {
            "_model_module": "@jupyter-widgets/base",
            "_model_module_version": "1.2.0",
            "_model_name": "LayoutModel",
            "_view_count": null,
            "_view_module": "@jupyter-widgets/base",
            "_view_module_version": "1.2.0",
            "_view_name": "LayoutView",
            "align_content": null,
            "align_items": null,
            "align_self": null,
            "border": null,
            "bottom": null,
            "display": null,
            "flex": null,
            "flex_flow": null,
            "grid_area": null,
            "grid_auto_columns": null,
            "grid_auto_flow": null,
            "grid_auto_rows": null,
            "grid_column": null,
            "grid_gap": null,
            "grid_row": null,
            "grid_template_areas": null,
            "grid_template_columns": null,
            "grid_template_rows": null,
            "height": null,
            "justify_content": null,
            "justify_items": null,
            "left": null,
            "margin": null,
            "max_height": null,
            "max_width": null,
            "min_height": null,
            "min_width": null,
            "object_fit": null,
            "object_position": null,
            "order": null,
            "overflow": null,
            "overflow_x": null,
            "overflow_y": null,
            "padding": null,
            "right": null,
            "top": null,
            "visibility": null,
            "width": null
          }
        },
        "978f7022a2ea404887b913e49e6dc0f5": {
          "model_module": "@jupyter-widgets/controls",
          "model_name": "ProgressStyleModel",
          "model_module_version": "1.5.0",
          "state": {
            "_model_module": "@jupyter-widgets/controls",
            "_model_module_version": "1.5.0",
            "_model_name": "ProgressStyleModel",
            "_view_count": null,
            "_view_module": "@jupyter-widgets/base",
            "_view_module_version": "1.2.0",
            "_view_name": "StyleView",
            "bar_color": null,
            "description_width": ""
          }
        },
        "4eee33002282407f8578e29e067c7e99": {
          "model_module": "@jupyter-widgets/base",
          "model_name": "LayoutModel",
          "model_module_version": "1.2.0",
          "state": {
            "_model_module": "@jupyter-widgets/base",
            "_model_module_version": "1.2.0",
            "_model_name": "LayoutModel",
            "_view_count": null,
            "_view_module": "@jupyter-widgets/base",
            "_view_module_version": "1.2.0",
            "_view_name": "LayoutView",
            "align_content": null,
            "align_items": null,
            "align_self": null,
            "border": null,
            "bottom": null,
            "display": null,
            "flex": null,
            "flex_flow": null,
            "grid_area": null,
            "grid_auto_columns": null,
            "grid_auto_flow": null,
            "grid_auto_rows": null,
            "grid_column": null,
            "grid_gap": null,
            "grid_row": null,
            "grid_template_areas": null,
            "grid_template_columns": null,
            "grid_template_rows": null,
            "height": null,
            "justify_content": null,
            "justify_items": null,
            "left": null,
            "margin": null,
            "max_height": null,
            "max_width": null,
            "min_height": null,
            "min_width": null,
            "object_fit": null,
            "object_position": null,
            "order": null,
            "overflow": null,
            "overflow_x": null,
            "overflow_y": null,
            "padding": null,
            "right": null,
            "top": null,
            "visibility": null,
            "width": null
          }
        },
        "bfdb7c0ff4f047c6bff2f7011801ad81": {
          "model_module": "@jupyter-widgets/controls",
          "model_name": "DescriptionStyleModel",
          "model_module_version": "1.5.0",
          "state": {
            "_model_module": "@jupyter-widgets/controls",
            "_model_module_version": "1.5.0",
            "_model_name": "DescriptionStyleModel",
            "_view_count": null,
            "_view_module": "@jupyter-widgets/base",
            "_view_module_version": "1.2.0",
            "_view_name": "StyleView",
            "description_width": ""
          }
        },
        "11226df92c144a2da65f57076fc82e3a": {
          "model_module": "@jupyter-widgets/controls",
          "model_name": "HBoxModel",
          "model_module_version": "1.5.0",
          "state": {
            "_dom_classes": [],
            "_model_module": "@jupyter-widgets/controls",
            "_model_module_version": "1.5.0",
            "_model_name": "HBoxModel",
            "_view_count": null,
            "_view_module": "@jupyter-widgets/controls",
            "_view_module_version": "1.5.0",
            "_view_name": "HBoxView",
            "box_style": "",
            "children": [
              "IPY_MODEL_30cfe3e37f3448a9be71ab85a46bb215",
              "IPY_MODEL_0a6ef9dc231b4199966c61c6bb975504",
              "IPY_MODEL_077381e57cf841f686531c69c05ecf7f"
            ],
            "layout": "IPY_MODEL_75a8780278be46e5abab781b11669ced"
          }
        },
        "30cfe3e37f3448a9be71ab85a46bb215": {
          "model_module": "@jupyter-widgets/controls",
          "model_name": "HTMLModel",
          "model_module_version": "1.5.0",
          "state": {
            "_dom_classes": [],
            "_model_module": "@jupyter-widgets/controls",
            "_model_module_version": "1.5.0",
            "_model_name": "HTMLModel",
            "_view_count": null,
            "_view_module": "@jupyter-widgets/controls",
            "_view_module_version": "1.5.0",
            "_view_name": "HTMLView",
            "description": "",
            "description_tooltip": null,
            "layout": "IPY_MODEL_1bdf242ffd5a4b89ab907e4933ae0d8d",
            "placeholder": "​",
            "style": "IPY_MODEL_e821112425c34003872fb818e433929e",
            "value": "100%"
          }
        },
        "0a6ef9dc231b4199966c61c6bb975504": {
          "model_module": "@jupyter-widgets/controls",
          "model_name": "FloatProgressModel",
          "model_module_version": "1.5.0",
          "state": {
            "_dom_classes": [],
            "_model_module": "@jupyter-widgets/controls",
            "_model_module_version": "1.5.0",
            "_model_name": "FloatProgressModel",
            "_view_count": null,
            "_view_module": "@jupyter-widgets/controls",
            "_view_module_version": "1.5.0",
            "_view_name": "ProgressView",
            "bar_style": "success",
            "description": "",
            "description_tooltip": null,
            "layout": "IPY_MODEL_52473291e9e04327ac2e6820396bba47",
            "max": 28881,
            "min": 0,
            "orientation": "horizontal",
            "style": "IPY_MODEL_e6bfc70ced57461c839fd19c020871d1",
            "value": 28881
          }
        },
        "077381e57cf841f686531c69c05ecf7f": {
          "model_module": "@jupyter-widgets/controls",
          "model_name": "HTMLModel",
          "model_module_version": "1.5.0",
          "state": {
            "_dom_classes": [],
            "_model_module": "@jupyter-widgets/controls",
            "_model_module_version": "1.5.0",
            "_model_name": "HTMLModel",
            "_view_count": null,
            "_view_module": "@jupyter-widgets/controls",
            "_view_module_version": "1.5.0",
            "_view_name": "HTMLView",
            "description": "",
            "description_tooltip": null,
            "layout": "IPY_MODEL_4283b8cfaf974ddfa6559fa90a09ef51",
            "placeholder": "​",
            "style": "IPY_MODEL_4ba4a9a1b57e46dba2464de35818f45b",
            "value": " 28881/28881 [00:00&lt;00:00, 1148543.12it/s]"
          }
        },
        "75a8780278be46e5abab781b11669ced": {
          "model_module": "@jupyter-widgets/base",
          "model_name": "LayoutModel",
          "model_module_version": "1.2.0",
          "state": {
            "_model_module": "@jupyter-widgets/base",
            "_model_module_version": "1.2.0",
            "_model_name": "LayoutModel",
            "_view_count": null,
            "_view_module": "@jupyter-widgets/base",
            "_view_module_version": "1.2.0",
            "_view_name": "LayoutView",
            "align_content": null,
            "align_items": null,
            "align_self": null,
            "border": null,
            "bottom": null,
            "display": null,
            "flex": null,
            "flex_flow": null,
            "grid_area": null,
            "grid_auto_columns": null,
            "grid_auto_flow": null,
            "grid_auto_rows": null,
            "grid_column": null,
            "grid_gap": null,
            "grid_row": null,
            "grid_template_areas": null,
            "grid_template_columns": null,
            "grid_template_rows": null,
            "height": null,
            "justify_content": null,
            "justify_items": null,
            "left": null,
            "margin": null,
            "max_height": null,
            "max_width": null,
            "min_height": null,
            "min_width": null,
            "object_fit": null,
            "object_position": null,
            "order": null,
            "overflow": null,
            "overflow_x": null,
            "overflow_y": null,
            "padding": null,
            "right": null,
            "top": null,
            "visibility": null,
            "width": null
          }
        },
        "1bdf242ffd5a4b89ab907e4933ae0d8d": {
          "model_module": "@jupyter-widgets/base",
          "model_name": "LayoutModel",
          "model_module_version": "1.2.0",
          "state": {
            "_model_module": "@jupyter-widgets/base",
            "_model_module_version": "1.2.0",
            "_model_name": "LayoutModel",
            "_view_count": null,
            "_view_module": "@jupyter-widgets/base",
            "_view_module_version": "1.2.0",
            "_view_name": "LayoutView",
            "align_content": null,
            "align_items": null,
            "align_self": null,
            "border": null,
            "bottom": null,
            "display": null,
            "flex": null,
            "flex_flow": null,
            "grid_area": null,
            "grid_auto_columns": null,
            "grid_auto_flow": null,
            "grid_auto_rows": null,
            "grid_column": null,
            "grid_gap": null,
            "grid_row": null,
            "grid_template_areas": null,
            "grid_template_columns": null,
            "grid_template_rows": null,
            "height": null,
            "justify_content": null,
            "justify_items": null,
            "left": null,
            "margin": null,
            "max_height": null,
            "max_width": null,
            "min_height": null,
            "min_width": null,
            "object_fit": null,
            "object_position": null,
            "order": null,
            "overflow": null,
            "overflow_x": null,
            "overflow_y": null,
            "padding": null,
            "right": null,
            "top": null,
            "visibility": null,
            "width": null
          }
        },
        "e821112425c34003872fb818e433929e": {
          "model_module": "@jupyter-widgets/controls",
          "model_name": "DescriptionStyleModel",
          "model_module_version": "1.5.0",
          "state": {
            "_model_module": "@jupyter-widgets/controls",
            "_model_module_version": "1.5.0",
            "_model_name": "DescriptionStyleModel",
            "_view_count": null,
            "_view_module": "@jupyter-widgets/base",
            "_view_module_version": "1.2.0",
            "_view_name": "StyleView",
            "description_width": ""
          }
        },
        "52473291e9e04327ac2e6820396bba47": {
          "model_module": "@jupyter-widgets/base",
          "model_name": "LayoutModel",
          "model_module_version": "1.2.0",
          "state": {
            "_model_module": "@jupyter-widgets/base",
            "_model_module_version": "1.2.0",
            "_model_name": "LayoutModel",
            "_view_count": null,
            "_view_module": "@jupyter-widgets/base",
            "_view_module_version": "1.2.0",
            "_view_name": "LayoutView",
            "align_content": null,
            "align_items": null,
            "align_self": null,
            "border": null,
            "bottom": null,
            "display": null,
            "flex": null,
            "flex_flow": null,
            "grid_area": null,
            "grid_auto_columns": null,
            "grid_auto_flow": null,
            "grid_auto_rows": null,
            "grid_column": null,
            "grid_gap": null,
            "grid_row": null,
            "grid_template_areas": null,
            "grid_template_columns": null,
            "grid_template_rows": null,
            "height": null,
            "justify_content": null,
            "justify_items": null,
            "left": null,
            "margin": null,
            "max_height": null,
            "max_width": null,
            "min_height": null,
            "min_width": null,
            "object_fit": null,
            "object_position": null,
            "order": null,
            "overflow": null,
            "overflow_x": null,
            "overflow_y": null,
            "padding": null,
            "right": null,
            "top": null,
            "visibility": null,
            "width": null
          }
        },
        "e6bfc70ced57461c839fd19c020871d1": {
          "model_module": "@jupyter-widgets/controls",
          "model_name": "ProgressStyleModel",
          "model_module_version": "1.5.0",
          "state": {
            "_model_module": "@jupyter-widgets/controls",
            "_model_module_version": "1.5.0",
            "_model_name": "ProgressStyleModel",
            "_view_count": null,
            "_view_module": "@jupyter-widgets/base",
            "_view_module_version": "1.2.0",
            "_view_name": "StyleView",
            "bar_color": null,
            "description_width": ""
          }
        },
        "4283b8cfaf974ddfa6559fa90a09ef51": {
          "model_module": "@jupyter-widgets/base",
          "model_name": "LayoutModel",
          "model_module_version": "1.2.0",
          "state": {
            "_model_module": "@jupyter-widgets/base",
            "_model_module_version": "1.2.0",
            "_model_name": "LayoutModel",
            "_view_count": null,
            "_view_module": "@jupyter-widgets/base",
            "_view_module_version": "1.2.0",
            "_view_name": "LayoutView",
            "align_content": null,
            "align_items": null,
            "align_self": null,
            "border": null,
            "bottom": null,
            "display": null,
            "flex": null,
            "flex_flow": null,
            "grid_area": null,
            "grid_auto_columns": null,
            "grid_auto_flow": null,
            "grid_auto_rows": null,
            "grid_column": null,
            "grid_gap": null,
            "grid_row": null,
            "grid_template_areas": null,
            "grid_template_columns": null,
            "grid_template_rows": null,
            "height": null,
            "justify_content": null,
            "justify_items": null,
            "left": null,
            "margin": null,
            "max_height": null,
            "max_width": null,
            "min_height": null,
            "min_width": null,
            "object_fit": null,
            "object_position": null,
            "order": null,
            "overflow": null,
            "overflow_x": null,
            "overflow_y": null,
            "padding": null,
            "right": null,
            "top": null,
            "visibility": null,
            "width": null
          }
        },
        "4ba4a9a1b57e46dba2464de35818f45b": {
          "model_module": "@jupyter-widgets/controls",
          "model_name": "DescriptionStyleModel",
          "model_module_version": "1.5.0",
          "state": {
            "_model_module": "@jupyter-widgets/controls",
            "_model_module_version": "1.5.0",
            "_model_name": "DescriptionStyleModel",
            "_view_count": null,
            "_view_module": "@jupyter-widgets/base",
            "_view_module_version": "1.2.0",
            "_view_name": "StyleView",
            "description_width": ""
          }
        },
        "310cb136ffe9476488e632c65942bfd7": {
          "model_module": "@jupyter-widgets/controls",
          "model_name": "HBoxModel",
          "model_module_version": "1.5.0",
          "state": {
            "_dom_classes": [],
            "_model_module": "@jupyter-widgets/controls",
            "_model_module_version": "1.5.0",
            "_model_name": "HBoxModel",
            "_view_count": null,
            "_view_module": "@jupyter-widgets/controls",
            "_view_module_version": "1.5.0",
            "_view_name": "HBoxView",
            "box_style": "",
            "children": [
              "IPY_MODEL_0df667dd7c9c4369b08be7512c45bf64",
              "IPY_MODEL_294a69b0bfdf4382a1a59395568be202",
              "IPY_MODEL_959d431a7fde42da8260545d28f66523"
            ],
            "layout": "IPY_MODEL_3c49a052c37e4af1b3e5bfe27acc857b"
          }
        },
        "0df667dd7c9c4369b08be7512c45bf64": {
          "model_module": "@jupyter-widgets/controls",
          "model_name": "HTMLModel",
          "model_module_version": "1.5.0",
          "state": {
            "_dom_classes": [],
            "_model_module": "@jupyter-widgets/controls",
            "_model_module_version": "1.5.0",
            "_model_name": "HTMLModel",
            "_view_count": null,
            "_view_module": "@jupyter-widgets/controls",
            "_view_module_version": "1.5.0",
            "_view_name": "HTMLView",
            "description": "",
            "description_tooltip": null,
            "layout": "IPY_MODEL_f1e2cea9aa2e4c9294a841e3f18b7e59",
            "placeholder": "​",
            "style": "IPY_MODEL_eed213950e15461f924d461a0e7b3404",
            "value": "100%"
          }
        },
        "294a69b0bfdf4382a1a59395568be202": {
          "model_module": "@jupyter-widgets/controls",
          "model_name": "FloatProgressModel",
          "model_module_version": "1.5.0",
          "state": {
            "_dom_classes": [],
            "_model_module": "@jupyter-widgets/controls",
            "_model_module_version": "1.5.0",
            "_model_name": "FloatProgressModel",
            "_view_count": null,
            "_view_module": "@jupyter-widgets/controls",
            "_view_module_version": "1.5.0",
            "_view_name": "ProgressView",
            "bar_style": "success",
            "description": "",
            "description_tooltip": null,
            "layout": "IPY_MODEL_84a9145b69e64ed1975d0d6bf6963bf0",
            "max": 1648877,
            "min": 0,
            "orientation": "horizontal",
            "style": "IPY_MODEL_22eba032bf1a4533bfe793c921a92b34",
            "value": 1648877
          }
        },
        "959d431a7fde42da8260545d28f66523": {
          "model_module": "@jupyter-widgets/controls",
          "model_name": "HTMLModel",
          "model_module_version": "1.5.0",
          "state": {
            "_dom_classes": [],
            "_model_module": "@jupyter-widgets/controls",
            "_model_module_version": "1.5.0",
            "_model_name": "HTMLModel",
            "_view_count": null,
            "_view_module": "@jupyter-widgets/controls",
            "_view_module_version": "1.5.0",
            "_view_name": "HTMLView",
            "description": "",
            "description_tooltip": null,
            "layout": "IPY_MODEL_a7d81bd211284e7992192cb94ffb1947",
            "placeholder": "​",
            "style": "IPY_MODEL_44a753a72ec948dd8e59ae5484c606d4",
            "value": " 1648877/1648877 [00:00&lt;00:00, 47644872.01it/s]"
          }
        },
        "3c49a052c37e4af1b3e5bfe27acc857b": {
          "model_module": "@jupyter-widgets/base",
          "model_name": "LayoutModel",
          "model_module_version": "1.2.0",
          "state": {
            "_model_module": "@jupyter-widgets/base",
            "_model_module_version": "1.2.0",
            "_model_name": "LayoutModel",
            "_view_count": null,
            "_view_module": "@jupyter-widgets/base",
            "_view_module_version": "1.2.0",
            "_view_name": "LayoutView",
            "align_content": null,
            "align_items": null,
            "align_self": null,
            "border": null,
            "bottom": null,
            "display": null,
            "flex": null,
            "flex_flow": null,
            "grid_area": null,
            "grid_auto_columns": null,
            "grid_auto_flow": null,
            "grid_auto_rows": null,
            "grid_column": null,
            "grid_gap": null,
            "grid_row": null,
            "grid_template_areas": null,
            "grid_template_columns": null,
            "grid_template_rows": null,
            "height": null,
            "justify_content": null,
            "justify_items": null,
            "left": null,
            "margin": null,
            "max_height": null,
            "max_width": null,
            "min_height": null,
            "min_width": null,
            "object_fit": null,
            "object_position": null,
            "order": null,
            "overflow": null,
            "overflow_x": null,
            "overflow_y": null,
            "padding": null,
            "right": null,
            "top": null,
            "visibility": null,
            "width": null
          }
        },
        "f1e2cea9aa2e4c9294a841e3f18b7e59": {
          "model_module": "@jupyter-widgets/base",
          "model_name": "LayoutModel",
          "model_module_version": "1.2.0",
          "state": {
            "_model_module": "@jupyter-widgets/base",
            "_model_module_version": "1.2.0",
            "_model_name": "LayoutModel",
            "_view_count": null,
            "_view_module": "@jupyter-widgets/base",
            "_view_module_version": "1.2.0",
            "_view_name": "LayoutView",
            "align_content": null,
            "align_items": null,
            "align_self": null,
            "border": null,
            "bottom": null,
            "display": null,
            "flex": null,
            "flex_flow": null,
            "grid_area": null,
            "grid_auto_columns": null,
            "grid_auto_flow": null,
            "grid_auto_rows": null,
            "grid_column": null,
            "grid_gap": null,
            "grid_row": null,
            "grid_template_areas": null,
            "grid_template_columns": null,
            "grid_template_rows": null,
            "height": null,
            "justify_content": null,
            "justify_items": null,
            "left": null,
            "margin": null,
            "max_height": null,
            "max_width": null,
            "min_height": null,
            "min_width": null,
            "object_fit": null,
            "object_position": null,
            "order": null,
            "overflow": null,
            "overflow_x": null,
            "overflow_y": null,
            "padding": null,
            "right": null,
            "top": null,
            "visibility": null,
            "width": null
          }
        },
        "eed213950e15461f924d461a0e7b3404": {
          "model_module": "@jupyter-widgets/controls",
          "model_name": "DescriptionStyleModel",
          "model_module_version": "1.5.0",
          "state": {
            "_model_module": "@jupyter-widgets/controls",
            "_model_module_version": "1.5.0",
            "_model_name": "DescriptionStyleModel",
            "_view_count": null,
            "_view_module": "@jupyter-widgets/base",
            "_view_module_version": "1.2.0",
            "_view_name": "StyleView",
            "description_width": ""
          }
        },
        "84a9145b69e64ed1975d0d6bf6963bf0": {
          "model_module": "@jupyter-widgets/base",
          "model_name": "LayoutModel",
          "model_module_version": "1.2.0",
          "state": {
            "_model_module": "@jupyter-widgets/base",
            "_model_module_version": "1.2.0",
            "_model_name": "LayoutModel",
            "_view_count": null,
            "_view_module": "@jupyter-widgets/base",
            "_view_module_version": "1.2.0",
            "_view_name": "LayoutView",
            "align_content": null,
            "align_items": null,
            "align_self": null,
            "border": null,
            "bottom": null,
            "display": null,
            "flex": null,
            "flex_flow": null,
            "grid_area": null,
            "grid_auto_columns": null,
            "grid_auto_flow": null,
            "grid_auto_rows": null,
            "grid_column": null,
            "grid_gap": null,
            "grid_row": null,
            "grid_template_areas": null,
            "grid_template_columns": null,
            "grid_template_rows": null,
            "height": null,
            "justify_content": null,
            "justify_items": null,
            "left": null,
            "margin": null,
            "max_height": null,
            "max_width": null,
            "min_height": null,
            "min_width": null,
            "object_fit": null,
            "object_position": null,
            "order": null,
            "overflow": null,
            "overflow_x": null,
            "overflow_y": null,
            "padding": null,
            "right": null,
            "top": null,
            "visibility": null,
            "width": null
          }
        },
        "22eba032bf1a4533bfe793c921a92b34": {
          "model_module": "@jupyter-widgets/controls",
          "model_name": "ProgressStyleModel",
          "model_module_version": "1.5.0",
          "state": {
            "_model_module": "@jupyter-widgets/controls",
            "_model_module_version": "1.5.0",
            "_model_name": "ProgressStyleModel",
            "_view_count": null,
            "_view_module": "@jupyter-widgets/base",
            "_view_module_version": "1.2.0",
            "_view_name": "StyleView",
            "bar_color": null,
            "description_width": ""
          }
        },
        "a7d81bd211284e7992192cb94ffb1947": {
          "model_module": "@jupyter-widgets/base",
          "model_name": "LayoutModel",
          "model_module_version": "1.2.0",
          "state": {
            "_model_module": "@jupyter-widgets/base",
            "_model_module_version": "1.2.0",
            "_model_name": "LayoutModel",
            "_view_count": null,
            "_view_module": "@jupyter-widgets/base",
            "_view_module_version": "1.2.0",
            "_view_name": "LayoutView",
            "align_content": null,
            "align_items": null,
            "align_self": null,
            "border": null,
            "bottom": null,
            "display": null,
            "flex": null,
            "flex_flow": null,
            "grid_area": null,
            "grid_auto_columns": null,
            "grid_auto_flow": null,
            "grid_auto_rows": null,
            "grid_column": null,
            "grid_gap": null,
            "grid_row": null,
            "grid_template_areas": null,
            "grid_template_columns": null,
            "grid_template_rows": null,
            "height": null,
            "justify_content": null,
            "justify_items": null,
            "left": null,
            "margin": null,
            "max_height": null,
            "max_width": null,
            "min_height": null,
            "min_width": null,
            "object_fit": null,
            "object_position": null,
            "order": null,
            "overflow": null,
            "overflow_x": null,
            "overflow_y": null,
            "padding": null,
            "right": null,
            "top": null,
            "visibility": null,
            "width": null
          }
        },
        "44a753a72ec948dd8e59ae5484c606d4": {
          "model_module": "@jupyter-widgets/controls",
          "model_name": "DescriptionStyleModel",
          "model_module_version": "1.5.0",
          "state": {
            "_model_module": "@jupyter-widgets/controls",
            "_model_module_version": "1.5.0",
            "_model_name": "DescriptionStyleModel",
            "_view_count": null,
            "_view_module": "@jupyter-widgets/base",
            "_view_module_version": "1.2.0",
            "_view_name": "StyleView",
            "description_width": ""
          }
        },
        "f342e5ef64c0466aaff0b5cabd630cb7": {
          "model_module": "@jupyter-widgets/controls",
          "model_name": "HBoxModel",
          "model_module_version": "1.5.0",
          "state": {
            "_dom_classes": [],
            "_model_module": "@jupyter-widgets/controls",
            "_model_module_version": "1.5.0",
            "_model_name": "HBoxModel",
            "_view_count": null,
            "_view_module": "@jupyter-widgets/controls",
            "_view_module_version": "1.5.0",
            "_view_name": "HBoxView",
            "box_style": "",
            "children": [
              "IPY_MODEL_a26490fcc8ce4edc84d88a3ca07a1522",
              "IPY_MODEL_425ba23d42124311878069e7e3b1c8d0",
              "IPY_MODEL_ed88a94c874f459494f4acac3cb22e16"
            ],
            "layout": "IPY_MODEL_65e812c4cc964df7b4efb1425afd1dcc"
          }
        },
        "a26490fcc8ce4edc84d88a3ca07a1522": {
          "model_module": "@jupyter-widgets/controls",
          "model_name": "HTMLModel",
          "model_module_version": "1.5.0",
          "state": {
            "_dom_classes": [],
            "_model_module": "@jupyter-widgets/controls",
            "_model_module_version": "1.5.0",
            "_model_name": "HTMLModel",
            "_view_count": null,
            "_view_module": "@jupyter-widgets/controls",
            "_view_module_version": "1.5.0",
            "_view_name": "HTMLView",
            "description": "",
            "description_tooltip": null,
            "layout": "IPY_MODEL_1118a56ef2ba461eb42fa3b5ff2f441c",
            "placeholder": "​",
            "style": "IPY_MODEL_6dd508bc39c5401a9c5f61b111027c35",
            "value": "100%"
          }
        },
        "425ba23d42124311878069e7e3b1c8d0": {
          "model_module": "@jupyter-widgets/controls",
          "model_name": "FloatProgressModel",
          "model_module_version": "1.5.0",
          "state": {
            "_dom_classes": [],
            "_model_module": "@jupyter-widgets/controls",
            "_model_module_version": "1.5.0",
            "_model_name": "FloatProgressModel",
            "_view_count": null,
            "_view_module": "@jupyter-widgets/controls",
            "_view_module_version": "1.5.0",
            "_view_name": "ProgressView",
            "bar_style": "success",
            "description": "",
            "description_tooltip": null,
            "layout": "IPY_MODEL_d365369d3904448aa9f7354b876fbcc8",
            "max": 4542,
            "min": 0,
            "orientation": "horizontal",
            "style": "IPY_MODEL_7e3e22d1cbe44c939a5ebc706cd6e866",
            "value": 4542
          }
        },
        "ed88a94c874f459494f4acac3cb22e16": {
          "model_module": "@jupyter-widgets/controls",
          "model_name": "HTMLModel",
          "model_module_version": "1.5.0",
          "state": {
            "_dom_classes": [],
            "_model_module": "@jupyter-widgets/controls",
            "_model_module_version": "1.5.0",
            "_model_name": "HTMLModel",
            "_view_count": null,
            "_view_module": "@jupyter-widgets/controls",
            "_view_module_version": "1.5.0",
            "_view_name": "HTMLView",
            "description": "",
            "description_tooltip": null,
            "layout": "IPY_MODEL_a7d8863268a54032a87d467061537595",
            "placeholder": "​",
            "style": "IPY_MODEL_7f2578934cb943a89ca825daeacccb3a",
            "value": " 4542/4542 [00:00&lt;00:00, 189378.49it/s]"
          }
        },
        "65e812c4cc964df7b4efb1425afd1dcc": {
          "model_module": "@jupyter-widgets/base",
          "model_name": "LayoutModel",
          "model_module_version": "1.2.0",
          "state": {
            "_model_module": "@jupyter-widgets/base",
            "_model_module_version": "1.2.0",
            "_model_name": "LayoutModel",
            "_view_count": null,
            "_view_module": "@jupyter-widgets/base",
            "_view_module_version": "1.2.0",
            "_view_name": "LayoutView",
            "align_content": null,
            "align_items": null,
            "align_self": null,
            "border": null,
            "bottom": null,
            "display": null,
            "flex": null,
            "flex_flow": null,
            "grid_area": null,
            "grid_auto_columns": null,
            "grid_auto_flow": null,
            "grid_auto_rows": null,
            "grid_column": null,
            "grid_gap": null,
            "grid_row": null,
            "grid_template_areas": null,
            "grid_template_columns": null,
            "grid_template_rows": null,
            "height": null,
            "justify_content": null,
            "justify_items": null,
            "left": null,
            "margin": null,
            "max_height": null,
            "max_width": null,
            "min_height": null,
            "min_width": null,
            "object_fit": null,
            "object_position": null,
            "order": null,
            "overflow": null,
            "overflow_x": null,
            "overflow_y": null,
            "padding": null,
            "right": null,
            "top": null,
            "visibility": null,
            "width": null
          }
        },
        "1118a56ef2ba461eb42fa3b5ff2f441c": {
          "model_module": "@jupyter-widgets/base",
          "model_name": "LayoutModel",
          "model_module_version": "1.2.0",
          "state": {
            "_model_module": "@jupyter-widgets/base",
            "_model_module_version": "1.2.0",
            "_model_name": "LayoutModel",
            "_view_count": null,
            "_view_module": "@jupyter-widgets/base",
            "_view_module_version": "1.2.0",
            "_view_name": "LayoutView",
            "align_content": null,
            "align_items": null,
            "align_self": null,
            "border": null,
            "bottom": null,
            "display": null,
            "flex": null,
            "flex_flow": null,
            "grid_area": null,
            "grid_auto_columns": null,
            "grid_auto_flow": null,
            "grid_auto_rows": null,
            "grid_column": null,
            "grid_gap": null,
            "grid_row": null,
            "grid_template_areas": null,
            "grid_template_columns": null,
            "grid_template_rows": null,
            "height": null,
            "justify_content": null,
            "justify_items": null,
            "left": null,
            "margin": null,
            "max_height": null,
            "max_width": null,
            "min_height": null,
            "min_width": null,
            "object_fit": null,
            "object_position": null,
            "order": null,
            "overflow": null,
            "overflow_x": null,
            "overflow_y": null,
            "padding": null,
            "right": null,
            "top": null,
            "visibility": null,
            "width": null
          }
        },
        "6dd508bc39c5401a9c5f61b111027c35": {
          "model_module": "@jupyter-widgets/controls",
          "model_name": "DescriptionStyleModel",
          "model_module_version": "1.5.0",
          "state": {
            "_model_module": "@jupyter-widgets/controls",
            "_model_module_version": "1.5.0",
            "_model_name": "DescriptionStyleModel",
            "_view_count": null,
            "_view_module": "@jupyter-widgets/base",
            "_view_module_version": "1.2.0",
            "_view_name": "StyleView",
            "description_width": ""
          }
        },
        "d365369d3904448aa9f7354b876fbcc8": {
          "model_module": "@jupyter-widgets/base",
          "model_name": "LayoutModel",
          "model_module_version": "1.2.0",
          "state": {
            "_model_module": "@jupyter-widgets/base",
            "_model_module_version": "1.2.0",
            "_model_name": "LayoutModel",
            "_view_count": null,
            "_view_module": "@jupyter-widgets/base",
            "_view_module_version": "1.2.0",
            "_view_name": "LayoutView",
            "align_content": null,
            "align_items": null,
            "align_self": null,
            "border": null,
            "bottom": null,
            "display": null,
            "flex": null,
            "flex_flow": null,
            "grid_area": null,
            "grid_auto_columns": null,
            "grid_auto_flow": null,
            "grid_auto_rows": null,
            "grid_column": null,
            "grid_gap": null,
            "grid_row": null,
            "grid_template_areas": null,
            "grid_template_columns": null,
            "grid_template_rows": null,
            "height": null,
            "justify_content": null,
            "justify_items": null,
            "left": null,
            "margin": null,
            "max_height": null,
            "max_width": null,
            "min_height": null,
            "min_width": null,
            "object_fit": null,
            "object_position": null,
            "order": null,
            "overflow": null,
            "overflow_x": null,
            "overflow_y": null,
            "padding": null,
            "right": null,
            "top": null,
            "visibility": null,
            "width": null
          }
        },
        "7e3e22d1cbe44c939a5ebc706cd6e866": {
          "model_module": "@jupyter-widgets/controls",
          "model_name": "ProgressStyleModel",
          "model_module_version": "1.5.0",
          "state": {
            "_model_module": "@jupyter-widgets/controls",
            "_model_module_version": "1.5.0",
            "_model_name": "ProgressStyleModel",
            "_view_count": null,
            "_view_module": "@jupyter-widgets/base",
            "_view_module_version": "1.2.0",
            "_view_name": "StyleView",
            "bar_color": null,
            "description_width": ""
          }
        },
        "a7d8863268a54032a87d467061537595": {
          "model_module": "@jupyter-widgets/base",
          "model_name": "LayoutModel",
          "model_module_version": "1.2.0",
          "state": {
            "_model_module": "@jupyter-widgets/base",
            "_model_module_version": "1.2.0",
            "_model_name": "LayoutModel",
            "_view_count": null,
            "_view_module": "@jupyter-widgets/base",
            "_view_module_version": "1.2.0",
            "_view_name": "LayoutView",
            "align_content": null,
            "align_items": null,
            "align_self": null,
            "border": null,
            "bottom": null,
            "display": null,
            "flex": null,
            "flex_flow": null,
            "grid_area": null,
            "grid_auto_columns": null,
            "grid_auto_flow": null,
            "grid_auto_rows": null,
            "grid_column": null,
            "grid_gap": null,
            "grid_row": null,
            "grid_template_areas": null,
            "grid_template_columns": null,
            "grid_template_rows": null,
            "height": null,
            "justify_content": null,
            "justify_items": null,
            "left": null,
            "margin": null,
            "max_height": null,
            "max_width": null,
            "min_height": null,
            "min_width": null,
            "object_fit": null,
            "object_position": null,
            "order": null,
            "overflow": null,
            "overflow_x": null,
            "overflow_y": null,
            "padding": null,
            "right": null,
            "top": null,
            "visibility": null,
            "width": null
          }
        },
        "7f2578934cb943a89ca825daeacccb3a": {
          "model_module": "@jupyter-widgets/controls",
          "model_name": "DescriptionStyleModel",
          "model_module_version": "1.5.0",
          "state": {
            "_model_module": "@jupyter-widgets/controls",
            "_model_module_version": "1.5.0",
            "_model_name": "DescriptionStyleModel",
            "_view_count": null,
            "_view_module": "@jupyter-widgets/base",
            "_view_module_version": "1.2.0",
            "_view_name": "StyleView",
            "description_width": ""
          }
        },
        "e365e12a80094a2a809709ee8b6696e8": {
          "model_module": "@jupyter-widgets/controls",
          "model_name": "HBoxModel",
          "model_module_version": "1.5.0",
          "state": {
            "_dom_classes": [],
            "_model_module": "@jupyter-widgets/controls",
            "_model_module_version": "1.5.0",
            "_model_name": "HBoxModel",
            "_view_count": null,
            "_view_module": "@jupyter-widgets/controls",
            "_view_module_version": "1.5.0",
            "_view_name": "HBoxView",
            "box_style": "",
            "children": [
              "IPY_MODEL_9fd0f0873e0f4a4d8e13c319af64f536",
              "IPY_MODEL_b35b036485d0415da418ff2a3a7e6a71",
              "IPY_MODEL_b56a5d6535fa4177911fc78ceedf3750"
            ],
            "layout": "IPY_MODEL_b80b24fcb68a432d8f348d423b3235fc"
          }
        },
        "9fd0f0873e0f4a4d8e13c319af64f536": {
          "model_module": "@jupyter-widgets/controls",
          "model_name": "HTMLModel",
          "model_module_version": "1.5.0",
          "state": {
            "_dom_classes": [],
            "_model_module": "@jupyter-widgets/controls",
            "_model_module_version": "1.5.0",
            "_model_name": "HTMLModel",
            "_view_count": null,
            "_view_module": "@jupyter-widgets/controls",
            "_view_module_version": "1.5.0",
            "_view_name": "HTMLView",
            "description": "",
            "description_tooltip": null,
            "layout": "IPY_MODEL_de126fc4a31a499dbc9c696bbf909b3b",
            "placeholder": "​",
            "style": "IPY_MODEL_817bd4cfa029418681fc64fec6a5003e",
            "value": "100%"
          }
        },
        "b35b036485d0415da418ff2a3a7e6a71": {
          "model_module": "@jupyter-widgets/controls",
          "model_name": "FloatProgressModel",
          "model_module_version": "1.5.0",
          "state": {
            "_dom_classes": [],
            "_model_module": "@jupyter-widgets/controls",
            "_model_module_version": "1.5.0",
            "_model_name": "FloatProgressModel",
            "_view_count": null,
            "_view_module": "@jupyter-widgets/controls",
            "_view_module_version": "1.5.0",
            "_view_name": "ProgressView",
            "bar_style": "success",
            "description": "",
            "description_tooltip": null,
            "layout": "IPY_MODEL_7ff3cd969e564aaab97cee5cd190d53d",
            "max": 26421880,
            "min": 0,
            "orientation": "horizontal",
            "style": "IPY_MODEL_62acda2478274546bd894e9c928c59dd",
            "value": 26421880
          }
        },
        "b56a5d6535fa4177911fc78ceedf3750": {
          "model_module": "@jupyter-widgets/controls",
          "model_name": "HTMLModel",
          "model_module_version": "1.5.0",
          "state": {
            "_dom_classes": [],
            "_model_module": "@jupyter-widgets/controls",
            "_model_module_version": "1.5.0",
            "_model_name": "HTMLModel",
            "_view_count": null,
            "_view_module": "@jupyter-widgets/controls",
            "_view_module_version": "1.5.0",
            "_view_name": "HTMLView",
            "description": "",
            "description_tooltip": null,
            "layout": "IPY_MODEL_d24b64908f7043b39839e6af99f92c27",
            "placeholder": "​",
            "style": "IPY_MODEL_52bef6962bf045c08fad2d046a5e02ed",
            "value": " 26421880/26421880 [00:03&lt;00:00, 14327555.36it/s]"
          }
        },
        "b80b24fcb68a432d8f348d423b3235fc": {
          "model_module": "@jupyter-widgets/base",
          "model_name": "LayoutModel",
          "model_module_version": "1.2.0",
          "state": {
            "_model_module": "@jupyter-widgets/base",
            "_model_module_version": "1.2.0",
            "_model_name": "LayoutModel",
            "_view_count": null,
            "_view_module": "@jupyter-widgets/base",
            "_view_module_version": "1.2.0",
            "_view_name": "LayoutView",
            "align_content": null,
            "align_items": null,
            "align_self": null,
            "border": null,
            "bottom": null,
            "display": null,
            "flex": null,
            "flex_flow": null,
            "grid_area": null,
            "grid_auto_columns": null,
            "grid_auto_flow": null,
            "grid_auto_rows": null,
            "grid_column": null,
            "grid_gap": null,
            "grid_row": null,
            "grid_template_areas": null,
            "grid_template_columns": null,
            "grid_template_rows": null,
            "height": null,
            "justify_content": null,
            "justify_items": null,
            "left": null,
            "margin": null,
            "max_height": null,
            "max_width": null,
            "min_height": null,
            "min_width": null,
            "object_fit": null,
            "object_position": null,
            "order": null,
            "overflow": null,
            "overflow_x": null,
            "overflow_y": null,
            "padding": null,
            "right": null,
            "top": null,
            "visibility": null,
            "width": null
          }
        },
        "de126fc4a31a499dbc9c696bbf909b3b": {
          "model_module": "@jupyter-widgets/base",
          "model_name": "LayoutModel",
          "model_module_version": "1.2.0",
          "state": {
            "_model_module": "@jupyter-widgets/base",
            "_model_module_version": "1.2.0",
            "_model_name": "LayoutModel",
            "_view_count": null,
            "_view_module": "@jupyter-widgets/base",
            "_view_module_version": "1.2.0",
            "_view_name": "LayoutView",
            "align_content": null,
            "align_items": null,
            "align_self": null,
            "border": null,
            "bottom": null,
            "display": null,
            "flex": null,
            "flex_flow": null,
            "grid_area": null,
            "grid_auto_columns": null,
            "grid_auto_flow": null,
            "grid_auto_rows": null,
            "grid_column": null,
            "grid_gap": null,
            "grid_row": null,
            "grid_template_areas": null,
            "grid_template_columns": null,
            "grid_template_rows": null,
            "height": null,
            "justify_content": null,
            "justify_items": null,
            "left": null,
            "margin": null,
            "max_height": null,
            "max_width": null,
            "min_height": null,
            "min_width": null,
            "object_fit": null,
            "object_position": null,
            "order": null,
            "overflow": null,
            "overflow_x": null,
            "overflow_y": null,
            "padding": null,
            "right": null,
            "top": null,
            "visibility": null,
            "width": null
          }
        },
        "817bd4cfa029418681fc64fec6a5003e": {
          "model_module": "@jupyter-widgets/controls",
          "model_name": "DescriptionStyleModel",
          "model_module_version": "1.5.0",
          "state": {
            "_model_module": "@jupyter-widgets/controls",
            "_model_module_version": "1.5.0",
            "_model_name": "DescriptionStyleModel",
            "_view_count": null,
            "_view_module": "@jupyter-widgets/base",
            "_view_module_version": "1.2.0",
            "_view_name": "StyleView",
            "description_width": ""
          }
        },
        "7ff3cd969e564aaab97cee5cd190d53d": {
          "model_module": "@jupyter-widgets/base",
          "model_name": "LayoutModel",
          "model_module_version": "1.2.0",
          "state": {
            "_model_module": "@jupyter-widgets/base",
            "_model_module_version": "1.2.0",
            "_model_name": "LayoutModel",
            "_view_count": null,
            "_view_module": "@jupyter-widgets/base",
            "_view_module_version": "1.2.0",
            "_view_name": "LayoutView",
            "align_content": null,
            "align_items": null,
            "align_self": null,
            "border": null,
            "bottom": null,
            "display": null,
            "flex": null,
            "flex_flow": null,
            "grid_area": null,
            "grid_auto_columns": null,
            "grid_auto_flow": null,
            "grid_auto_rows": null,
            "grid_column": null,
            "grid_gap": null,
            "grid_row": null,
            "grid_template_areas": null,
            "grid_template_columns": null,
            "grid_template_rows": null,
            "height": null,
            "justify_content": null,
            "justify_items": null,
            "left": null,
            "margin": null,
            "max_height": null,
            "max_width": null,
            "min_height": null,
            "min_width": null,
            "object_fit": null,
            "object_position": null,
            "order": null,
            "overflow": null,
            "overflow_x": null,
            "overflow_y": null,
            "padding": null,
            "right": null,
            "top": null,
            "visibility": null,
            "width": null
          }
        },
        "62acda2478274546bd894e9c928c59dd": {
          "model_module": "@jupyter-widgets/controls",
          "model_name": "ProgressStyleModel",
          "model_module_version": "1.5.0",
          "state": {
            "_model_module": "@jupyter-widgets/controls",
            "_model_module_version": "1.5.0",
            "_model_name": "ProgressStyleModel",
            "_view_count": null,
            "_view_module": "@jupyter-widgets/base",
            "_view_module_version": "1.2.0",
            "_view_name": "StyleView",
            "bar_color": null,
            "description_width": ""
          }
        },
        "d24b64908f7043b39839e6af99f92c27": {
          "model_module": "@jupyter-widgets/base",
          "model_name": "LayoutModel",
          "model_module_version": "1.2.0",
          "state": {
            "_model_module": "@jupyter-widgets/base",
            "_model_module_version": "1.2.0",
            "_model_name": "LayoutModel",
            "_view_count": null,
            "_view_module": "@jupyter-widgets/base",
            "_view_module_version": "1.2.0",
            "_view_name": "LayoutView",
            "align_content": null,
            "align_items": null,
            "align_self": null,
            "border": null,
            "bottom": null,
            "display": null,
            "flex": null,
            "flex_flow": null,
            "grid_area": null,
            "grid_auto_columns": null,
            "grid_auto_flow": null,
            "grid_auto_rows": null,
            "grid_column": null,
            "grid_gap": null,
            "grid_row": null,
            "grid_template_areas": null,
            "grid_template_columns": null,
            "grid_template_rows": null,
            "height": null,
            "justify_content": null,
            "justify_items": null,
            "left": null,
            "margin": null,
            "max_height": null,
            "max_width": null,
            "min_height": null,
            "min_width": null,
            "object_fit": null,
            "object_position": null,
            "order": null,
            "overflow": null,
            "overflow_x": null,
            "overflow_y": null,
            "padding": null,
            "right": null,
            "top": null,
            "visibility": null,
            "width": null
          }
        },
        "52bef6962bf045c08fad2d046a5e02ed": {
          "model_module": "@jupyter-widgets/controls",
          "model_name": "DescriptionStyleModel",
          "model_module_version": "1.5.0",
          "state": {
            "_model_module": "@jupyter-widgets/controls",
            "_model_module_version": "1.5.0",
            "_model_name": "DescriptionStyleModel",
            "_view_count": null,
            "_view_module": "@jupyter-widgets/base",
            "_view_module_version": "1.2.0",
            "_view_name": "StyleView",
            "description_width": ""
          }
        },
        "09b32fd89ef041968da5d3c0f6b1fc86": {
          "model_module": "@jupyter-widgets/controls",
          "model_name": "HBoxModel",
          "model_module_version": "1.5.0",
          "state": {
            "_dom_classes": [],
            "_model_module": "@jupyter-widgets/controls",
            "_model_module_version": "1.5.0",
            "_model_name": "HBoxModel",
            "_view_count": null,
            "_view_module": "@jupyter-widgets/controls",
            "_view_module_version": "1.5.0",
            "_view_name": "HBoxView",
            "box_style": "",
            "children": [
              "IPY_MODEL_e7e6838741364e4a80106b069ff2e375",
              "IPY_MODEL_2e0ba0a4844c486b828997d1d285d4ef",
              "IPY_MODEL_c2402368fd634b7ba302db3b62fa71bb"
            ],
            "layout": "IPY_MODEL_086fb2a5cbd849c0a19edfb91a762670"
          }
        },
        "e7e6838741364e4a80106b069ff2e375": {
          "model_module": "@jupyter-widgets/controls",
          "model_name": "HTMLModel",
          "model_module_version": "1.5.0",
          "state": {
            "_dom_classes": [],
            "_model_module": "@jupyter-widgets/controls",
            "_model_module_version": "1.5.0",
            "_model_name": "HTMLModel",
            "_view_count": null,
            "_view_module": "@jupyter-widgets/controls",
            "_view_module_version": "1.5.0",
            "_view_name": "HTMLView",
            "description": "",
            "description_tooltip": null,
            "layout": "IPY_MODEL_881cf7d50d1b4b519f782d7e94b67f65",
            "placeholder": "​",
            "style": "IPY_MODEL_12ef38a74e934fea8b2c7b1555975d73",
            "value": "100%"
          }
        },
        "2e0ba0a4844c486b828997d1d285d4ef": {
          "model_module": "@jupyter-widgets/controls",
          "model_name": "FloatProgressModel",
          "model_module_version": "1.5.0",
          "state": {
            "_dom_classes": [],
            "_model_module": "@jupyter-widgets/controls",
            "_model_module_version": "1.5.0",
            "_model_name": "FloatProgressModel",
            "_view_count": null,
            "_view_module": "@jupyter-widgets/controls",
            "_view_module_version": "1.5.0",
            "_view_name": "ProgressView",
            "bar_style": "success",
            "description": "",
            "description_tooltip": null,
            "layout": "IPY_MODEL_fdc5e687acbe4222aca6e085b805687d",
            "max": 29515,
            "min": 0,
            "orientation": "horizontal",
            "style": "IPY_MODEL_41e487a8d98248beb868516521d7a897",
            "value": 29515
          }
        },
        "c2402368fd634b7ba302db3b62fa71bb": {
          "model_module": "@jupyter-widgets/controls",
          "model_name": "HTMLModel",
          "model_module_version": "1.5.0",
          "state": {
            "_dom_classes": [],
            "_model_module": "@jupyter-widgets/controls",
            "_model_module_version": "1.5.0",
            "_model_name": "HTMLModel",
            "_view_count": null,
            "_view_module": "@jupyter-widgets/controls",
            "_view_module_version": "1.5.0",
            "_view_name": "HTMLView",
            "description": "",
            "description_tooltip": null,
            "layout": "IPY_MODEL_c27f69307d4649ce9bd2858bc27e09b2",
            "placeholder": "​",
            "style": "IPY_MODEL_020ad15b51ea4602abda5579d8d235fc",
            "value": " 29515/29515 [00:00&lt;00:00, 146598.76it/s]"
          }
        },
        "086fb2a5cbd849c0a19edfb91a762670": {
          "model_module": "@jupyter-widgets/base",
          "model_name": "LayoutModel",
          "model_module_version": "1.2.0",
          "state": {
            "_model_module": "@jupyter-widgets/base",
            "_model_module_version": "1.2.0",
            "_model_name": "LayoutModel",
            "_view_count": null,
            "_view_module": "@jupyter-widgets/base",
            "_view_module_version": "1.2.0",
            "_view_name": "LayoutView",
            "align_content": null,
            "align_items": null,
            "align_self": null,
            "border": null,
            "bottom": null,
            "display": null,
            "flex": null,
            "flex_flow": null,
            "grid_area": null,
            "grid_auto_columns": null,
            "grid_auto_flow": null,
            "grid_auto_rows": null,
            "grid_column": null,
            "grid_gap": null,
            "grid_row": null,
            "grid_template_areas": null,
            "grid_template_columns": null,
            "grid_template_rows": null,
            "height": null,
            "justify_content": null,
            "justify_items": null,
            "left": null,
            "margin": null,
            "max_height": null,
            "max_width": null,
            "min_height": null,
            "min_width": null,
            "object_fit": null,
            "object_position": null,
            "order": null,
            "overflow": null,
            "overflow_x": null,
            "overflow_y": null,
            "padding": null,
            "right": null,
            "top": null,
            "visibility": null,
            "width": null
          }
        },
        "881cf7d50d1b4b519f782d7e94b67f65": {
          "model_module": "@jupyter-widgets/base",
          "model_name": "LayoutModel",
          "model_module_version": "1.2.0",
          "state": {
            "_model_module": "@jupyter-widgets/base",
            "_model_module_version": "1.2.0",
            "_model_name": "LayoutModel",
            "_view_count": null,
            "_view_module": "@jupyter-widgets/base",
            "_view_module_version": "1.2.0",
            "_view_name": "LayoutView",
            "align_content": null,
            "align_items": null,
            "align_self": null,
            "border": null,
            "bottom": null,
            "display": null,
            "flex": null,
            "flex_flow": null,
            "grid_area": null,
            "grid_auto_columns": null,
            "grid_auto_flow": null,
            "grid_auto_rows": null,
            "grid_column": null,
            "grid_gap": null,
            "grid_row": null,
            "grid_template_areas": null,
            "grid_template_columns": null,
            "grid_template_rows": null,
            "height": null,
            "justify_content": null,
            "justify_items": null,
            "left": null,
            "margin": null,
            "max_height": null,
            "max_width": null,
            "min_height": null,
            "min_width": null,
            "object_fit": null,
            "object_position": null,
            "order": null,
            "overflow": null,
            "overflow_x": null,
            "overflow_y": null,
            "padding": null,
            "right": null,
            "top": null,
            "visibility": null,
            "width": null
          }
        },
        "12ef38a74e934fea8b2c7b1555975d73": {
          "model_module": "@jupyter-widgets/controls",
          "model_name": "DescriptionStyleModel",
          "model_module_version": "1.5.0",
          "state": {
            "_model_module": "@jupyter-widgets/controls",
            "_model_module_version": "1.5.0",
            "_model_name": "DescriptionStyleModel",
            "_view_count": null,
            "_view_module": "@jupyter-widgets/base",
            "_view_module_version": "1.2.0",
            "_view_name": "StyleView",
            "description_width": ""
          }
        },
        "fdc5e687acbe4222aca6e085b805687d": {
          "model_module": "@jupyter-widgets/base",
          "model_name": "LayoutModel",
          "model_module_version": "1.2.0",
          "state": {
            "_model_module": "@jupyter-widgets/base",
            "_model_module_version": "1.2.0",
            "_model_name": "LayoutModel",
            "_view_count": null,
            "_view_module": "@jupyter-widgets/base",
            "_view_module_version": "1.2.0",
            "_view_name": "LayoutView",
            "align_content": null,
            "align_items": null,
            "align_self": null,
            "border": null,
            "bottom": null,
            "display": null,
            "flex": null,
            "flex_flow": null,
            "grid_area": null,
            "grid_auto_columns": null,
            "grid_auto_flow": null,
            "grid_auto_rows": null,
            "grid_column": null,
            "grid_gap": null,
            "grid_row": null,
            "grid_template_areas": null,
            "grid_template_columns": null,
            "grid_template_rows": null,
            "height": null,
            "justify_content": null,
            "justify_items": null,
            "left": null,
            "margin": null,
            "max_height": null,
            "max_width": null,
            "min_height": null,
            "min_width": null,
            "object_fit": null,
            "object_position": null,
            "order": null,
            "overflow": null,
            "overflow_x": null,
            "overflow_y": null,
            "padding": null,
            "right": null,
            "top": null,
            "visibility": null,
            "width": null
          }
        },
        "41e487a8d98248beb868516521d7a897": {
          "model_module": "@jupyter-widgets/controls",
          "model_name": "ProgressStyleModel",
          "model_module_version": "1.5.0",
          "state": {
            "_model_module": "@jupyter-widgets/controls",
            "_model_module_version": "1.5.0",
            "_model_name": "ProgressStyleModel",
            "_view_count": null,
            "_view_module": "@jupyter-widgets/base",
            "_view_module_version": "1.2.0",
            "_view_name": "StyleView",
            "bar_color": null,
            "description_width": ""
          }
        },
        "c27f69307d4649ce9bd2858bc27e09b2": {
          "model_module": "@jupyter-widgets/base",
          "model_name": "LayoutModel",
          "model_module_version": "1.2.0",
          "state": {
            "_model_module": "@jupyter-widgets/base",
            "_model_module_version": "1.2.0",
            "_model_name": "LayoutModel",
            "_view_count": null,
            "_view_module": "@jupyter-widgets/base",
            "_view_module_version": "1.2.0",
            "_view_name": "LayoutView",
            "align_content": null,
            "align_items": null,
            "align_self": null,
            "border": null,
            "bottom": null,
            "display": null,
            "flex": null,
            "flex_flow": null,
            "grid_area": null,
            "grid_auto_columns": null,
            "grid_auto_flow": null,
            "grid_auto_rows": null,
            "grid_column": null,
            "grid_gap": null,
            "grid_row": null,
            "grid_template_areas": null,
            "grid_template_columns": null,
            "grid_template_rows": null,
            "height": null,
            "justify_content": null,
            "justify_items": null,
            "left": null,
            "margin": null,
            "max_height": null,
            "max_width": null,
            "min_height": null,
            "min_width": null,
            "object_fit": null,
            "object_position": null,
            "order": null,
            "overflow": null,
            "overflow_x": null,
            "overflow_y": null,
            "padding": null,
            "right": null,
            "top": null,
            "visibility": null,
            "width": null
          }
        },
        "020ad15b51ea4602abda5579d8d235fc": {
          "model_module": "@jupyter-widgets/controls",
          "model_name": "DescriptionStyleModel",
          "model_module_version": "1.5.0",
          "state": {
            "_model_module": "@jupyter-widgets/controls",
            "_model_module_version": "1.5.0",
            "_model_name": "DescriptionStyleModel",
            "_view_count": null,
            "_view_module": "@jupyter-widgets/base",
            "_view_module_version": "1.2.0",
            "_view_name": "StyleView",
            "description_width": ""
          }
        },
        "907f9e3e54f142128114419df7448f6d": {
          "model_module": "@jupyter-widgets/controls",
          "model_name": "HBoxModel",
          "model_module_version": "1.5.0",
          "state": {
            "_dom_classes": [],
            "_model_module": "@jupyter-widgets/controls",
            "_model_module_version": "1.5.0",
            "_model_name": "HBoxModel",
            "_view_count": null,
            "_view_module": "@jupyter-widgets/controls",
            "_view_module_version": "1.5.0",
            "_view_name": "HBoxView",
            "box_style": "",
            "children": [
              "IPY_MODEL_662becc01b3e49a89d8cc83436283720",
              "IPY_MODEL_bed74a9974a14dcab76f4407f96d1dda",
              "IPY_MODEL_0c4d9b04589d44f28e9bb8fc52e3fbe8"
            ],
            "layout": "IPY_MODEL_5045e69eb7824177b26d6f1c89338f0b"
          }
        },
        "662becc01b3e49a89d8cc83436283720": {
          "model_module": "@jupyter-widgets/controls",
          "model_name": "HTMLModel",
          "model_module_version": "1.5.0",
          "state": {
            "_dom_classes": [],
            "_model_module": "@jupyter-widgets/controls",
            "_model_module_version": "1.5.0",
            "_model_name": "HTMLModel",
            "_view_count": null,
            "_view_module": "@jupyter-widgets/controls",
            "_view_module_version": "1.5.0",
            "_view_name": "HTMLView",
            "description": "",
            "description_tooltip": null,
            "layout": "IPY_MODEL_ec8bd4a9e4774bc19f3235d46db9cbf9",
            "placeholder": "​",
            "style": "IPY_MODEL_9d6fca26a4c34f3594b0b729a40f6ce3",
            "value": "100%"
          }
        },
        "bed74a9974a14dcab76f4407f96d1dda": {
          "model_module": "@jupyter-widgets/controls",
          "model_name": "FloatProgressModel",
          "model_module_version": "1.5.0",
          "state": {
            "_dom_classes": [],
            "_model_module": "@jupyter-widgets/controls",
            "_model_module_version": "1.5.0",
            "_model_name": "FloatProgressModel",
            "_view_count": null,
            "_view_module": "@jupyter-widgets/controls",
            "_view_module_version": "1.5.0",
            "_view_name": "ProgressView",
            "bar_style": "success",
            "description": "",
            "description_tooltip": null,
            "layout": "IPY_MODEL_023d62b685674929b14335fed3fa2e7b",
            "max": 4422102,
            "min": 0,
            "orientation": "horizontal",
            "style": "IPY_MODEL_54799f92d83545bc98ea87f7ba2131f1",
            "value": 4422102
          }
        },
        "0c4d9b04589d44f28e9bb8fc52e3fbe8": {
          "model_module": "@jupyter-widgets/controls",
          "model_name": "HTMLModel",
          "model_module_version": "1.5.0",
          "state": {
            "_dom_classes": [],
            "_model_module": "@jupyter-widgets/controls",
            "_model_module_version": "1.5.0",
            "_model_name": "HTMLModel",
            "_view_count": null,
            "_view_module": "@jupyter-widgets/controls",
            "_view_module_version": "1.5.0",
            "_view_name": "HTMLView",
            "description": "",
            "description_tooltip": null,
            "layout": "IPY_MODEL_38047f0d9bed45ea991de3b8ca58ec7e",
            "placeholder": "​",
            "style": "IPY_MODEL_a9879c0cfddb4f7085789be03f1e5db3",
            "value": " 4422102/4422102 [00:01&lt;00:00, 4194726.57it/s]"
          }
        },
        "5045e69eb7824177b26d6f1c89338f0b": {
          "model_module": "@jupyter-widgets/base",
          "model_name": "LayoutModel",
          "model_module_version": "1.2.0",
          "state": {
            "_model_module": "@jupyter-widgets/base",
            "_model_module_version": "1.2.0",
            "_model_name": "LayoutModel",
            "_view_count": null,
            "_view_module": "@jupyter-widgets/base",
            "_view_module_version": "1.2.0",
            "_view_name": "LayoutView",
            "align_content": null,
            "align_items": null,
            "align_self": null,
            "border": null,
            "bottom": null,
            "display": null,
            "flex": null,
            "flex_flow": null,
            "grid_area": null,
            "grid_auto_columns": null,
            "grid_auto_flow": null,
            "grid_auto_rows": null,
            "grid_column": null,
            "grid_gap": null,
            "grid_row": null,
            "grid_template_areas": null,
            "grid_template_columns": null,
            "grid_template_rows": null,
            "height": null,
            "justify_content": null,
            "justify_items": null,
            "left": null,
            "margin": null,
            "max_height": null,
            "max_width": null,
            "min_height": null,
            "min_width": null,
            "object_fit": null,
            "object_position": null,
            "order": null,
            "overflow": null,
            "overflow_x": null,
            "overflow_y": null,
            "padding": null,
            "right": null,
            "top": null,
            "visibility": null,
            "width": null
          }
        },
        "ec8bd4a9e4774bc19f3235d46db9cbf9": {
          "model_module": "@jupyter-widgets/base",
          "model_name": "LayoutModel",
          "model_module_version": "1.2.0",
          "state": {
            "_model_module": "@jupyter-widgets/base",
            "_model_module_version": "1.2.0",
            "_model_name": "LayoutModel",
            "_view_count": null,
            "_view_module": "@jupyter-widgets/base",
            "_view_module_version": "1.2.0",
            "_view_name": "LayoutView",
            "align_content": null,
            "align_items": null,
            "align_self": null,
            "border": null,
            "bottom": null,
            "display": null,
            "flex": null,
            "flex_flow": null,
            "grid_area": null,
            "grid_auto_columns": null,
            "grid_auto_flow": null,
            "grid_auto_rows": null,
            "grid_column": null,
            "grid_gap": null,
            "grid_row": null,
            "grid_template_areas": null,
            "grid_template_columns": null,
            "grid_template_rows": null,
            "height": null,
            "justify_content": null,
            "justify_items": null,
            "left": null,
            "margin": null,
            "max_height": null,
            "max_width": null,
            "min_height": null,
            "min_width": null,
            "object_fit": null,
            "object_position": null,
            "order": null,
            "overflow": null,
            "overflow_x": null,
            "overflow_y": null,
            "padding": null,
            "right": null,
            "top": null,
            "visibility": null,
            "width": null
          }
        },
        "9d6fca26a4c34f3594b0b729a40f6ce3": {
          "model_module": "@jupyter-widgets/controls",
          "model_name": "DescriptionStyleModel",
          "model_module_version": "1.5.0",
          "state": {
            "_model_module": "@jupyter-widgets/controls",
            "_model_module_version": "1.5.0",
            "_model_name": "DescriptionStyleModel",
            "_view_count": null,
            "_view_module": "@jupyter-widgets/base",
            "_view_module_version": "1.2.0",
            "_view_name": "StyleView",
            "description_width": ""
          }
        },
        "023d62b685674929b14335fed3fa2e7b": {
          "model_module": "@jupyter-widgets/base",
          "model_name": "LayoutModel",
          "model_module_version": "1.2.0",
          "state": {
            "_model_module": "@jupyter-widgets/base",
            "_model_module_version": "1.2.0",
            "_model_name": "LayoutModel",
            "_view_count": null,
            "_view_module": "@jupyter-widgets/base",
            "_view_module_version": "1.2.0",
            "_view_name": "LayoutView",
            "align_content": null,
            "align_items": null,
            "align_self": null,
            "border": null,
            "bottom": null,
            "display": null,
            "flex": null,
            "flex_flow": null,
            "grid_area": null,
            "grid_auto_columns": null,
            "grid_auto_flow": null,
            "grid_auto_rows": null,
            "grid_column": null,
            "grid_gap": null,
            "grid_row": null,
            "grid_template_areas": null,
            "grid_template_columns": null,
            "grid_template_rows": null,
            "height": null,
            "justify_content": null,
            "justify_items": null,
            "left": null,
            "margin": null,
            "max_height": null,
            "max_width": null,
            "min_height": null,
            "min_width": null,
            "object_fit": null,
            "object_position": null,
            "order": null,
            "overflow": null,
            "overflow_x": null,
            "overflow_y": null,
            "padding": null,
            "right": null,
            "top": null,
            "visibility": null,
            "width": null
          }
        },
        "54799f92d83545bc98ea87f7ba2131f1": {
          "model_module": "@jupyter-widgets/controls",
          "model_name": "ProgressStyleModel",
          "model_module_version": "1.5.0",
          "state": {
            "_model_module": "@jupyter-widgets/controls",
            "_model_module_version": "1.5.0",
            "_model_name": "ProgressStyleModel",
            "_view_count": null,
            "_view_module": "@jupyter-widgets/base",
            "_view_module_version": "1.2.0",
            "_view_name": "StyleView",
            "bar_color": null,
            "description_width": ""
          }
        },
        "38047f0d9bed45ea991de3b8ca58ec7e": {
          "model_module": "@jupyter-widgets/base",
          "model_name": "LayoutModel",
          "model_module_version": "1.2.0",
          "state": {
            "_model_module": "@jupyter-widgets/base",
            "_model_module_version": "1.2.0",
            "_model_name": "LayoutModel",
            "_view_count": null,
            "_view_module": "@jupyter-widgets/base",
            "_view_module_version": "1.2.0",
            "_view_name": "LayoutView",
            "align_content": null,
            "align_items": null,
            "align_self": null,
            "border": null,
            "bottom": null,
            "display": null,
            "flex": null,
            "flex_flow": null,
            "grid_area": null,
            "grid_auto_columns": null,
            "grid_auto_flow": null,
            "grid_auto_rows": null,
            "grid_column": null,
            "grid_gap": null,
            "grid_row": null,
            "grid_template_areas": null,
            "grid_template_columns": null,
            "grid_template_rows": null,
            "height": null,
            "justify_content": null,
            "justify_items": null,
            "left": null,
            "margin": null,
            "max_height": null,
            "max_width": null,
            "min_height": null,
            "min_width": null,
            "object_fit": null,
            "object_position": null,
            "order": null,
            "overflow": null,
            "overflow_x": null,
            "overflow_y": null,
            "padding": null,
            "right": null,
            "top": null,
            "visibility": null,
            "width": null
          }
        },
        "a9879c0cfddb4f7085789be03f1e5db3": {
          "model_module": "@jupyter-widgets/controls",
          "model_name": "DescriptionStyleModel",
          "model_module_version": "1.5.0",
          "state": {
            "_model_module": "@jupyter-widgets/controls",
            "_model_module_version": "1.5.0",
            "_model_name": "DescriptionStyleModel",
            "_view_count": null,
            "_view_module": "@jupyter-widgets/base",
            "_view_module_version": "1.2.0",
            "_view_name": "StyleView",
            "description_width": ""
          }
        },
        "1ed64eede7b74720a33a6d7b0b4c9139": {
          "model_module": "@jupyter-widgets/controls",
          "model_name": "HBoxModel",
          "model_module_version": "1.5.0",
          "state": {
            "_dom_classes": [],
            "_model_module": "@jupyter-widgets/controls",
            "_model_module_version": "1.5.0",
            "_model_name": "HBoxModel",
            "_view_count": null,
            "_view_module": "@jupyter-widgets/controls",
            "_view_module_version": "1.5.0",
            "_view_name": "HBoxView",
            "box_style": "",
            "children": [
              "IPY_MODEL_8d954c7b525e4a4cb9c64d75a367b1e6",
              "IPY_MODEL_932adbc282b64dab90750a40d1e16045",
              "IPY_MODEL_263c786095284ac69f1e3f75f79c4507"
            ],
            "layout": "IPY_MODEL_6dbbf3ff83e247f9b416ef16644b2965"
          }
        },
        "8d954c7b525e4a4cb9c64d75a367b1e6": {
          "model_module": "@jupyter-widgets/controls",
          "model_name": "HTMLModel",
          "model_module_version": "1.5.0",
          "state": {
            "_dom_classes": [],
            "_model_module": "@jupyter-widgets/controls",
            "_model_module_version": "1.5.0",
            "_model_name": "HTMLModel",
            "_view_count": null,
            "_view_module": "@jupyter-widgets/controls",
            "_view_module_version": "1.5.0",
            "_view_name": "HTMLView",
            "description": "",
            "description_tooltip": null,
            "layout": "IPY_MODEL_b42e37b326434649bbdec9febcd7154a",
            "placeholder": "​",
            "style": "IPY_MODEL_dac819834df4420a888e4e09ccbbd2fd",
            "value": "100%"
          }
        },
        "932adbc282b64dab90750a40d1e16045": {
          "model_module": "@jupyter-widgets/controls",
          "model_name": "FloatProgressModel",
          "model_module_version": "1.5.0",
          "state": {
            "_dom_classes": [],
            "_model_module": "@jupyter-widgets/controls",
            "_model_module_version": "1.5.0",
            "_model_name": "FloatProgressModel",
            "_view_count": null,
            "_view_module": "@jupyter-widgets/controls",
            "_view_module_version": "1.5.0",
            "_view_name": "ProgressView",
            "bar_style": "success",
            "description": "",
            "description_tooltip": null,
            "layout": "IPY_MODEL_a8b5646990f74b74b1ed57425e5ee5ec",
            "max": 5148,
            "min": 0,
            "orientation": "horizontal",
            "style": "IPY_MODEL_9ea755ceb4c748fa8cff44052d703147",
            "value": 5148
          }
        },
        "263c786095284ac69f1e3f75f79c4507": {
          "model_module": "@jupyter-widgets/controls",
          "model_name": "HTMLModel",
          "model_module_version": "1.5.0",
          "state": {
            "_dom_classes": [],
            "_model_module": "@jupyter-widgets/controls",
            "_model_module_version": "1.5.0",
            "_model_name": "HTMLModel",
            "_view_count": null,
            "_view_module": "@jupyter-widgets/controls",
            "_view_module_version": "1.5.0",
            "_view_name": "HTMLView",
            "description": "",
            "description_tooltip": null,
            "layout": "IPY_MODEL_d455afc1dbdb44f49a45d3f85f928a56",
            "placeholder": "​",
            "style": "IPY_MODEL_798a8025e8724f0c8351e4cde8f9b106",
            "value": " 5148/5148 [00:00&lt;00:00, 218039.94it/s]"
          }
        },
        "6dbbf3ff83e247f9b416ef16644b2965": {
          "model_module": "@jupyter-widgets/base",
          "model_name": "LayoutModel",
          "model_module_version": "1.2.0",
          "state": {
            "_model_module": "@jupyter-widgets/base",
            "_model_module_version": "1.2.0",
            "_model_name": "LayoutModel",
            "_view_count": null,
            "_view_module": "@jupyter-widgets/base",
            "_view_module_version": "1.2.0",
            "_view_name": "LayoutView",
            "align_content": null,
            "align_items": null,
            "align_self": null,
            "border": null,
            "bottom": null,
            "display": null,
            "flex": null,
            "flex_flow": null,
            "grid_area": null,
            "grid_auto_columns": null,
            "grid_auto_flow": null,
            "grid_auto_rows": null,
            "grid_column": null,
            "grid_gap": null,
            "grid_row": null,
            "grid_template_areas": null,
            "grid_template_columns": null,
            "grid_template_rows": null,
            "height": null,
            "justify_content": null,
            "justify_items": null,
            "left": null,
            "margin": null,
            "max_height": null,
            "max_width": null,
            "min_height": null,
            "min_width": null,
            "object_fit": null,
            "object_position": null,
            "order": null,
            "overflow": null,
            "overflow_x": null,
            "overflow_y": null,
            "padding": null,
            "right": null,
            "top": null,
            "visibility": null,
            "width": null
          }
        },
        "b42e37b326434649bbdec9febcd7154a": {
          "model_module": "@jupyter-widgets/base",
          "model_name": "LayoutModel",
          "model_module_version": "1.2.0",
          "state": {
            "_model_module": "@jupyter-widgets/base",
            "_model_module_version": "1.2.0",
            "_model_name": "LayoutModel",
            "_view_count": null,
            "_view_module": "@jupyter-widgets/base",
            "_view_module_version": "1.2.0",
            "_view_name": "LayoutView",
            "align_content": null,
            "align_items": null,
            "align_self": null,
            "border": null,
            "bottom": null,
            "display": null,
            "flex": null,
            "flex_flow": null,
            "grid_area": null,
            "grid_auto_columns": null,
            "grid_auto_flow": null,
            "grid_auto_rows": null,
            "grid_column": null,
            "grid_gap": null,
            "grid_row": null,
            "grid_template_areas": null,
            "grid_template_columns": null,
            "grid_template_rows": null,
            "height": null,
            "justify_content": null,
            "justify_items": null,
            "left": null,
            "margin": null,
            "max_height": null,
            "max_width": null,
            "min_height": null,
            "min_width": null,
            "object_fit": null,
            "object_position": null,
            "order": null,
            "overflow": null,
            "overflow_x": null,
            "overflow_y": null,
            "padding": null,
            "right": null,
            "top": null,
            "visibility": null,
            "width": null
          }
        },
        "dac819834df4420a888e4e09ccbbd2fd": {
          "model_module": "@jupyter-widgets/controls",
          "model_name": "DescriptionStyleModel",
          "model_module_version": "1.5.0",
          "state": {
            "_model_module": "@jupyter-widgets/controls",
            "_model_module_version": "1.5.0",
            "_model_name": "DescriptionStyleModel",
            "_view_count": null,
            "_view_module": "@jupyter-widgets/base",
            "_view_module_version": "1.2.0",
            "_view_name": "StyleView",
            "description_width": ""
          }
        },
        "a8b5646990f74b74b1ed57425e5ee5ec": {
          "model_module": "@jupyter-widgets/base",
          "model_name": "LayoutModel",
          "model_module_version": "1.2.0",
          "state": {
            "_model_module": "@jupyter-widgets/base",
            "_model_module_version": "1.2.0",
            "_model_name": "LayoutModel",
            "_view_count": null,
            "_view_module": "@jupyter-widgets/base",
            "_view_module_version": "1.2.0",
            "_view_name": "LayoutView",
            "align_content": null,
            "align_items": null,
            "align_self": null,
            "border": null,
            "bottom": null,
            "display": null,
            "flex": null,
            "flex_flow": null,
            "grid_area": null,
            "grid_auto_columns": null,
            "grid_auto_flow": null,
            "grid_auto_rows": null,
            "grid_column": null,
            "grid_gap": null,
            "grid_row": null,
            "grid_template_areas": null,
            "grid_template_columns": null,
            "grid_template_rows": null,
            "height": null,
            "justify_content": null,
            "justify_items": null,
            "left": null,
            "margin": null,
            "max_height": null,
            "max_width": null,
            "min_height": null,
            "min_width": null,
            "object_fit": null,
            "object_position": null,
            "order": null,
            "overflow": null,
            "overflow_x": null,
            "overflow_y": null,
            "padding": null,
            "right": null,
            "top": null,
            "visibility": null,
            "width": null
          }
        },
        "9ea755ceb4c748fa8cff44052d703147": {
          "model_module": "@jupyter-widgets/controls",
          "model_name": "ProgressStyleModel",
          "model_module_version": "1.5.0",
          "state": {
            "_model_module": "@jupyter-widgets/controls",
            "_model_module_version": "1.5.0",
            "_model_name": "ProgressStyleModel",
            "_view_count": null,
            "_view_module": "@jupyter-widgets/base",
            "_view_module_version": "1.2.0",
            "_view_name": "StyleView",
            "bar_color": null,
            "description_width": ""
          }
        },
        "d455afc1dbdb44f49a45d3f85f928a56": {
          "model_module": "@jupyter-widgets/base",
          "model_name": "LayoutModel",
          "model_module_version": "1.2.0",
          "state": {
            "_model_module": "@jupyter-widgets/base",
            "_model_module_version": "1.2.0",
            "_model_name": "LayoutModel",
            "_view_count": null,
            "_view_module": "@jupyter-widgets/base",
            "_view_module_version": "1.2.0",
            "_view_name": "LayoutView",
            "align_content": null,
            "align_items": null,
            "align_self": null,
            "border": null,
            "bottom": null,
            "display": null,
            "flex": null,
            "flex_flow": null,
            "grid_area": null,
            "grid_auto_columns": null,
            "grid_auto_flow": null,
            "grid_auto_rows": null,
            "grid_column": null,
            "grid_gap": null,
            "grid_row": null,
            "grid_template_areas": null,
            "grid_template_columns": null,
            "grid_template_rows": null,
            "height": null,
            "justify_content": null,
            "justify_items": null,
            "left": null,
            "margin": null,
            "max_height": null,
            "max_width": null,
            "min_height": null,
            "min_width": null,
            "object_fit": null,
            "object_position": null,
            "order": null,
            "overflow": null,
            "overflow_x": null,
            "overflow_y": null,
            "padding": null,
            "right": null,
            "top": null,
            "visibility": null,
            "width": null
          }
        },
        "798a8025e8724f0c8351e4cde8f9b106": {
          "model_module": "@jupyter-widgets/controls",
          "model_name": "DescriptionStyleModel",
          "model_module_version": "1.5.0",
          "state": {
            "_model_module": "@jupyter-widgets/controls",
            "_model_module_version": "1.5.0",
            "_model_name": "DescriptionStyleModel",
            "_view_count": null,
            "_view_module": "@jupyter-widgets/base",
            "_view_module_version": "1.2.0",
            "_view_name": "StyleView",
            "description_width": ""
          }
        },
        "0330b8174fe241688c75e420b8d9d36f": {
          "model_module": "@jupyter-widgets/controls",
          "model_name": "HBoxModel",
          "model_module_version": "1.5.0",
          "state": {
            "_dom_classes": [],
            "_model_module": "@jupyter-widgets/controls",
            "_model_module_version": "1.5.0",
            "_model_name": "HBoxModel",
            "_view_count": null,
            "_view_module": "@jupyter-widgets/controls",
            "_view_module_version": "1.5.0",
            "_view_name": "HBoxView",
            "box_style": "",
            "children": [
              "IPY_MODEL_f840ec293d0e4758afdc8cd695749dc0",
              "IPY_MODEL_e744b55fafd14bdeaaa66f0a9331678d",
              "IPY_MODEL_f5c39df764104d6498033576dd4fb13a"
            ],
            "layout": "IPY_MODEL_37ba6035b7ca48388cc5539b0ba400fa"
          }
        },
        "f840ec293d0e4758afdc8cd695749dc0": {
          "model_module": "@jupyter-widgets/controls",
          "model_name": "HTMLModel",
          "model_module_version": "1.5.0",
          "state": {
            "_dom_classes": [],
            "_model_module": "@jupyter-widgets/controls",
            "_model_module_version": "1.5.0",
            "_model_name": "HTMLModel",
            "_view_count": null,
            "_view_module": "@jupyter-widgets/controls",
            "_view_module_version": "1.5.0",
            "_view_name": "HTMLView",
            "description": "",
            "description_tooltip": null,
            "layout": "IPY_MODEL_50ea0bc478c144b3982c675c55c04701",
            "placeholder": "​",
            "style": "IPY_MODEL_8cd44847c35a41818cb7d9f79f196d29",
            "value": "100%"
          }
        },
        "e744b55fafd14bdeaaa66f0a9331678d": {
          "model_module": "@jupyter-widgets/controls",
          "model_name": "FloatProgressModel",
          "model_module_version": "1.5.0",
          "state": {
            "_dom_classes": [],
            "_model_module": "@jupyter-widgets/controls",
            "_model_module_version": "1.5.0",
            "_model_name": "FloatProgressModel",
            "_view_count": null,
            "_view_module": "@jupyter-widgets/controls",
            "_view_module_version": "1.5.0",
            "_view_name": "ProgressView",
            "bar_style": "success",
            "description": "",
            "description_tooltip": null,
            "layout": "IPY_MODEL_9926970842f14409b5700671fc0c0fb1",
            "max": 170498071,
            "min": 0,
            "orientation": "horizontal",
            "style": "IPY_MODEL_9bc88b497c21494191b451b74bb87d4d",
            "value": 170498071
          }
        },
        "f5c39df764104d6498033576dd4fb13a": {
          "model_module": "@jupyter-widgets/controls",
          "model_name": "HTMLModel",
          "model_module_version": "1.5.0",
          "state": {
            "_dom_classes": [],
            "_model_module": "@jupyter-widgets/controls",
            "_model_module_version": "1.5.0",
            "_model_name": "HTMLModel",
            "_view_count": null,
            "_view_module": "@jupyter-widgets/controls",
            "_view_module_version": "1.5.0",
            "_view_name": "HTMLView",
            "description": "",
            "description_tooltip": null,
            "layout": "IPY_MODEL_105292490fc64c85893583d9e5973aad",
            "placeholder": "​",
            "style": "IPY_MODEL_72bc05906a664fa4ac690d9b51dbe60d",
            "value": " 170498071/170498071 [00:14&lt;00:00, 14288508.76it/s]"
          }
        },
        "37ba6035b7ca48388cc5539b0ba400fa": {
          "model_module": "@jupyter-widgets/base",
          "model_name": "LayoutModel",
          "model_module_version": "1.2.0",
          "state": {
            "_model_module": "@jupyter-widgets/base",
            "_model_module_version": "1.2.0",
            "_model_name": "LayoutModel",
            "_view_count": null,
            "_view_module": "@jupyter-widgets/base",
            "_view_module_version": "1.2.0",
            "_view_name": "LayoutView",
            "align_content": null,
            "align_items": null,
            "align_self": null,
            "border": null,
            "bottom": null,
            "display": null,
            "flex": null,
            "flex_flow": null,
            "grid_area": null,
            "grid_auto_columns": null,
            "grid_auto_flow": null,
            "grid_auto_rows": null,
            "grid_column": null,
            "grid_gap": null,
            "grid_row": null,
            "grid_template_areas": null,
            "grid_template_columns": null,
            "grid_template_rows": null,
            "height": null,
            "justify_content": null,
            "justify_items": null,
            "left": null,
            "margin": null,
            "max_height": null,
            "max_width": null,
            "min_height": null,
            "min_width": null,
            "object_fit": null,
            "object_position": null,
            "order": null,
            "overflow": null,
            "overflow_x": null,
            "overflow_y": null,
            "padding": null,
            "right": null,
            "top": null,
            "visibility": null,
            "width": null
          }
        },
        "50ea0bc478c144b3982c675c55c04701": {
          "model_module": "@jupyter-widgets/base",
          "model_name": "LayoutModel",
          "model_module_version": "1.2.0",
          "state": {
            "_model_module": "@jupyter-widgets/base",
            "_model_module_version": "1.2.0",
            "_model_name": "LayoutModel",
            "_view_count": null,
            "_view_module": "@jupyter-widgets/base",
            "_view_module_version": "1.2.0",
            "_view_name": "LayoutView",
            "align_content": null,
            "align_items": null,
            "align_self": null,
            "border": null,
            "bottom": null,
            "display": null,
            "flex": null,
            "flex_flow": null,
            "grid_area": null,
            "grid_auto_columns": null,
            "grid_auto_flow": null,
            "grid_auto_rows": null,
            "grid_column": null,
            "grid_gap": null,
            "grid_row": null,
            "grid_template_areas": null,
            "grid_template_columns": null,
            "grid_template_rows": null,
            "height": null,
            "justify_content": null,
            "justify_items": null,
            "left": null,
            "margin": null,
            "max_height": null,
            "max_width": null,
            "min_height": null,
            "min_width": null,
            "object_fit": null,
            "object_position": null,
            "order": null,
            "overflow": null,
            "overflow_x": null,
            "overflow_y": null,
            "padding": null,
            "right": null,
            "top": null,
            "visibility": null,
            "width": null
          }
        },
        "8cd44847c35a41818cb7d9f79f196d29": {
          "model_module": "@jupyter-widgets/controls",
          "model_name": "DescriptionStyleModel",
          "model_module_version": "1.5.0",
          "state": {
            "_model_module": "@jupyter-widgets/controls",
            "_model_module_version": "1.5.0",
            "_model_name": "DescriptionStyleModel",
            "_view_count": null,
            "_view_module": "@jupyter-widgets/base",
            "_view_module_version": "1.2.0",
            "_view_name": "StyleView",
            "description_width": ""
          }
        },
        "9926970842f14409b5700671fc0c0fb1": {
          "model_module": "@jupyter-widgets/base",
          "model_name": "LayoutModel",
          "model_module_version": "1.2.0",
          "state": {
            "_model_module": "@jupyter-widgets/base",
            "_model_module_version": "1.2.0",
            "_model_name": "LayoutModel",
            "_view_count": null,
            "_view_module": "@jupyter-widgets/base",
            "_view_module_version": "1.2.0",
            "_view_name": "LayoutView",
            "align_content": null,
            "align_items": null,
            "align_self": null,
            "border": null,
            "bottom": null,
            "display": null,
            "flex": null,
            "flex_flow": null,
            "grid_area": null,
            "grid_auto_columns": null,
            "grid_auto_flow": null,
            "grid_auto_rows": null,
            "grid_column": null,
            "grid_gap": null,
            "grid_row": null,
            "grid_template_areas": null,
            "grid_template_columns": null,
            "grid_template_rows": null,
            "height": null,
            "justify_content": null,
            "justify_items": null,
            "left": null,
            "margin": null,
            "max_height": null,
            "max_width": null,
            "min_height": null,
            "min_width": null,
            "object_fit": null,
            "object_position": null,
            "order": null,
            "overflow": null,
            "overflow_x": null,
            "overflow_y": null,
            "padding": null,
            "right": null,
            "top": null,
            "visibility": null,
            "width": null
          }
        },
        "9bc88b497c21494191b451b74bb87d4d": {
          "model_module": "@jupyter-widgets/controls",
          "model_name": "ProgressStyleModel",
          "model_module_version": "1.5.0",
          "state": {
            "_model_module": "@jupyter-widgets/controls",
            "_model_module_version": "1.5.0",
            "_model_name": "ProgressStyleModel",
            "_view_count": null,
            "_view_module": "@jupyter-widgets/base",
            "_view_module_version": "1.2.0",
            "_view_name": "StyleView",
            "bar_color": null,
            "description_width": ""
          }
        },
        "105292490fc64c85893583d9e5973aad": {
          "model_module": "@jupyter-widgets/base",
          "model_name": "LayoutModel",
          "model_module_version": "1.2.0",
          "state": {
            "_model_module": "@jupyter-widgets/base",
            "_model_module_version": "1.2.0",
            "_model_name": "LayoutModel",
            "_view_count": null,
            "_view_module": "@jupyter-widgets/base",
            "_view_module_version": "1.2.0",
            "_view_name": "LayoutView",
            "align_content": null,
            "align_items": null,
            "align_self": null,
            "border": null,
            "bottom": null,
            "display": null,
            "flex": null,
            "flex_flow": null,
            "grid_area": null,
            "grid_auto_columns": null,
            "grid_auto_flow": null,
            "grid_auto_rows": null,
            "grid_column": null,
            "grid_gap": null,
            "grid_row": null,
            "grid_template_areas": null,
            "grid_template_columns": null,
            "grid_template_rows": null,
            "height": null,
            "justify_content": null,
            "justify_items": null,
            "left": null,
            "margin": null,
            "max_height": null,
            "max_width": null,
            "min_height": null,
            "min_width": null,
            "object_fit": null,
            "object_position": null,
            "order": null,
            "overflow": null,
            "overflow_x": null,
            "overflow_y": null,
            "padding": null,
            "right": null,
            "top": null,
            "visibility": null,
            "width": null
          }
        },
        "72bc05906a664fa4ac690d9b51dbe60d": {
          "model_module": "@jupyter-widgets/controls",
          "model_name": "DescriptionStyleModel",
          "model_module_version": "1.5.0",
          "state": {
            "_model_module": "@jupyter-widgets/controls",
            "_model_module_version": "1.5.0",
            "_model_name": "DescriptionStyleModel",
            "_view_count": null,
            "_view_module": "@jupyter-widgets/base",
            "_view_module_version": "1.2.0",
            "_view_name": "StyleView",
            "description_width": ""
          }
        }
      }
    }
  },
  "nbformat": 4,
  "nbformat_minor": 5
}