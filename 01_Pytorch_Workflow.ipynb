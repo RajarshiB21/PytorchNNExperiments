{
  "nbformat": 4,
  "nbformat_minor": 0,
  "metadata": {
    "colab": {
      "provenance": []
    },
    "kernelspec": {
      "name": "python3",
      "display_name": "Python 3"
    },
    "language_info": {
      "name": "python"
    }
  },
  "cells": [
    {
      "cell_type": "markdown",
      "source": [
        "Steps to take:\n",
        "1) Get the data ready\n",
        "2) Building the model\n",
        "3) Fitting the model\n",
        "4) Making predictions annd evaluating the model\n",
        "5) Save and load the model"
      ],
      "metadata": {
        "id": "g1Ls0-nygZvu"
      }
    },
    {
      "cell_type": "code",
      "execution_count": null,
      "metadata": {
        "colab": {
          "base_uri": "https://localhost:8080/",
          "height": 35
        },
        "id": "H8YNeKmdgP8S",
        "outputId": "c6760166-c345-44e7-af68-f265fc87fae5"
      },
      "outputs": [
        {
          "output_type": "execute_result",
          "data": {
            "text/plain": [
              "'1.12.1+cu113'"
            ],
            "application/vnd.google.colaboratory.intrinsic+json": {
              "type": "string"
            }
          },
          "metadata": {},
          "execution_count": 1
        }
      ],
      "source": [
        "#Importing the libraries\n",
        "import torch\n",
        "import torch.nn as nn\n",
        "import matplotlib.pyplot as plt\n",
        "torch.__version__"
      ]
    },
    {
      "cell_type": "code",
      "source": [
        "#We start by creating the known parameters \n",
        "weight = 0.7\n",
        "bias = 0.3\n",
        "start = 0\n",
        "end = 1\n",
        "step = 0.02\n",
        "X = torch.arange(start,end,step).unsqueeze(dim=1)\n",
        "y = weight*X + bias"
      ],
      "metadata": {
        "id": "x7Nl2PmAgX8o"
      },
      "execution_count": null,
      "outputs": []
    },
    {
      "cell_type": "code",
      "source": [
        "len(X), len(y)"
      ],
      "metadata": {
        "colab": {
          "base_uri": "https://localhost:8080/"
        },
        "id": "tCq-0bjIg17K",
        "outputId": "ec1e9cfd-66d4-4395-928a-e138a992f508"
      },
      "execution_count": null,
      "outputs": [
        {
          "output_type": "execute_result",
          "data": {
            "text/plain": [
              "(50, 50)"
            ]
          },
          "metadata": {},
          "execution_count": 3
        }
      ]
    },
    {
      "cell_type": "code",
      "source": [
        "#Splitting the data into training and testing \n",
        "train_split = int(0.8*len(X))\n",
        "X_train, y_train = X[:train_split], y[:train_split]\n",
        "X_test, y_test = X[train_split:], y[train_split:]\n",
        "len(X_train),len(y_train), len(X_test), len(y_test)"
      ],
      "metadata": {
        "colab": {
          "base_uri": "https://localhost:8080/"
        },
        "id": "fTWAxPSrg6IJ",
        "outputId": "77a9f197-5ba5-4074-da58-df7667284871"
      },
      "execution_count": null,
      "outputs": [
        {
          "output_type": "execute_result",
          "data": {
            "text/plain": [
              "(40, 40, 10, 10)"
            ]
          },
          "metadata": {},
          "execution_count": 4
        }
      ]
    },
    {
      "cell_type": "code",
      "source": [
        "#Visualize the data \n",
        "def plot_predictions(train_data=X_train,\n",
        "                    train_labels=y_train,\n",
        "                    test_data=X_test,\n",
        "                    test_labels=y_test,\n",
        "                    predictions=None):\n",
        "  plt.figure(figsize=(10,7))\n",
        "  plt.scatter(train_data,train_labels,c=\"b\",s=4, label = \"Training Data\")\n",
        "  plt.scatter(test_data, test_labels, c=\"g\",s=4, label = \"Test Data\")\n",
        "  if predictions is not None:\n",
        "    plt.scatter(test_data,predictions, c=\"r\", s=4, label= \"Predictions\")\n",
        "  plt.legend(prop={\"size\":14});"
      ],
      "metadata": {
        "id": "ZIHzfxxCheE-"
      },
      "execution_count": null,
      "outputs": []
    },
    {
      "cell_type": "code",
      "source": [
        "plot_predictions()"
      ],
      "metadata": {
        "colab": {
          "base_uri": "https://localhost:8080/",
          "height": 428
        },
        "id": "dbkkcuJqihm2",
        "outputId": "85665d7d-6c30-452a-dd45-2e870540508a"
      },
      "execution_count": null,
      "outputs": [
        {
          "output_type": "display_data",
          "data": {
            "text/plain": [
              "<Figure size 720x504 with 1 Axes>"
            ],
            "image/png": "[encoded data removed]"
          },
          "metadata": {
            "needs_background": "light"
          }
        }
      ]
    },
    {
      "cell_type": "code",
      "source": [
        "#Creating the linear regression model\n",
        "class LinearRegressionModel(nn.Module):\n",
        "  def __init__(self):\n",
        "    super().__init__()\n",
        "    self.weight = nn.Parameter(torch.randn(1, requires_grad=True, dtype=torch.float))\n",
        "    self.bias = nn.Parameter(torch.randn(1, requires_grad=True, dtype=torch.float))\n",
        "\n",
        "  def forward(self, x: torch.Tensor):\n",
        "    return self.weight*x+ self.bias"
      ],
      "metadata": {
        "id": "LvFrW3LFij3u"
      },
      "execution_count": null,
      "outputs": []
    },
    {
      "cell_type": "code",
      "source": [
        "#To see what is inside the model we use a manual seed\n",
        "torch.manual_seed(42)\n",
        "#Making an instance of the model\n",
        "model_0=LinearRegressionModel()\n",
        "list(model_0.parameters())"
      ],
      "metadata": {
        "colab": {
          "base_uri": "https://localhost:8080/"
        },
        "id": "5IspmvOAjAc1",
        "outputId": "27df6ed0-0a93-419c-90a7-6abb8081a64c"
      },
      "execution_count": null,
      "outputs": [
        {
          "output_type": "execute_result",
          "data": {
            "text/plain": [
              "[Parameter containing:\n",
              " tensor([0.3367], requires_grad=True), Parameter containing:\n",
              " tensor([0.1288], requires_grad=True)]"
            ]
          },
          "metadata": {},
          "execution_count": 69
        }
      ]
    },
    {
      "cell_type": "code",
      "source": [
        "model_0.state_dict()"
      ],
      "metadata": {
        "colab": {
          "base_uri": "https://localhost:8080/"
        },
        "id": "XteSybMdjcBr",
        "outputId": "55ee0968-8276-49ff-d3d1-51bf2868752f"
      },
      "execution_count": null,
      "outputs": [
        {
          "output_type": "execute_result",
          "data": {
            "text/plain": [
              "OrderedDict([('weight', tensor([0.3367])), ('bias', tensor([0.1288]))])"
            ]
          },
          "metadata": {},
          "execution_count": 70
        }
      ]
    },
    {
      "cell_type": "code",
      "source": [
        "#We now make some predictions using the untrained model\n",
        "with torch.inference_mode():\n",
        "  y_preds = model_0(X_test)\n",
        "y_preds"
      ],
      "metadata": {
        "colab": {
          "base_uri": "https://localhost:8080/"
        },
        "id": "v1v3iD4Ijgn3",
        "outputId": "306f5fb8-ac52-49c1-98cf-0231b68a7f70"
      },
      "execution_count": null,
      "outputs": [
        {
          "output_type": "execute_result",
          "data": {
            "text/plain": [
              "tensor([[0.3982],\n",
              "        [0.4049],\n",
              "        [0.4116],\n",
              "        [0.4184],\n",
              "        [0.4251],\n",
              "        [0.4318],\n",
              "        [0.4386],\n",
              "        [0.4453],\n",
              "        [0.4520],\n",
              "        [0.4588]])"
            ]
          },
          "metadata": {},
          "execution_count": 71
        }
      ]
    },
    {
      "cell_type": "code",
      "source": [
        "#Lets see the actual labels\n",
        "y_test"
      ],
      "metadata": {
        "colab": {
          "base_uri": "https://localhost:8080/"
        },
        "id": "Z5MIj_XFjr23",
        "outputId": "8df230c9-361a-437d-b477-338b295bcc51"
      },
      "execution_count": null,
      "outputs": [
        {
          "output_type": "execute_result",
          "data": {
            "text/plain": [
              "tensor([[0.8600],\n",
              "        [0.8740],\n",
              "        [0.8880],\n",
              "        [0.9020],\n",
              "        [0.9160],\n",
              "        [0.9300],\n",
              "        [0.9440],\n",
              "        [0.9580],\n",
              "        [0.9720],\n",
              "        [0.9860]])"
            ]
          },
          "metadata": {},
          "execution_count": 72
        }
      ]
    },
    {
      "cell_type": "code",
      "source": [
        "#Now we setup the training process for better results\n",
        "#We start by initialising the loss and optimizer\n",
        "loss_fn = nn.L1Loss()\n",
        "optimizer = torch.optim.SGD(params=model_0.parameters(), lr=0.01)"
      ],
      "metadata": {
        "id": "RewxF-CKj_5F"
      },
      "execution_count": null,
      "outputs": []
    },
    {
      "cell_type": "code",
      "source": [
        "#Now the training loop\n",
        "#Loop through the data\n",
        "#Forward pass\n",
        "#Calculate the loss\n",
        "#Optimizer zero grad\n",
        "#Backward propagation\n",
        "#Optimizer step\n",
        "torch.manual_seed(42)\n",
        "epochs=200\n",
        "epoch_count = []\n",
        "train_loss = []\n",
        "test_loss = []\n",
        "\n",
        "for epoch in range(epochs):\n",
        "  model_0.train()\n",
        "  y_pred=model_0(X_train)\n",
        "  loss = loss_fn(y_pred, y_train)\n",
        "  optimizer.zero_grad()\n",
        "  loss.backward()\n",
        "  optimizer.step()\n",
        "  model_0.eval()\n",
        "\n",
        "  with torch.inference_mode():\n",
        "    y_test_preds = model_0(X_test)\n",
        "    test_loss_val= loss_fn(y_test_preds, y_test)\n",
        "\n",
        "  test_loss.append(test_loss_val)\n",
        "  train_loss.append(loss)\n",
        "  epoch_count.append(epoch)\n",
        "\n",
        "  print(f\"Epoch: {epoch+1} / Train Loss : {loss} / Test Loss: {test_loss_val}\")"
      ],
      "metadata": {
        "colab": {
          "base_uri": "https://localhost:8080/"
        },
        "id": "VeJB1vapkMQf",
        "outputId": "f9d34df3-2ed7-4b58-f5d6-c80fd5130704"
      },
      "execution_count": null,
      "outputs": [
        {
          "output_type": "stream",
          "name": "stdout",
          "text": [
            "Epoch: 1 / Train Loss : 0.2783183455467224 / Test Loss: 0.44065219163894653\n",
            "Epoch: 2 / Train Loss : 0.26679736375808716 / Test Loss: 0.4271811842918396\n",
            "Epoch: 3 / Train Loss : 0.2552763521671295 / Test Loss: 0.41371020674705505\n",
            "Epoch: 4 / Train Loss : 0.24375534057617188 / Test Loss: 0.40023916959762573\n",
            "Epoch: 5 / Train Loss : 0.23223432898521423 / Test Loss: 0.3867681920528412\n",
            "Epoch: 6 / Train Loss : 0.22071333229541779 / Test Loss: 0.37329721450805664\n",
            "Epoch: 7 / Train Loss : 0.20919232070446014 / Test Loss: 0.3598262071609497\n",
            "Epoch: 8 / Train Loss : 0.1976713240146637 / Test Loss: 0.3463551998138428\n",
            "Epoch: 9 / Train Loss : 0.18615034222602844 / Test Loss: 0.3328842222690582\n",
            "Epoch: 10 / Train Loss : 0.1746293306350708 / Test Loss: 0.3194132149219513\n",
            "Epoch: 11 / Train Loss : 0.16310831904411316 / Test Loss: 0.30594223737716675\n",
            "Epoch: 12 / Train Loss : 0.1515873372554779 / Test Loss: 0.2924712300300598\n",
            "Epoch: 13 / Train Loss : 0.14006635546684265 / Test Loss: 0.27900025248527527\n",
            "Epoch: 14 / Train Loss : 0.1285453587770462 / Test Loss: 0.2655292749404907\n",
            "Epoch: 15 / Train Loss : 0.11702437698841095 / Test Loss: 0.2520582973957062\n",
            "Epoch: 16 / Train Loss : 0.1060912236571312 / Test Loss: 0.2395961582660675\n",
            "Epoch: 17 / Train Loss : 0.09681284427642822 / Test Loss: 0.22817862033843994\n",
            "Epoch: 18 / Train Loss : 0.08908725529909134 / Test Loss: 0.21729660034179688\n",
            "Epoch: 19 / Train Loss : 0.08227583020925522 / Test Loss: 0.2069590985774994\n",
            "Epoch: 20 / Train Loss : 0.07638873159885406 / Test Loss: 0.19773726165294647\n",
            "Epoch: 21 / Train Loss : 0.07160007208585739 / Test Loss: 0.1890866756439209\n",
            "Epoch: 22 / Train Loss : 0.06747635453939438 / Test Loss: 0.18101617693901062\n",
            "Epoch: 23 / Train Loss : 0.06395438313484192 / Test Loss: 0.17353470623493195\n",
            "Epoch: 24 / Train Loss : 0.06097004935145378 / Test Loss: 0.16665108501911163\n",
            "Epoch: 25 / Train Loss : 0.05845819041132927 / Test Loss: 0.16037428379058838\n",
            "Epoch: 26 / Train Loss : 0.05635259300470352 / Test Loss: 0.15471318364143372\n",
            "Epoch: 27 / Train Loss : 0.0545857772231102 / Test Loss: 0.14967669546604156\n",
            "Epoch: 28 / Train Loss : 0.053148526698350906 / Test Loss: 0.14464017748832703\n",
            "Epoch: 29 / Train Loss : 0.05181945487856865 / Test Loss: 0.14023718237876892\n",
            "Epoch: 30 / Train Loss : 0.05069301277399063 / Test Loss: 0.13647659122943878\n",
            "Epoch: 31 / Train Loss : 0.0498228520154953 / Test Loss: 0.13271598517894745\n",
            "Epoch: 32 / Train Loss : 0.04895269125699997 / Test Loss: 0.12895536422729492\n",
            "Epoch: 33 / Train Loss : 0.04819351062178612 / Test Loss: 0.12584610283374786\n",
            "Epoch: 34 / Train Loss : 0.047531817108392715 / Test Loss: 0.12273679673671722\n",
            "Epoch: 35 / Train Loss : 0.04692792519927025 / Test Loss: 0.1202877014875412\n",
            "Epoch: 36 / Train Loss : 0.04642331600189209 / Test Loss: 0.11783860623836517\n",
            "Epoch: 37 / Train Loss : 0.04591871052980423 / Test Loss: 0.11538954079151154\n",
            "Epoch: 38 / Train Loss : 0.04543796554207802 / Test Loss: 0.11360953003168106\n",
            "Epoch: 39 / Train Loss : 0.04503796249628067 / Test Loss: 0.11182951927185059\n",
            "Epoch: 40 / Train Loss : 0.04463795945048332 / Test Loss: 0.1100495308637619\n",
            "Epoch: 41 / Train Loss : 0.04423796385526657 / Test Loss: 0.10826952755451202\n",
            "Epoch: 42 / Train Loss : 0.04383796453475952 / Test Loss: 0.10648951679468155\n",
            "Epoch: 43 / Train Loss : 0.04343796148896217 / Test Loss: 0.10470950603485107\n",
            "Epoch: 44 / Train Loss : 0.043074630200862885 / Test Loss: 0.10360751301050186\n",
            "Epoch: 45 / Train Loss : 0.04272563382983208 / Test Loss: 0.10250549018383026\n",
            "Epoch: 46 / Train Loss : 0.04237663000822067 / Test Loss: 0.10140349715948105\n",
            "Epoch: 47 / Train Loss : 0.04202762991189957 / Test Loss: 0.10030148178339005\n",
            "Epoch: 48 / Train Loss : 0.04167863354086876 / Test Loss: 0.09919948130846024\n",
            "Epoch: 49 / Train Loss : 0.04132963344454765 / Test Loss: 0.09809747338294983\n",
            "Epoch: 50 / Train Loss : 0.04098063334822655 / Test Loss: 0.09699545800685883\n",
            "Epoch: 51 / Train Loss : 0.04063162952661514 / Test Loss: 0.09589345753192902\n",
            "Epoch: 52 / Train Loss : 0.040282636880874634 / Test Loss: 0.0947914719581604\n",
            "Epoch: 53 / Train Loss : 0.039933640509843826 / Test Loss: 0.09368947893381119\n",
            "Epoch: 54 / Train Loss : 0.03958464413881302 / Test Loss: 0.09258746355772018\n",
            "Epoch: 55 / Train Loss : 0.03923564404249191 / Test Loss: 0.09148545563220978\n",
            "Epoch: 56 / Train Loss : 0.03888664394617081 / Test Loss: 0.09038344770669937\n",
            "Epoch: 57 / Train Loss : 0.0385376438498497 / Test Loss: 0.08928143978118896\n",
            "Epoch: 58 / Train Loss : 0.03818932920694351 / Test Loss: 0.08886633068323135\n",
            "Epoch: 59 / Train Loss : 0.03785243630409241 / Test Loss: 0.08776430785655975\n",
            "Epoch: 60 / Train Loss : 0.0375034399330616 / Test Loss: 0.08666229248046875\n",
            "Epoch: 61 / Train Loss : 0.037164121866226196 / Test Loss: 0.08624717593193054\n",
            "Epoch: 62 / Train Loss : 0.03681822493672371 / Test Loss: 0.08514519035816193\n",
            "Epoch: 63 / Train Loss : 0.03647511452436447 / Test Loss: 0.08473004400730133\n",
            "Epoch: 64 / Train Loss : 0.03613303601741791 / Test Loss: 0.08362803608179092\n",
            "Epoch: 65 / Train Loss : 0.03578609973192215 / Test Loss: 0.08321291208267212\n",
            "Epoch: 66 / Train Loss : 0.03544783592224121 / Test Loss: 0.08211090415716171\n",
            "Epoch: 67 / Train Loss : 0.035098835825920105 / Test Loss: 0.0810088962316513\n",
            "Epoch: 68 / Train Loss : 0.03476089984178543 / Test Loss: 0.0805937647819519\n",
            "Epoch: 69 / Train Loss : 0.03441363573074341 / Test Loss: 0.0794917643070221\n",
            "Epoch: 70 / Train Loss : 0.03407188132405281 / Test Loss: 0.07907666265964508\n",
            "Epoch: 71 / Train Loss : 0.03372843936085701 / Test Loss: 0.07797462493181229\n",
            "Epoch: 72 / Train Loss : 0.03338287025690079 / Test Loss: 0.07755951583385468\n",
            "Epoch: 73 / Train Loss : 0.033043231815099716 / Test Loss: 0.07645749300718307\n",
            "Epoch: 74 / Train Loss : 0.03269423171877861 / Test Loss: 0.07535548508167267\n",
            "Epoch: 75 / Train Loss : 0.032357655465602875 / Test Loss: 0.07494036853313446\n",
            "Epoch: 76 / Train Loss : 0.03200903534889221 / Test Loss: 0.07383836805820465\n",
            "Epoch: 77 / Train Loss : 0.03166864812374115 / Test Loss: 0.07342323660850525\n",
            "Epoch: 78 / Train Loss : 0.03132382780313492 / Test Loss: 0.07232122868299484\n",
            "Epoch: 79 / Train Loss : 0.030979642644524574 / Test Loss: 0.07190609723329544\n",
            "Epoch: 80 / Train Loss : 0.030638623982667923 / Test Loss: 0.07080408930778503\n",
            "Epoch: 81 / Train Loss : 0.0302906334400177 / Test Loss: 0.07038896530866623\n",
            "Epoch: 82 / Train Loss : 0.029953425750136375 / Test Loss: 0.06928696483373642\n",
            "Epoch: 83 / Train Loss : 0.02960442565381527 / Test Loss: 0.06818496435880661\n",
            "Epoch: 84 / Train Loss : 0.029265418648719788 / Test Loss: 0.0677698403596878\n",
            "Epoch: 85 / Train Loss : 0.028919223695993423 / Test Loss: 0.0666678324341774\n",
            "Epoch: 86 / Train Loss : 0.028576409444212914 / Test Loss: 0.066252700984478\n",
            "Epoch: 87 / Train Loss : 0.028234025463461876 / Test Loss: 0.06515069305896759\n",
            "Epoch: 88 / Train Loss : 0.02788739837706089 / Test Loss: 0.06473556160926819\n",
            "Epoch: 89 / Train Loss : 0.02754882536828518 / Test Loss: 0.06363357603549957\n",
            "Epoch: 90 / Train Loss : 0.027199819684028625 / Test Loss: 0.06253156810998917\n",
            "Epoch: 91 / Train Loss : 0.026862185448408127 / Test Loss: 0.062116436660289764\n",
            "Epoch: 92 / Train Loss : 0.02651461586356163 / Test Loss: 0.061014432460069656\n",
            "Epoch: 93 / Train Loss : 0.026173178106546402 / Test Loss: 0.06059930846095085\n",
            "Epoch: 94 / Train Loss : 0.025829419493675232 / Test Loss: 0.05949730426073074\n",
            "Epoch: 95 / Train Loss : 0.02548416517674923 / Test Loss: 0.05908216908574104\n",
            "Epoch: 96 / Train Loss : 0.025144213810563087 / Test Loss: 0.057980168610811234\n",
            "Epoch: 97 / Train Loss : 0.02479521557688713 / Test Loss: 0.05687814950942993\n",
            "Epoch: 98 / Train Loss : 0.024458957836031914 / Test Loss: 0.05646304413676262\n",
            "Epoch: 99 / Train Loss : 0.024110013619065285 / Test Loss: 0.05536102131009102\n",
            "Epoch: 100 / Train Loss : 0.02376994863152504 / Test Loss: 0.05494590476155281\n",
            "Epoch: 101 / Train Loss : 0.02342480979859829 / Test Loss: 0.05384388566017151\n",
            "Epoch: 102 / Train Loss : 0.023080935701727867 / Test Loss: 0.0534287691116333\n",
            "Epoch: 103 / Train Loss : 0.022739607840776443 / Test Loss: 0.052326757460832596\n",
            "Epoch: 104 / Train Loss : 0.022391926497220993 / Test Loss: 0.05191164091229439\n",
            "Epoch: 105 / Train Loss : 0.022054409608244896 / Test Loss: 0.05080962926149368\n",
            "Epoch: 106 / Train Loss : 0.02170540764927864 / Test Loss: 0.049707621335983276\n",
            "Epoch: 107 / Train Loss : 0.021366719156503677 / Test Loss: 0.04929249361157417\n",
            "Epoch: 108 / Train Loss : 0.021020207554101944 / Test Loss: 0.04819049686193466\n",
            "Epoch: 109 / Train Loss : 0.020677709951996803 / Test Loss: 0.04777535796165466\n",
            "Epoch: 110 / Train Loss : 0.02033500373363495 / Test Loss: 0.046673357486724854\n",
            "Epoch: 111 / Train Loss : 0.01998869702219963 / Test Loss: 0.04625822976231575\n",
            "Epoch: 112 / Train Loss : 0.019649803638458252 / Test Loss: 0.045156221836805344\n",
            "Epoch: 113 / Train Loss : 0.019300809130072594 / Test Loss: 0.04405422881245613\n",
            "Epoch: 114 / Train Loss : 0.018963487818837166 / Test Loss: 0.04363910108804703\n",
            "Epoch: 115 / Train Loss : 0.01861560344696045 / Test Loss: 0.04253707453608513\n",
            "Epoch: 116 / Train Loss : 0.018274478614330292 / Test Loss: 0.042121969163417816\n",
            "Epoch: 117 / Train Loss : 0.017930403351783752 / Test Loss: 0.04101995751261711\n",
            "Epoch: 118 / Train Loss : 0.01758546568453312 / Test Loss: 0.04060482233762741\n",
            "Epoch: 119 / Train Loss : 0.017245199531316757 / Test Loss: 0.0395028181374073\n",
            "Epoch: 120 / Train Loss : 0.016896454617381096 / Test Loss: 0.0390876941382885\n",
            "Epoch: 121 / Train Loss : 0.01656000316143036 / Test Loss: 0.037985701113939285\n",
            "Epoch: 122 / Train Loss : 0.016210997477173805 / Test Loss: 0.03688368946313858\n",
            "Epoch: 123 / Train Loss : 0.01587124727666378 / Test Loss: 0.036468543112277985\n",
            "Epoch: 124 / Train Loss : 0.015525798313319683 / Test Loss: 0.035366542637348175\n",
            "Epoch: 125 / Train Loss : 0.015182236209511757 / Test Loss: 0.034951429814100266\n",
            "Epoch: 126 / Train Loss : 0.014840595424175262 / Test Loss: 0.03384942561388016\n",
            "Epoch: 127 / Train Loss : 0.01449323259294033 / Test Loss: 0.03343429043889046\n",
            "Epoch: 128 / Train Loss : 0.014155393466353416 / Test Loss: 0.03233227878808975\n",
            "Epoch: 129 / Train Loss : 0.013806397095322609 / Test Loss: 0.031230276450514793\n",
            "Epoch: 130 / Train Loss : 0.013468016870319843 / Test Loss: 0.030815154314041138\n",
            "Epoch: 131 / Train Loss : 0.013121193274855614 / Test Loss: 0.02971314825117588\n",
            "Epoch: 132 / Train Loss : 0.01277900766581297 / Test Loss: 0.02929801307618618\n",
            "Epoch: 133 / Train Loss : 0.012435992248356342 / Test Loss: 0.028196018189191818\n",
            "Epoch: 134 / Train Loss : 0.01208999752998352 / Test Loss: 0.027780896052718163\n",
            "Epoch: 135 / Train Loss : 0.011750795878469944 / Test Loss: 0.026678884401917458\n",
            "Epoch: 136 / Train Loss : 0.011401787400245667 / Test Loss: 0.025576870888471603\n",
            "Epoch: 137 / Train Loss : 0.011064787395298481 / Test Loss: 0.025161748751997948\n",
            "Epoch: 138 / Train Loss : 0.010716589167714119 / Test Loss: 0.024059748277068138\n",
            "Epoch: 139 / Train Loss : 0.010375778190791607 / Test Loss: 0.023644620552659035\n",
            "Epoch: 140 / Train Loss : 0.010031387209892273 / Test Loss: 0.022542614489793777\n",
            "Epoch: 141 / Train Loss : 0.009686763398349285 / Test Loss: 0.022127490490674973\n",
            "Epoch: 142 / Train Loss : 0.009346187114715576 / Test Loss: 0.021025484427809715\n",
            "Epoch: 143 / Train Loss : 0.008997755125164986 / Test Loss: 0.020610356703400612\n",
            "Epoch: 144 / Train Loss : 0.008660981431603432 / Test Loss: 0.019508343189954758\n",
            "Epoch: 145 / Train Loss : 0.008311985060572624 / Test Loss: 0.018406350165605545\n",
            "Epoch: 146 / Train Loss : 0.007972544990479946 / Test Loss: 0.017991220578551292\n",
            "Epoch: 147 / Train Loss : 0.007626785431057215 / Test Loss: 0.016889220103621483\n",
            "Epoch: 148 / Train Loss : 0.0072835334576666355 / Test Loss: 0.016474086791276932\n",
            "Epoch: 149 / Train Loss : 0.006941580679267645 / Test Loss: 0.0153720797970891\n",
            "Epoch: 150 / Train Loss : 0.006594526115804911 / Test Loss: 0.01495695672929287\n",
            "Epoch: 151 / Train Loss : 0.006256377790123224 / Test Loss: 0.013854950666427612\n",
            "Epoch: 152 / Train Loss : 0.005907376762479544 / Test Loss: 0.012752944603562355\n",
            "Epoch: 153 / Train Loss : 0.005569315515458584 / Test Loss: 0.012337815947830677\n",
            "Epoch: 154 / Train Loss : 0.005222178064286709 / Test Loss: 0.011235815472900867\n",
            "Epoch: 155 / Train Loss : 0.004880306776612997 / Test Loss: 0.010820692405104637\n",
            "Epoch: 156 / Train Loss : 0.004536976106464863 / Test Loss: 0.009718680754303932\n",
            "Epoch: 157 / Train Loss : 0.00419129803776741 / Test Loss: 0.009303552098572254\n",
            "Epoch: 158 / Train Loss : 0.0038517764769494534 / Test Loss: 0.008201557211577892\n",
            "Epoch: 159 / Train Loss : 0.0035027749836444855 / Test Loss: 0.007099539041519165\n",
            "Epoch: 160 / Train Loss : 0.0031660839449614286 / Test Loss: 0.006684416439384222\n",
            "Epoch: 161 / Train Loss : 0.002817571861669421 / Test Loss: 0.0055824099108576775\n",
            "Epoch: 162 / Train Loss : 0.0024770735763013363 / Test Loss: 0.005167287774384022\n",
            "Epoch: 163 / Train Loss : 0.0021323717664927244 / Test Loss: 0.004065275192260742\n",
            "Epoch: 164 / Train Loss : 0.0017880648374557495 / Test Loss: 0.003650152590125799\n",
            "Epoch: 165 / Train Loss : 0.0014518328243866563 / Test Loss: 0.0018701612716540694\n",
            "Epoch: 166 / Train Loss : 0.0011887758737429976 / Test Loss: 0.005023092031478882\n",
            "Epoch: 167 / Train Loss : 0.0025885067880153656 / Test Loss: 0.008447891101241112\n",
            "Epoch: 168 / Train Loss : 0.008932482451200485 / Test Loss: 0.005023092031478882\n",
            "Epoch: 169 / Train Loss : 0.0025885067880153656 / Test Loss: 0.008447891101241112\n",
            "Epoch: 170 / Train Loss : 0.008932482451200485 / Test Loss: 0.005023092031478882\n",
            "Epoch: 171 / Train Loss : 0.0025885067880153656 / Test Loss: 0.008447891101241112\n",
            "Epoch: 172 / Train Loss : 0.008932482451200485 / Test Loss: 0.005023092031478882\n",
            "Epoch: 173 / Train Loss : 0.0025885067880153656 / Test Loss: 0.008447891101241112\n",
            "Epoch: 174 / Train Loss : 0.008932482451200485 / Test Loss: 0.005023092031478882\n",
            "Epoch: 175 / Train Loss : 0.0025885067880153656 / Test Loss: 0.008447891101241112\n",
            "Epoch: 176 / Train Loss : 0.008932482451200485 / Test Loss: 0.005023092031478882\n",
            "Epoch: 177 / Train Loss : 0.0025885067880153656 / Test Loss: 0.008447891101241112\n",
            "Epoch: 178 / Train Loss : 0.008932482451200485 / Test Loss: 0.005023092031478882\n",
            "Epoch: 179 / Train Loss : 0.0025885067880153656 / Test Loss: 0.008447891101241112\n",
            "Epoch: 180 / Train Loss : 0.008932482451200485 / Test Loss: 0.005023092031478882\n",
            "Epoch: 181 / Train Loss : 0.0025885067880153656 / Test Loss: 0.008447891101241112\n",
            "Epoch: 182 / Train Loss : 0.008932482451200485 / Test Loss: 0.005023092031478882\n",
            "Epoch: 183 / Train Loss : 0.0025885067880153656 / Test Loss: 0.008447891101241112\n",
            "Epoch: 184 / Train Loss : 0.008932482451200485 / Test Loss: 0.005023092031478882\n",
            "Epoch: 185 / Train Loss : 0.0025885067880153656 / Test Loss: 0.008447891101241112\n",
            "Epoch: 186 / Train Loss : 0.008932482451200485 / Test Loss: 0.005023092031478882\n",
            "Epoch: 187 / Train Loss : 0.0025885067880153656 / Test Loss: 0.008447891101241112\n",
            "Epoch: 188 / Train Loss : 0.008932482451200485 / Test Loss: 0.005023092031478882\n",
            "Epoch: 189 / Train Loss : 0.0025885067880153656 / Test Loss: 0.008447891101241112\n",
            "Epoch: 190 / Train Loss : 0.008932482451200485 / Test Loss: 0.005023092031478882\n",
            "Epoch: 191 / Train Loss : 0.0025885067880153656 / Test Loss: 0.008447891101241112\n",
            "Epoch: 192 / Train Loss : 0.008932482451200485 / Test Loss: 0.005023092031478882\n",
            "Epoch: 193 / Train Loss : 0.0025885067880153656 / Test Loss: 0.008447891101241112\n",
            "Epoch: 194 / Train Loss : 0.008932482451200485 / Test Loss: 0.005023092031478882\n",
            "Epoch: 195 / Train Loss : 0.0025885067880153656 / Test Loss: 0.008447891101241112\n",
            "Epoch: 196 / Train Loss : 0.008932482451200485 / Test Loss: 0.005023092031478882\n",
            "Epoch: 197 / Train Loss : 0.0025885067880153656 / Test Loss: 0.008447891101241112\n",
            "Epoch: 198 / Train Loss : 0.008932482451200485 / Test Loss: 0.005023092031478882\n",
            "Epoch: 199 / Train Loss : 0.0025885067880153656 / Test Loss: 0.008447891101241112\n",
            "Epoch: 200 / Train Loss : 0.008932482451200485 / Test Loss: 0.005023092031478882\n"
          ]
        }
      ]
    },
    {
      "cell_type": "code",
      "source": [
        "#now we change the tensor to numpy and plot the loss curve\n",
        "import numpy as np\n",
        "plt.plot(epoch_count, np.array(torch.tensor(train_loss).numpy()), label=\"Train Loss\")\n",
        "plt.plot(epoch_count, test_loss, label = \"Test Loss\")\n",
        "plt.title(\"Train and test loss curves\")\n",
        "plt.ylabel(\"Loss\")\n",
        "plt.xlabel(\"Epoch\")\n",
        "plt.legend()"
      ],
      "metadata": {
        "colab": {
          "base_uri": "https://localhost:8080/",
          "height": 312
        },
        "id": "vQxhQeGCpFoL",
        "outputId": "d4590802-effc-41bb-dae3-2dbbdd6e4fff"
      },
      "execution_count": null,
      "outputs": [
        {
          "output_type": "execute_result",
          "data": {
            "text/plain": [
              "<matplotlib.legend.Legend at 0x7fe8bf805210>"
            ]
          },
          "metadata": {},
          "execution_count": 79
        },
        {
          "output_type": "display_data",
          "data": {
            "text/plain": [
              "<Figure size 432x288 with 1 Axes>"
            ],
            "image/png": "[encoded data removed]"
          },
          "metadata": {
            "needs_background": "light"
          }
        }
      ]
    },
    {
      "cell_type": "code",
      "source": [
        "#Now we plot the predictions\n",
        "with torch.inference_mode():\n",
        "  y_preds = model_0(X_test)\n",
        "plot_predictions(predictions=y_preds)"
      ],
      "metadata": {
        "colab": {
          "base_uri": "https://localhost:8080/",
          "height": 428
        },
        "id": "fv5ZLWJern_s",
        "outputId": "e7f0776f-ba0b-4503-e6e8-e4c2d33585db"
      },
      "execution_count": null,
      "outputs": [
        {
          "output_type": "display_data",
          "data": {
            "text/plain": [
              "<Figure size 720x504 with 1 Axes>"
            ],
            "image/png": "[encoded data removed]"
          },
          "metadata": {
            "needs_background": "light"
          }
        }
      ]
    },
    {
      "cell_type": "code",
      "source": [
        "#Now we save the model\n",
        "from pathlib import Path\n",
        "#Create the model directory\n",
        "MODEL_PATH = Path(\"models\")\n",
        "MODEL_PATH.mkdir(parents=True, exist_ok=True)\n",
        "#Create the model save path\n",
        "MODEL_NAME = \"01_Pytorch_Workflow_Model_0.pth\"\n",
        "MODEL_SAVE_PATH = MODEL_PATH/MODEL_NAME"
      ],
      "metadata": {
        "id": "WRuInD5or3m7"
      },
      "execution_count": null,
      "outputs": []
    },
    {
      "cell_type": "code",
      "source": [
        "#Saving the model\n",
        "torch.save(obj=model_0.state_dict(),\n",
        "           f=MODEL_SAVE_PATH)\n",
        "print(f'Saved at {MODEL_SAVE_PATH}')"
      ],
      "metadata": {
        "colab": {
          "base_uri": "https://localhost:8080/"
        },
        "id": "BkjvN-KVspTm",
        "outputId": "0e070913-25a8-49ca-cfc3-4167c2166a3c"
      },
      "execution_count": null,
      "outputs": [
        {
          "output_type": "stream",
          "name": "stdout",
          "text": [
            "Saved at models/01_Pytorch_Workflow_Model_0.pth\n"
          ]
        }
      ]
    },
    {
      "cell_type": "code",
      "source": [
        "#Loading the model\n",
        "#Create a new instance of the model and update the parameters\n",
        "model_1 = LinearRegressionModel()\n",
        "model_1.load_state_dict(torch.load(f=MODEL_SAVE_PATH))"
      ],
      "metadata": {
        "colab": {
          "base_uri": "https://localhost:8080/"
        },
        "id": "XG4blHu_s0IE",
        "outputId": "4c828da5-ac83-404e-8154-6f5eaf7bd1a4"
      },
      "execution_count": null,
      "outputs": [
        {
          "output_type": "execute_result",
          "data": {
            "text/plain": [
              "<All keys matched successfully>"
            ]
          },
          "metadata": {},
          "execution_count": 87
        }
      ]
    },
    {
      "cell_type": "code",
      "source": [
        "#Making predictions with the loaded model\n",
        "model_1.eval()\n",
        "with torch.inference_mode():\n",
        "  preds = model_1(X_test)\n",
        "plot_predictions(predictions=preds)"
      ],
      "metadata": {
        "colab": {
          "base_uri": "https://localhost:8080/",
          "height": 428
        },
        "id": "Pk-y8wETs7Rl",
        "outputId": "ae14aac7-4d16-4fef-ca3a-a60f1bb560df"
      },
      "execution_count": null,
      "outputs": [
        {
          "output_type": "display_data",
          "data": {
            "text/plain": [
              "<Figure size 720x504 with 1 Axes>"
            ],
            "image/png": "[encoded data removed]"
          },
          "metadata": {
            "needs_background": "light"
          }
        }
      ]
    },
    {
      "cell_type": "code",
      "source": [],
      "metadata": {
        "id": "Z-jejUBBtiHS"
      },
      "execution_count": null,
      "outputs": []
    }
  ]
}